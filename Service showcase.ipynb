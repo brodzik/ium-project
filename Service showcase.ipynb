{
 "cells": [
  {
   "cell_type": "code",
   "execution_count": 2,
   "metadata": {},
   "outputs": [],
   "source": [
    "from fastapi.testclient import TestClient\n",
    "\n",
    "from service.main import app\n",
    "\n",
    "# little hacking \n",
    "import nest_asyncio\n",
    "nest_asyncio.apply()"
   ]
  },
  {
   "cell_type": "markdown",
   "metadata": {},
   "source": [
    "# Przewidywanie konkretnym modelem"
   ]
  },
  {
   "cell_type": "code",
   "execution_count": 3,
   "metadata": {},
   "outputs": [],
   "source": [
    "responses = []\n",
    "with TestClient(app) as client:\n",
    "    query = {\n",
    "        \"category\": \"gry i konsole\",\n",
    "        \"city\": \"Warszawa\",\n",
    "        \"price\": 410,\n",
    "        \"purchase\": \"2021-06-01T18:37:46.571Z\",\n",
    "    }\n",
    "\n",
    "    responses.append(client.post(\"/predict\", params={\"model_name\": \"simple\" }, json=query))\n",
    "    responses.append(client.post(\"/predict\", params={\"model_name\": \"xgboost\" }, json=query))\n",
    "    responses.append(client.post(\"/predict\", params={\"model_name\": \"random_forest\" }, json=query))\n"
   ]
  },
  {
   "cell_type": "code",
   "execution_count": 4,
   "metadata": {},
   "outputs": [
    {
     "data": {
      "text/plain": "[{'360': 37.90077141190736,\n  '516': 37.90077141190736,\n  '620': 37.90077141190736},\n {'360': 38.55854415893555,\n  '516': 26.698657989501953,\n  '620': 38.70853042602539},\n {'360': 37.119528319299995,\n  '516': 28.881836373002788,\n  '620': 38.86367675349167}]"
     },
     "execution_count": 4,
     "metadata": {},
     "output_type": "execute_result"
    }
   ],
   "source": [
    "[response.json() for response in responses]"
   ]
  },
  {
   "cell_type": "markdown",
   "metadata": {},
   "source": [
    "# Testy AB"
   ]
  },
  {
   "cell_type": "markdown",
   "metadata": {},
   "source": [
    "## Przykładowe zapytanie"
   ]
  },
  {
   "cell_type": "markdown",
   "metadata": {},
   "source": [
    "Chcąc dostać przwidywany czas potrzebny na dostawe produktu request musi posiadać:\n",
    "- query_id (pram) - numer identyfikujący zapytanie. Służy do ułatwienia łaczenia przewidywanch czasów z prawdziwymi\n",
    "- query (body) - informacje o przesyłce"
   ]
  },
  {
   "cell_type": "code",
   "execution_count": 2,
   "metadata": {},
   "outputs": [
    {
     "name": "stdout",
     "output_type": "stream",
     "text": [
      "query_id=11 query=Query(category='gry i konsole', city='Warszawa', price=410.0, purchase=datetime.datetime(2021, 6, 1, 18, 37, 46, 571000, tzinfo=datetime.timezone.utc)) model_name='random_forest' result={'360': 37.119528319299995, '516': 28, '620': '38.86367675349167'}\n"
     ]
    }
   ],
   "source": [
    "response = None \n",
    "with TestClient(app) as client:\n",
    "    query = {\n",
    "        \"category\": \"gry i konsole\",\n",
    "        \"city\": \"Warszawa\",\n",
    "        \"price\": 410,\n",
    "        \"purchase\": \"2021-06-01T18:37:46.571Z\",\n",
    "    }\n",
    "\n",
    "    response = client.post(\"/ab-test\", params={\"query_id\": 11 }, json=query)\n"
   ]
  },
  {
   "cell_type": "markdown",
   "metadata": {},
   "source": [
    "U góry znajdują się logi serwera, są one zapisywane do bazy danych.\n",
    "Logowane informacje:\n",
    "- query_id\n",
    "- query\n",
    "- model_name\n",
    "- result"
   ]
  },
  {
   "cell_type": "code",
   "execution_count": 3,
   "metadata": {},
   "outputs": [
    {
     "data": {
      "text/plain": "{'360': 37.119528319299995,\n '516': 28.881836373002788,\n '620': 38.86367675349167}"
     },
     "execution_count": 3,
     "metadata": {},
     "output_type": "execute_result"
    }
   ],
   "source": [
    "response.json()"
   ]
  },
  {
   "cell_type": "markdown",
   "metadata": {},
   "source": [
    "## Stałe dane"
   ]
  },
  {
   "cell_type": "code",
   "execution_count": 4,
   "metadata": {},
   "outputs": [
    {
     "name": "stdout",
     "output_type": "stream",
     "text": [
      "query_id=100 query=Query(category='gry i konsole', city='Warszawa', price=120.0, purchase=datetime.datetime(2021, 6, 6, 18, 37, 46, 571000, tzinfo=datetime.timezone.utc)) model_name='xgboost' result={'360': 40.729949951171875, '516': 29, '620': '40.76724624633789'}\n",
      "query_id=101 query=Query(category='gry i konsole', city='Warszawa', price=120.0, purchase=datetime.datetime(2021, 6, 6, 18, 37, 46, 571000, tzinfo=datetime.timezone.utc)) model_name='random_forest' result={'360': 41.09714834505557, '516': 29, '620': '41.276245213361115'}\n",
      "query_id=102 query=Query(category='gry i konsole', city='Warszawa', price=120.0, purchase=datetime.datetime(2021, 6, 6, 18, 37, 46, 571000, tzinfo=datetime.timezone.utc)) model_name='simple' result={'360': 37.90077141190736, '516': 37, '620': '37.90077141190736'}\n",
      "query_id=103 query=Query(category='gry i konsole', city='Warszawa', price=120.0, purchase=datetime.datetime(2021, 6, 6, 18, 37, 46, 571000, tzinfo=datetime.timezone.utc)) model_name='xgboost' result={'360': 40.729949951171875, '516': 29, '620': '40.76724624633789'}\n",
      "query_id=104 query=Query(category='gry i konsole', city='Warszawa', price=120.0, purchase=datetime.datetime(2021, 6, 6, 18, 37, 46, 571000, tzinfo=datetime.timezone.utc)) model_name='xgboost' result={'360': 40.729949951171875, '516': 29, '620': '40.76724624633789'}\n",
      "query_id=105 query=Query(category='gry i konsole', city='Warszawa', price=120.0, purchase=datetime.datetime(2021, 6, 6, 18, 37, 46, 571000, tzinfo=datetime.timezone.utc)) model_name='random_forest' result={'360': 41.09714834505557, '516': 29, '620': '41.276245213361115'}\n"
     ]
    }
   ],
   "source": [
    "responses = []\n",
    "\n",
    "for i in range(6):\n",
    "    with TestClient(app) as client:\n",
    "        query = {\n",
    "            \"category\": \"gry i konsole\",\n",
    "            \"city\": \"Warszawa\",\n",
    "            \"price\": 120,\n",
    "            \"purchase\": \"2021-06-06T18:37:46.571Z\",\n",
    "        }\n",
    "\n",
    "        response = client.post(\"/ab-test\", params={\"query_id\": 100 + i }, json=query)\n",
    "        responses.append(response)\n"
   ]
  },
  {
   "cell_type": "code",
   "execution_count": 5,
   "metadata": {},
   "outputs": [
    {
     "data": {
      "text/plain": "[{'360': 40.729949951171875,\n  '516': 29.119882583618164,\n  '620': 40.76724624633789},\n {'360': 41.09714834505557,\n  '516': 29.063356214347227,\n  '620': 41.276245213361115},\n {'360': 37.90077141190736,\n  '516': 37.90077141190736,\n  '620': 37.90077141190736},\n {'360': 40.729949951171875,\n  '516': 29.119882583618164,\n  '620': 40.76724624633789},\n {'360': 40.729949951171875,\n  '516': 29.119882583618164,\n  '620': 40.76724624633789},\n {'360': 41.09714834505557,\n  '516': 29.063356214347227,\n  '620': 41.276245213361115}]"
     },
     "execution_count": 5,
     "metadata": {},
     "output_type": "execute_result"
    }
   ],
   "source": [
    "[response.json() for response in responses]"
   ]
  },
  {
   "cell_type": "markdown",
   "metadata": {},
   "source": [
    "## Zmienne dane"
   ]
  },
  {
   "cell_type": "code",
   "execution_count": 6,
   "metadata": {},
   "outputs": [
    {
     "name": "stdout",
     "output_type": "stream",
     "text": [
      "query_id=1000 query=Query(category='gry i konsole', city='Warszawa', price=120.0, purchase=datetime.datetime(2021, 6, 30, 23, 31, 11, 372000, tzinfo=datetime.timezone.utc)) model_name='xgboost' result={'360': 44.2491455078125, '516': 31, '620': '43.539310455322266'}\n",
      "query_id=1001 query=Query(category='komputery', city='Miasto które nie istnieje', price=310.0, purchase=datetime.datetime(2021, 4, 6, 16, 17, 47, 222000, tzinfo=datetime.timezone.utc)) model_name='random_forest' result={'360': 44.20131829255278, '516': 28, '620': '43.53515402244445'}\n",
      "query_id=1002 query=Query(category='gry i konsole', city='Mielec', price=12.2, purchase=datetime.datetime(2021, 1, 6, 13, 37, 45, 591000, tzinfo=datetime.timezone.utc)) model_name='xgboost' result={'360': 76.38341522216797, '516': 73, '620': '74.72496795654297'}\n",
      "query_id=1003 query=Query(category='telefony i akcesoria', city='Inne miasto które nie istnieje', price=67.1, purchase=datetime.datetime(2021, 6, 12, 18, 27, 41, 544000, tzinfo=datetime.timezone.utc)) model_name='simple' result={'360': 45.84796270423969, '516': 45, '620': '45.84796270423969'}\n",
      "query_id=1004 query=Query(category='telefony i akcesoria', city='Szczecin', price=21.99, purchase=datetime.datetime(2022, 12, 16, 11, 57, 42, 171000, tzinfo=datetime.timezone.utc)) model_name='xgboost' result={'360': 36.198734283447266, '516': 32, '620': '35.04318618774414'}\n",
      "query_id=1005 query=Query(category='sprzęt rtv', city='Kutno', price=1300.0, purchase=datetime.datetime(2021, 2, 19, 7, 11, 26, 410000, tzinfo=datetime.timezone.utc)) model_name='random_forest' result={'360': 54.22967218170558, '516': 41, '620': '52.67066532346114'}\n"
     ]
    }
   ],
   "source": [
    "responses = []\n",
    "\n",
    "\n",
    "queries = [\n",
    "    {\n",
    "        \"category\": \"gry i konsole\",\n",
    "        \"city\": \"Warszawa\",\n",
    "        \"price\": 120,\n",
    "        \"purchase\": \"2021-06-30T23:31:11.372Z\",\n",
    "    },\n",
    "    {\n",
    "        \"category\": \"komputery\",\n",
    "        \"city\": \"Miasto które nie istnieje\",\n",
    "        \"price\": 310,\n",
    "        \"purchase\": \"2021-04-06T16:17:47.222Z\",\n",
    "    },\n",
    "    {\n",
    "        \"category\": \"gry i konsole\",\n",
    "        \"city\": \"Mielec\",\n",
    "        \"price\": 12.2,\n",
    "        \"purchase\": \"2021-01-06T13:37:45.591Z\",\n",
    "    },\n",
    "    {\n",
    "        \"category\": \"telefony i akcesoria\",\n",
    "        \"city\": \"Inne miasto które nie istnieje\",\n",
    "        \"price\": 67.1,\n",
    "        \"purchase\": \"2021-06-12T18:27:41.544Z\",\n",
    "    },\n",
    "    {\n",
    "        \"category\": \"telefony i akcesoria\",\n",
    "        \"city\": \"Szczecin\",\n",
    "        \"price\": 21.99,\n",
    "        \"purchase\": \"2022-12-16T11:57:42.171Z\",\n",
    "    },\n",
    "    {\n",
    "        \"category\": \"sprzęt rtv\",\n",
    "        \"city\": \"Kutno\",\n",
    "        \"price\": 1300,\n",
    "        \"purchase\": \"2021-02-19T07:11:26.410Z\",\n",
    "    },\n",
    "]\n",
    "\n",
    "\n",
    "for i in range(6):\n",
    "    with TestClient(app) as client:\n",
    "        response = client.post(\"/ab-test\", params={\"query_id\": 1000 + i}, json=queries[i])\n",
    "        responses.append(response)\n"
   ]
  },
  {
   "cell_type": "code",
   "execution_count": 7,
   "metadata": {},
   "outputs": [
    {
     "data": {
      "text/plain": "[{'360': 44.2491455078125,\n  '516': 31.26377296447754,\n  '620': 43.539310455322266},\n {'360': 44.20131829255278, '516': 28.9254894624, '620': 43.53515402244445},\n {'360': 76.38341522216797,\n  '516': 73.75520324707031,\n  '620': 74.72496795654297},\n {'360': 45.84796270423969,\n  '516': 45.84796270423969,\n  '620': 45.84796270423969},\n {'360': 36.198734283447266,\n  '516': 32.825496673583984,\n  '620': 35.04318618774414},\n {'360': 54.22967218170558,\n  '516': 41.104450130099984,\n  '620': 52.67066532346114}]"
     },
     "execution_count": 7,
     "metadata": {},
     "output_type": "execute_result"
    }
   ],
   "source": [
    "[response.json() for response in responses]"
   ]
  },
  {
   "cell_type": "code",
   "execution_count": null,
   "metadata": {},
   "outputs": [],
   "source": []
  }
 ],
 "metadata": {
  "kernelspec": {
   "display_name": "Python 3.8.10 64-bit ('base': conda)",
   "name": "python392jvsc74a57bd06df248ebc1774634a67d6fd0f43e97efb703e5ae41a5b89f81a0e1bd69f81238"
  },
  "language_info": {
   "name": "python",
   "version": ""
  },
  "metadata": {
   "interpreter": {
    "hash": "6df248ebc1774634a67d6fd0f43e97efb703e5ae41a5b89f81a0e1bd69f81238"
   }
  },
  "orig_nbformat": 2
 },
 "nbformat": 4,
 "nbformat_minor": 2
}