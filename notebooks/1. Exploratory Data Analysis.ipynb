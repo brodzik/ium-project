{
 "cells": [
  {
   "cell_type": "markdown",
   "id": "focused-camera",
   "metadata": {},
   "source": [
    "# Zadanie\n",
    "Wygląda na to, że nasze firmy kurierskie czasami nie radzą sobie z dostawami. Gdybyśmy wiedzieli, ile taka dostawa dla danego zamówienia potrwa – moglibyśmy przekazywać tą informację klientom."
   ]
  },
  {
   "cell_type": "markdown",
   "id": "twelve-queue",
   "metadata": {},
   "source": [
    "# Problem biznesowy\n",
    "Predykcja czasu dostawy, na podstawie informacji o zamówieniu"
   ]
  },
  {
   "cell_type": "markdown",
   "id": "understanding-rugby",
   "metadata": {},
   "source": [
    "# Problem modelowania\n",
    "Regresja"
   ]
  },
  {
   "cell_type": "markdown",
   "id": "confident-malawi",
   "metadata": {},
   "source": [
    "# Kryterium sukcesu\n",
    "Praca zostanie uznana za sukces gdy po stworzeniu obu modelów wynik tego bardziej zaawansowanego, będzie lepszy od bazowego.\n",
    "Naszym modelem prosty będzie okeślał przewidywany czas dostawy jako średnią poprzednich czasów dostawy do danego miasta, danego kuriera.\n",
    "\n",
    "Jako sposób oceny jakości modelów wykorzystamy błąd średniokwadratowy różnicy czasów rzeczywisych i przewidywanych."
   ]
  },
  {
   "cell_type": "markdown",
   "id": "standard-frederick",
   "metadata": {},
   "source": [
    "# Założenia\n",
    "- wszystkie produky które zamawiają klienci są dostępne w churtowni\n",
    "- dostawy odbywają się tylko w Polsce\n",
    "- firma działa od poniedziałku do piątku, między godzinami 8-18 (zamówienia po 18 są realizowane dopiero następnego dnia)\n",
    "- na czas transporu paczki nie wpływa miejsce churtowni\n",
    "- produkty sprzedawane przez sklep nie wymagają specjalnego typu transportu (np. przedmiot ma duży ciężar albo wymaga odpowiedniej temperatury przewozu)\n",
    "- wszystkie przsyłki wysyłane tym samym kurierem mają taki sam priorytet (nie ma specjalnych wysyłek ekspresowych)"
   ]
  },
  {
   "cell_type": "code",
   "execution_count": 1,
   "id": "buried-campaign",
   "metadata": {},
   "outputs": [],
   "source": [
    "import pandas as pd\n",
    "import numpy as np\n",
    "import seaborn as sns\n",
    "import matplotlib.pyplot as plt"
   ]
  },
  {
   "cell_type": "code",
   "execution_count": 2,
   "id": "statewide-hunter",
   "metadata": {},
   "outputs": [],
   "source": [
    "sns.set()"
   ]
  },
  {
   "cell_type": "code",
   "execution_count": 3,
   "id": "alternative-distance",
   "metadata": {},
   "outputs": [],
   "source": [
    "deliveries = pd.read_json(\"../data/deliveries.jsonl\", lines=True)\n",
    "products = pd.read_json(\"../data/products.jsonl\", lines=True)\n",
    "sessions = pd.read_json(\"../data/sessions.jsonl\", lines=True)\n",
    "users = pd.read_json(\"../data/users.jsonl\", lines=True)"
   ]
  },
  {
   "cell_type": "markdown",
   "id": "restricted-google",
   "metadata": {},
   "source": [
    "# Tabela `deliveries`"
   ]
  },
  {
   "cell_type": "code",
   "execution_count": 4,
   "id": "endless-freeze",
   "metadata": {},
   "outputs": [],
   "source": [
    "deliveries[\"purchase_timestamp\"] = pd.to_datetime(deliveries[\"purchase_timestamp\"])\n",
    "deliveries[\"delivery_timestamp\"] = pd.to_datetime(deliveries[\"delivery_timestamp\"])"
   ]
  },
  {
   "cell_type": "code",
   "execution_count": 5,
   "id": "mysterious-stretch",
   "metadata": {},
   "outputs": [
    {
     "data": {
      "text/html": [
       "<div>\n",
       "<style scoped>\n",
       "    .dataframe tbody tr th:only-of-type {\n",
       "        vertical-align: middle;\n",
       "    }\n",
       "\n",
       "    .dataframe tbody tr th {\n",
       "        vertical-align: top;\n",
       "    }\n",
       "\n",
       "    .dataframe thead th {\n",
       "        text-align: right;\n",
       "    }\n",
       "</style>\n",
       "<table border=\"1\" class=\"dataframe\">\n",
       "  <thead>\n",
       "    <tr style=\"text-align: right;\">\n",
       "      <th></th>\n",
       "      <th>purchase_id</th>\n",
       "      <th>purchase_timestamp</th>\n",
       "      <th>delivery_timestamp</th>\n",
       "      <th>delivery_company</th>\n",
       "    </tr>\n",
       "  </thead>\n",
       "  <tbody>\n",
       "    <tr>\n",
       "      <th>0</th>\n",
       "      <td>20001</td>\n",
       "      <td>2021-01-24 20:02:58</td>\n",
       "      <td>2021-01-26 00:30:29.368742</td>\n",
       "      <td>620.0</td>\n",
       "    </tr>\n",
       "    <tr>\n",
       "      <th>1</th>\n",
       "      <td>20002</td>\n",
       "      <td>2021-01-06 23:21:24</td>\n",
       "      <td>2021-01-06 01:29:32.083389</td>\n",
       "      <td>516.0</td>\n",
       "    </tr>\n",
       "    <tr>\n",
       "      <th>2</th>\n",
       "      <td>20003</td>\n",
       "      <td>2021-01-23 11:43:51</td>\n",
       "      <td>2021-01-23 09:44:31.822244</td>\n",
       "      <td>360.0</td>\n",
       "    </tr>\n",
       "    <tr>\n",
       "      <th>3</th>\n",
       "      <td>20004</td>\n",
       "      <td>2021-01-25 02:28:31</td>\n",
       "      <td>2021-01-28 23:52:57.166791</td>\n",
       "      <td>516.0</td>\n",
       "    </tr>\n",
       "    <tr>\n",
       "      <th>4</th>\n",
       "      <td>20005</td>\n",
       "      <td>2021-01-19 11:04:49</td>\n",
       "      <td>NaT</td>\n",
       "      <td>620.0</td>\n",
       "    </tr>\n",
       "    <tr>\n",
       "      <th>...</th>\n",
       "      <td>...</td>\n",
       "      <td>...</td>\n",
       "      <td>...</td>\n",
       "      <td>...</td>\n",
       "    </tr>\n",
       "    <tr>\n",
       "      <th>6885</th>\n",
       "      <td>26886</td>\n",
       "      <td>2021-01-07 07:36:39</td>\n",
       "      <td>2021-01-07 04:43:15.422456</td>\n",
       "      <td>360.0</td>\n",
       "    </tr>\n",
       "    <tr>\n",
       "      <th>6886</th>\n",
       "      <td>26887</td>\n",
       "      <td>2021-02-23 23:32:16</td>\n",
       "      <td>2021-02-26 00:36:17.992452</td>\n",
       "      <td>516.0</td>\n",
       "    </tr>\n",
       "    <tr>\n",
       "      <th>6887</th>\n",
       "      <td>26888</td>\n",
       "      <td>2021-02-27 10:35:43</td>\n",
       "      <td>2021-03-01 13:33:51.588772</td>\n",
       "      <td>620.0</td>\n",
       "    </tr>\n",
       "    <tr>\n",
       "      <th>6888</th>\n",
       "      <td>26889</td>\n",
       "      <td>2021-01-28 10:22:54</td>\n",
       "      <td>2021-01-31 23:18:29.703033</td>\n",
       "      <td>360.0</td>\n",
       "    </tr>\n",
       "    <tr>\n",
       "      <th>6889</th>\n",
       "      <td>26890</td>\n",
       "      <td>2021-01-20 23:31:11</td>\n",
       "      <td>2021-01-19 06:44:42.891553</td>\n",
       "      <td>360.0</td>\n",
       "    </tr>\n",
       "  </tbody>\n",
       "</table>\n",
       "<p>6890 rows × 4 columns</p>\n",
       "</div>"
      ],
      "text/plain": [
       "      purchase_id  purchase_timestamp         delivery_timestamp  \\\n",
       "0           20001 2021-01-24 20:02:58 2021-01-26 00:30:29.368742   \n",
       "1           20002 2021-01-06 23:21:24 2021-01-06 01:29:32.083389   \n",
       "2           20003 2021-01-23 11:43:51 2021-01-23 09:44:31.822244   \n",
       "3           20004 2021-01-25 02:28:31 2021-01-28 23:52:57.166791   \n",
       "4           20005 2021-01-19 11:04:49                        NaT   \n",
       "...           ...                 ...                        ...   \n",
       "6885        26886 2021-01-07 07:36:39 2021-01-07 04:43:15.422456   \n",
       "6886        26887 2021-02-23 23:32:16 2021-02-26 00:36:17.992452   \n",
       "6887        26888 2021-02-27 10:35:43 2021-03-01 13:33:51.588772   \n",
       "6888        26889 2021-01-28 10:22:54 2021-01-31 23:18:29.703033   \n",
       "6889        26890 2021-01-20 23:31:11 2021-01-19 06:44:42.891553   \n",
       "\n",
       "      delivery_company  \n",
       "0                620.0  \n",
       "1                516.0  \n",
       "2                360.0  \n",
       "3                516.0  \n",
       "4                620.0  \n",
       "...                ...  \n",
       "6885             360.0  \n",
       "6886             516.0  \n",
       "6887             620.0  \n",
       "6888             360.0  \n",
       "6889             360.0  \n",
       "\n",
       "[6890 rows x 4 columns]"
      ]
     },
     "execution_count": 5,
     "metadata": {},
     "output_type": "execute_result"
    }
   ],
   "source": [
    "deliveries"
   ]
  },
  {
   "cell_type": "code",
   "execution_count": 6,
   "id": "cloudy-therapist",
   "metadata": {},
   "outputs": [
    {
     "name": "stdout",
     "output_type": "stream",
     "text": [
      "<class 'pandas.core.frame.DataFrame'>\n",
      "RangeIndex: 6890 entries, 0 to 6889\n",
      "Data columns (total 4 columns):\n",
      " #   Column              Non-Null Count  Dtype         \n",
      "---  ------              --------------  -----         \n",
      " 0   purchase_id         6890 non-null   int64         \n",
      " 1   purchase_timestamp  6890 non-null   datetime64[ns]\n",
      " 2   delivery_timestamp  6568 non-null   datetime64[ns]\n",
      " 3   delivery_company    6538 non-null   float64       \n",
      "dtypes: datetime64[ns](2), float64(1), int64(1)\n",
      "memory usage: 215.4 KB\n"
     ]
    }
   ],
   "source": [
    "deliveries.info()"
   ]
  },
  {
   "cell_type": "markdown",
   "id": "manual-mistake",
   "metadata": {},
   "source": [
    "## purchase_timestamp, delivery_timestamp"
   ]
  },
  {
   "cell_type": "markdown",
   "id": "forced-obligation",
   "metadata": {},
   "source": [
    "Kolumna `purchase_id` jest kluczem głównym. Kolumny `purchase_timestamp` i `delivery_timestamp` to odpowiednio chwila sprzedaży i dostawy zamówienia. Chwila dostawy może być pusta, np. gdy zamówienie jest w drodze do klienta, anulowano zamówienie, itd. Kolumna `delivery_company` to identyfikator firmy odpowiedzialnej za dostawę, może być pusty."
   ]
  },
  {
   "cell_type": "code",
   "execution_count": 7,
   "id": "unlike-programming",
   "metadata": {},
   "outputs": [
    {
     "data": {
      "text/plain": [
       "Timestamp('2021-01-01 00:07:14')"
      ]
     },
     "execution_count": 7,
     "metadata": {},
     "output_type": "execute_result"
    }
   ],
   "source": [
    "deliveries[\"purchase_timestamp\"].min()"
   ]
  },
  {
   "cell_type": "code",
   "execution_count": 8,
   "id": "useful-jacksonville",
   "metadata": {},
   "outputs": [
    {
     "data": {
      "text/plain": [
       "Timestamp('2021-03-15 07:58:22')"
      ]
     },
     "execution_count": 8,
     "metadata": {},
     "output_type": "execute_result"
    }
   ],
   "source": [
    "deliveries[\"purchase_timestamp\"].max()"
   ]
  },
  {
   "cell_type": "code",
   "execution_count": 9,
   "id": "alpha-devices",
   "metadata": {},
   "outputs": [
    {
     "data": {
      "text/plain": [
       "<AxesSubplot:>"
      ]
     },
     "execution_count": 9,
     "metadata": {},
     "output_type": "execute_result"
    },
    {
     "data": {
      "image/png": "[encoded data removed]",
      "text/plain": [
       "<Figure size 432x288 with 1 Axes>"
      ]
     },
     "metadata": {},
     "output_type": "display_data"
    }
   ],
   "source": [
    "deliveries[\"purchase_timestamp\"].hist()"
   ]
  },
  {
   "cell_type": "markdown",
   "id": "successful-underwear",
   "metadata": {},
   "source": [
    "Kolumna `purchase_timestamp` ma zakres wartości od `2021-01-01` do `2021-03-15` o rozkładzie jednostajnym."
   ]
  },
  {
   "cell_type": "code",
   "execution_count": 10,
   "id": "suspended-ontario",
   "metadata": {},
   "outputs": [
    {
     "data": {
      "text/plain": [
       "Timestamp('2020-12-28 13:50:46.789583')"
      ]
     },
     "execution_count": 10,
     "metadata": {},
     "output_type": "execute_result"
    }
   ],
   "source": [
    "deliveries[\"delivery_timestamp\"].min()"
   ]
  },
  {
   "cell_type": "code",
   "execution_count": 11,
   "id": "biblical-afternoon",
   "metadata": {},
   "outputs": [
    {
     "data": {
      "text/plain": [
       "Timestamp('2021-03-21 00:38:39.205756')"
      ]
     },
     "execution_count": 11,
     "metadata": {},
     "output_type": "execute_result"
    }
   ],
   "source": [
    "deliveries[\"delivery_timestamp\"].max()"
   ]
  },
  {
   "cell_type": "code",
   "execution_count": 12,
   "id": "pressed-fault",
   "metadata": {},
   "outputs": [
    {
     "data": {
      "text/plain": [
       "<AxesSubplot:>"
      ]
     },
     "execution_count": 12,
     "metadata": {},
     "output_type": "execute_result"
    },
    {
     "data": {
      "image/png": "[encoded data removed]",
      "text/plain": [
       "<Figure size 432x288 with 1 Axes>"
      ]
     },
     "metadata": {},
     "output_type": "display_data"
    }
   ],
   "source": [
    "deliveries[\"delivery_timestamp\"].hist()"
   ]
  },
  {
   "cell_type": "markdown",
   "id": "enabling-adventure",
   "metadata": {},
   "source": [
    "⚠️ Warning: Dane o dostawach pochodzą tylko z trzech miesięcy. Istnieje ryzyko, że czasy dostawy znacznie będą się różnić w innych miesiącach, np. w okresie świątecznym."
   ]
  },
  {
   "cell_type": "code",
   "execution_count": 13,
   "id": "agricultural-original",
   "metadata": {},
   "outputs": [
    {
     "data": {
      "text/html": [
       "<div>\n",
       "<style scoped>\n",
       "    .dataframe tbody tr th:only-of-type {\n",
       "        vertical-align: middle;\n",
       "    }\n",
       "\n",
       "    .dataframe tbody tr th {\n",
       "        vertical-align: top;\n",
       "    }\n",
       "\n",
       "    .dataframe thead th {\n",
       "        text-align: right;\n",
       "    }\n",
       "</style>\n",
       "<table border=\"1\" class=\"dataframe\">\n",
       "  <thead>\n",
       "    <tr style=\"text-align: right;\">\n",
       "      <th></th>\n",
       "      <th>purchase_id</th>\n",
       "      <th>purchase_timestamp</th>\n",
       "      <th>delivery_timestamp</th>\n",
       "      <th>delivery_company</th>\n",
       "    </tr>\n",
       "  </thead>\n",
       "  <tbody>\n",
       "    <tr>\n",
       "      <th>1</th>\n",
       "      <td>20002</td>\n",
       "      <td>2021-01-06 23:21:24</td>\n",
       "      <td>2021-01-06 01:29:32.083389</td>\n",
       "      <td>516.0</td>\n",
       "    </tr>\n",
       "    <tr>\n",
       "      <th>2</th>\n",
       "      <td>20003</td>\n",
       "      <td>2021-01-23 11:43:51</td>\n",
       "      <td>2021-01-23 09:44:31.822244</td>\n",
       "      <td>360.0</td>\n",
       "    </tr>\n",
       "    <tr>\n",
       "      <th>6</th>\n",
       "      <td>20007</td>\n",
       "      <td>2021-01-16 21:38:04</td>\n",
       "      <td>2021-01-12 20:33:08.646922</td>\n",
       "      <td>360.0</td>\n",
       "    </tr>\n",
       "    <tr>\n",
       "      <th>8</th>\n",
       "      <td>20009</td>\n",
       "      <td>2021-02-22 06:09:39</td>\n",
       "      <td>2021-02-20 21:03:18.673649</td>\n",
       "      <td>620.0</td>\n",
       "    </tr>\n",
       "    <tr>\n",
       "      <th>9</th>\n",
       "      <td>20010</td>\n",
       "      <td>2021-01-28 05:10:38</td>\n",
       "      <td>2021-01-27 01:53:40.728429</td>\n",
       "      <td>620.0</td>\n",
       "    </tr>\n",
       "    <tr>\n",
       "      <th>...</th>\n",
       "      <td>...</td>\n",
       "      <td>...</td>\n",
       "      <td>...</td>\n",
       "      <td>...</td>\n",
       "    </tr>\n",
       "    <tr>\n",
       "      <th>6876</th>\n",
       "      <td>26877</td>\n",
       "      <td>2021-02-08 02:51:39</td>\n",
       "      <td>2021-02-04 04:23:51.523515</td>\n",
       "      <td>620.0</td>\n",
       "    </tr>\n",
       "    <tr>\n",
       "      <th>6878</th>\n",
       "      <td>26879</td>\n",
       "      <td>2021-02-28 08:43:52</td>\n",
       "      <td>2021-02-26 05:51:29.003432</td>\n",
       "      <td>620.0</td>\n",
       "    </tr>\n",
       "    <tr>\n",
       "      <th>6879</th>\n",
       "      <td>26880</td>\n",
       "      <td>2021-02-26 11:25:49</td>\n",
       "      <td>2021-02-25 00:50:23.176778</td>\n",
       "      <td>516.0</td>\n",
       "    </tr>\n",
       "    <tr>\n",
       "      <th>6885</th>\n",
       "      <td>26886</td>\n",
       "      <td>2021-01-07 07:36:39</td>\n",
       "      <td>2021-01-07 04:43:15.422456</td>\n",
       "      <td>360.0</td>\n",
       "    </tr>\n",
       "    <tr>\n",
       "      <th>6889</th>\n",
       "      <td>26890</td>\n",
       "      <td>2021-01-20 23:31:11</td>\n",
       "      <td>2021-01-19 06:44:42.891553</td>\n",
       "      <td>360.0</td>\n",
       "    </tr>\n",
       "  </tbody>\n",
       "</table>\n",
       "<p>2017 rows × 4 columns</p>\n",
       "</div>"
      ],
      "text/plain": [
       "      purchase_id  purchase_timestamp         delivery_timestamp  \\\n",
       "1           20002 2021-01-06 23:21:24 2021-01-06 01:29:32.083389   \n",
       "2           20003 2021-01-23 11:43:51 2021-01-23 09:44:31.822244   \n",
       "6           20007 2021-01-16 21:38:04 2021-01-12 20:33:08.646922   \n",
       "8           20009 2021-02-22 06:09:39 2021-02-20 21:03:18.673649   \n",
       "9           20010 2021-01-28 05:10:38 2021-01-27 01:53:40.728429   \n",
       "...           ...                 ...                        ...   \n",
       "6876        26877 2021-02-08 02:51:39 2021-02-04 04:23:51.523515   \n",
       "6878        26879 2021-02-28 08:43:52 2021-02-26 05:51:29.003432   \n",
       "6879        26880 2021-02-26 11:25:49 2021-02-25 00:50:23.176778   \n",
       "6885        26886 2021-01-07 07:36:39 2021-01-07 04:43:15.422456   \n",
       "6889        26890 2021-01-20 23:31:11 2021-01-19 06:44:42.891553   \n",
       "\n",
       "      delivery_company  \n",
       "1                516.0  \n",
       "2                360.0  \n",
       "6                360.0  \n",
       "8                620.0  \n",
       "9                620.0  \n",
       "...                ...  \n",
       "6876             620.0  \n",
       "6878             620.0  \n",
       "6879             516.0  \n",
       "6885             360.0  \n",
       "6889             360.0  \n",
       "\n",
       "[2017 rows x 4 columns]"
      ]
     },
     "execution_count": 13,
     "metadata": {},
     "output_type": "execute_result"
    }
   ],
   "source": [
    "deliveries[deliveries[\"purchase_timestamp\"] > deliveries[\"delivery_timestamp\"]]"
   ]
  },
  {
   "cell_type": "markdown",
   "id": "golden-picture",
   "metadata": {},
   "source": [
    "Kolumna `delivery_timestamp` ma zakres wartości od `2020-12-28` do `2021-03-21` o przybliżonym rozkładzie jednostajnym. Podejrzane jest to, że dużo wartości jest mniejszych niż `purchase_timestamp` (ok. 30% danych)."
   ]
  },
  {
   "cell_type": "code",
   "execution_count": 14,
   "id": "consistent-material",
   "metadata": {},
   "outputs": [],
   "source": [
    "deliveries[\"hours\"] = (deliveries[\"delivery_timestamp\"] - deliveries[\"purchase_timestamp\"]).dt.total_seconds() / 3600"
   ]
  },
  {
   "cell_type": "markdown",
   "id": "developed-international",
   "metadata": {},
   "source": [
    "Możemy stworzyć nową kolumnę czasu dostawy `hours` będącą różnicą `delivery_timestamp` i `purchase_timestamp` wyrażoną w godzinach. Czas dostawy jest rozkładem normalnym $\\mu=24.2$, $\\sigma=47.4$."
   ]
  },
  {
   "cell_type": "code",
   "execution_count": 15,
   "id": "aggressive-intermediate",
   "metadata": {},
   "outputs": [
    {
     "data": {
      "text/plain": [
       "-145.25644821361112"
      ]
     },
     "execution_count": 15,
     "metadata": {},
     "output_type": "execute_result"
    }
   ],
   "source": [
    "deliveries[\"hours\"].min()"
   ]
  },
  {
   "cell_type": "code",
   "execution_count": 16,
   "id": "specific-princeton",
   "metadata": {},
   "outputs": [
    {
     "data": {
      "text/plain": [
       "211.68822097"
      ]
     },
     "execution_count": 16,
     "metadata": {},
     "output_type": "execute_result"
    }
   ],
   "source": [
    "deliveries[\"hours\"].max()"
   ]
  },
  {
   "cell_type": "code",
   "execution_count": 17,
   "id": "accredited-credit",
   "metadata": {},
   "outputs": [
    {
     "data": {
      "text/plain": [
       "24.20284636724477"
      ]
     },
     "execution_count": 17,
     "metadata": {},
     "output_type": "execute_result"
    }
   ],
   "source": [
    "deliveries[\"hours\"].mean()"
   ]
  },
  {
   "cell_type": "code",
   "execution_count": 18,
   "id": "figured-space",
   "metadata": {},
   "outputs": [
    {
     "data": {
      "text/plain": [
       "47.417679139502866"
      ]
     },
     "execution_count": 18,
     "metadata": {},
     "output_type": "execute_result"
    }
   ],
   "source": [
    "deliveries[\"hours\"].std()"
   ]
  },
  {
   "cell_type": "code",
   "execution_count": 19,
   "id": "continental-distribution",
   "metadata": {},
   "outputs": [
    {
     "data": {
      "image/png": "[encoded data removed]",
      "text/plain": [
       "<Figure size 432x288 with 1 Axes>"
      ]
     },
     "metadata": {},
     "output_type": "display_data"
    }
   ],
   "source": [
    "ax = sns.histplot(deliveries[\"hours\"], kde=True)\n",
    "ax.set(xlabel=\"czas dostawy\", ylabel=\"liczba przypadków\")\n",
    "plt.show()"
   ]
  },
  {
   "cell_type": "markdown",
   "id": "burning-genesis",
   "metadata": {},
   "source": [
    "☠️ Error: Dane ewidentnie nie są poprawne. Ich ilość nie pozwala nam sądzić że jest to zwykły przypadkowy błąd. Dalsza dogłębniejsza analiza czasów nie ma sensu."
   ]
  },
  {
   "cell_type": "markdown",
   "id": "academic-format",
   "metadata": {},
   "source": [
    "## delivery_company"
   ]
  },
  {
   "cell_type": "code",
   "execution_count": 20,
   "id": "contained-brunswick",
   "metadata": {},
   "outputs": [
    {
     "data": {
      "text/plain": [
       "[360.0, 516.0, 620.0, nan]"
      ]
     },
     "execution_count": 20,
     "metadata": {},
     "output_type": "execute_result"
    }
   ],
   "source": [
    "sorted(deliveries[\"delivery_company\"].unique())"
   ]
  },
  {
   "cell_type": "markdown",
   "id": "ideal-union",
   "metadata": {},
   "source": [
    "Kolumna `delivery_company` tak naprawdę jest typem dyskretnym o trzech możliwych niepustych wartościach. Może zostać zakodowana metodą *one-hot*."
   ]
  },
  {
   "cell_type": "markdown",
   "id": "proved-haiti",
   "metadata": {},
   "source": [
    "# Tabela `products`"
   ]
  },
  {
   "cell_type": "code",
   "execution_count": 21,
   "id": "suitable-locking",
   "metadata": {},
   "outputs": [
    {
     "data": {
      "text/html": [
       "<div>\n",
       "<style scoped>\n",
       "    .dataframe tbody tr th:only-of-type {\n",
       "        vertical-align: middle;\n",
       "    }\n",
       "\n",
       "    .dataframe tbody tr th {\n",
       "        vertical-align: top;\n",
       "    }\n",
       "\n",
       "    .dataframe thead th {\n",
       "        text-align: right;\n",
       "    }\n",
       "</style>\n",
       "<table border=\"1\" class=\"dataframe\">\n",
       "  <thead>\n",
       "    <tr style=\"text-align: right;\">\n",
       "      <th></th>\n",
       "      <th>product_id</th>\n",
       "      <th>product_name</th>\n",
       "      <th>category_path</th>\n",
       "      <th>price</th>\n",
       "    </tr>\n",
       "  </thead>\n",
       "  <tbody>\n",
       "    <tr>\n",
       "      <th>0</th>\n",
       "      <td>1001</td>\n",
       "      <td>Telefon Siemens Gigaset DA310</td>\n",
       "      <td>Telefony i akcesoria;Telefony stacjonarne</td>\n",
       "      <td>5.897000e+01</td>\n",
       "    </tr>\n",
       "    <tr>\n",
       "      <th>1</th>\n",
       "      <td>1002</td>\n",
       "      <td>Kyocera FS-1135MFP</td>\n",
       "      <td>Komputery;Drukarki i skanery;Biurowe urządzeni...</td>\n",
       "      <td>2.048500e+09</td>\n",
       "    </tr>\n",
       "    <tr>\n",
       "      <th>2</th>\n",
       "      <td>1003</td>\n",
       "      <td>Kyocera FS-3640MFP</td>\n",
       "      <td>Komputery;Drukarki i skanery;Biurowe urządzeni...</td>\n",
       "      <td>7.639000e+03</td>\n",
       "    </tr>\n",
       "    <tr>\n",
       "      <th>3</th>\n",
       "      <td>1004</td>\n",
       "      <td>Fallout 3 (Xbox 360)</td>\n",
       "      <td>Gry i konsole;Gry na konsole;Gry Xbox 360</td>\n",
       "      <td>4.999000e+01</td>\n",
       "    </tr>\n",
       "    <tr>\n",
       "      <th>4</th>\n",
       "      <td>1005</td>\n",
       "      <td>Szalone Króliki Na żywo i w kolorze (Xbox 360)</td>\n",
       "      <td>Gry i konsole;Gry na konsole;Gry Xbox 360</td>\n",
       "      <td>4.999000e+01</td>\n",
       "    </tr>\n",
       "    <tr>\n",
       "      <th>...</th>\n",
       "      <td>...</td>\n",
       "      <td>...</td>\n",
       "      <td>...</td>\n",
       "      <td>...</td>\n",
       "    </tr>\n",
       "    <tr>\n",
       "      <th>314</th>\n",
       "      <td>1315</td>\n",
       "      <td>Jabra Talk</td>\n",
       "      <td>Telefony i akcesoria;Akcesoria telefoniczne;Ze...</td>\n",
       "      <td>5.499000e+01</td>\n",
       "    </tr>\n",
       "    <tr>\n",
       "      <th>315</th>\n",
       "      <td>1316</td>\n",
       "      <td>Plantronics Voyager Legend</td>\n",
       "      <td>Telefony i akcesoria;Akcesoria telefoniczne;Ze...</td>\n",
       "      <td>2.490000e+02</td>\n",
       "    </tr>\n",
       "    <tr>\n",
       "      <th>316</th>\n",
       "      <td>1317</td>\n",
       "      <td>Plantronics Savi W740</td>\n",
       "      <td>Telefony i akcesoria;Akcesoria telefoniczne;Ze...</td>\n",
       "      <td>-1.303960e+03</td>\n",
       "    </tr>\n",
       "    <tr>\n",
       "      <th>317</th>\n",
       "      <td>1318</td>\n",
       "      <td>Plantronics Savi W710</td>\n",
       "      <td>Sprzęt RTV;Audio;Słuchawki</td>\n",
       "      <td>-5.530000e+02</td>\n",
       "    </tr>\n",
       "    <tr>\n",
       "      <th>318</th>\n",
       "      <td>1319</td>\n",
       "      <td>HTC HS-S200</td>\n",
       "      <td>Telefony i akcesoria;Akcesoria telefoniczne;Ze...</td>\n",
       "      <td>1.499000e+01</td>\n",
       "    </tr>\n",
       "  </tbody>\n",
       "</table>\n",
       "<p>319 rows × 4 columns</p>\n",
       "</div>"
      ],
      "text/plain": [
       "     product_id                                    product_name  \\\n",
       "0          1001                   Telefon Siemens Gigaset DA310   \n",
       "1          1002                              Kyocera FS-1135MFP   \n",
       "2          1003                              Kyocera FS-3640MFP   \n",
       "3          1004                            Fallout 3 (Xbox 360)   \n",
       "4          1005  Szalone Króliki Na żywo i w kolorze (Xbox 360)   \n",
       "..          ...                                             ...   \n",
       "314        1315                                      Jabra Talk   \n",
       "315        1316                      Plantronics Voyager Legend   \n",
       "316        1317                           Plantronics Savi W740   \n",
       "317        1318                           Plantronics Savi W710   \n",
       "318        1319                                     HTC HS-S200   \n",
       "\n",
       "                                         category_path         price  \n",
       "0            Telefony i akcesoria;Telefony stacjonarne  5.897000e+01  \n",
       "1    Komputery;Drukarki i skanery;Biurowe urządzeni...  2.048500e+09  \n",
       "2    Komputery;Drukarki i skanery;Biurowe urządzeni...  7.639000e+03  \n",
       "3            Gry i konsole;Gry na konsole;Gry Xbox 360  4.999000e+01  \n",
       "4            Gry i konsole;Gry na konsole;Gry Xbox 360  4.999000e+01  \n",
       "..                                                 ...           ...  \n",
       "314  Telefony i akcesoria;Akcesoria telefoniczne;Ze...  5.499000e+01  \n",
       "315  Telefony i akcesoria;Akcesoria telefoniczne;Ze...  2.490000e+02  \n",
       "316  Telefony i akcesoria;Akcesoria telefoniczne;Ze... -1.303960e+03  \n",
       "317                         Sprzęt RTV;Audio;Słuchawki -5.530000e+02  \n",
       "318  Telefony i akcesoria;Akcesoria telefoniczne;Ze...  1.499000e+01  \n",
       "\n",
       "[319 rows x 4 columns]"
      ]
     },
     "execution_count": 21,
     "metadata": {},
     "output_type": "execute_result"
    }
   ],
   "source": [
    "products"
   ]
  },
  {
   "cell_type": "code",
   "execution_count": 22,
   "id": "elegant-battle",
   "metadata": {},
   "outputs": [
    {
     "name": "stdout",
     "output_type": "stream",
     "text": [
      "<class 'pandas.core.frame.DataFrame'>\n",
      "RangeIndex: 319 entries, 0 to 318\n",
      "Data columns (total 4 columns):\n",
      " #   Column         Non-Null Count  Dtype  \n",
      "---  ------         --------------  -----  \n",
      " 0   product_id     319 non-null    int64  \n",
      " 1   product_name   319 non-null    object \n",
      " 2   category_path  319 non-null    object \n",
      " 3   price          319 non-null    float64\n",
      "dtypes: float64(1), int64(1), object(2)\n",
      "memory usage: 10.1+ KB\n"
     ]
    }
   ],
   "source": [
    "products.info()"
   ]
  },
  {
   "cell_type": "markdown",
   "id": "given-skating",
   "metadata": {},
   "source": [
    "Kolumna `product_id` jest kluczem głównym. Kolumna `product_name` jest nazwą produktu, można zakodować metodą *word embeddings*. Kolumna `category_path` jest hierarchią kategorii, do których należy produkt, można zakodować metodą *one-hot*."
   ]
  },
  {
   "cell_type": "code",
   "execution_count": 23,
   "id": "adaptive-latitude",
   "metadata": {},
   "outputs": [
    {
     "data": {
      "text/plain": [
       "['akcesoria telefoniczne',\n",
       " 'anteny rtv',\n",
       " 'audio',\n",
       " 'biurowe urządzenia wielofunkcyjne',\n",
       " 'drukarki i skanery',\n",
       " 'gry i konsole',\n",
       " 'gry komputerowe',\n",
       " 'gry na konsole',\n",
       " 'gry playstation3',\n",
       " 'gry xbox 360',\n",
       " 'komputery',\n",
       " 'monitory',\n",
       " 'monitory lcd',\n",
       " 'odtwarzacze dvd',\n",
       " 'odtwarzacze mp3 i mp4',\n",
       " 'okulary 3d',\n",
       " 'przenośne audio i video',\n",
       " 'sprzęt rtv',\n",
       " 'słuchawki',\n",
       " 'tablety',\n",
       " 'tablety i akcesoria',\n",
       " 'telefony i akcesoria',\n",
       " 'telefony komórkowe',\n",
       " 'telefony stacjonarne',\n",
       " 'telewizory i akcesoria',\n",
       " 'video',\n",
       " 'zestawy głośnomówiące',\n",
       " 'zestawy słuchawkowe']"
      ]
     },
     "execution_count": 23,
     "metadata": {},
     "output_type": "execute_result"
    }
   ],
   "source": [
    "categories = set()\n",
    "\n",
    "for x in products[\"category_path\"]:\n",
    "    categories.update(x.lower().split(\";\"))\n",
    "\n",
    "sorted(categories)"
   ]
  },
  {
   "cell_type": "markdown",
   "id": "respiratory-adjustment",
   "metadata": {},
   "source": [
    "Kolumna `price` jest ceną produktu."
   ]
  },
  {
   "cell_type": "code",
   "execution_count": 24,
   "id": "express-unemployment",
   "metadata": {},
   "outputs": [
    {
     "data": {
      "text/plain": [
       "-1303.96"
      ]
     },
     "execution_count": 24,
     "metadata": {},
     "output_type": "execute_result"
    }
   ],
   "source": [
    "products[\"price\"].min()"
   ]
  },
  {
   "cell_type": "code",
   "execution_count": 25,
   "id": "growing-hebrew",
   "metadata": {},
   "outputs": [
    {
     "data": {
      "text/plain": [
       "5259000000.0"
      ]
     },
     "execution_count": 25,
     "metadata": {},
     "output_type": "execute_result"
    }
   ],
   "source": [
    "products[\"price\"].max()"
   ]
  },
  {
   "cell_type": "code",
   "execution_count": 26,
   "id": "pregnant-oasis",
   "metadata": {},
   "outputs": [
    {
     "data": {
      "text/plain": [
       "35609195.75752351"
      ]
     },
     "execution_count": 26,
     "metadata": {},
     "output_type": "execute_result"
    }
   ],
   "source": [
    "products[\"price\"].mean()"
   ]
  },
  {
   "cell_type": "code",
   "execution_count": 27,
   "id": "curious-piano",
   "metadata": {},
   "outputs": [
    {
     "data": {
      "text/plain": [
       "341043170.2423"
      ]
     },
     "execution_count": 27,
     "metadata": {},
     "output_type": "execute_result"
    }
   ],
   "source": [
    "products[\"price\"].std()"
   ]
  },
  {
   "cell_type": "code",
   "execution_count": 28,
   "id": "unknown-affiliate",
   "metadata": {},
   "outputs": [
    {
     "data": {
      "text/html": [
       "<div>\n",
       "<style scoped>\n",
       "    .dataframe tbody tr th:only-of-type {\n",
       "        vertical-align: middle;\n",
       "    }\n",
       "\n",
       "    .dataframe tbody tr th {\n",
       "        vertical-align: top;\n",
       "    }\n",
       "\n",
       "    .dataframe thead th {\n",
       "        text-align: right;\n",
       "    }\n",
       "</style>\n",
       "<table border=\"1\" class=\"dataframe\">\n",
       "  <thead>\n",
       "    <tr style=\"text-align: right;\">\n",
       "      <th></th>\n",
       "      <th>product_id</th>\n",
       "      <th>product_name</th>\n",
       "      <th>category_path</th>\n",
       "      <th>price</th>\n",
       "    </tr>\n",
       "  </thead>\n",
       "  <tbody>\n",
       "    <tr>\n",
       "      <th>1</th>\n",
       "      <td>1002</td>\n",
       "      <td>Kyocera FS-1135MFP</td>\n",
       "      <td>Komputery;Drukarki i skanery;Biurowe urządzeni...</td>\n",
       "      <td>2.048500e+09</td>\n",
       "    </tr>\n",
       "    <tr>\n",
       "      <th>16</th>\n",
       "      <td>1017</td>\n",
       "      <td>LCD Dell U2412M</td>\n",
       "      <td>Komputery;Monitory;Monitory LCD</td>\n",
       "      <td>3.990000e+08</td>\n",
       "    </tr>\n",
       "    <tr>\n",
       "      <th>27</th>\n",
       "      <td>1028</td>\n",
       "      <td>Sniper Ghost Warrior 2 (Xbox 360)</td>\n",
       "      <td>Gry i konsole;Gry na konsole;Gry Xbox 360</td>\n",
       "      <td>3.900000e+07</td>\n",
       "    </tr>\n",
       "    <tr>\n",
       "      <th>34</th>\n",
       "      <td>1035</td>\n",
       "      <td>Samsung Galaxy S III GT-i9300</td>\n",
       "      <td>Telefony i akcesoria;Telefony komórkowe</td>\n",
       "      <td>2.199900e+09</td>\n",
       "    </tr>\n",
       "    <tr>\n",
       "      <th>35</th>\n",
       "      <td>1036</td>\n",
       "      <td>LCD Asus VK228H</td>\n",
       "      <td>Komputery;Monitory;Monitory LCD</td>\n",
       "      <td>6.390000e+08</td>\n",
       "    </tr>\n",
       "    <tr>\n",
       "      <th>38</th>\n",
       "      <td>1039</td>\n",
       "      <td>LCD Asus VS197D</td>\n",
       "      <td>Komputery;Monitory;Monitory LCD</td>\n",
       "      <td>2.690000e+08</td>\n",
       "    </tr>\n",
       "    <tr>\n",
       "      <th>44</th>\n",
       "      <td>1045</td>\n",
       "      <td>Call of Duty Modern Warfare 2 (PS3)</td>\n",
       "      <td>Gry i konsole;Gry na konsole;Gry PlayStation3</td>\n",
       "      <td>5.990000e+07</td>\n",
       "    </tr>\n",
       "    <tr>\n",
       "      <th>80</th>\n",
       "      <td>1081</td>\n",
       "      <td>OKI B840dn</td>\n",
       "      <td>Komputery;Drukarki i skanery;Biurowe urządzeni...</td>\n",
       "      <td>5.259000e+09</td>\n",
       "    </tr>\n",
       "    <tr>\n",
       "      <th>163</th>\n",
       "      <td>1164</td>\n",
       "      <td>Aliens Colonial Marines (PC)</td>\n",
       "      <td>Gry i konsole;Gry komputerowe</td>\n",
       "      <td>1.129900e+08</td>\n",
       "    </tr>\n",
       "    <tr>\n",
       "      <th>190</th>\n",
       "      <td>1191</td>\n",
       "      <td>Red Faction Guerrilla (PC)</td>\n",
       "      <td>Gry i konsole;Gry komputerowe</td>\n",
       "      <td>1.999000e+07</td>\n",
       "    </tr>\n",
       "    <tr>\n",
       "      <th>215</th>\n",
       "      <td>1216</td>\n",
       "      <td>Damnation (PC)</td>\n",
       "      <td>Gry i konsole;Gry komputerowe</td>\n",
       "      <td>3.499000e+07</td>\n",
       "    </tr>\n",
       "    <tr>\n",
       "      <th>286</th>\n",
       "      <td>1287</td>\n",
       "      <td>Philips SDV6226</td>\n",
       "      <td>Sprzęt RTV;Video;Telewizory i akcesoria;Anteny...</td>\n",
       "      <td>1.290000e+08</td>\n",
       "    </tr>\n",
       "    <tr>\n",
       "      <th>300</th>\n",
       "      <td>1301</td>\n",
       "      <td>Vivanco TVA 400</td>\n",
       "      <td>Sprzęt RTV;Video;Telewizory i akcesoria;Anteny...</td>\n",
       "      <td>1.490000e+08</td>\n",
       "    </tr>\n",
       "  </tbody>\n",
       "</table>\n",
       "</div>"
      ],
      "text/plain": [
       "     product_id                         product_name  \\\n",
       "1          1002                   Kyocera FS-1135MFP   \n",
       "16         1017                      LCD Dell U2412M   \n",
       "27         1028    Sniper Ghost Warrior 2 (Xbox 360)   \n",
       "34         1035        Samsung Galaxy S III GT-i9300   \n",
       "35         1036                      LCD Asus VK228H   \n",
       "38         1039                      LCD Asus VS197D   \n",
       "44         1045  Call of Duty Modern Warfare 2 (PS3)   \n",
       "80         1081                           OKI B840dn   \n",
       "163        1164         Aliens Colonial Marines (PC)   \n",
       "190        1191           Red Faction Guerrilla (PC)   \n",
       "215        1216                       Damnation (PC)   \n",
       "286        1287                      Philips SDV6226   \n",
       "300        1301                      Vivanco TVA 400   \n",
       "\n",
       "                                         category_path         price  \n",
       "1    Komputery;Drukarki i skanery;Biurowe urządzeni...  2.048500e+09  \n",
       "16                     Komputery;Monitory;Monitory LCD  3.990000e+08  \n",
       "27           Gry i konsole;Gry na konsole;Gry Xbox 360  3.900000e+07  \n",
       "34             Telefony i akcesoria;Telefony komórkowe  2.199900e+09  \n",
       "35                     Komputery;Monitory;Monitory LCD  6.390000e+08  \n",
       "38                     Komputery;Monitory;Monitory LCD  2.690000e+08  \n",
       "44       Gry i konsole;Gry na konsole;Gry PlayStation3  5.990000e+07  \n",
       "80   Komputery;Drukarki i skanery;Biurowe urządzeni...  5.259000e+09  \n",
       "163                      Gry i konsole;Gry komputerowe  1.129900e+08  \n",
       "190                      Gry i konsole;Gry komputerowe  1.999000e+07  \n",
       "215                      Gry i konsole;Gry komputerowe  3.499000e+07  \n",
       "286  Sprzęt RTV;Video;Telewizory i akcesoria;Anteny...  1.290000e+08  \n",
       "300  Sprzęt RTV;Video;Telewizory i akcesoria;Anteny...  1.490000e+08  "
      ]
     },
     "execution_count": 28,
     "metadata": {},
     "output_type": "execute_result"
    }
   ],
   "source": [
    "products[products[\"price\"] > 1e4]"
   ]
  },
  {
   "cell_type": "code",
   "execution_count": 29,
   "id": "efficient-livestock",
   "metadata": {},
   "outputs": [
    {
     "data": {
      "text/html": [
       "<div>\n",
       "<style scoped>\n",
       "    .dataframe tbody tr th:only-of-type {\n",
       "        vertical-align: middle;\n",
       "    }\n",
       "\n",
       "    .dataframe tbody tr th {\n",
       "        vertical-align: top;\n",
       "    }\n",
       "\n",
       "    .dataframe thead th {\n",
       "        text-align: right;\n",
       "    }\n",
       "</style>\n",
       "<table border=\"1\" class=\"dataframe\">\n",
       "  <thead>\n",
       "    <tr style=\"text-align: right;\">\n",
       "      <th></th>\n",
       "      <th>product_id</th>\n",
       "      <th>product_name</th>\n",
       "      <th>category_path</th>\n",
       "      <th>price</th>\n",
       "    </tr>\n",
       "  </thead>\n",
       "  <tbody>\n",
       "    <tr>\n",
       "      <th>142</th>\n",
       "      <td>1143</td>\n",
       "      <td>GTR Evolution (PC)</td>\n",
       "      <td>Gry i konsole;Gry komputerowe</td>\n",
       "      <td>-25.49</td>\n",
       "    </tr>\n",
       "    <tr>\n",
       "      <th>148</th>\n",
       "      <td>1149</td>\n",
       "      <td>Medal of Honor Warfighter (PC)</td>\n",
       "      <td>Gry i konsole;Gry komputerowe</td>\n",
       "      <td>-56.90</td>\n",
       "    </tr>\n",
       "    <tr>\n",
       "      <th>235</th>\n",
       "      <td>1236</td>\n",
       "      <td>Avencast Rise of the Mage (PC)</td>\n",
       "      <td>Gry i konsole;Gry komputerowe</td>\n",
       "      <td>-31.99</td>\n",
       "    </tr>\n",
       "    <tr>\n",
       "      <th>243</th>\n",
       "      <td>1244</td>\n",
       "      <td>Hard Reset (PC)</td>\n",
       "      <td>Gry i konsole;Gry komputerowe</td>\n",
       "      <td>-9.99</td>\n",
       "    </tr>\n",
       "    <tr>\n",
       "      <th>274</th>\n",
       "      <td>1275</td>\n",
       "      <td>Rome Total War (PC)</td>\n",
       "      <td>Gry i konsole;Gry komputerowe</td>\n",
       "      <td>-54.90</td>\n",
       "    </tr>\n",
       "    <tr>\n",
       "      <th>284</th>\n",
       "      <td>1285</td>\n",
       "      <td>Opticum AX-800</td>\n",
       "      <td>Sprzęt RTV;Video;Telewizory i akcesoria;Anteny...</td>\n",
       "      <td>-82.99</td>\n",
       "    </tr>\n",
       "    <tr>\n",
       "      <th>316</th>\n",
       "      <td>1317</td>\n",
       "      <td>Plantronics Savi W740</td>\n",
       "      <td>Telefony i akcesoria;Akcesoria telefoniczne;Ze...</td>\n",
       "      <td>-1303.96</td>\n",
       "    </tr>\n",
       "    <tr>\n",
       "      <th>317</th>\n",
       "      <td>1318</td>\n",
       "      <td>Plantronics Savi W710</td>\n",
       "      <td>Sprzęt RTV;Audio;Słuchawki</td>\n",
       "      <td>-553.00</td>\n",
       "    </tr>\n",
       "  </tbody>\n",
       "</table>\n",
       "</div>"
      ],
      "text/plain": [
       "     product_id                    product_name  \\\n",
       "142        1143              GTR Evolution (PC)   \n",
       "148        1149  Medal of Honor Warfighter (PC)   \n",
       "235        1236  Avencast Rise of the Mage (PC)   \n",
       "243        1244                 Hard Reset (PC)   \n",
       "274        1275             Rome Total War (PC)   \n",
       "284        1285                  Opticum AX-800   \n",
       "316        1317           Plantronics Savi W740   \n",
       "317        1318           Plantronics Savi W710   \n",
       "\n",
       "                                         category_path    price  \n",
       "142                      Gry i konsole;Gry komputerowe   -25.49  \n",
       "148                      Gry i konsole;Gry komputerowe   -56.90  \n",
       "235                      Gry i konsole;Gry komputerowe   -31.99  \n",
       "243                      Gry i konsole;Gry komputerowe    -9.99  \n",
       "274                      Gry i konsole;Gry komputerowe   -54.90  \n",
       "284  Sprzęt RTV;Video;Telewizory i akcesoria;Anteny...   -82.99  \n",
       "316  Telefony i akcesoria;Akcesoria telefoniczne;Ze... -1303.96  \n",
       "317                         Sprzęt RTV;Audio;Słuchawki  -553.00  "
      ]
     },
     "execution_count": 29,
     "metadata": {},
     "output_type": "execute_result"
    }
   ],
   "source": [
    "products[products[\"price\"] <= 0]"
   ]
  },
  {
   "cell_type": "markdown",
   "id": "useful-indonesian",
   "metadata": {},
   "source": [
    "⚠️ Warning: Niektóre produkty mają absurdalnie wysoką ($>10^6$) lub ujemną cenę."
   ]
  },
  {
   "cell_type": "markdown",
   "id": "automotive-chicken",
   "metadata": {},
   "source": [
    "# Tabela `sessions`"
   ]
  },
  {
   "cell_type": "code",
   "execution_count": 30,
   "id": "animated-acceptance",
   "metadata": {},
   "outputs": [
    {
     "data": {
      "text/html": [
       "<div>\n",
       "<style scoped>\n",
       "    .dataframe tbody tr th:only-of-type {\n",
       "        vertical-align: middle;\n",
       "    }\n",
       "\n",
       "    .dataframe tbody tr th {\n",
       "        vertical-align: top;\n",
       "    }\n",
       "\n",
       "    .dataframe thead th {\n",
       "        text-align: right;\n",
       "    }\n",
       "</style>\n",
       "<table border=\"1\" class=\"dataframe\">\n",
       "  <thead>\n",
       "    <tr style=\"text-align: right;\">\n",
       "      <th></th>\n",
       "      <th>session_id</th>\n",
       "      <th>timestamp</th>\n",
       "      <th>user_id</th>\n",
       "      <th>product_id</th>\n",
       "      <th>event_type</th>\n",
       "      <th>offered_discount</th>\n",
       "      <th>purchase_id</th>\n",
       "    </tr>\n",
       "  </thead>\n",
       "  <tbody>\n",
       "    <tr>\n",
       "      <th>0</th>\n",
       "      <td>100001</td>\n",
       "      <td>2021-01-24 20:00:43</td>\n",
       "      <td>102.0</td>\n",
       "      <td>1001.0</td>\n",
       "      <td>VIEW_PRODUCT</td>\n",
       "      <td>0</td>\n",
       "      <td>NaN</td>\n",
       "    </tr>\n",
       "    <tr>\n",
       "      <th>1</th>\n",
       "      <td>100001</td>\n",
       "      <td>2021-01-24 20:02:58</td>\n",
       "      <td>102.0</td>\n",
       "      <td>1001.0</td>\n",
       "      <td>BUY_PRODUCT</td>\n",
       "      <td>0</td>\n",
       "      <td>20001.0</td>\n",
       "    </tr>\n",
       "    <tr>\n",
       "      <th>2</th>\n",
       "      <td>100002</td>\n",
       "      <td>2021-01-06 23:01:07</td>\n",
       "      <td>102.0</td>\n",
       "      <td>1038.0</td>\n",
       "      <td>VIEW_PRODUCT</td>\n",
       "      <td>0</td>\n",
       "      <td>NaN</td>\n",
       "    </tr>\n",
       "    <tr>\n",
       "      <th>3</th>\n",
       "      <td>100002</td>\n",
       "      <td>2021-01-06 23:05:01</td>\n",
       "      <td>102.0</td>\n",
       "      <td>1036.0</td>\n",
       "      <td>VIEW_PRODUCT</td>\n",
       "      <td>0</td>\n",
       "      <td>NaN</td>\n",
       "    </tr>\n",
       "    <tr>\n",
       "      <th>4</th>\n",
       "      <td>100002</td>\n",
       "      <td>2021-01-06 23:09:38</td>\n",
       "      <td>102.0</td>\n",
       "      <td>1033.0</td>\n",
       "      <td>VIEW_PRODUCT</td>\n",
       "      <td>0</td>\n",
       "      <td>NaN</td>\n",
       "    </tr>\n",
       "    <tr>\n",
       "      <th>...</th>\n",
       "      <td>...</td>\n",
       "      <td>...</td>\n",
       "      <td>...</td>\n",
       "      <td>...</td>\n",
       "      <td>...</td>\n",
       "      <td>...</td>\n",
       "      <td>...</td>\n",
       "    </tr>\n",
       "    <tr>\n",
       "      <th>37677</th>\n",
       "      <td>109836</td>\n",
       "      <td>2021-01-28 10:19:43</td>\n",
       "      <td>301.0</td>\n",
       "      <td>1317.0</td>\n",
       "      <td>VIEW_PRODUCT</td>\n",
       "      <td>0</td>\n",
       "      <td>NaN</td>\n",
       "    </tr>\n",
       "    <tr>\n",
       "      <th>37678</th>\n",
       "      <td>109836</td>\n",
       "      <td>2021-01-28 10:22:54</td>\n",
       "      <td>301.0</td>\n",
       "      <td>1317.0</td>\n",
       "      <td>BUY_PRODUCT</td>\n",
       "      <td>0</td>\n",
       "      <td>26889.0</td>\n",
       "    </tr>\n",
       "    <tr>\n",
       "      <th>37679</th>\n",
       "      <td>109837</td>\n",
       "      <td>2021-01-20 23:29:26</td>\n",
       "      <td>301.0</td>\n",
       "      <td>1074.0</td>\n",
       "      <td>VIEW_PRODUCT</td>\n",
       "      <td>5</td>\n",
       "      <td>NaN</td>\n",
       "    </tr>\n",
       "    <tr>\n",
       "      <th>37680</th>\n",
       "      <td>109837</td>\n",
       "      <td>2021-01-20 23:29:43</td>\n",
       "      <td>301.0</td>\n",
       "      <td>1072.0</td>\n",
       "      <td>VIEW_PRODUCT</td>\n",
       "      <td>5</td>\n",
       "      <td>NaN</td>\n",
       "    </tr>\n",
       "    <tr>\n",
       "      <th>37681</th>\n",
       "      <td>109837</td>\n",
       "      <td>2021-01-20 23:31:11</td>\n",
       "      <td>301.0</td>\n",
       "      <td>1072.0</td>\n",
       "      <td>BUY_PRODUCT</td>\n",
       "      <td>5</td>\n",
       "      <td>26890.0</td>\n",
       "    </tr>\n",
       "  </tbody>\n",
       "</table>\n",
       "<p>37682 rows × 7 columns</p>\n",
       "</div>"
      ],
      "text/plain": [
       "       session_id           timestamp  user_id  product_id    event_type  \\\n",
       "0          100001 2021-01-24 20:00:43    102.0      1001.0  VIEW_PRODUCT   \n",
       "1          100001 2021-01-24 20:02:58    102.0      1001.0   BUY_PRODUCT   \n",
       "2          100002 2021-01-06 23:01:07    102.0      1038.0  VIEW_PRODUCT   \n",
       "3          100002 2021-01-06 23:05:01    102.0      1036.0  VIEW_PRODUCT   \n",
       "4          100002 2021-01-06 23:09:38    102.0      1033.0  VIEW_PRODUCT   \n",
       "...           ...                 ...      ...         ...           ...   \n",
       "37677      109836 2021-01-28 10:19:43    301.0      1317.0  VIEW_PRODUCT   \n",
       "37678      109836 2021-01-28 10:22:54    301.0      1317.0   BUY_PRODUCT   \n",
       "37679      109837 2021-01-20 23:29:26    301.0      1074.0  VIEW_PRODUCT   \n",
       "37680      109837 2021-01-20 23:29:43    301.0      1072.0  VIEW_PRODUCT   \n",
       "37681      109837 2021-01-20 23:31:11    301.0      1072.0   BUY_PRODUCT   \n",
       "\n",
       "       offered_discount  purchase_id  \n",
       "0                     0          NaN  \n",
       "1                     0      20001.0  \n",
       "2                     0          NaN  \n",
       "3                     0          NaN  \n",
       "4                     0          NaN  \n",
       "...                 ...          ...  \n",
       "37677                 0          NaN  \n",
       "37678                 0      26889.0  \n",
       "37679                 5          NaN  \n",
       "37680                 5          NaN  \n",
       "37681                 5      26890.0  \n",
       "\n",
       "[37682 rows x 7 columns]"
      ]
     },
     "execution_count": 30,
     "metadata": {},
     "output_type": "execute_result"
    }
   ],
   "source": [
    "sessions"
   ]
  },
  {
   "cell_type": "code",
   "execution_count": 31,
   "id": "extended-platinum",
   "metadata": {},
   "outputs": [
    {
     "name": "stdout",
     "output_type": "stream",
     "text": [
      "<class 'pandas.core.frame.DataFrame'>\n",
      "RangeIndex: 37682 entries, 0 to 37681\n",
      "Data columns (total 7 columns):\n",
      " #   Column            Non-Null Count  Dtype         \n",
      "---  ------            --------------  -----         \n",
      " 0   session_id        37682 non-null  int64         \n",
      " 1   timestamp         37682 non-null  datetime64[ns]\n",
      " 2   user_id           35794 non-null  float64       \n",
      " 3   product_id        35797 non-null  float64       \n",
      " 4   event_type        37682 non-null  object        \n",
      " 5   offered_discount  37682 non-null  int64         \n",
      " 6   purchase_id       6890 non-null   float64       \n",
      "dtypes: datetime64[ns](1), float64(3), int64(2), object(1)\n",
      "memory usage: 2.0+ MB\n"
     ]
    }
   ],
   "source": [
    "sessions.info()"
   ]
  },
  {
   "cell_type": "markdown",
   "id": "addressed-relevance",
   "metadata": {},
   "source": [
    "Kolumna `session_id` jest kluczem głównym. Kolumny `user_id`, `product_id`, `purchase_id` są kluczami obcymi. Klucze obce mogą być puste, gdyż może być sesja anonimowa, brak zakupu, brak danych o produkcie. Kolumna `timestamp` jest chwilą wystąpienia zdarzenia typu `event_type`. Kolumna `offered_discount` to oferowana przecena, w przypadku podjęcia zakupu."
   ]
  },
  {
   "cell_type": "code",
   "execution_count": 32,
   "id": "better-missile",
   "metadata": {},
   "outputs": [
    {
     "data": {
      "text/plain": [
       "array(['VIEW_PRODUCT', 'BUY_PRODUCT'], dtype=object)"
      ]
     },
     "execution_count": 32,
     "metadata": {},
     "output_type": "execute_result"
    }
   ],
   "source": [
    "sessions[\"event_type\"].unique()"
   ]
  },
  {
   "cell_type": "code",
   "execution_count": 33,
   "id": "organic-attack",
   "metadata": {},
   "outputs": [
    {
     "data": {
      "text/plain": [
       "<AxesSubplot:>"
      ]
     },
     "execution_count": 33,
     "metadata": {},
     "output_type": "execute_result"
    },
    {
     "data": {
      "image/png": "[encoded data removed]",
      "text/plain": [
       "<Figure size 432x288 with 1 Axes>"
      ]
     },
     "metadata": {},
     "output_type": "display_data"
    }
   ],
   "source": [
    "sessions[\"event_type\"].hist()"
   ]
  },
  {
   "cell_type": "markdown",
   "id": "eligible-history",
   "metadata": {},
   "source": [
    "Sesje składają się z dwóch możliwych zdarzeń: przeglądania i zakupu."
   ]
  },
  {
   "cell_type": "code",
   "execution_count": 34,
   "id": "metropolitan-majority",
   "metadata": {},
   "outputs": [
    {
     "data": {
      "text/plain": [
       "Timestamp('2021-01-01 00:01:22')"
      ]
     },
     "execution_count": 34,
     "metadata": {},
     "output_type": "execute_result"
    }
   ],
   "source": [
    "sessions[\"timestamp\"].min()"
   ]
  },
  {
   "cell_type": "code",
   "execution_count": 35,
   "id": "joined-grace",
   "metadata": {},
   "outputs": [
    {
     "data": {
      "text/plain": [
       "Timestamp('2021-03-15 08:05:24')"
      ]
     },
     "execution_count": 35,
     "metadata": {},
     "output_type": "execute_result"
    }
   ],
   "source": [
    "sessions[\"timestamp\"].max()"
   ]
  },
  {
   "cell_type": "code",
   "execution_count": 36,
   "id": "going-feedback",
   "metadata": {},
   "outputs": [
    {
     "data": {
      "text/plain": [
       "<AxesSubplot:>"
      ]
     },
     "execution_count": 36,
     "metadata": {},
     "output_type": "execute_result"
    },
    {
     "data": {
      "image/png": "[encoded data removed]",
      "text/plain": [
       "<Figure size 432x288 with 1 Axes>"
      ]
     },
     "metadata": {},
     "output_type": "display_data"
    }
   ],
   "source": [
    "sessions[\"timestamp\"].hist()"
   ]
  },
  {
   "cell_type": "markdown",
   "id": "english-external",
   "metadata": {},
   "source": [
    "Kolumna `timestamp` ma zakres wartości od `2021-01-01` do `2021-03-15` o przybliżonym rozkładzie jednostajnym."
   ]
  },
  {
   "cell_type": "code",
   "execution_count": 37,
   "id": "textile-firewall",
   "metadata": {},
   "outputs": [
    {
     "data": {
      "text/plain": [
       "<AxesSubplot:>"
      ]
     },
     "execution_count": 37,
     "metadata": {},
     "output_type": "execute_result"
    },
    {
     "data": {
      "image/png": "[encoded data removed]",
      "text/plain": [
       "<Figure size 432x288 with 1 Axes>"
      ]
     },
     "metadata": {},
     "output_type": "display_data"
    }
   ],
   "source": [
    "sessions[\"offered_discount\"].hist()"
   ]
  },
  {
   "cell_type": "code",
   "execution_count": 38,
   "id": "abandoned-darkness",
   "metadata": {},
   "outputs": [
    {
     "data": {
      "text/plain": [
       "[0, 5, 10, 15, 20]"
      ]
     },
     "execution_count": 38,
     "metadata": {},
     "output_type": "execute_result"
    }
   ],
   "source": [
    "sorted(sessions[\"offered_discount\"].unique())"
   ]
  },
  {
   "cell_type": "code",
   "execution_count": 39,
   "id": "completed-solomon",
   "metadata": {},
   "outputs": [
    {
     "data": {
      "text/html": [
       "<div>\n",
       "<style scoped>\n",
       "    .dataframe tbody tr th:only-of-type {\n",
       "        vertical-align: middle;\n",
       "    }\n",
       "\n",
       "    .dataframe tbody tr th {\n",
       "        vertical-align: top;\n",
       "    }\n",
       "\n",
       "    .dataframe thead th {\n",
       "        text-align: right;\n",
       "    }\n",
       "</style>\n",
       "<table border=\"1\" class=\"dataframe\">\n",
       "  <thead>\n",
       "    <tr style=\"text-align: right;\">\n",
       "      <th></th>\n",
       "      <th>offered_discount</th>\n",
       "    </tr>\n",
       "    <tr>\n",
       "      <th>event_type</th>\n",
       "      <th></th>\n",
       "    </tr>\n",
       "  </thead>\n",
       "  <tbody>\n",
       "    <tr>\n",
       "      <th>BUY_PRODUCT</th>\n",
       "      <td>{0, 5, 10, 15, 20}</td>\n",
       "    </tr>\n",
       "    <tr>\n",
       "      <th>VIEW_PRODUCT</th>\n",
       "      <td>{0, 5, 10, 15, 20}</td>\n",
       "    </tr>\n",
       "  </tbody>\n",
       "</table>\n",
       "</div>"
      ],
      "text/plain": [
       "                offered_discount\n",
       "event_type                      \n",
       "BUY_PRODUCT   {0, 5, 10, 15, 20}\n",
       "VIEW_PRODUCT  {0, 5, 10, 15, 20}"
      ]
     },
     "execution_count": 39,
     "metadata": {},
     "output_type": "execute_result"
    }
   ],
   "source": [
    "sessions.groupby(\"event_type\").agg({\"offered_discount\": set})"
   ]
  },
  {
   "cell_type": "markdown",
   "id": "impressed-lingerie",
   "metadata": {},
   "source": [
    "Zniżki są wielokrotnościami $5\\%$, występują zarówno podczas przeglądania, jak i podczas zamawiania z podobną częstością. Najczęściej nie ma zniżki."
   ]
  },
  {
   "cell_type": "code",
   "execution_count": 40,
   "id": "acoustic-district",
   "metadata": {},
   "outputs": [
    {
     "data": {
      "text/plain": [
       "<AxesSubplot:>"
      ]
     },
     "execution_count": 40,
     "metadata": {},
     "output_type": "execute_result"
    },
    {
     "data": {
      "image/png": "[encoded data removed]",
      "text/plain": [
       "<Figure size 432x288 with 1 Axes>"
      ]
     },
     "metadata": {},
     "output_type": "display_data"
    }
   ],
   "source": [
    "sessions[sessions[\"event_type\"] == \"BUY_PRODUCT\"][\"offered_discount\"].hist()"
   ]
  },
  {
   "cell_type": "code",
   "execution_count": 41,
   "id": "impressive-authority",
   "metadata": {},
   "outputs": [
    {
     "data": {
      "text/plain": [
       "<AxesSubplot:>"
      ]
     },
     "execution_count": 41,
     "metadata": {},
     "output_type": "execute_result"
    },
    {
     "data": {
      "image/png": "[encoded data removed]",
      "text/plain": [
       "<Figure size 432x288 with 1 Axes>"
      ]
     },
     "metadata": {},
     "output_type": "display_data"
    }
   ],
   "source": [
    "sessions[sessions[\"event_type\"] == \"VIEW_PRODUCT\"][\"offered_discount\"].hist()"
   ]
  },
  {
   "cell_type": "markdown",
   "id": "deluxe-earthquake",
   "metadata": {},
   "source": [
    "# Tabela `users`"
   ]
  },
  {
   "cell_type": "code",
   "execution_count": 42,
   "id": "guided-photograph",
   "metadata": {},
   "outputs": [
    {
     "data": {
      "text/html": [
       "<div>\n",
       "<style scoped>\n",
       "    .dataframe tbody tr th:only-of-type {\n",
       "        vertical-align: middle;\n",
       "    }\n",
       "\n",
       "    .dataframe tbody tr th {\n",
       "        vertical-align: top;\n",
       "    }\n",
       "\n",
       "    .dataframe thead th {\n",
       "        text-align: right;\n",
       "    }\n",
       "</style>\n",
       "<table border=\"1\" class=\"dataframe\">\n",
       "  <thead>\n",
       "    <tr style=\"text-align: right;\">\n",
       "      <th></th>\n",
       "      <th>user_id</th>\n",
       "      <th>name</th>\n",
       "      <th>city</th>\n",
       "      <th>street</th>\n",
       "    </tr>\n",
       "  </thead>\n",
       "  <tbody>\n",
       "    <tr>\n",
       "      <th>0</th>\n",
       "      <td>102</td>\n",
       "      <td>Albert Bruzda</td>\n",
       "      <td>Konin</td>\n",
       "      <td>plac Lwowska 683</td>\n",
       "    </tr>\n",
       "    <tr>\n",
       "      <th>1</th>\n",
       "      <td>103</td>\n",
       "      <td>Jędrzej Malesza</td>\n",
       "      <td>Mielec</td>\n",
       "      <td>plac Dąbrowskiego 81</td>\n",
       "    </tr>\n",
       "    <tr>\n",
       "      <th>2</th>\n",
       "      <td>104</td>\n",
       "      <td>Tymon Roszkiewicz</td>\n",
       "      <td>Mielec</td>\n",
       "      <td>pl. Matejki 942</td>\n",
       "    </tr>\n",
       "    <tr>\n",
       "      <th>3</th>\n",
       "      <td>105</td>\n",
       "      <td>Antoni Musiolik</td>\n",
       "      <td>Szczecin</td>\n",
       "      <td>ulica Jana III Sobieskiego 197</td>\n",
       "    </tr>\n",
       "    <tr>\n",
       "      <th>4</th>\n",
       "      <td>106</td>\n",
       "      <td>Rafał Gęgotek</td>\n",
       "      <td>Radom</td>\n",
       "      <td>ul. Gołębia 364</td>\n",
       "    </tr>\n",
       "    <tr>\n",
       "      <th>...</th>\n",
       "      <td>...</td>\n",
       "      <td>...</td>\n",
       "      <td>...</td>\n",
       "      <td>...</td>\n",
       "    </tr>\n",
       "    <tr>\n",
       "      <th>195</th>\n",
       "      <td>297</td>\n",
       "      <td>Anita Wabik</td>\n",
       "      <td>Warszawa</td>\n",
       "      <td>pl. Wspólna 421</td>\n",
       "    </tr>\n",
       "    <tr>\n",
       "      <th>196</th>\n",
       "      <td>298</td>\n",
       "      <td>Oliwier Szajda</td>\n",
       "      <td>Mielec</td>\n",
       "      <td>aleja Rejtana 36</td>\n",
       "    </tr>\n",
       "    <tr>\n",
       "      <th>197</th>\n",
       "      <td>299</td>\n",
       "      <td>Hubert Gogol</td>\n",
       "      <td>Konin</td>\n",
       "      <td>plac Diamentowa 328</td>\n",
       "    </tr>\n",
       "    <tr>\n",
       "      <th>198</th>\n",
       "      <td>300</td>\n",
       "      <td>Lidia Dobroń</td>\n",
       "      <td>Szczecin</td>\n",
       "      <td>al. Prusa 417</td>\n",
       "    </tr>\n",
       "    <tr>\n",
       "      <th>199</th>\n",
       "      <td>301</td>\n",
       "      <td>Urszula Wiraszka</td>\n",
       "      <td>Konin</td>\n",
       "      <td>pl. Dworska 07/32</td>\n",
       "    </tr>\n",
       "  </tbody>\n",
       "</table>\n",
       "<p>200 rows × 4 columns</p>\n",
       "</div>"
      ],
      "text/plain": [
       "     user_id               name      city                          street\n",
       "0        102      Albert Bruzda     Konin                plac Lwowska 683\n",
       "1        103    Jędrzej Malesza    Mielec            plac Dąbrowskiego 81\n",
       "2        104  Tymon Roszkiewicz    Mielec                 pl. Matejki 942\n",
       "3        105    Antoni Musiolik  Szczecin  ulica Jana III Sobieskiego 197\n",
       "4        106      Rafał Gęgotek     Radom                 ul. Gołębia 364\n",
       "..       ...                ...       ...                             ...\n",
       "195      297        Anita Wabik  Warszawa                 pl. Wspólna 421\n",
       "196      298     Oliwier Szajda    Mielec                aleja Rejtana 36\n",
       "197      299       Hubert Gogol     Konin             plac Diamentowa 328\n",
       "198      300       Lidia Dobroń  Szczecin                   al. Prusa 417\n",
       "199      301   Urszula Wiraszka     Konin               pl. Dworska 07/32\n",
       "\n",
       "[200 rows x 4 columns]"
      ]
     },
     "execution_count": 42,
     "metadata": {},
     "output_type": "execute_result"
    }
   ],
   "source": [
    "users"
   ]
  },
  {
   "cell_type": "code",
   "execution_count": 43,
   "id": "eligible-interface",
   "metadata": {},
   "outputs": [
    {
     "name": "stdout",
     "output_type": "stream",
     "text": [
      "<class 'pandas.core.frame.DataFrame'>\n",
      "RangeIndex: 200 entries, 0 to 199\n",
      "Data columns (total 4 columns):\n",
      " #   Column   Non-Null Count  Dtype \n",
      "---  ------   --------------  ----- \n",
      " 0   user_id  200 non-null    int64 \n",
      " 1   name     200 non-null    object\n",
      " 2   city     200 non-null    object\n",
      " 3   street   200 non-null    object\n",
      "dtypes: int64(1), object(3)\n",
      "memory usage: 6.4+ KB\n"
     ]
    }
   ],
   "source": [
    "users.info()"
   ]
  },
  {
   "cell_type": "markdown",
   "id": "freelance-national",
   "metadata": {},
   "source": [
    "Kolumna `user_id` jest kluczem głównym. Kolumna `name` zawiera imię, druge imię, nazwisko. Kolumna `city` jest miastem. Kolumna `street` jest ulicą oraz numerem domu."
   ]
  },
  {
   "cell_type": "code",
   "execution_count": 44,
   "id": "correct-frequency",
   "metadata": {},
   "outputs": [
    {
     "data": {
      "text/plain": [
       "array([2, 3], dtype=int64)"
      ]
     },
     "execution_count": 44,
     "metadata": {},
     "output_type": "execute_result"
    }
   ],
   "source": [
    "users[\"name\"].apply(lambda x: len(x.split(\" \"))).unique()"
   ]
  },
  {
   "cell_type": "code",
   "execution_count": 45,
   "id": "atlantic-pressing",
   "metadata": {},
   "outputs": [
    {
     "data": {
      "text/plain": [
       "['Gdynia',\n",
       " 'Konin',\n",
       " 'Kutno',\n",
       " 'Mielec',\n",
       " 'Police',\n",
       " 'Radom',\n",
       " 'Szczecin',\n",
       " 'Warszawa']"
      ]
     },
     "execution_count": 45,
     "metadata": {},
     "output_type": "execute_result"
    }
   ],
   "source": [
    "sorted(users[\"city\"].unique())"
   ]
  },
  {
   "cell_type": "code",
   "execution_count": 46,
   "id": "roman-excellence",
   "metadata": {},
   "outputs": [
    {
     "data": {
      "text/plain": [
       "[3, 4, 5]"
      ]
     },
     "execution_count": 46,
     "metadata": {},
     "output_type": "execute_result"
    }
   ],
   "source": [
    "sorted(users[\"street\"].apply(lambda x: len(x.split(\" \"))).unique())"
   ]
  },
  {
   "cell_type": "code",
   "execution_count": 47,
   "id": "canadian-writer",
   "metadata": {},
   "outputs": [
    {
     "data": {
      "text/plain": [
       "['al.', 'aleja', 'pl.', 'plac', 'ul.', 'ulica']"
      ]
     },
     "execution_count": 47,
     "metadata": {},
     "output_type": "execute_result"
    }
   ],
   "source": [
    "sorted(users[\"street\"].apply(lambda x: x.split(\" \")[0]).unique())"
   ]
  },
  {
   "cell_type": "markdown",
   "id": "drawn-expert",
   "metadata": {},
   "source": [
    "# Złączenie tabel"
   ]
  },
  {
   "cell_type": "code",
   "execution_count": 48,
   "id": "novel-montana",
   "metadata": {},
   "outputs": [
    {
     "data": {
      "text/html": [
       "<div>\n",
       "<style scoped>\n",
       "    .dataframe tbody tr th:only-of-type {\n",
       "        vertical-align: middle;\n",
       "    }\n",
       "\n",
       "    .dataframe tbody tr th {\n",
       "        vertical-align: top;\n",
       "    }\n",
       "\n",
       "    .dataframe thead th {\n",
       "        text-align: right;\n",
       "    }\n",
       "</style>\n",
       "<table border=\"1\" class=\"dataframe\">\n",
       "  <thead>\n",
       "    <tr style=\"text-align: right;\">\n",
       "      <th></th>\n",
       "      <th>session_id</th>\n",
       "      <th>timestamp</th>\n",
       "      <th>user_id</th>\n",
       "      <th>product_id</th>\n",
       "      <th>event_type</th>\n",
       "      <th>offered_discount</th>\n",
       "      <th>purchase_id</th>\n",
       "      <th>name</th>\n",
       "      <th>city</th>\n",
       "      <th>street</th>\n",
       "      <th>product_name</th>\n",
       "      <th>category_path</th>\n",
       "      <th>price</th>\n",
       "      <th>purchase_timestamp</th>\n",
       "      <th>delivery_timestamp</th>\n",
       "      <th>delivery_company</th>\n",
       "      <th>hours</th>\n",
       "    </tr>\n",
       "  </thead>\n",
       "  <tbody>\n",
       "    <tr>\n",
       "      <th>0</th>\n",
       "      <td>100001.0</td>\n",
       "      <td>2021-01-24 20:00:43</td>\n",
       "      <td>102.0</td>\n",
       "      <td>1001.0</td>\n",
       "      <td>VIEW_PRODUCT</td>\n",
       "      <td>0.0</td>\n",
       "      <td>NaN</td>\n",
       "      <td>Albert Bruzda</td>\n",
       "      <td>Konin</td>\n",
       "      <td>plac Lwowska 683</td>\n",
       "      <td>Telefon Siemens Gigaset DA310</td>\n",
       "      <td>Telefony i akcesoria;Telefony stacjonarne</td>\n",
       "      <td>58.97</td>\n",
       "      <td>NaT</td>\n",
       "      <td>NaT</td>\n",
       "      <td>NaN</td>\n",
       "      <td>NaN</td>\n",
       "    </tr>\n",
       "    <tr>\n",
       "      <th>1</th>\n",
       "      <td>100013.0</td>\n",
       "      <td>2021-01-28 05:09:39</td>\n",
       "      <td>102.0</td>\n",
       "      <td>1001.0</td>\n",
       "      <td>VIEW_PRODUCT</td>\n",
       "      <td>0.0</td>\n",
       "      <td>NaN</td>\n",
       "      <td>Albert Bruzda</td>\n",
       "      <td>Konin</td>\n",
       "      <td>plac Lwowska 683</td>\n",
       "      <td>Telefon Siemens Gigaset DA310</td>\n",
       "      <td>Telefony i akcesoria;Telefony stacjonarne</td>\n",
       "      <td>58.97</td>\n",
       "      <td>NaT</td>\n",
       "      <td>NaT</td>\n",
       "      <td>NaN</td>\n",
       "      <td>NaN</td>\n",
       "    </tr>\n",
       "    <tr>\n",
       "      <th>2</th>\n",
       "      <td>100015.0</td>\n",
       "      <td>2021-01-19 12:50:49</td>\n",
       "      <td>102.0</td>\n",
       "      <td>1001.0</td>\n",
       "      <td>VIEW_PRODUCT</td>\n",
       "      <td>0.0</td>\n",
       "      <td>NaN</td>\n",
       "      <td>Albert Bruzda</td>\n",
       "      <td>Konin</td>\n",
       "      <td>plac Lwowska 683</td>\n",
       "      <td>Telefon Siemens Gigaset DA310</td>\n",
       "      <td>Telefony i akcesoria;Telefony stacjonarne</td>\n",
       "      <td>58.97</td>\n",
       "      <td>NaT</td>\n",
       "      <td>NaT</td>\n",
       "      <td>NaN</td>\n",
       "      <td>NaN</td>\n",
       "    </tr>\n",
       "    <tr>\n",
       "      <th>3</th>\n",
       "      <td>100036.0</td>\n",
       "      <td>2021-03-09 23:01:57</td>\n",
       "      <td>102.0</td>\n",
       "      <td>1001.0</td>\n",
       "      <td>VIEW_PRODUCT</td>\n",
       "      <td>15.0</td>\n",
       "      <td>NaN</td>\n",
       "      <td>Albert Bruzda</td>\n",
       "      <td>Konin</td>\n",
       "      <td>plac Lwowska 683</td>\n",
       "      <td>Telefon Siemens Gigaset DA310</td>\n",
       "      <td>Telefony i akcesoria;Telefony stacjonarne</td>\n",
       "      <td>58.97</td>\n",
       "      <td>NaT</td>\n",
       "      <td>NaT</td>\n",
       "      <td>NaN</td>\n",
       "      <td>NaN</td>\n",
       "    </tr>\n",
       "    <tr>\n",
       "      <th>4</th>\n",
       "      <td>100064.0</td>\n",
       "      <td>2021-01-06 23:18:35</td>\n",
       "      <td>102.0</td>\n",
       "      <td>1001.0</td>\n",
       "      <td>VIEW_PRODUCT</td>\n",
       "      <td>0.0</td>\n",
       "      <td>NaN</td>\n",
       "      <td>Albert Bruzda</td>\n",
       "      <td>Konin</td>\n",
       "      <td>plac Lwowska 683</td>\n",
       "      <td>Telefon Siemens Gigaset DA310</td>\n",
       "      <td>Telefony i akcesoria;Telefony stacjonarne</td>\n",
       "      <td>58.97</td>\n",
       "      <td>NaT</td>\n",
       "      <td>NaT</td>\n",
       "      <td>NaN</td>\n",
       "      <td>NaN</td>\n",
       "    </tr>\n",
       "    <tr>\n",
       "      <th>...</th>\n",
       "      <td>...</td>\n",
       "      <td>...</td>\n",
       "      <td>...</td>\n",
       "      <td>...</td>\n",
       "      <td>...</td>\n",
       "      <td>...</td>\n",
       "      <td>...</td>\n",
       "      <td>...</td>\n",
       "      <td>...</td>\n",
       "      <td>...</td>\n",
       "      <td>...</td>\n",
       "      <td>...</td>\n",
       "      <td>...</td>\n",
       "      <td>...</td>\n",
       "      <td>...</td>\n",
       "      <td>...</td>\n",
       "      <td>...</td>\n",
       "    </tr>\n",
       "    <tr>\n",
       "      <th>37918</th>\n",
       "      <td>108891.0</td>\n",
       "      <td>2021-02-16 23:16:23</td>\n",
       "      <td>282.0</td>\n",
       "      <td>1056.0</td>\n",
       "      <td>BUY_PRODUCT</td>\n",
       "      <td>5.0</td>\n",
       "      <td>26215.0</td>\n",
       "      <td>Patryk Myszor</td>\n",
       "      <td>Gdynia</td>\n",
       "      <td>aleja Skośna 62</td>\n",
       "      <td>Call of Duty Black Ops (PC)</td>\n",
       "      <td>Gry i konsole;Gry komputerowe</td>\n",
       "      <td>29.99</td>\n",
       "      <td>2021-02-16 23:16:23</td>\n",
       "      <td>2021-02-16 12:41:07.157024</td>\n",
       "      <td>516.0</td>\n",
       "      <td>-10.587734</td>\n",
       "    </tr>\n",
       "    <tr>\n",
       "      <th>37919</th>\n",
       "      <td>109068.0</td>\n",
       "      <td>2021-01-02 01:57:34</td>\n",
       "      <td>285.0</td>\n",
       "      <td>1056.0</td>\n",
       "      <td>BUY_PRODUCT</td>\n",
       "      <td>0.0</td>\n",
       "      <td>26333.0</td>\n",
       "      <td>Nicole Kwapień</td>\n",
       "      <td>Szczecin</td>\n",
       "      <td>ulica Łąkowa 270</td>\n",
       "      <td>Call of Duty Black Ops (PC)</td>\n",
       "      <td>Gry i konsole;Gry komputerowe</td>\n",
       "      <td>29.99</td>\n",
       "      <td>2021-01-02 01:57:34</td>\n",
       "      <td>2020-12-31 08:47:14.237715</td>\n",
       "      <td>620.0</td>\n",
       "      <td>-41.172156</td>\n",
       "    </tr>\n",
       "    <tr>\n",
       "      <th>37920</th>\n",
       "      <td>109105.0</td>\n",
       "      <td>2021-01-06 16:03:32</td>\n",
       "      <td>286.0</td>\n",
       "      <td>1056.0</td>\n",
       "      <td>BUY_PRODUCT</td>\n",
       "      <td>0.0</td>\n",
       "      <td>26356.0</td>\n",
       "      <td>Tomasz Nagel</td>\n",
       "      <td>Radom</td>\n",
       "      <td>al. Powstańców Śląskich 31/08</td>\n",
       "      <td>Call of Duty Black Ops (PC)</td>\n",
       "      <td>Gry i konsole;Gry komputerowe</td>\n",
       "      <td>29.99</td>\n",
       "      <td>2021-01-06 16:03:32</td>\n",
       "      <td>2021-01-05 13:37:37.192347</td>\n",
       "      <td>620.0</td>\n",
       "      <td>-26.431891</td>\n",
       "    </tr>\n",
       "    <tr>\n",
       "      <th>37921</th>\n",
       "      <td>109384.0</td>\n",
       "      <td>2021-02-16 15:43:12</td>\n",
       "      <td>292.0</td>\n",
       "      <td>1056.0</td>\n",
       "      <td>BUY_PRODUCT</td>\n",
       "      <td>10.0</td>\n",
       "      <td>26579.0</td>\n",
       "      <td>Julita Buza</td>\n",
       "      <td>Gdynia</td>\n",
       "      <td>al. Szmaragdowa 446</td>\n",
       "      <td>Call of Duty Black Ops (PC)</td>\n",
       "      <td>Gry i konsole;Gry komputerowe</td>\n",
       "      <td>29.99</td>\n",
       "      <td>2021-02-16 15:43:12</td>\n",
       "      <td>2021-02-20 17:42:55.693973</td>\n",
       "      <td>360.0</td>\n",
       "      <td>97.995471</td>\n",
       "    </tr>\n",
       "    <tr>\n",
       "      <th>37922</th>\n",
       "      <td>109667.0</td>\n",
       "      <td>2021-01-19 16:03:55</td>\n",
       "      <td>298.0</td>\n",
       "      <td>1056.0</td>\n",
       "      <td>BUY_PRODUCT</td>\n",
       "      <td>10.0</td>\n",
       "      <td>26777.0</td>\n",
       "      <td>Oliwier Szajda</td>\n",
       "      <td>Mielec</td>\n",
       "      <td>aleja Rejtana 36</td>\n",
       "      <td>Call of Duty Black Ops (PC)</td>\n",
       "      <td>Gry i konsole;Gry komputerowe</td>\n",
       "      <td>29.99</td>\n",
       "      <td>2021-01-19 16:03:55</td>\n",
       "      <td>2021-01-21 13:35:12.905125</td>\n",
       "      <td>620.0</td>\n",
       "      <td>45.521640</td>\n",
       "    </tr>\n",
       "  </tbody>\n",
       "</table>\n",
       "<p>37923 rows × 17 columns</p>\n",
       "</div>"
      ],
      "text/plain": [
       "       session_id           timestamp  user_id  product_id    event_type  \\\n",
       "0        100001.0 2021-01-24 20:00:43    102.0      1001.0  VIEW_PRODUCT   \n",
       "1        100013.0 2021-01-28 05:09:39    102.0      1001.0  VIEW_PRODUCT   \n",
       "2        100015.0 2021-01-19 12:50:49    102.0      1001.0  VIEW_PRODUCT   \n",
       "3        100036.0 2021-03-09 23:01:57    102.0      1001.0  VIEW_PRODUCT   \n",
       "4        100064.0 2021-01-06 23:18:35    102.0      1001.0  VIEW_PRODUCT   \n",
       "...           ...                 ...      ...         ...           ...   \n",
       "37918    108891.0 2021-02-16 23:16:23    282.0      1056.0   BUY_PRODUCT   \n",
       "37919    109068.0 2021-01-02 01:57:34    285.0      1056.0   BUY_PRODUCT   \n",
       "37920    109105.0 2021-01-06 16:03:32    286.0      1056.0   BUY_PRODUCT   \n",
       "37921    109384.0 2021-02-16 15:43:12    292.0      1056.0   BUY_PRODUCT   \n",
       "37922    109667.0 2021-01-19 16:03:55    298.0      1056.0   BUY_PRODUCT   \n",
       "\n",
       "       offered_discount  purchase_id            name      city  \\\n",
       "0                   0.0          NaN   Albert Bruzda     Konin   \n",
       "1                   0.0          NaN   Albert Bruzda     Konin   \n",
       "2                   0.0          NaN   Albert Bruzda     Konin   \n",
       "3                  15.0          NaN   Albert Bruzda     Konin   \n",
       "4                   0.0          NaN   Albert Bruzda     Konin   \n",
       "...                 ...          ...             ...       ...   \n",
       "37918               5.0      26215.0   Patryk Myszor    Gdynia   \n",
       "37919               0.0      26333.0  Nicole Kwapień  Szczecin   \n",
       "37920               0.0      26356.0    Tomasz Nagel     Radom   \n",
       "37921              10.0      26579.0     Julita Buza    Gdynia   \n",
       "37922              10.0      26777.0  Oliwier Szajda    Mielec   \n",
       "\n",
       "                              street                   product_name  \\\n",
       "0                   plac Lwowska 683  Telefon Siemens Gigaset DA310   \n",
       "1                   plac Lwowska 683  Telefon Siemens Gigaset DA310   \n",
       "2                   plac Lwowska 683  Telefon Siemens Gigaset DA310   \n",
       "3                   plac Lwowska 683  Telefon Siemens Gigaset DA310   \n",
       "4                   plac Lwowska 683  Telefon Siemens Gigaset DA310   \n",
       "...                              ...                            ...   \n",
       "37918                aleja Skośna 62    Call of Duty Black Ops (PC)   \n",
       "37919               ulica Łąkowa 270    Call of Duty Black Ops (PC)   \n",
       "37920  al. Powstańców Śląskich 31/08    Call of Duty Black Ops (PC)   \n",
       "37921            al. Szmaragdowa 446    Call of Duty Black Ops (PC)   \n",
       "37922               aleja Rejtana 36    Call of Duty Black Ops (PC)   \n",
       "\n",
       "                                   category_path  price  purchase_timestamp  \\\n",
       "0      Telefony i akcesoria;Telefony stacjonarne  58.97                 NaT   \n",
       "1      Telefony i akcesoria;Telefony stacjonarne  58.97                 NaT   \n",
       "2      Telefony i akcesoria;Telefony stacjonarne  58.97                 NaT   \n",
       "3      Telefony i akcesoria;Telefony stacjonarne  58.97                 NaT   \n",
       "4      Telefony i akcesoria;Telefony stacjonarne  58.97                 NaT   \n",
       "...                                          ...    ...                 ...   \n",
       "37918              Gry i konsole;Gry komputerowe  29.99 2021-02-16 23:16:23   \n",
       "37919              Gry i konsole;Gry komputerowe  29.99 2021-01-02 01:57:34   \n",
       "37920              Gry i konsole;Gry komputerowe  29.99 2021-01-06 16:03:32   \n",
       "37921              Gry i konsole;Gry komputerowe  29.99 2021-02-16 15:43:12   \n",
       "37922              Gry i konsole;Gry komputerowe  29.99 2021-01-19 16:03:55   \n",
       "\n",
       "              delivery_timestamp  delivery_company      hours  \n",
       "0                            NaT               NaN        NaN  \n",
       "1                            NaT               NaN        NaN  \n",
       "2                            NaT               NaN        NaN  \n",
       "3                            NaT               NaN        NaN  \n",
       "4                            NaT               NaN        NaN  \n",
       "...                          ...               ...        ...  \n",
       "37918 2021-02-16 12:41:07.157024             516.0 -10.587734  \n",
       "37919 2020-12-31 08:47:14.237715             620.0 -41.172156  \n",
       "37920 2021-01-05 13:37:37.192347             620.0 -26.431891  \n",
       "37921 2021-02-20 17:42:55.693973             360.0  97.995471  \n",
       "37922 2021-01-21 13:35:12.905125             620.0  45.521640  \n",
       "\n",
       "[37923 rows x 17 columns]"
      ]
     },
     "execution_count": 48,
     "metadata": {},
     "output_type": "execute_result"
    }
   ],
   "source": [
    "data = sessions.merge(users, on=\"user_id\", how=\"outer\").merge(products, on=\"product_id\", how=\"outer\").merge(deliveries, on=\"purchase_id\", how=\"outer\")\n",
    "data"
   ]
  },
  {
   "cell_type": "code",
   "execution_count": 49,
   "id": "cleared-headquarters",
   "metadata": {},
   "outputs": [
    {
     "name": "stdout",
     "output_type": "stream",
     "text": [
      "<class 'pandas.core.frame.DataFrame'>\n",
      "Int64Index: 37923 entries, 0 to 37922\n",
      "Data columns (total 17 columns):\n",
      " #   Column              Non-Null Count  Dtype         \n",
      "---  ------              --------------  -----         \n",
      " 0   session_id          37682 non-null  float64       \n",
      " 1   timestamp           37682 non-null  datetime64[ns]\n",
      " 2   user_id             35794 non-null  float64       \n",
      " 3   product_id          36038 non-null  float64       \n",
      " 4   event_type          37682 non-null  object        \n",
      " 5   offered_discount    37682 non-null  float64       \n",
      " 6   purchase_id         6890 non-null   float64       \n",
      " 7   name                35794 non-null  object        \n",
      " 8   city                35794 non-null  object        \n",
      " 9   street              35794 non-null  object        \n",
      " 10  product_name        36038 non-null  object        \n",
      " 11  category_path       36038 non-null  object        \n",
      " 12  price               36038 non-null  float64       \n",
      " 13  purchase_timestamp  6890 non-null   datetime64[ns]\n",
      " 14  delivery_timestamp  6568 non-null   datetime64[ns]\n",
      " 15  delivery_company    6538 non-null   float64       \n",
      " 16  hours               6568 non-null   float64       \n",
      "dtypes: datetime64[ns](3), float64(8), object(6)\n",
      "memory usage: 5.2+ MB\n"
     ]
    }
   ],
   "source": [
    "data.info()"
   ]
  },
  {
   "cell_type": "code",
   "execution_count": 50,
   "id": "relevant-strap",
   "metadata": {},
   "outputs": [
    {
     "data": {
      "text/html": [
       "<div>\n",
       "<style scoped>\n",
       "    .dataframe tbody tr th:only-of-type {\n",
       "        vertical-align: middle;\n",
       "    }\n",
       "\n",
       "    .dataframe tbody tr th {\n",
       "        vertical-align: top;\n",
       "    }\n",
       "\n",
       "    .dataframe thead th {\n",
       "        text-align: right;\n",
       "    }\n",
       "</style>\n",
       "<table border=\"1\" class=\"dataframe\">\n",
       "  <thead>\n",
       "    <tr style=\"text-align: right;\">\n",
       "      <th></th>\n",
       "      <th>session_id</th>\n",
       "      <th>timestamp</th>\n",
       "      <th>user_id</th>\n",
       "      <th>product_id</th>\n",
       "      <th>event_type</th>\n",
       "      <th>offered_discount</th>\n",
       "      <th>purchase_id</th>\n",
       "      <th>name</th>\n",
       "      <th>city</th>\n",
       "      <th>street</th>\n",
       "      <th>product_name</th>\n",
       "      <th>category_path</th>\n",
       "      <th>price</th>\n",
       "      <th>purchase_timestamp</th>\n",
       "      <th>delivery_timestamp</th>\n",
       "      <th>delivery_company</th>\n",
       "      <th>hours</th>\n",
       "    </tr>\n",
       "  </thead>\n",
       "  <tbody>\n",
       "    <tr>\n",
       "      <th>31034</th>\n",
       "      <td>100013.0</td>\n",
       "      <td>2021-01-28 05:10:38</td>\n",
       "      <td>102.0</td>\n",
       "      <td>1001.0</td>\n",
       "      <td>BUY_PRODUCT</td>\n",
       "      <td>0.0</td>\n",
       "      <td>20010.0</td>\n",
       "      <td>Albert Bruzda</td>\n",
       "      <td>Konin</td>\n",
       "      <td>plac Lwowska 683</td>\n",
       "      <td>Telefon Siemens Gigaset DA310</td>\n",
       "      <td>Telefony i akcesoria;Telefony stacjonarne</td>\n",
       "      <td>58.97</td>\n",
       "      <td>2021-01-28 05:10:38</td>\n",
       "      <td>2021-01-27 01:53:40.728429</td>\n",
       "      <td>620.0</td>\n",
       "      <td>-27.282575</td>\n",
       "    </tr>\n",
       "    <tr>\n",
       "      <th>31036</th>\n",
       "      <td>100036.0</td>\n",
       "      <td>2021-03-09 23:03:20</td>\n",
       "      <td>102.0</td>\n",
       "      <td>1001.0</td>\n",
       "      <td>BUY_PRODUCT</td>\n",
       "      <td>15.0</td>\n",
       "      <td>20027.0</td>\n",
       "      <td>Albert Bruzda</td>\n",
       "      <td>Konin</td>\n",
       "      <td>plac Lwowska 683</td>\n",
       "      <td>Telefon Siemens Gigaset DA310</td>\n",
       "      <td>Telefony i akcesoria;Telefony stacjonarne</td>\n",
       "      <td>58.97</td>\n",
       "      <td>2021-03-09 23:03:20</td>\n",
       "      <td>2021-03-06 23:08:33.548176</td>\n",
       "      <td>516.0</td>\n",
       "      <td>-71.912903</td>\n",
       "    </tr>\n",
       "    <tr>\n",
       "      <th>31037</th>\n",
       "      <td>100046.0</td>\n",
       "      <td>2021-01-10 15:52:16</td>\n",
       "      <td>102.0</td>\n",
       "      <td>1001.0</td>\n",
       "      <td>BUY_PRODUCT</td>\n",
       "      <td>0.0</td>\n",
       "      <td>20035.0</td>\n",
       "      <td>Albert Bruzda</td>\n",
       "      <td>Konin</td>\n",
       "      <td>plac Lwowska 683</td>\n",
       "      <td>Telefon Siemens Gigaset DA310</td>\n",
       "      <td>Telefony i akcesoria;Telefony stacjonarne</td>\n",
       "      <td>58.97</td>\n",
       "      <td>2021-01-10 15:52:16</td>\n",
       "      <td>2021-01-09 16:00:16.211341</td>\n",
       "      <td>360.0</td>\n",
       "      <td>-23.866608</td>\n",
       "    </tr>\n",
       "    <tr>\n",
       "      <th>31044</th>\n",
       "      <td>103368.0</td>\n",
       "      <td>2021-02-17 18:50:54</td>\n",
       "      <td>NaN</td>\n",
       "      <td>1001.0</td>\n",
       "      <td>BUY_PRODUCT</td>\n",
       "      <td>0.0</td>\n",
       "      <td>22340.0</td>\n",
       "      <td>NaN</td>\n",
       "      <td>NaN</td>\n",
       "      <td>NaN</td>\n",
       "      <td>Telefon Siemens Gigaset DA310</td>\n",
       "      <td>Telefony i akcesoria;Telefony stacjonarne</td>\n",
       "      <td>58.97</td>\n",
       "      <td>2021-02-17 18:50:54</td>\n",
       "      <td>2021-02-16 15:43:51.476820</td>\n",
       "      <td>620.0</td>\n",
       "      <td>-27.117368</td>\n",
       "    </tr>\n",
       "    <tr>\n",
       "      <th>31048</th>\n",
       "      <td>105874.0</td>\n",
       "      <td>2021-02-08 14:21:54</td>\n",
       "      <td>NaN</td>\n",
       "      <td>1001.0</td>\n",
       "      <td>BUY_PRODUCT</td>\n",
       "      <td>20.0</td>\n",
       "      <td>24100.0</td>\n",
       "      <td>NaN</td>\n",
       "      <td>NaN</td>\n",
       "      <td>NaN</td>\n",
       "      <td>Telefon Siemens Gigaset DA310</td>\n",
       "      <td>Telefony i akcesoria;Telefony stacjonarne</td>\n",
       "      <td>58.97</td>\n",
       "      <td>2021-02-08 14:21:54</td>\n",
       "      <td>2021-02-06 15:17:55.338336</td>\n",
       "      <td>516.0</td>\n",
       "      <td>-47.066295</td>\n",
       "    </tr>\n",
       "    <tr>\n",
       "      <th>...</th>\n",
       "      <td>...</td>\n",
       "      <td>...</td>\n",
       "      <td>...</td>\n",
       "      <td>...</td>\n",
       "      <td>...</td>\n",
       "      <td>...</td>\n",
       "      <td>...</td>\n",
       "      <td>...</td>\n",
       "      <td>...</td>\n",
       "      <td>...</td>\n",
       "      <td>...</td>\n",
       "      <td>...</td>\n",
       "      <td>...</td>\n",
       "      <td>...</td>\n",
       "      <td>...</td>\n",
       "      <td>...</td>\n",
       "      <td>...</td>\n",
       "    </tr>\n",
       "    <tr>\n",
       "      <th>37916</th>\n",
       "      <td>108769.0</td>\n",
       "      <td>2021-02-22 11:10:27</td>\n",
       "      <td>280.0</td>\n",
       "      <td>1056.0</td>\n",
       "      <td>BUY_PRODUCT</td>\n",
       "      <td>20.0</td>\n",
       "      <td>26131.0</td>\n",
       "      <td>Ida Pasiak</td>\n",
       "      <td>Gdynia</td>\n",
       "      <td>plac Browarna 59</td>\n",
       "      <td>Call of Duty Black Ops (PC)</td>\n",
       "      <td>Gry i konsole;Gry komputerowe</td>\n",
       "      <td>29.99</td>\n",
       "      <td>2021-02-22 11:10:27</td>\n",
       "      <td>2021-02-22 07:32:55.391913</td>\n",
       "      <td>516.0</td>\n",
       "      <td>-3.625447</td>\n",
       "    </tr>\n",
       "    <tr>\n",
       "      <th>37917</th>\n",
       "      <td>108870.0</td>\n",
       "      <td>2021-02-27 02:03:10</td>\n",
       "      <td>282.0</td>\n",
       "      <td>1056.0</td>\n",
       "      <td>BUY_PRODUCT</td>\n",
       "      <td>0.0</td>\n",
       "      <td>26199.0</td>\n",
       "      <td>Patryk Myszor</td>\n",
       "      <td>Gdynia</td>\n",
       "      <td>aleja Skośna 62</td>\n",
       "      <td>Call of Duty Black Ops (PC)</td>\n",
       "      <td>Gry i konsole;Gry komputerowe</td>\n",
       "      <td>29.99</td>\n",
       "      <td>2021-02-27 02:03:10</td>\n",
       "      <td>2021-02-26 02:40:16.514009</td>\n",
       "      <td>NaN</td>\n",
       "      <td>-23.381524</td>\n",
       "    </tr>\n",
       "    <tr>\n",
       "      <th>37918</th>\n",
       "      <td>108891.0</td>\n",
       "      <td>2021-02-16 23:16:23</td>\n",
       "      <td>282.0</td>\n",
       "      <td>1056.0</td>\n",
       "      <td>BUY_PRODUCT</td>\n",
       "      <td>5.0</td>\n",
       "      <td>26215.0</td>\n",
       "      <td>Patryk Myszor</td>\n",
       "      <td>Gdynia</td>\n",
       "      <td>aleja Skośna 62</td>\n",
       "      <td>Call of Duty Black Ops (PC)</td>\n",
       "      <td>Gry i konsole;Gry komputerowe</td>\n",
       "      <td>29.99</td>\n",
       "      <td>2021-02-16 23:16:23</td>\n",
       "      <td>2021-02-16 12:41:07.157024</td>\n",
       "      <td>516.0</td>\n",
       "      <td>-10.587734</td>\n",
       "    </tr>\n",
       "    <tr>\n",
       "      <th>37919</th>\n",
       "      <td>109068.0</td>\n",
       "      <td>2021-01-02 01:57:34</td>\n",
       "      <td>285.0</td>\n",
       "      <td>1056.0</td>\n",
       "      <td>BUY_PRODUCT</td>\n",
       "      <td>0.0</td>\n",
       "      <td>26333.0</td>\n",
       "      <td>Nicole Kwapień</td>\n",
       "      <td>Szczecin</td>\n",
       "      <td>ulica Łąkowa 270</td>\n",
       "      <td>Call of Duty Black Ops (PC)</td>\n",
       "      <td>Gry i konsole;Gry komputerowe</td>\n",
       "      <td>29.99</td>\n",
       "      <td>2021-01-02 01:57:34</td>\n",
       "      <td>2020-12-31 08:47:14.237715</td>\n",
       "      <td>620.0</td>\n",
       "      <td>-41.172156</td>\n",
       "    </tr>\n",
       "    <tr>\n",
       "      <th>37920</th>\n",
       "      <td>109105.0</td>\n",
       "      <td>2021-01-06 16:03:32</td>\n",
       "      <td>286.0</td>\n",
       "      <td>1056.0</td>\n",
       "      <td>BUY_PRODUCT</td>\n",
       "      <td>0.0</td>\n",
       "      <td>26356.0</td>\n",
       "      <td>Tomasz Nagel</td>\n",
       "      <td>Radom</td>\n",
       "      <td>al. Powstańców Śląskich 31/08</td>\n",
       "      <td>Call of Duty Black Ops (PC)</td>\n",
       "      <td>Gry i konsole;Gry komputerowe</td>\n",
       "      <td>29.99</td>\n",
       "      <td>2021-01-06 16:03:32</td>\n",
       "      <td>2021-01-05 13:37:37.192347</td>\n",
       "      <td>620.0</td>\n",
       "      <td>-26.431891</td>\n",
       "    </tr>\n",
       "  </tbody>\n",
       "</table>\n",
       "<p>2796 rows × 17 columns</p>\n",
       "</div>"
      ],
      "text/plain": [
       "       session_id           timestamp  user_id  product_id   event_type  \\\n",
       "31034    100013.0 2021-01-28 05:10:38    102.0      1001.0  BUY_PRODUCT   \n",
       "31036    100036.0 2021-03-09 23:03:20    102.0      1001.0  BUY_PRODUCT   \n",
       "31037    100046.0 2021-01-10 15:52:16    102.0      1001.0  BUY_PRODUCT   \n",
       "31044    103368.0 2021-02-17 18:50:54      NaN      1001.0  BUY_PRODUCT   \n",
       "31048    105874.0 2021-02-08 14:21:54      NaN      1001.0  BUY_PRODUCT   \n",
       "...           ...                 ...      ...         ...          ...   \n",
       "37916    108769.0 2021-02-22 11:10:27    280.0      1056.0  BUY_PRODUCT   \n",
       "37917    108870.0 2021-02-27 02:03:10    282.0      1056.0  BUY_PRODUCT   \n",
       "37918    108891.0 2021-02-16 23:16:23    282.0      1056.0  BUY_PRODUCT   \n",
       "37919    109068.0 2021-01-02 01:57:34    285.0      1056.0  BUY_PRODUCT   \n",
       "37920    109105.0 2021-01-06 16:03:32    286.0      1056.0  BUY_PRODUCT   \n",
       "\n",
       "       offered_discount  purchase_id            name      city  \\\n",
       "31034               0.0      20010.0   Albert Bruzda     Konin   \n",
       "31036              15.0      20027.0   Albert Bruzda     Konin   \n",
       "31037               0.0      20035.0   Albert Bruzda     Konin   \n",
       "31044               0.0      22340.0             NaN       NaN   \n",
       "31048              20.0      24100.0             NaN       NaN   \n",
       "...                 ...          ...             ...       ...   \n",
       "37916              20.0      26131.0      Ida Pasiak    Gdynia   \n",
       "37917               0.0      26199.0   Patryk Myszor    Gdynia   \n",
       "37918               5.0      26215.0   Patryk Myszor    Gdynia   \n",
       "37919               0.0      26333.0  Nicole Kwapień  Szczecin   \n",
       "37920               0.0      26356.0    Tomasz Nagel     Radom   \n",
       "\n",
       "                              street                   product_name  \\\n",
       "31034               plac Lwowska 683  Telefon Siemens Gigaset DA310   \n",
       "31036               plac Lwowska 683  Telefon Siemens Gigaset DA310   \n",
       "31037               plac Lwowska 683  Telefon Siemens Gigaset DA310   \n",
       "31044                            NaN  Telefon Siemens Gigaset DA310   \n",
       "31048                            NaN  Telefon Siemens Gigaset DA310   \n",
       "...                              ...                            ...   \n",
       "37916               plac Browarna 59    Call of Duty Black Ops (PC)   \n",
       "37917                aleja Skośna 62    Call of Duty Black Ops (PC)   \n",
       "37918                aleja Skośna 62    Call of Duty Black Ops (PC)   \n",
       "37919               ulica Łąkowa 270    Call of Duty Black Ops (PC)   \n",
       "37920  al. Powstańców Śląskich 31/08    Call of Duty Black Ops (PC)   \n",
       "\n",
       "                                   category_path  price  purchase_timestamp  \\\n",
       "31034  Telefony i akcesoria;Telefony stacjonarne  58.97 2021-01-28 05:10:38   \n",
       "31036  Telefony i akcesoria;Telefony stacjonarne  58.97 2021-03-09 23:03:20   \n",
       "31037  Telefony i akcesoria;Telefony stacjonarne  58.97 2021-01-10 15:52:16   \n",
       "31044  Telefony i akcesoria;Telefony stacjonarne  58.97 2021-02-17 18:50:54   \n",
       "31048  Telefony i akcesoria;Telefony stacjonarne  58.97 2021-02-08 14:21:54   \n",
       "...                                          ...    ...                 ...   \n",
       "37916              Gry i konsole;Gry komputerowe  29.99 2021-02-22 11:10:27   \n",
       "37917              Gry i konsole;Gry komputerowe  29.99 2021-02-27 02:03:10   \n",
       "37918              Gry i konsole;Gry komputerowe  29.99 2021-02-16 23:16:23   \n",
       "37919              Gry i konsole;Gry komputerowe  29.99 2021-01-02 01:57:34   \n",
       "37920              Gry i konsole;Gry komputerowe  29.99 2021-01-06 16:03:32   \n",
       "\n",
       "              delivery_timestamp  delivery_company      hours  \n",
       "31034 2021-01-27 01:53:40.728429             620.0 -27.282575  \n",
       "31036 2021-03-06 23:08:33.548176             516.0 -71.912903  \n",
       "31037 2021-01-09 16:00:16.211341             360.0 -23.866608  \n",
       "31044 2021-02-16 15:43:51.476820             620.0 -27.117368  \n",
       "31048 2021-02-06 15:17:55.338336             516.0 -47.066295  \n",
       "...                          ...               ...        ...  \n",
       "37916 2021-02-22 07:32:55.391913             516.0  -3.625447  \n",
       "37917 2021-02-26 02:40:16.514009               NaN -23.381524  \n",
       "37918 2021-02-16 12:41:07.157024             516.0 -10.587734  \n",
       "37919 2020-12-31 08:47:14.237715             620.0 -41.172156  \n",
       "37920 2021-01-05 13:37:37.192347             620.0 -26.431891  \n",
       "\n",
       "[2796 rows x 17 columns]"
      ]
     },
     "execution_count": 50,
     "metadata": {},
     "output_type": "execute_result"
    }
   ],
   "source": [
    "data.loc[(data[\"event_type\"] == \"BUY_PRODUCT\") & ((data[\"price\"] <= 0) | (data[\"price\"] > 1e4) | (data[\"hours\"] <= 0))]"
   ]
  },
  {
   "cell_type": "code",
   "execution_count": 51,
   "id": "higher-patch",
   "metadata": {},
   "outputs": [
    {
     "data": {
      "text/plain": [
       "0.4058055152394775"
      ]
     },
     "execution_count": 51,
     "metadata": {},
     "output_type": "execute_result"
    }
   ],
   "source": [
    "2796 / 6890"
   ]
  },
  {
   "cell_type": "markdown",
   "id": "twenty-steps",
   "metadata": {},
   "source": [
    "Około 40% `deliveries` ma podejrzany czas dostawy lub cenę."
   ]
  },
  {
   "cell_type": "markdown",
   "id": "growing-atlantic",
   "metadata": {},
   "source": [
    "# Selekcja atrybutów"
   ]
  },
  {
   "cell_type": "code",
   "execution_count": 52,
   "id": "following-mainstream",
   "metadata": {},
   "outputs": [],
   "source": [
    "data = data.loc[(data[\"event_type\"] == \"BUY_PRODUCT\") & (data[\"price\"] > 0) & (data[\"hours\"] > 0) & (~data[\"user_id\"].isnull()) & (~data[\"delivery_company\"].isnull())].reset_index(drop=True)"
   ]
  },
  {
   "cell_type": "code",
   "execution_count": 53,
   "id": "sustained-bottom",
   "metadata": {},
   "outputs": [],
   "source": [
    "data[\"purchase_hour\"] = data[\"purchase_timestamp\"].dt.hour\n",
    "data[\"delivery_hour\"] = data[\"delivery_timestamp\"].dt.hour\n",
    "data[\"purchase_dayofweek\"] = data[\"purchase_timestamp\"].dt.dayofweek\n",
    "data[\"delivery_dayofweek\"] = data[\"delivery_timestamp\"].dt.dayofweek"
   ]
  },
  {
   "cell_type": "code",
   "execution_count": 54,
   "id": "antique-stevens",
   "metadata": {},
   "outputs": [
    {
     "data": {
      "text/html": [
       "<div>\n",
       "<style scoped>\n",
       "    .dataframe tbody tr th:only-of-type {\n",
       "        vertical-align: middle;\n",
       "    }\n",
       "\n",
       "    .dataframe tbody tr th {\n",
       "        vertical-align: top;\n",
       "    }\n",
       "\n",
       "    .dataframe thead th {\n",
       "        text-align: right;\n",
       "    }\n",
       "</style>\n",
       "<table border=\"1\" class=\"dataframe\">\n",
       "  <thead>\n",
       "    <tr style=\"text-align: right;\">\n",
       "      <th></th>\n",
       "      <th>session_id</th>\n",
       "      <th>timestamp</th>\n",
       "      <th>user_id</th>\n",
       "      <th>product_id</th>\n",
       "      <th>event_type</th>\n",
       "      <th>offered_discount</th>\n",
       "      <th>purchase_id</th>\n",
       "      <th>name</th>\n",
       "      <th>city</th>\n",
       "      <th>street</th>\n",
       "      <th>...</th>\n",
       "      <th>category_path</th>\n",
       "      <th>price</th>\n",
       "      <th>purchase_timestamp</th>\n",
       "      <th>delivery_timestamp</th>\n",
       "      <th>delivery_company</th>\n",
       "      <th>hours</th>\n",
       "      <th>purchase_hour</th>\n",
       "      <th>delivery_hour</th>\n",
       "      <th>purchase_dayofweek</th>\n",
       "      <th>delivery_dayofweek</th>\n",
       "    </tr>\n",
       "  </thead>\n",
       "  <tbody>\n",
       "    <tr>\n",
       "      <th>0</th>\n",
       "      <td>100001.0</td>\n",
       "      <td>2021-01-24 20:02:58</td>\n",
       "      <td>102.0</td>\n",
       "      <td>1001.0</td>\n",
       "      <td>BUY_PRODUCT</td>\n",
       "      <td>0.0</td>\n",
       "      <td>20001.0</td>\n",
       "      <td>Albert Bruzda</td>\n",
       "      <td>Konin</td>\n",
       "      <td>plac Lwowska 683</td>\n",
       "      <td>...</td>\n",
       "      <td>Telefony i akcesoria;Telefony stacjonarne</td>\n",
       "      <td>58.97</td>\n",
       "      <td>2021-01-24 20:02:58</td>\n",
       "      <td>2021-01-26 00:30:29.368742</td>\n",
       "      <td>620.0</td>\n",
       "      <td>28.458714</td>\n",
       "      <td>20</td>\n",
       "      <td>0</td>\n",
       "      <td>6</td>\n",
       "      <td>1</td>\n",
       "    </tr>\n",
       "    <tr>\n",
       "      <th>1</th>\n",
       "      <td>100015.0</td>\n",
       "      <td>2021-01-19 12:53:55</td>\n",
       "      <td>102.0</td>\n",
       "      <td>1001.0</td>\n",
       "      <td>BUY_PRODUCT</td>\n",
       "      <td>0.0</td>\n",
       "      <td>20012.0</td>\n",
       "      <td>Albert Bruzda</td>\n",
       "      <td>Konin</td>\n",
       "      <td>plac Lwowska 683</td>\n",
       "      <td>...</td>\n",
       "      <td>Telefony i akcesoria;Telefony stacjonarne</td>\n",
       "      <td>58.97</td>\n",
       "      <td>2021-01-19 12:53:55</td>\n",
       "      <td>2021-01-22 23:57:42.253201</td>\n",
       "      <td>360.0</td>\n",
       "      <td>83.063126</td>\n",
       "      <td>12</td>\n",
       "      <td>23</td>\n",
       "      <td>1</td>\n",
       "      <td>4</td>\n",
       "    </tr>\n",
       "    <tr>\n",
       "      <th>2</th>\n",
       "      <td>100064.0</td>\n",
       "      <td>2021-01-06 23:21:16</td>\n",
       "      <td>102.0</td>\n",
       "      <td>1001.0</td>\n",
       "      <td>BUY_PRODUCT</td>\n",
       "      <td>0.0</td>\n",
       "      <td>20047.0</td>\n",
       "      <td>Albert Bruzda</td>\n",
       "      <td>Konin</td>\n",
       "      <td>plac Lwowska 683</td>\n",
       "      <td>...</td>\n",
       "      <td>Telefony i akcesoria;Telefony stacjonarne</td>\n",
       "      <td>58.97</td>\n",
       "      <td>2021-01-06 23:21:16</td>\n",
       "      <td>2021-01-07 12:33:06.489077</td>\n",
       "      <td>516.0</td>\n",
       "      <td>13.197358</td>\n",
       "      <td>23</td>\n",
       "      <td>12</td>\n",
       "      <td>2</td>\n",
       "      <td>3</td>\n",
       "    </tr>\n",
       "    <tr>\n",
       "      <th>3</th>\n",
       "      <td>100119.0</td>\n",
       "      <td>2021-01-08 05:18:06</td>\n",
       "      <td>103.0</td>\n",
       "      <td>1001.0</td>\n",
       "      <td>BUY_PRODUCT</td>\n",
       "      <td>10.0</td>\n",
       "      <td>20087.0</td>\n",
       "      <td>Jędrzej Malesza</td>\n",
       "      <td>Mielec</td>\n",
       "      <td>plac Dąbrowskiego 81</td>\n",
       "      <td>...</td>\n",
       "      <td>Telefony i akcesoria;Telefony stacjonarne</td>\n",
       "      <td>58.97</td>\n",
       "      <td>2021-01-08 05:18:06</td>\n",
       "      <td>2021-01-09 11:58:32.498432</td>\n",
       "      <td>516.0</td>\n",
       "      <td>30.674027</td>\n",
       "      <td>5</td>\n",
       "      <td>11</td>\n",
       "      <td>4</td>\n",
       "      <td>5</td>\n",
       "    </tr>\n",
       "    <tr>\n",
       "      <th>4</th>\n",
       "      <td>100225.0</td>\n",
       "      <td>2021-03-02 11:32:16</td>\n",
       "      <td>107.0</td>\n",
       "      <td>1001.0</td>\n",
       "      <td>BUY_PRODUCT</td>\n",
       "      <td>0.0</td>\n",
       "      <td>20157.0</td>\n",
       "      <td>Ewa Wyskiel</td>\n",
       "      <td>Gdynia</td>\n",
       "      <td>plac Szmaragdowa 12/32</td>\n",
       "      <td>...</td>\n",
       "      <td>Telefony i akcesoria;Telefony stacjonarne</td>\n",
       "      <td>58.97</td>\n",
       "      <td>2021-03-02 11:32:16</td>\n",
       "      <td>2021-03-06 18:21:47.258348</td>\n",
       "      <td>620.0</td>\n",
       "      <td>102.825350</td>\n",
       "      <td>11</td>\n",
       "      <td>18</td>\n",
       "      <td>1</td>\n",
       "      <td>5</td>\n",
       "    </tr>\n",
       "    <tr>\n",
       "      <th>...</th>\n",
       "      <td>...</td>\n",
       "      <td>...</td>\n",
       "      <td>...</td>\n",
       "      <td>...</td>\n",
       "      <td>...</td>\n",
       "      <td>...</td>\n",
       "      <td>...</td>\n",
       "      <td>...</td>\n",
       "      <td>...</td>\n",
       "      <td>...</td>\n",
       "      <td>...</td>\n",
       "      <td>...</td>\n",
       "      <td>...</td>\n",
       "      <td>...</td>\n",
       "      <td>...</td>\n",
       "      <td>...</td>\n",
       "      <td>...</td>\n",
       "      <td>...</td>\n",
       "      <td>...</td>\n",
       "      <td>...</td>\n",
       "      <td>...</td>\n",
       "    </tr>\n",
       "    <tr>\n",
       "      <th>3543</th>\n",
       "      <td>107483.0</td>\n",
       "      <td>2021-02-06 12:28:36</td>\n",
       "      <td>255.0</td>\n",
       "      <td>1056.0</td>\n",
       "      <td>BUY_PRODUCT</td>\n",
       "      <td>5.0</td>\n",
       "      <td>25242.0</td>\n",
       "      <td>Jeremi Wiciak</td>\n",
       "      <td>Kutno</td>\n",
       "      <td>plac Rolnicza 21/37</td>\n",
       "      <td>...</td>\n",
       "      <td>Gry i konsole;Gry komputerowe</td>\n",
       "      <td>29.99</td>\n",
       "      <td>2021-02-06 12:28:36</td>\n",
       "      <td>2021-02-09 18:12:10.982859</td>\n",
       "      <td>620.0</td>\n",
       "      <td>77.726384</td>\n",
       "      <td>12</td>\n",
       "      <td>18</td>\n",
       "      <td>5</td>\n",
       "      <td>1</td>\n",
       "    </tr>\n",
       "    <tr>\n",
       "      <th>3544</th>\n",
       "      <td>107819.0</td>\n",
       "      <td>2021-01-12 13:30:50</td>\n",
       "      <td>261.0</td>\n",
       "      <td>1056.0</td>\n",
       "      <td>BUY_PRODUCT</td>\n",
       "      <td>5.0</td>\n",
       "      <td>25472.0</td>\n",
       "      <td>Natasza Niedojadło</td>\n",
       "      <td>Konin</td>\n",
       "      <td>ulica Jeżynowa 02/56</td>\n",
       "      <td>...</td>\n",
       "      <td>Gry i konsole;Gry komputerowe</td>\n",
       "      <td>29.99</td>\n",
       "      <td>2021-01-12 13:30:50</td>\n",
       "      <td>2021-01-14 14:44:17.570568</td>\n",
       "      <td>516.0</td>\n",
       "      <td>49.224325</td>\n",
       "      <td>13</td>\n",
       "      <td>14</td>\n",
       "      <td>1</td>\n",
       "      <td>3</td>\n",
       "    </tr>\n",
       "    <tr>\n",
       "      <th>3545</th>\n",
       "      <td>108236.0</td>\n",
       "      <td>2021-01-04 14:34:38</td>\n",
       "      <td>270.0</td>\n",
       "      <td>1056.0</td>\n",
       "      <td>BUY_PRODUCT</td>\n",
       "      <td>0.0</td>\n",
       "      <td>25762.0</td>\n",
       "      <td>Maksymilian Sady</td>\n",
       "      <td>Radom</td>\n",
       "      <td>pl. Piękna 55</td>\n",
       "      <td>...</td>\n",
       "      <td>Gry i konsole;Gry komputerowe</td>\n",
       "      <td>29.99</td>\n",
       "      <td>2021-01-04 14:34:38</td>\n",
       "      <td>2021-01-09 12:23:19.632091</td>\n",
       "      <td>620.0</td>\n",
       "      <td>117.811564</td>\n",
       "      <td>14</td>\n",
       "      <td>12</td>\n",
       "      <td>0</td>\n",
       "      <td>5</td>\n",
       "    </tr>\n",
       "    <tr>\n",
       "      <th>3546</th>\n",
       "      <td>109384.0</td>\n",
       "      <td>2021-02-16 15:43:12</td>\n",
       "      <td>292.0</td>\n",
       "      <td>1056.0</td>\n",
       "      <td>BUY_PRODUCT</td>\n",
       "      <td>10.0</td>\n",
       "      <td>26579.0</td>\n",
       "      <td>Julita Buza</td>\n",
       "      <td>Gdynia</td>\n",
       "      <td>al. Szmaragdowa 446</td>\n",
       "      <td>...</td>\n",
       "      <td>Gry i konsole;Gry komputerowe</td>\n",
       "      <td>29.99</td>\n",
       "      <td>2021-02-16 15:43:12</td>\n",
       "      <td>2021-02-20 17:42:55.693973</td>\n",
       "      <td>360.0</td>\n",
       "      <td>97.995471</td>\n",
       "      <td>15</td>\n",
       "      <td>17</td>\n",
       "      <td>1</td>\n",
       "      <td>5</td>\n",
       "    </tr>\n",
       "    <tr>\n",
       "      <th>3547</th>\n",
       "      <td>109667.0</td>\n",
       "      <td>2021-01-19 16:03:55</td>\n",
       "      <td>298.0</td>\n",
       "      <td>1056.0</td>\n",
       "      <td>BUY_PRODUCT</td>\n",
       "      <td>10.0</td>\n",
       "      <td>26777.0</td>\n",
       "      <td>Oliwier Szajda</td>\n",
       "      <td>Mielec</td>\n",
       "      <td>aleja Rejtana 36</td>\n",
       "      <td>...</td>\n",
       "      <td>Gry i konsole;Gry komputerowe</td>\n",
       "      <td>29.99</td>\n",
       "      <td>2021-01-19 16:03:55</td>\n",
       "      <td>2021-01-21 13:35:12.905125</td>\n",
       "      <td>620.0</td>\n",
       "      <td>45.521640</td>\n",
       "      <td>16</td>\n",
       "      <td>13</td>\n",
       "      <td>1</td>\n",
       "      <td>3</td>\n",
       "    </tr>\n",
       "  </tbody>\n",
       "</table>\n",
       "<p>3548 rows × 21 columns</p>\n",
       "</div>"
      ],
      "text/plain": [
       "      session_id           timestamp  user_id  product_id   event_type  \\\n",
       "0       100001.0 2021-01-24 20:02:58    102.0      1001.0  BUY_PRODUCT   \n",
       "1       100015.0 2021-01-19 12:53:55    102.0      1001.0  BUY_PRODUCT   \n",
       "2       100064.0 2021-01-06 23:21:16    102.0      1001.0  BUY_PRODUCT   \n",
       "3       100119.0 2021-01-08 05:18:06    103.0      1001.0  BUY_PRODUCT   \n",
       "4       100225.0 2021-03-02 11:32:16    107.0      1001.0  BUY_PRODUCT   \n",
       "...          ...                 ...      ...         ...          ...   \n",
       "3543    107483.0 2021-02-06 12:28:36    255.0      1056.0  BUY_PRODUCT   \n",
       "3544    107819.0 2021-01-12 13:30:50    261.0      1056.0  BUY_PRODUCT   \n",
       "3545    108236.0 2021-01-04 14:34:38    270.0      1056.0  BUY_PRODUCT   \n",
       "3546    109384.0 2021-02-16 15:43:12    292.0      1056.0  BUY_PRODUCT   \n",
       "3547    109667.0 2021-01-19 16:03:55    298.0      1056.0  BUY_PRODUCT   \n",
       "\n",
       "      offered_discount  purchase_id                name    city  \\\n",
       "0                  0.0      20001.0       Albert Bruzda   Konin   \n",
       "1                  0.0      20012.0       Albert Bruzda   Konin   \n",
       "2                  0.0      20047.0       Albert Bruzda   Konin   \n",
       "3                 10.0      20087.0     Jędrzej Malesza  Mielec   \n",
       "4                  0.0      20157.0         Ewa Wyskiel  Gdynia   \n",
       "...                ...          ...                 ...     ...   \n",
       "3543               5.0      25242.0       Jeremi Wiciak   Kutno   \n",
       "3544               5.0      25472.0  Natasza Niedojadło   Konin   \n",
       "3545               0.0      25762.0    Maksymilian Sady   Radom   \n",
       "3546              10.0      26579.0         Julita Buza  Gdynia   \n",
       "3547              10.0      26777.0      Oliwier Szajda  Mielec   \n",
       "\n",
       "                      street  ...                              category_path  \\\n",
       "0           plac Lwowska 683  ...  Telefony i akcesoria;Telefony stacjonarne   \n",
       "1           plac Lwowska 683  ...  Telefony i akcesoria;Telefony stacjonarne   \n",
       "2           plac Lwowska 683  ...  Telefony i akcesoria;Telefony stacjonarne   \n",
       "3       plac Dąbrowskiego 81  ...  Telefony i akcesoria;Telefony stacjonarne   \n",
       "4     plac Szmaragdowa 12/32  ...  Telefony i akcesoria;Telefony stacjonarne   \n",
       "...                      ...  ...                                        ...   \n",
       "3543     plac Rolnicza 21/37  ...              Gry i konsole;Gry komputerowe   \n",
       "3544    ulica Jeżynowa 02/56  ...              Gry i konsole;Gry komputerowe   \n",
       "3545           pl. Piękna 55  ...              Gry i konsole;Gry komputerowe   \n",
       "3546     al. Szmaragdowa 446  ...              Gry i konsole;Gry komputerowe   \n",
       "3547        aleja Rejtana 36  ...              Gry i konsole;Gry komputerowe   \n",
       "\n",
       "      price  purchase_timestamp         delivery_timestamp delivery_company  \\\n",
       "0     58.97 2021-01-24 20:02:58 2021-01-26 00:30:29.368742            620.0   \n",
       "1     58.97 2021-01-19 12:53:55 2021-01-22 23:57:42.253201            360.0   \n",
       "2     58.97 2021-01-06 23:21:16 2021-01-07 12:33:06.489077            516.0   \n",
       "3     58.97 2021-01-08 05:18:06 2021-01-09 11:58:32.498432            516.0   \n",
       "4     58.97 2021-03-02 11:32:16 2021-03-06 18:21:47.258348            620.0   \n",
       "...     ...                 ...                        ...              ...   \n",
       "3543  29.99 2021-02-06 12:28:36 2021-02-09 18:12:10.982859            620.0   \n",
       "3544  29.99 2021-01-12 13:30:50 2021-01-14 14:44:17.570568            516.0   \n",
       "3545  29.99 2021-01-04 14:34:38 2021-01-09 12:23:19.632091            620.0   \n",
       "3546  29.99 2021-02-16 15:43:12 2021-02-20 17:42:55.693973            360.0   \n",
       "3547  29.99 2021-01-19 16:03:55 2021-01-21 13:35:12.905125            620.0   \n",
       "\n",
       "           hours  purchase_hour  delivery_hour  purchase_dayofweek  \\\n",
       "0      28.458714             20              0                   6   \n",
       "1      83.063126             12             23                   1   \n",
       "2      13.197358             23             12                   2   \n",
       "3      30.674027              5             11                   4   \n",
       "4     102.825350             11             18                   1   \n",
       "...          ...            ...            ...                 ...   \n",
       "3543   77.726384             12             18                   5   \n",
       "3544   49.224325             13             14                   1   \n",
       "3545  117.811564             14             12                   0   \n",
       "3546   97.995471             15             17                   1   \n",
       "3547   45.521640             16             13                   1   \n",
       "\n",
       "      delivery_dayofweek  \n",
       "0                      1  \n",
       "1                      4  \n",
       "2                      3  \n",
       "3                      5  \n",
       "4                      5  \n",
       "...                  ...  \n",
       "3543                   1  \n",
       "3544                   3  \n",
       "3545                   5  \n",
       "3546                   5  \n",
       "3547                   3  \n",
       "\n",
       "[3548 rows x 21 columns]"
      ]
     },
     "execution_count": 54,
     "metadata": {},
     "output_type": "execute_result"
    }
   ],
   "source": [
    "data"
   ]
  },
  {
   "cell_type": "markdown",
   "id": "verified-occupation",
   "metadata": {},
   "source": [
    "Niektóre dni zakupu/dostawy częściej występują niż inne."
   ]
  },
  {
   "cell_type": "code",
   "execution_count": 55,
   "id": "forbidden-dublin",
   "metadata": {},
   "outputs": [
    {
     "data": {
      "text/html": [
       "<div>\n",
       "<style scoped>\n",
       "    .dataframe tbody tr th:only-of-type {\n",
       "        vertical-align: middle;\n",
       "    }\n",
       "\n",
       "    .dataframe tbody tr th {\n",
       "        vertical-align: top;\n",
       "    }\n",
       "\n",
       "    .dataframe thead th {\n",
       "        text-align: right;\n",
       "    }\n",
       "</style>\n",
       "<table border=\"1\" class=\"dataframe\">\n",
       "  <thead>\n",
       "    <tr style=\"text-align: right;\">\n",
       "      <th></th>\n",
       "      <th>delivery_dayofweek</th>\n",
       "    </tr>\n",
       "    <tr>\n",
       "      <th>purchase_dayofweek</th>\n",
       "      <th></th>\n",
       "    </tr>\n",
       "  </thead>\n",
       "  <tbody>\n",
       "    <tr>\n",
       "      <th>0</th>\n",
       "      <td>977</td>\n",
       "    </tr>\n",
       "    <tr>\n",
       "      <th>1</th>\n",
       "      <td>1412</td>\n",
       "    </tr>\n",
       "    <tr>\n",
       "      <th>2</th>\n",
       "      <td>1816</td>\n",
       "    </tr>\n",
       "    <tr>\n",
       "      <th>3</th>\n",
       "      <td>1850</td>\n",
       "    </tr>\n",
       "    <tr>\n",
       "      <th>4</th>\n",
       "      <td>1791</td>\n",
       "    </tr>\n",
       "    <tr>\n",
       "      <th>5</th>\n",
       "      <td>1580</td>\n",
       "    </tr>\n",
       "    <tr>\n",
       "      <th>6</th>\n",
       "      <td>1127</td>\n",
       "    </tr>\n",
       "  </tbody>\n",
       "</table>\n",
       "</div>"
      ],
      "text/plain": [
       "                    delivery_dayofweek\n",
       "purchase_dayofweek                    \n",
       "0                                  977\n",
       "1                                 1412\n",
       "2                                 1816\n",
       "3                                 1850\n",
       "4                                 1791\n",
       "5                                 1580\n",
       "6                                 1127"
      ]
     },
     "execution_count": 55,
     "metadata": {},
     "output_type": "execute_result"
    }
   ],
   "source": [
    "data.groupby(\"purchase_dayofweek\").agg({\"delivery_dayofweek\": sum})"
   ]
  },
  {
   "cell_type": "code",
   "execution_count": 56,
   "id": "dominican-coalition",
   "metadata": {},
   "outputs": [
    {
     "data": {
      "text/html": [
       "<div>\n",
       "<style scoped>\n",
       "    .dataframe tbody tr th:only-of-type {\n",
       "        vertical-align: middle;\n",
       "    }\n",
       "\n",
       "    .dataframe tbody tr th {\n",
       "        vertical-align: top;\n",
       "    }\n",
       "\n",
       "    .dataframe thead th {\n",
       "        text-align: right;\n",
       "    }\n",
       "</style>\n",
       "<table border=\"1\" class=\"dataframe\">\n",
       "  <thead>\n",
       "    <tr style=\"text-align: right;\">\n",
       "      <th></th>\n",
       "      <th>delivery_dayofweek</th>\n",
       "    </tr>\n",
       "    <tr>\n",
       "      <th>delivery_dayofweek</th>\n",
       "      <th></th>\n",
       "    </tr>\n",
       "  </thead>\n",
       "  <tbody>\n",
       "    <tr>\n",
       "      <th>0</th>\n",
       "      <td>0</td>\n",
       "    </tr>\n",
       "    <tr>\n",
       "      <th>1</th>\n",
       "      <td>537</td>\n",
       "    </tr>\n",
       "    <tr>\n",
       "      <th>2</th>\n",
       "      <td>930</td>\n",
       "    </tr>\n",
       "    <tr>\n",
       "      <th>3</th>\n",
       "      <td>1596</td>\n",
       "    </tr>\n",
       "    <tr>\n",
       "      <th>4</th>\n",
       "      <td>2032</td>\n",
       "    </tr>\n",
       "    <tr>\n",
       "      <th>5</th>\n",
       "      <td>2440</td>\n",
       "    </tr>\n",
       "    <tr>\n",
       "      <th>6</th>\n",
       "      <td>3018</td>\n",
       "    </tr>\n",
       "  </tbody>\n",
       "</table>\n",
       "</div>"
      ],
      "text/plain": [
       "                    delivery_dayofweek\n",
       "delivery_dayofweek                    \n",
       "0                                    0\n",
       "1                                  537\n",
       "2                                  930\n",
       "3                                 1596\n",
       "4                                 2032\n",
       "5                                 2440\n",
       "6                                 3018"
      ]
     },
     "execution_count": 56,
     "metadata": {},
     "output_type": "execute_result"
    }
   ],
   "source": [
    "data.groupby(\"delivery_dayofweek\").agg({\"delivery_dayofweek\": sum})"
   ]
  },
  {
   "cell_type": "markdown",
   "id": "double-blame",
   "metadata": {},
   "source": [
    "Niektóre godziny zakupu/dostawy częściej występują niż inne."
   ]
  },
  {
   "cell_type": "code",
   "execution_count": 57,
   "id": "earlier-foster",
   "metadata": {},
   "outputs": [
    {
     "data": {
      "text/html": [
       "<div>\n",
       "<style scoped>\n",
       "    .dataframe tbody tr th:only-of-type {\n",
       "        vertical-align: middle;\n",
       "    }\n",
       "\n",
       "    .dataframe tbody tr th {\n",
       "        vertical-align: top;\n",
       "    }\n",
       "\n",
       "    .dataframe thead th {\n",
       "        text-align: right;\n",
       "    }\n",
       "</style>\n",
       "<table border=\"1\" class=\"dataframe\">\n",
       "  <thead>\n",
       "    <tr style=\"text-align: right;\">\n",
       "      <th></th>\n",
       "      <th>purchase_hour</th>\n",
       "    </tr>\n",
       "    <tr>\n",
       "      <th>purchase_hour</th>\n",
       "      <th></th>\n",
       "    </tr>\n",
       "  </thead>\n",
       "  <tbody>\n",
       "    <tr>\n",
       "      <th>0</th>\n",
       "      <td>0</td>\n",
       "    </tr>\n",
       "    <tr>\n",
       "      <th>1</th>\n",
       "      <td>149</td>\n",
       "    </tr>\n",
       "    <tr>\n",
       "      <th>2</th>\n",
       "      <td>284</td>\n",
       "    </tr>\n",
       "    <tr>\n",
       "      <th>3</th>\n",
       "      <td>471</td>\n",
       "    </tr>\n",
       "    <tr>\n",
       "      <th>4</th>\n",
       "      <td>536</td>\n",
       "    </tr>\n",
       "    <tr>\n",
       "      <th>5</th>\n",
       "      <td>790</td>\n",
       "    </tr>\n",
       "    <tr>\n",
       "      <th>6</th>\n",
       "      <td>978</td>\n",
       "    </tr>\n",
       "    <tr>\n",
       "      <th>7</th>\n",
       "      <td>1078</td>\n",
       "    </tr>\n",
       "    <tr>\n",
       "      <th>8</th>\n",
       "      <td>1208</td>\n",
       "    </tr>\n",
       "    <tr>\n",
       "      <th>9</th>\n",
       "      <td>1242</td>\n",
       "    </tr>\n",
       "    <tr>\n",
       "      <th>10</th>\n",
       "      <td>1700</td>\n",
       "    </tr>\n",
       "    <tr>\n",
       "      <th>11</th>\n",
       "      <td>1639</td>\n",
       "    </tr>\n",
       "    <tr>\n",
       "      <th>12</th>\n",
       "      <td>1644</td>\n",
       "    </tr>\n",
       "    <tr>\n",
       "      <th>13</th>\n",
       "      <td>1898</td>\n",
       "    </tr>\n",
       "    <tr>\n",
       "      <th>14</th>\n",
       "      <td>1918</td>\n",
       "    </tr>\n",
       "    <tr>\n",
       "      <th>15</th>\n",
       "      <td>2160</td>\n",
       "    </tr>\n",
       "    <tr>\n",
       "      <th>16</th>\n",
       "      <td>2448</td>\n",
       "    </tr>\n",
       "    <tr>\n",
       "      <th>17</th>\n",
       "      <td>2686</td>\n",
       "    </tr>\n",
       "    <tr>\n",
       "      <th>18</th>\n",
       "      <td>2970</td>\n",
       "    </tr>\n",
       "    <tr>\n",
       "      <th>19</th>\n",
       "      <td>2508</td>\n",
       "    </tr>\n",
       "    <tr>\n",
       "      <th>20</th>\n",
       "      <td>3020</td>\n",
       "    </tr>\n",
       "    <tr>\n",
       "      <th>21</th>\n",
       "      <td>3171</td>\n",
       "    </tr>\n",
       "    <tr>\n",
       "      <th>22</th>\n",
       "      <td>2926</td>\n",
       "    </tr>\n",
       "    <tr>\n",
       "      <th>23</th>\n",
       "      <td>3657</td>\n",
       "    </tr>\n",
       "  </tbody>\n",
       "</table>\n",
       "</div>"
      ],
      "text/plain": [
       "               purchase_hour\n",
       "purchase_hour               \n",
       "0                          0\n",
       "1                        149\n",
       "2                        284\n",
       "3                        471\n",
       "4                        536\n",
       "5                        790\n",
       "6                        978\n",
       "7                       1078\n",
       "8                       1208\n",
       "9                       1242\n",
       "10                      1700\n",
       "11                      1639\n",
       "12                      1644\n",
       "13                      1898\n",
       "14                      1918\n",
       "15                      2160\n",
       "16                      2448\n",
       "17                      2686\n",
       "18                      2970\n",
       "19                      2508\n",
       "20                      3020\n",
       "21                      3171\n",
       "22                      2926\n",
       "23                      3657"
      ]
     },
     "execution_count": 57,
     "metadata": {},
     "output_type": "execute_result"
    }
   ],
   "source": [
    "data.groupby(\"purchase_hour\").agg({\"purchase_hour\": sum})"
   ]
  },
  {
   "cell_type": "code",
   "execution_count": 58,
   "id": "honey-radio",
   "metadata": {},
   "outputs": [
    {
     "data": {
      "text/html": [
       "<div>\n",
       "<style scoped>\n",
       "    .dataframe tbody tr th:only-of-type {\n",
       "        vertical-align: middle;\n",
       "    }\n",
       "\n",
       "    .dataframe tbody tr th {\n",
       "        vertical-align: top;\n",
       "    }\n",
       "\n",
       "    .dataframe thead th {\n",
       "        text-align: right;\n",
       "    }\n",
       "</style>\n",
       "<table border=\"1\" class=\"dataframe\">\n",
       "  <thead>\n",
       "    <tr style=\"text-align: right;\">\n",
       "      <th></th>\n",
       "      <th>delivery_hour</th>\n",
       "    </tr>\n",
       "    <tr>\n",
       "      <th>delivery_hour</th>\n",
       "      <th></th>\n",
       "    </tr>\n",
       "  </thead>\n",
       "  <tbody>\n",
       "    <tr>\n",
       "      <th>0</th>\n",
       "      <td>0</td>\n",
       "    </tr>\n",
       "    <tr>\n",
       "      <th>1</th>\n",
       "      <td>143</td>\n",
       "    </tr>\n",
       "    <tr>\n",
       "      <th>2</th>\n",
       "      <td>308</td>\n",
       "    </tr>\n",
       "    <tr>\n",
       "      <th>3</th>\n",
       "      <td>525</td>\n",
       "    </tr>\n",
       "    <tr>\n",
       "      <th>4</th>\n",
       "      <td>520</td>\n",
       "    </tr>\n",
       "    <tr>\n",
       "      <th>5</th>\n",
       "      <td>715</td>\n",
       "    </tr>\n",
       "    <tr>\n",
       "      <th>6</th>\n",
       "      <td>1026</td>\n",
       "    </tr>\n",
       "    <tr>\n",
       "      <th>7</th>\n",
       "      <td>987</td>\n",
       "    </tr>\n",
       "    <tr>\n",
       "      <th>8</th>\n",
       "      <td>1288</td>\n",
       "    </tr>\n",
       "    <tr>\n",
       "      <th>9</th>\n",
       "      <td>1458</td>\n",
       "    </tr>\n",
       "    <tr>\n",
       "      <th>10</th>\n",
       "      <td>1530</td>\n",
       "    </tr>\n",
       "    <tr>\n",
       "      <th>11</th>\n",
       "      <td>1419</td>\n",
       "    </tr>\n",
       "    <tr>\n",
       "      <th>12</th>\n",
       "      <td>2004</td>\n",
       "    </tr>\n",
       "    <tr>\n",
       "      <th>13</th>\n",
       "      <td>1872</td>\n",
       "    </tr>\n",
       "    <tr>\n",
       "      <th>14</th>\n",
       "      <td>1918</td>\n",
       "    </tr>\n",
       "    <tr>\n",
       "      <th>15</th>\n",
       "      <td>2025</td>\n",
       "    </tr>\n",
       "    <tr>\n",
       "      <th>16</th>\n",
       "      <td>2224</td>\n",
       "    </tr>\n",
       "    <tr>\n",
       "      <th>17</th>\n",
       "      <td>2737</td>\n",
       "    </tr>\n",
       "    <tr>\n",
       "      <th>18</th>\n",
       "      <td>2880</td>\n",
       "    </tr>\n",
       "    <tr>\n",
       "      <th>19</th>\n",
       "      <td>2850</td>\n",
       "    </tr>\n",
       "    <tr>\n",
       "      <th>20</th>\n",
       "      <td>2720</td>\n",
       "    </tr>\n",
       "    <tr>\n",
       "      <th>21</th>\n",
       "      <td>2877</td>\n",
       "    </tr>\n",
       "    <tr>\n",
       "      <th>22</th>\n",
       "      <td>2816</td>\n",
       "    </tr>\n",
       "    <tr>\n",
       "      <th>23</th>\n",
       "      <td>3289</td>\n",
       "    </tr>\n",
       "  </tbody>\n",
       "</table>\n",
       "</div>"
      ],
      "text/plain": [
       "               delivery_hour\n",
       "delivery_hour               \n",
       "0                          0\n",
       "1                        143\n",
       "2                        308\n",
       "3                        525\n",
       "4                        520\n",
       "5                        715\n",
       "6                       1026\n",
       "7                        987\n",
       "8                       1288\n",
       "9                       1458\n",
       "10                      1530\n",
       "11                      1419\n",
       "12                      2004\n",
       "13                      1872\n",
       "14                      1918\n",
       "15                      2025\n",
       "16                      2224\n",
       "17                      2737\n",
       "18                      2880\n",
       "19                      2850\n",
       "20                      2720\n",
       "21                      2877\n",
       "22                      2816\n",
       "23                      3289"
      ]
     },
     "execution_count": 58,
     "metadata": {},
     "output_type": "execute_result"
    }
   ],
   "source": [
    "data.groupby(\"delivery_hour\").agg({\"delivery_hour\": sum})"
   ]
  },
  {
   "cell_type": "markdown",
   "id": "boring-robinson",
   "metadata": {},
   "source": [
    "Lokalizacja może mieć silny wpływ na czas dostawy."
   ]
  },
  {
   "cell_type": "code",
   "execution_count": 59,
   "id": "cutting-harris",
   "metadata": {},
   "outputs": [
    {
     "data": {
      "text/plain": [
       "city\n",
       "Gdynia      49.651896\n",
       "Konin       44.620216\n",
       "Kutno       48.774091\n",
       "Mielec      49.259806\n",
       "Police      49.011393\n",
       "Radom       48.356683\n",
       "Szczecin    42.044696\n",
       "Warszawa    50.620397\n",
       "Name: hours, dtype: float64"
      ]
     },
     "execution_count": 59,
     "metadata": {},
     "output_type": "execute_result"
    }
   ],
   "source": [
    "data.groupby(\"city\")[\"hours\"].mean()"
   ]
  },
  {
   "cell_type": "markdown",
   "id": "excessive-thursday",
   "metadata": {},
   "source": [
    "Firma kurierska może nie mieć silnego wpływu na czas dostawy."
   ]
  },
  {
   "cell_type": "code",
   "execution_count": 60,
   "id": "infrared-kansas",
   "metadata": {},
   "outputs": [
    {
     "data": {
      "text/plain": [
       "delivery_company\n",
       "360.0    48.996915\n",
       "516.0    47.644304\n",
       "620.0    47.963170\n",
       "Name: hours, dtype: float64"
      ]
     },
     "execution_count": 60,
     "metadata": {},
     "output_type": "execute_result"
    }
   ],
   "source": [
    "data.groupby(\"delivery_company\")[\"hours\"].mean()"
   ]
  },
  {
   "cell_type": "code",
   "execution_count": 61,
   "id": "extreme-minute",
   "metadata": {},
   "outputs": [
    {
     "data": {
      "text/plain": [
       "<AxesSubplot:>"
      ]
     },
     "execution_count": 61,
     "metadata": {},
     "output_type": "execute_result"
    },
    {
     "data": {
      "image/png": "[encoded data removed]",
      "text/plain": [
       "<Figure size 432x288 with 2 Axes>"
      ]
     },
     "metadata": {},
     "output_type": "display_data"
    }
   ],
   "source": [
    "sns.heatmap(data.corr(), square=True)"
   ]
  },
  {
   "cell_type": "markdown",
   "id": "collective-newfoundland",
   "metadata": {},
   "source": [
    "Wstępnie usuwamy mniej ważne atrybuty, chociaż warto wszystkie zweryfikować, np. modelem drzewiastym."
   ]
  },
  {
   "cell_type": "code",
   "execution_count": 62,
   "id": "suffering-lindsay",
   "metadata": {},
   "outputs": [
    {
     "data": {
      "text/html": [
       "<div>\n",
       "<style scoped>\n",
       "    .dataframe tbody tr th:only-of-type {\n",
       "        vertical-align: middle;\n",
       "    }\n",
       "\n",
       "    .dataframe tbody tr th {\n",
       "        vertical-align: top;\n",
       "    }\n",
       "\n",
       "    .dataframe thead th {\n",
       "        text-align: right;\n",
       "    }\n",
       "</style>\n",
       "<table border=\"1\" class=\"dataframe\">\n",
       "  <thead>\n",
       "    <tr style=\"text-align: right;\">\n",
       "      <th></th>\n",
       "      <th>offered_discount</th>\n",
       "      <th>city</th>\n",
       "      <th>street</th>\n",
       "      <th>purchase_timestamp</th>\n",
       "      <th>delivery_timestamp</th>\n",
       "      <th>delivery_company</th>\n",
       "      <th>hours</th>\n",
       "      <th>purchase_hour</th>\n",
       "      <th>delivery_hour</th>\n",
       "      <th>purchase_dayofweek</th>\n",
       "      <th>delivery_dayofweek</th>\n",
       "    </tr>\n",
       "  </thead>\n",
       "  <tbody>\n",
       "    <tr>\n",
       "      <th>0</th>\n",
       "      <td>0.0</td>\n",
       "      <td>Konin</td>\n",
       "      <td>plac Lwowska 683</td>\n",
       "      <td>2021-01-24 20:02:58</td>\n",
       "      <td>2021-01-26 00:30:29.368742</td>\n",
       "      <td>620.0</td>\n",
       "      <td>28.458714</td>\n",
       "      <td>20</td>\n",
       "      <td>0</td>\n",
       "      <td>6</td>\n",
       "      <td>1</td>\n",
       "    </tr>\n",
       "    <tr>\n",
       "      <th>1</th>\n",
       "      <td>0.0</td>\n",
       "      <td>Konin</td>\n",
       "      <td>plac Lwowska 683</td>\n",
       "      <td>2021-01-19 12:53:55</td>\n",
       "      <td>2021-01-22 23:57:42.253201</td>\n",
       "      <td>360.0</td>\n",
       "      <td>83.063126</td>\n",
       "      <td>12</td>\n",
       "      <td>23</td>\n",
       "      <td>1</td>\n",
       "      <td>4</td>\n",
       "    </tr>\n",
       "    <tr>\n",
       "      <th>2</th>\n",
       "      <td>0.0</td>\n",
       "      <td>Konin</td>\n",
       "      <td>plac Lwowska 683</td>\n",
       "      <td>2021-01-06 23:21:16</td>\n",
       "      <td>2021-01-07 12:33:06.489077</td>\n",
       "      <td>516.0</td>\n",
       "      <td>13.197358</td>\n",
       "      <td>23</td>\n",
       "      <td>12</td>\n",
       "      <td>2</td>\n",
       "      <td>3</td>\n",
       "    </tr>\n",
       "    <tr>\n",
       "      <th>3</th>\n",
       "      <td>10.0</td>\n",
       "      <td>Mielec</td>\n",
       "      <td>plac Dąbrowskiego 81</td>\n",
       "      <td>2021-01-08 05:18:06</td>\n",
       "      <td>2021-01-09 11:58:32.498432</td>\n",
       "      <td>516.0</td>\n",
       "      <td>30.674027</td>\n",
       "      <td>5</td>\n",
       "      <td>11</td>\n",
       "      <td>4</td>\n",
       "      <td>5</td>\n",
       "    </tr>\n",
       "    <tr>\n",
       "      <th>4</th>\n",
       "      <td>0.0</td>\n",
       "      <td>Gdynia</td>\n",
       "      <td>plac Szmaragdowa 12/32</td>\n",
       "      <td>2021-03-02 11:32:16</td>\n",
       "      <td>2021-03-06 18:21:47.258348</td>\n",
       "      <td>620.0</td>\n",
       "      <td>102.825350</td>\n",
       "      <td>11</td>\n",
       "      <td>18</td>\n",
       "      <td>1</td>\n",
       "      <td>5</td>\n",
       "    </tr>\n",
       "    <tr>\n",
       "      <th>...</th>\n",
       "      <td>...</td>\n",
       "      <td>...</td>\n",
       "      <td>...</td>\n",
       "      <td>...</td>\n",
       "      <td>...</td>\n",
       "      <td>...</td>\n",
       "      <td>...</td>\n",
       "      <td>...</td>\n",
       "      <td>...</td>\n",
       "      <td>...</td>\n",
       "      <td>...</td>\n",
       "    </tr>\n",
       "    <tr>\n",
       "      <th>3543</th>\n",
       "      <td>5.0</td>\n",
       "      <td>Kutno</td>\n",
       "      <td>plac Rolnicza 21/37</td>\n",
       "      <td>2021-02-06 12:28:36</td>\n",
       "      <td>2021-02-09 18:12:10.982859</td>\n",
       "      <td>620.0</td>\n",
       "      <td>77.726384</td>\n",
       "      <td>12</td>\n",
       "      <td>18</td>\n",
       "      <td>5</td>\n",
       "      <td>1</td>\n",
       "    </tr>\n",
       "    <tr>\n",
       "      <th>3544</th>\n",
       "      <td>5.0</td>\n",
       "      <td>Konin</td>\n",
       "      <td>ulica Jeżynowa 02/56</td>\n",
       "      <td>2021-01-12 13:30:50</td>\n",
       "      <td>2021-01-14 14:44:17.570568</td>\n",
       "      <td>516.0</td>\n",
       "      <td>49.224325</td>\n",
       "      <td>13</td>\n",
       "      <td>14</td>\n",
       "      <td>1</td>\n",
       "      <td>3</td>\n",
       "    </tr>\n",
       "    <tr>\n",
       "      <th>3545</th>\n",
       "      <td>0.0</td>\n",
       "      <td>Radom</td>\n",
       "      <td>pl. Piękna 55</td>\n",
       "      <td>2021-01-04 14:34:38</td>\n",
       "      <td>2021-01-09 12:23:19.632091</td>\n",
       "      <td>620.0</td>\n",
       "      <td>117.811564</td>\n",
       "      <td>14</td>\n",
       "      <td>12</td>\n",
       "      <td>0</td>\n",
       "      <td>5</td>\n",
       "    </tr>\n",
       "    <tr>\n",
       "      <th>3546</th>\n",
       "      <td>10.0</td>\n",
       "      <td>Gdynia</td>\n",
       "      <td>al. Szmaragdowa 446</td>\n",
       "      <td>2021-02-16 15:43:12</td>\n",
       "      <td>2021-02-20 17:42:55.693973</td>\n",
       "      <td>360.0</td>\n",
       "      <td>97.995471</td>\n",
       "      <td>15</td>\n",
       "      <td>17</td>\n",
       "      <td>1</td>\n",
       "      <td>5</td>\n",
       "    </tr>\n",
       "    <tr>\n",
       "      <th>3547</th>\n",
       "      <td>10.0</td>\n",
       "      <td>Mielec</td>\n",
       "      <td>aleja Rejtana 36</td>\n",
       "      <td>2021-01-19 16:03:55</td>\n",
       "      <td>2021-01-21 13:35:12.905125</td>\n",
       "      <td>620.0</td>\n",
       "      <td>45.521640</td>\n",
       "      <td>16</td>\n",
       "      <td>13</td>\n",
       "      <td>1</td>\n",
       "      <td>3</td>\n",
       "    </tr>\n",
       "  </tbody>\n",
       "</table>\n",
       "<p>3548 rows × 11 columns</p>\n",
       "</div>"
      ],
      "text/plain": [
       "      offered_discount    city                  street  purchase_timestamp  \\\n",
       "0                  0.0   Konin        plac Lwowska 683 2021-01-24 20:02:58   \n",
       "1                  0.0   Konin        plac Lwowska 683 2021-01-19 12:53:55   \n",
       "2                  0.0   Konin        plac Lwowska 683 2021-01-06 23:21:16   \n",
       "3                 10.0  Mielec    plac Dąbrowskiego 81 2021-01-08 05:18:06   \n",
       "4                  0.0  Gdynia  plac Szmaragdowa 12/32 2021-03-02 11:32:16   \n",
       "...                ...     ...                     ...                 ...   \n",
       "3543               5.0   Kutno     plac Rolnicza 21/37 2021-02-06 12:28:36   \n",
       "3544               5.0   Konin    ulica Jeżynowa 02/56 2021-01-12 13:30:50   \n",
       "3545               0.0   Radom           pl. Piękna 55 2021-01-04 14:34:38   \n",
       "3546              10.0  Gdynia     al. Szmaragdowa 446 2021-02-16 15:43:12   \n",
       "3547              10.0  Mielec        aleja Rejtana 36 2021-01-19 16:03:55   \n",
       "\n",
       "             delivery_timestamp  delivery_company       hours  purchase_hour  \\\n",
       "0    2021-01-26 00:30:29.368742             620.0   28.458714             20   \n",
       "1    2021-01-22 23:57:42.253201             360.0   83.063126             12   \n",
       "2    2021-01-07 12:33:06.489077             516.0   13.197358             23   \n",
       "3    2021-01-09 11:58:32.498432             516.0   30.674027              5   \n",
       "4    2021-03-06 18:21:47.258348             620.0  102.825350             11   \n",
       "...                         ...               ...         ...            ...   \n",
       "3543 2021-02-09 18:12:10.982859             620.0   77.726384             12   \n",
       "3544 2021-01-14 14:44:17.570568             516.0   49.224325             13   \n",
       "3545 2021-01-09 12:23:19.632091             620.0  117.811564             14   \n",
       "3546 2021-02-20 17:42:55.693973             360.0   97.995471             15   \n",
       "3547 2021-01-21 13:35:12.905125             620.0   45.521640             16   \n",
       "\n",
       "      delivery_hour  purchase_dayofweek  delivery_dayofweek  \n",
       "0                 0                   6                   1  \n",
       "1                23                   1                   4  \n",
       "2                12                   2                   3  \n",
       "3                11                   4                   5  \n",
       "4                18                   1                   5  \n",
       "...             ...                 ...                 ...  \n",
       "3543             18                   5                   1  \n",
       "3544             14                   1                   3  \n",
       "3545             12                   0                   5  \n",
       "3546             17                   1                   5  \n",
       "3547             13                   1                   3  \n",
       "\n",
       "[3548 rows x 11 columns]"
      ]
     },
     "execution_count": 62,
     "metadata": {},
     "output_type": "execute_result"
    }
   ],
   "source": [
    "data.drop([\"timestamp\", \"user_id\", \"name\", \"event_type\", \"session_id\", \"product_id\", \"purchase_id\", \"product_name\", \"category_path\", \"price\"], axis=1, inplace=True)\n",
    "data"
   ]
  },
  {
   "cell_type": "markdown",
   "id": "dental-fossil",
   "metadata": {},
   "source": [
    "Jeżeli chodzi o same dostarczone dane, to posiadają wystarczające informacje na temat zamówień. Mamy informacje dokąd i kiedy została wysłana paczka, jaką firmą kurierską oraz kiedy została dostarczona."
   ]
  },
  {
   "cell_type": "markdown",
   "id": "ambient-conservative",
   "metadata": {},
   "source": [
    "# Podsumowanie\n",
    "Dostarczona struktura danych jest jak najbardziej wystarczająca (posiada najważniejsze informacje). Mamy kilka uwag, co do jakości danych:\n",
    "- duża ilość danych (~30%) ma niepoprawne czasy zakupu/dostawy (towary zostają dostarczone przed zamówieniem)\n",
    "- ogarniczony zakres czasu informacji o dostawach (tylko 3 miesiące)\n",
    "- część produktów ma nieporawne ceny (ujemne albo stanowczo za wysokie)\n",
    "- brak informacji o użytkowniku (w tym lokalizacji) dla niektórych zakupów\n",
    "\n",
    "W celu dalszej pracy musimy dostać poprawne dane."
   ]
  }
 ],
 "metadata": {
  "kernelspec": {
   "display_name": "Python 3",
   "language": "python",
   "name": "python3"
  },
  "language_info": {
   "codemirror_mode": {
    "name": "ipython",
    "version": 3
   },
   "file_extension": ".py",
   "mimetype": "text/x-python",
   "name": "python",
   "nbconvert_exporter": "python",
   "pygments_lexer": "ipython3",
   "version": "3.8.5"
  },
  "metadata": {
   "interpreter": {
    "hash": "31f2aee4e71d21fbe5cf8b01ff0e069b9275f58929596ceb00d14d90e3e16cd6"
   }
  }
 },
 "nbformat": 4,
 "nbformat_minor": 5
}
