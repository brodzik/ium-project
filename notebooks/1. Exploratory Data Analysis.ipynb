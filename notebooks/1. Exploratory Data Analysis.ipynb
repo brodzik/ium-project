{
 "cells": [
  {
   "cell_type": "code",
   "execution_count": 1,
   "id": "cloudy-particle",
   "metadata": {},
   "outputs": [],
   "source": [
    "# TODO: uzgodnić problemy i kryteria"
   ]
  },
  {
   "cell_type": "code",
   "execution_count": 2,
   "id": "spanish-interaction",
   "metadata": {},
   "outputs": [],
   "source": [
    "# TODO: założenia + co zrobić z podejrzanymi danymi"
   ]
  },
  {
   "cell_type": "markdown",
   "id": "focused-camera",
   "metadata": {},
   "source": [
    "# Zadanie\n",
    "Wygląda na to, że nasze firmy kurierskie czasami nie radzą sobie z dostawami. Gdybyśmy wiedzieli, ile taka dostawa dla danego zamówienia potrwa – moglibyśmy przekazywać tą informację klientom."
   ]
  },
  {
   "cell_type": "markdown",
   "id": "twelve-queue",
   "metadata": {},
   "source": [
    "# Problem biznesowy\n",
    "predykcja czasu dostawy zamówienia"
   ]
  },
  {
   "cell_type": "markdown",
   "id": "understanding-rugby",
   "metadata": {},
   "source": [
    "# Problem modelowania\n",
    "regresja"
   ]
  },
  {
   "cell_type": "markdown",
   "id": "frozen-austin",
   "metadata": {},
   "source": [
    "# Kryterium sukcesu\n",
    "błąd mniejszy niż jedna godzina"
   ]
  },
  {
   "cell_type": "code",
   "execution_count": 3,
   "id": "buried-campaign",
   "metadata": {},
   "outputs": [],
   "source": [
    "import pandas as pd\n",
    "import numpy as np\n",
    "import seaborn as sns\n",
    "import matplotlib.pyplot as plt"
   ]
  },
  {
   "cell_type": "code",
   "execution_count": 4,
   "id": "statewide-hunter",
   "metadata": {},
   "outputs": [],
   "source": [
    "sns.set()"
   ]
  },
  {
   "cell_type": "code",
   "execution_count": 5,
   "id": "alternative-distance",
   "metadata": {},
   "outputs": [],
   "source": [
    "deliveries = pd.read_json(\"../data/deliveries.jsonl\", lines=True)\n",
    "products = pd.read_json(\"../data/products.jsonl\", lines=True)\n",
    "sessions = pd.read_json(\"../data/sessions.jsonl\", lines=True)\n",
    "users = pd.read_json(\"../data/users.jsonl\", lines=True)"
   ]
  },
  {
   "cell_type": "markdown",
   "id": "restricted-google",
   "metadata": {},
   "source": [
    "# Tabela `deliveries`"
   ]
  },
  {
   "cell_type": "code",
   "execution_count": 6,
   "id": "endless-freeze",
   "metadata": {},
   "outputs": [],
   "source": [
    "deliveries[\"purchase_timestamp\"] = pd.to_datetime(deliveries[\"purchase_timestamp\"])\n",
    "deliveries[\"delivery_timestamp\"] = pd.to_datetime(deliveries[\"delivery_timestamp\"])"
   ]
  },
  {
   "cell_type": "code",
   "execution_count": 7,
   "id": "mysterious-stretch",
   "metadata": {},
   "outputs": [
    {
     "data": {
      "text/html": [
       "<div>\n",
       "<style scoped>\n",
       "    .dataframe tbody tr th:only-of-type {\n",
       "        vertical-align: middle;\n",
       "    }\n",
       "\n",
       "    .dataframe tbody tr th {\n",
       "        vertical-align: top;\n",
       "    }\n",
       "\n",
       "    .dataframe thead th {\n",
       "        text-align: right;\n",
       "    }\n",
       "</style>\n",
       "<table border=\"1\" class=\"dataframe\">\n",
       "  <thead>\n",
       "    <tr style=\"text-align: right;\">\n",
       "      <th></th>\n",
       "      <th>purchase_id</th>\n",
       "      <th>purchase_timestamp</th>\n",
       "      <th>delivery_timestamp</th>\n",
       "      <th>delivery_company</th>\n",
       "    </tr>\n",
       "  </thead>\n",
       "  <tbody>\n",
       "    <tr>\n",
       "      <th>0</th>\n",
       "      <td>20001</td>\n",
       "      <td>2021-01-24 20:02:58</td>\n",
       "      <td>2021-01-26 00:30:29.368742</td>\n",
       "      <td>620.0</td>\n",
       "    </tr>\n",
       "    <tr>\n",
       "      <th>1</th>\n",
       "      <td>20002</td>\n",
       "      <td>2021-01-06 23:21:24</td>\n",
       "      <td>2021-01-06 01:29:32.083389</td>\n",
       "      <td>516.0</td>\n",
       "    </tr>\n",
       "    <tr>\n",
       "      <th>2</th>\n",
       "      <td>20003</td>\n",
       "      <td>2021-01-23 11:43:51</td>\n",
       "      <td>2021-01-23 09:44:31.822244</td>\n",
       "      <td>360.0</td>\n",
       "    </tr>\n",
       "    <tr>\n",
       "      <th>3</th>\n",
       "      <td>20004</td>\n",
       "      <td>2021-01-25 02:28:31</td>\n",
       "      <td>2021-01-28 23:52:57.166791</td>\n",
       "      <td>516.0</td>\n",
       "    </tr>\n",
       "    <tr>\n",
       "      <th>4</th>\n",
       "      <td>20005</td>\n",
       "      <td>2021-01-19 11:04:49</td>\n",
       "      <td>NaT</td>\n",
       "      <td>620.0</td>\n",
       "    </tr>\n",
       "    <tr>\n",
       "      <th>...</th>\n",
       "      <td>...</td>\n",
       "      <td>...</td>\n",
       "      <td>...</td>\n",
       "      <td>...</td>\n",
       "    </tr>\n",
       "    <tr>\n",
       "      <th>6885</th>\n",
       "      <td>26886</td>\n",
       "      <td>2021-01-07 07:36:39</td>\n",
       "      <td>2021-01-07 04:43:15.422456</td>\n",
       "      <td>360.0</td>\n",
       "    </tr>\n",
       "    <tr>\n",
       "      <th>6886</th>\n",
       "      <td>26887</td>\n",
       "      <td>2021-02-23 23:32:16</td>\n",
       "      <td>2021-02-26 00:36:17.992452</td>\n",
       "      <td>516.0</td>\n",
       "    </tr>\n",
       "    <tr>\n",
       "      <th>6887</th>\n",
       "      <td>26888</td>\n",
       "      <td>2021-02-27 10:35:43</td>\n",
       "      <td>2021-03-01 13:33:51.588772</td>\n",
       "      <td>620.0</td>\n",
       "    </tr>\n",
       "    <tr>\n",
       "      <th>6888</th>\n",
       "      <td>26889</td>\n",
       "      <td>2021-01-28 10:22:54</td>\n",
       "      <td>2021-01-31 23:18:29.703033</td>\n",
       "      <td>360.0</td>\n",
       "    </tr>\n",
       "    <tr>\n",
       "      <th>6889</th>\n",
       "      <td>26890</td>\n",
       "      <td>2021-01-20 23:31:11</td>\n",
       "      <td>2021-01-19 06:44:42.891553</td>\n",
       "      <td>360.0</td>\n",
       "    </tr>\n",
       "  </tbody>\n",
       "</table>\n",
       "<p>6890 rows × 4 columns</p>\n",
       "</div>"
      ],
      "text/plain": [
       "      purchase_id  purchase_timestamp         delivery_timestamp  \\\n",
       "0           20001 2021-01-24 20:02:58 2021-01-26 00:30:29.368742   \n",
       "1           20002 2021-01-06 23:21:24 2021-01-06 01:29:32.083389   \n",
       "2           20003 2021-01-23 11:43:51 2021-01-23 09:44:31.822244   \n",
       "3           20004 2021-01-25 02:28:31 2021-01-28 23:52:57.166791   \n",
       "4           20005 2021-01-19 11:04:49                        NaT   \n",
       "...           ...                 ...                        ...   \n",
       "6885        26886 2021-01-07 07:36:39 2021-01-07 04:43:15.422456   \n",
       "6886        26887 2021-02-23 23:32:16 2021-02-26 00:36:17.992452   \n",
       "6887        26888 2021-02-27 10:35:43 2021-03-01 13:33:51.588772   \n",
       "6888        26889 2021-01-28 10:22:54 2021-01-31 23:18:29.703033   \n",
       "6889        26890 2021-01-20 23:31:11 2021-01-19 06:44:42.891553   \n",
       "\n",
       "      delivery_company  \n",
       "0                620.0  \n",
       "1                516.0  \n",
       "2                360.0  \n",
       "3                516.0  \n",
       "4                620.0  \n",
       "...                ...  \n",
       "6885             360.0  \n",
       "6886             516.0  \n",
       "6887             620.0  \n",
       "6888             360.0  \n",
       "6889             360.0  \n",
       "\n",
       "[6890 rows x 4 columns]"
      ]
     },
     "execution_count": 7,
     "metadata": {},
     "output_type": "execute_result"
    }
   ],
   "source": [
    "deliveries"
   ]
  },
  {
   "cell_type": "code",
   "execution_count": 8,
   "id": "cloudy-therapist",
   "metadata": {},
   "outputs": [
    {
     "name": "stdout",
     "output_type": "stream",
     "text": [
      "<class 'pandas.core.frame.DataFrame'>\n",
      "RangeIndex: 6890 entries, 0 to 6889\n",
      "Data columns (total 4 columns):\n",
      " #   Column              Non-Null Count  Dtype         \n",
      "---  ------              --------------  -----         \n",
      " 0   purchase_id         6890 non-null   int64         \n",
      " 1   purchase_timestamp  6890 non-null   datetime64[ns]\n",
      " 2   delivery_timestamp  6568 non-null   datetime64[ns]\n",
      " 3   delivery_company    6538 non-null   float64       \n",
      "dtypes: datetime64[ns](2), float64(1), int64(1)\n",
      "memory usage: 215.4 KB\n"
     ]
    }
   ],
   "source": [
    "deliveries.info()"
   ]
  },
  {
   "cell_type": "markdown",
   "id": "forced-obligation",
   "metadata": {},
   "source": [
    "Kolumna `purchase_id` jest kluczem głównym. Kolumny `purchase_timestamp` i `delivery_timestamp` to odpowiednio chwila sprzedaży i dostawy zamówienia. Chwila dostawy może być pusta, np. gdy zamówienie jest w drodze do klienta, anulowano zamówienie, itd. Kolumna `delivery_company` to identyfikator firmy odpowiedzialnej za dostawę, może być pusty."
   ]
  },
  {
   "cell_type": "code",
   "execution_count": 9,
   "id": "unlike-programming",
   "metadata": {},
   "outputs": [
    {
     "data": {
      "text/plain": [
       "Timestamp('2021-01-01 00:07:14')"
      ]
     },
     "execution_count": 9,
     "metadata": {},
     "output_type": "execute_result"
    }
   ],
   "source": [
    "deliveries[\"purchase_timestamp\"].min()"
   ]
  },
  {
   "cell_type": "code",
   "execution_count": 10,
   "id": "useful-jacksonville",
   "metadata": {},
   "outputs": [
    {
     "data": {
      "text/plain": [
       "Timestamp('2021-03-15 07:58:22')"
      ]
     },
     "execution_count": 10,
     "metadata": {},
     "output_type": "execute_result"
    }
   ],
   "source": [
    "deliveries[\"purchase_timestamp\"].max()"
   ]
  },
  {
   "cell_type": "code",
   "execution_count": 11,
   "id": "alpha-devices",
   "metadata": {},
   "outputs": [
    {
     "data": {
      "text/plain": [
       "<AxesSubplot:>"
      ]
     },
     "execution_count": 11,
     "metadata": {},
     "output_type": "execute_result"
    },
    {
     "data": {
      "image/png": "[encoded data removed]",
      "text/plain": [
       "<Figure size 432x288 with 1 Axes>"
      ]
     },
     "metadata": {},
     "output_type": "display_data"
    }
   ],
   "source": [
    "deliveries[\"purchase_timestamp\"].hist()"
   ]
  },
  {
   "cell_type": "markdown",
   "id": "successful-underwear",
   "metadata": {},
   "source": [
    "Kolumna `purchase_timestamp` ma zakres wartości od `2021-01-01` do `2021-03-15` o rozkładzie jednostajnym."
   ]
  },
  {
   "cell_type": "code",
   "execution_count": 12,
   "id": "suspended-ontario",
   "metadata": {},
   "outputs": [
    {
     "data": {
      "text/plain": [
       "Timestamp('2020-12-28 13:50:46.789583')"
      ]
     },
     "execution_count": 12,
     "metadata": {},
     "output_type": "execute_result"
    }
   ],
   "source": [
    "deliveries[\"delivery_timestamp\"].min()"
   ]
  },
  {
   "cell_type": "code",
   "execution_count": 13,
   "id": "biblical-afternoon",
   "metadata": {},
   "outputs": [
    {
     "data": {
      "text/plain": [
       "Timestamp('2021-03-21 00:38:39.205756')"
      ]
     },
     "execution_count": 13,
     "metadata": {},
     "output_type": "execute_result"
    }
   ],
   "source": [
    "deliveries[\"delivery_timestamp\"].max()"
   ]
  },
  {
   "cell_type": "code",
   "execution_count": 14,
   "id": "pressed-fault",
   "metadata": {},
   "outputs": [
    {
     "data": {
      "text/plain": [
       "<AxesSubplot:>"
      ]
     },
     "execution_count": 14,
     "metadata": {},
     "output_type": "execute_result"
    },
    {
     "data": {
      "image/png": "[encoded data removed]",
      "text/plain": [
       "<Figure size 432x288 with 1 Axes>"
      ]
     },
     "metadata": {},
     "output_type": "display_data"
    }
   ],
   "source": [
    "deliveries[\"delivery_timestamp\"].hist()"
   ]
  },
  {
   "cell_type": "code",
   "execution_count": 15,
   "id": "agricultural-original",
   "metadata": {},
   "outputs": [
    {
     "data": {
      "text/html": [
       "<div>\n",
       "<style scoped>\n",
       "    .dataframe tbody tr th:only-of-type {\n",
       "        vertical-align: middle;\n",
       "    }\n",
       "\n",
       "    .dataframe tbody tr th {\n",
       "        vertical-align: top;\n",
       "    }\n",
       "\n",
       "    .dataframe thead th {\n",
       "        text-align: right;\n",
       "    }\n",
       "</style>\n",
       "<table border=\"1\" class=\"dataframe\">\n",
       "  <thead>\n",
       "    <tr style=\"text-align: right;\">\n",
       "      <th></th>\n",
       "      <th>purchase_id</th>\n",
       "      <th>purchase_timestamp</th>\n",
       "      <th>delivery_timestamp</th>\n",
       "      <th>delivery_company</th>\n",
       "    </tr>\n",
       "  </thead>\n",
       "  <tbody>\n",
       "    <tr>\n",
       "      <th>1</th>\n",
       "      <td>20002</td>\n",
       "      <td>2021-01-06 23:21:24</td>\n",
       "      <td>2021-01-06 01:29:32.083389</td>\n",
       "      <td>516.0</td>\n",
       "    </tr>\n",
       "    <tr>\n",
       "      <th>2</th>\n",
       "      <td>20003</td>\n",
       "      <td>2021-01-23 11:43:51</td>\n",
       "      <td>2021-01-23 09:44:31.822244</td>\n",
       "      <td>360.0</td>\n",
       "    </tr>\n",
       "    <tr>\n",
       "      <th>6</th>\n",
       "      <td>20007</td>\n",
       "      <td>2021-01-16 21:38:04</td>\n",
       "      <td>2021-01-12 20:33:08.646922</td>\n",
       "      <td>360.0</td>\n",
       "    </tr>\n",
       "    <tr>\n",
       "      <th>8</th>\n",
       "      <td>20009</td>\n",
       "      <td>2021-02-22 06:09:39</td>\n",
       "      <td>2021-02-20 21:03:18.673649</td>\n",
       "      <td>620.0</td>\n",
       "    </tr>\n",
       "    <tr>\n",
       "      <th>9</th>\n",
       "      <td>20010</td>\n",
       "      <td>2021-01-28 05:10:38</td>\n",
       "      <td>2021-01-27 01:53:40.728429</td>\n",
       "      <td>620.0</td>\n",
       "    </tr>\n",
       "    <tr>\n",
       "      <th>...</th>\n",
       "      <td>...</td>\n",
       "      <td>...</td>\n",
       "      <td>...</td>\n",
       "      <td>...</td>\n",
       "    </tr>\n",
       "    <tr>\n",
       "      <th>6876</th>\n",
       "      <td>26877</td>\n",
       "      <td>2021-02-08 02:51:39</td>\n",
       "      <td>2021-02-04 04:23:51.523515</td>\n",
       "      <td>620.0</td>\n",
       "    </tr>\n",
       "    <tr>\n",
       "      <th>6878</th>\n",
       "      <td>26879</td>\n",
       "      <td>2021-02-28 08:43:52</td>\n",
       "      <td>2021-02-26 05:51:29.003432</td>\n",
       "      <td>620.0</td>\n",
       "    </tr>\n",
       "    <tr>\n",
       "      <th>6879</th>\n",
       "      <td>26880</td>\n",
       "      <td>2021-02-26 11:25:49</td>\n",
       "      <td>2021-02-25 00:50:23.176778</td>\n",
       "      <td>516.0</td>\n",
       "    </tr>\n",
       "    <tr>\n",
       "      <th>6885</th>\n",
       "      <td>26886</td>\n",
       "      <td>2021-01-07 07:36:39</td>\n",
       "      <td>2021-01-07 04:43:15.422456</td>\n",
       "      <td>360.0</td>\n",
       "    </tr>\n",
       "    <tr>\n",
       "      <th>6889</th>\n",
       "      <td>26890</td>\n",
       "      <td>2021-01-20 23:31:11</td>\n",
       "      <td>2021-01-19 06:44:42.891553</td>\n",
       "      <td>360.0</td>\n",
       "    </tr>\n",
       "  </tbody>\n",
       "</table>\n",
       "<p>2017 rows × 4 columns</p>\n",
       "</div>"
      ],
      "text/plain": [
       "      purchase_id  purchase_timestamp         delivery_timestamp  \\\n",
       "1           20002 2021-01-06 23:21:24 2021-01-06 01:29:32.083389   \n",
       "2           20003 2021-01-23 11:43:51 2021-01-23 09:44:31.822244   \n",
       "6           20007 2021-01-16 21:38:04 2021-01-12 20:33:08.646922   \n",
       "8           20009 2021-02-22 06:09:39 2021-02-20 21:03:18.673649   \n",
       "9           20010 2021-01-28 05:10:38 2021-01-27 01:53:40.728429   \n",
       "...           ...                 ...                        ...   \n",
       "6876        26877 2021-02-08 02:51:39 2021-02-04 04:23:51.523515   \n",
       "6878        26879 2021-02-28 08:43:52 2021-02-26 05:51:29.003432   \n",
       "6879        26880 2021-02-26 11:25:49 2021-02-25 00:50:23.176778   \n",
       "6885        26886 2021-01-07 07:36:39 2021-01-07 04:43:15.422456   \n",
       "6889        26890 2021-01-20 23:31:11 2021-01-19 06:44:42.891553   \n",
       "\n",
       "      delivery_company  \n",
       "1                516.0  \n",
       "2                360.0  \n",
       "6                360.0  \n",
       "8                620.0  \n",
       "9                620.0  \n",
       "...                ...  \n",
       "6876             620.0  \n",
       "6878             620.0  \n",
       "6879             516.0  \n",
       "6885             360.0  \n",
       "6889             360.0  \n",
       "\n",
       "[2017 rows x 4 columns]"
      ]
     },
     "execution_count": 15,
     "metadata": {},
     "output_type": "execute_result"
    }
   ],
   "source": [
    "deliveries[deliveries[\"purchase_timestamp\"] > deliveries[\"delivery_timestamp\"]]"
   ]
  },
  {
   "cell_type": "markdown",
   "id": "golden-picture",
   "metadata": {},
   "source": [
    "Kolumna `delivery_timestamp` ma zakres wartości od `2020-12-28` do `2021-03-21` o przybliżonym rozkładzie jednostajnym. Podejrzane jest to, że niektóre wartości są mniejsze niż `purchase_timestamp` (ok. 30% danych)."
   ]
  },
  {
   "cell_type": "code",
   "execution_count": 16,
   "id": "unsigned-scene",
   "metadata": {},
   "outputs": [
    {
     "data": {
      "text/plain": [
       "[360.0, 516.0, 620.0, nan]"
      ]
     },
     "execution_count": 16,
     "metadata": {},
     "output_type": "execute_result"
    }
   ],
   "source": [
    "sorted(deliveries[\"delivery_company\"].unique())"
   ]
  },
  {
   "cell_type": "markdown",
   "id": "corrected-emergency",
   "metadata": {},
   "source": [
    "Kolumna `delivery_company` tak naprawdę jest typem dyskretnym o trzech możliwych niepustych wartościach. Może zostać zakodowana metodą *one-hot*."
   ]
  },
  {
   "cell_type": "code",
   "execution_count": 17,
   "id": "consistent-material",
   "metadata": {},
   "outputs": [],
   "source": [
    "deliveries[\"hours\"] = (deliveries[\"delivery_timestamp\"] - deliveries[\"purchase_timestamp\"]).dt.total_seconds() / 3600"
   ]
  },
  {
   "cell_type": "markdown",
   "id": "developed-international",
   "metadata": {},
   "source": [
    "Możemy stworzyć nową kolumnę czasu dostawy `hours` będącą różnicą `delivery_timestamp` i `purchase_timestamp` wyrażoną w godzinach. Czas dostawy jest rozkładem normalnym $\\mu=24.2$, $\\sigma=47.4$."
   ]
  },
  {
   "cell_type": "code",
   "execution_count": 18,
   "id": "aggressive-intermediate",
   "metadata": {},
   "outputs": [
    {
     "data": {
      "text/plain": [
       "-145.25644821361112"
      ]
     },
     "execution_count": 18,
     "metadata": {},
     "output_type": "execute_result"
    }
   ],
   "source": [
    "deliveries[\"hours\"].min()"
   ]
  },
  {
   "cell_type": "code",
   "execution_count": 19,
   "id": "specific-princeton",
   "metadata": {},
   "outputs": [
    {
     "data": {
      "text/plain": [
       "211.68822097"
      ]
     },
     "execution_count": 19,
     "metadata": {},
     "output_type": "execute_result"
    }
   ],
   "source": [
    "deliveries[\"hours\"].max()"
   ]
  },
  {
   "cell_type": "code",
   "execution_count": 20,
   "id": "accredited-credit",
   "metadata": {},
   "outputs": [
    {
     "data": {
      "text/plain": [
       "24.20284636724477"
      ]
     },
     "execution_count": 20,
     "metadata": {},
     "output_type": "execute_result"
    }
   ],
   "source": [
    "deliveries[\"hours\"].mean()"
   ]
  },
  {
   "cell_type": "code",
   "execution_count": 21,
   "id": "figured-space",
   "metadata": {},
   "outputs": [
    {
     "data": {
      "text/plain": [
       "47.417679139502866"
      ]
     },
     "execution_count": 21,
     "metadata": {},
     "output_type": "execute_result"
    }
   ],
   "source": [
    "deliveries[\"hours\"].std()"
   ]
  },
  {
   "cell_type": "code",
   "execution_count": 22,
   "id": "continental-distribution",
   "metadata": {},
   "outputs": [
    {
     "data": {
      "image/png": "[encoded data removed]",
      "text/plain": [
       "<Figure size 432x288 with 1 Axes>"
      ]
     },
     "metadata": {},
     "output_type": "display_data"
    }
   ],
   "source": [
    "ax = sns.histplot(deliveries[\"hours\"], kde=True)\n",
    "ax.set(xlabel=\"czas dostawy\", ylabel=\"liczba przypadków\")\n",
    "plt.show()"
   ]
  },
  {
   "cell_type": "markdown",
   "id": "burning-genesis",
   "metadata": {},
   "source": [
    "Podejrzane dane o ujemnym czasie dostawy możemy usunąć, wówczas dystrybucja trochę się zmienia."
   ]
  },
  {
   "cell_type": "code",
   "execution_count": 23,
   "id": "answering-automation",
   "metadata": {},
   "outputs": [],
   "source": [
    "temp = deliveries[deliveries[\"hours\"] > 0].copy()"
   ]
  },
  {
   "cell_type": "code",
   "execution_count": 24,
   "id": "outer-factor",
   "metadata": {},
   "outputs": [
    {
     "data": {
      "text/plain": [
       "0.012897871666666666"
      ]
     },
     "execution_count": 24,
     "metadata": {},
     "output_type": "execute_result"
    }
   ],
   "source": [
    "temp[\"hours\"].min()"
   ]
  },
  {
   "cell_type": "code",
   "execution_count": 25,
   "id": "rising-conference",
   "metadata": {},
   "outputs": [
    {
     "data": {
      "text/plain": [
       "211.68822097"
      ]
     },
     "execution_count": 25,
     "metadata": {},
     "output_type": "execute_result"
    }
   ],
   "source": [
    "temp[\"hours\"].max()"
   ]
  },
  {
   "cell_type": "code",
   "execution_count": 26,
   "id": "spectacular-listing",
   "metadata": {},
   "outputs": [
    {
     "data": {
      "text/plain": [
       "48.30674818347067"
      ]
     },
     "execution_count": 26,
     "metadata": {},
     "output_type": "execute_result"
    }
   ],
   "source": [
    "temp[\"hours\"].mean()"
   ]
  },
  {
   "cell_type": "code",
   "execution_count": 27,
   "id": "jewish-language",
   "metadata": {},
   "outputs": [
    {
     "data": {
      "text/plain": [
       "33.0783820444986"
      ]
     },
     "execution_count": 27,
     "metadata": {},
     "output_type": "execute_result"
    }
   ],
   "source": [
    "temp[\"hours\"].std()"
   ]
  },
  {
   "cell_type": "code",
   "execution_count": 28,
   "id": "prescription-daniel",
   "metadata": {},
   "outputs": [
    {
     "data": {
      "image/png": "[encoded data removed]",
      "text/plain": [
       "<Figure size 432x288 with 1 Axes>"
      ]
     },
     "metadata": {},
     "output_type": "display_data"
    }
   ],
   "source": [
    "ax = sns.histplot(temp[\"hours\"])\n",
    "ax.set(xlabel=\"czas dostawy\", ylabel=\"liczba przypadków\")\n",
    "plt.show()"
   ]
  },
  {
   "cell_type": "markdown",
   "id": "enabling-adventure",
   "metadata": {},
   "source": [
    "Dane o nieujemnym czasie dostawy pochodzą tylko z trzech miesięcy. Istnieje ryzyko, że czasy dostawy znacznie będą się różnić w innych miesiącach, np. w okresie świątecznym."
   ]
  },
  {
   "cell_type": "code",
   "execution_count": 29,
   "id": "southern-career",
   "metadata": {},
   "outputs": [],
   "source": [
    "temp[\"purchase_month\"] = temp[\"purchase_timestamp\"].dt.month\n",
    "temp[\"purchase_year\"] = temp[\"purchase_timestamp\"].dt.year"
   ]
  },
  {
   "cell_type": "code",
   "execution_count": 30,
   "id": "coral-netherlands",
   "metadata": {},
   "outputs": [
    {
     "data": {
      "text/plain": [
       "array([1, 2, 3], dtype=int64)"
      ]
     },
     "execution_count": 30,
     "metadata": {},
     "output_type": "execute_result"
    }
   ],
   "source": [
    "temp[\"purchase_month\"].unique()"
   ]
  },
  {
   "cell_type": "code",
   "execution_count": 31,
   "id": "foreign-conversation",
   "metadata": {},
   "outputs": [
    {
     "data": {
      "text/plain": [
       "array([2021], dtype=int64)"
      ]
     },
     "execution_count": 31,
     "metadata": {},
     "output_type": "execute_result"
    }
   ],
   "source": [
    "temp[\"purchase_year\"].unique()"
   ]
  },
  {
   "cell_type": "code",
   "execution_count": 32,
   "id": "religious-wrong",
   "metadata": {},
   "outputs": [
    {
     "data": {
      "text/plain": [
       "purchase_month\n",
       "1    47.626712\n",
       "2    48.604918\n",
       "3    49.288040\n",
       "Name: hours, dtype: float64"
      ]
     },
     "execution_count": 32,
     "metadata": {},
     "output_type": "execute_result"
    }
   ],
   "source": [
    "temp.groupby([\"purchase_month\"])[\"hours\"].mean()"
   ]
  },
  {
   "cell_type": "code",
   "execution_count": 33,
   "id": "transsexual-startup",
   "metadata": {},
   "outputs": [
    {
     "data": {
      "text/plain": [
       "purchase_month\n",
       "1    32.736330\n",
       "2    33.019577\n",
       "3    33.987504\n",
       "Name: hours, dtype: float64"
      ]
     },
     "execution_count": 33,
     "metadata": {},
     "output_type": "execute_result"
    }
   ],
   "source": [
    "temp.groupby([\"purchase_month\"])[\"hours\"].std()"
   ]
  },
  {
   "cell_type": "markdown",
   "id": "proved-haiti",
   "metadata": {},
   "source": [
    "# Tabela `products`"
   ]
  },
  {
   "cell_type": "code",
   "execution_count": 34,
   "id": "suitable-locking",
   "metadata": {},
   "outputs": [
    {
     "data": {
      "text/html": [
       "<div>\n",
       "<style scoped>\n",
       "    .dataframe tbody tr th:only-of-type {\n",
       "        vertical-align: middle;\n",
       "    }\n",
       "\n",
       "    .dataframe tbody tr th {\n",
       "        vertical-align: top;\n",
       "    }\n",
       "\n",
       "    .dataframe thead th {\n",
       "        text-align: right;\n",
       "    }\n",
       "</style>\n",
       "<table border=\"1\" class=\"dataframe\">\n",
       "  <thead>\n",
       "    <tr style=\"text-align: right;\">\n",
       "      <th></th>\n",
       "      <th>product_id</th>\n",
       "      <th>product_name</th>\n",
       "      <th>category_path</th>\n",
       "      <th>price</th>\n",
       "    </tr>\n",
       "  </thead>\n",
       "  <tbody>\n",
       "    <tr>\n",
       "      <th>0</th>\n",
       "      <td>1001</td>\n",
       "      <td>Telefon Siemens Gigaset DA310</td>\n",
       "      <td>Telefony i akcesoria;Telefony stacjonarne</td>\n",
       "      <td>5.897000e+01</td>\n",
       "    </tr>\n",
       "    <tr>\n",
       "      <th>1</th>\n",
       "      <td>1002</td>\n",
       "      <td>Kyocera FS-1135MFP</td>\n",
       "      <td>Komputery;Drukarki i skanery;Biurowe urządzeni...</td>\n",
       "      <td>2.048500e+09</td>\n",
       "    </tr>\n",
       "    <tr>\n",
       "      <th>2</th>\n",
       "      <td>1003</td>\n",
       "      <td>Kyocera FS-3640MFP</td>\n",
       "      <td>Komputery;Drukarki i skanery;Biurowe urządzeni...</td>\n",
       "      <td>7.639000e+03</td>\n",
       "    </tr>\n",
       "    <tr>\n",
       "      <th>3</th>\n",
       "      <td>1004</td>\n",
       "      <td>Fallout 3 (Xbox 360)</td>\n",
       "      <td>Gry i konsole;Gry na konsole;Gry Xbox 360</td>\n",
       "      <td>4.999000e+01</td>\n",
       "    </tr>\n",
       "    <tr>\n",
       "      <th>4</th>\n",
       "      <td>1005</td>\n",
       "      <td>Szalone Króliki Na żywo i w kolorze (Xbox 360)</td>\n",
       "      <td>Gry i konsole;Gry na konsole;Gry Xbox 360</td>\n",
       "      <td>4.999000e+01</td>\n",
       "    </tr>\n",
       "    <tr>\n",
       "      <th>...</th>\n",
       "      <td>...</td>\n",
       "      <td>...</td>\n",
       "      <td>...</td>\n",
       "      <td>...</td>\n",
       "    </tr>\n",
       "    <tr>\n",
       "      <th>314</th>\n",
       "      <td>1315</td>\n",
       "      <td>Jabra Talk</td>\n",
       "      <td>Telefony i akcesoria;Akcesoria telefoniczne;Ze...</td>\n",
       "      <td>5.499000e+01</td>\n",
       "    </tr>\n",
       "    <tr>\n",
       "      <th>315</th>\n",
       "      <td>1316</td>\n",
       "      <td>Plantronics Voyager Legend</td>\n",
       "      <td>Telefony i akcesoria;Akcesoria telefoniczne;Ze...</td>\n",
       "      <td>2.490000e+02</td>\n",
       "    </tr>\n",
       "    <tr>\n",
       "      <th>316</th>\n",
       "      <td>1317</td>\n",
       "      <td>Plantronics Savi W740</td>\n",
       "      <td>Telefony i akcesoria;Akcesoria telefoniczne;Ze...</td>\n",
       "      <td>-1.303960e+03</td>\n",
       "    </tr>\n",
       "    <tr>\n",
       "      <th>317</th>\n",
       "      <td>1318</td>\n",
       "      <td>Plantronics Savi W710</td>\n",
       "      <td>Sprzęt RTV;Audio;Słuchawki</td>\n",
       "      <td>-5.530000e+02</td>\n",
       "    </tr>\n",
       "    <tr>\n",
       "      <th>318</th>\n",
       "      <td>1319</td>\n",
       "      <td>HTC HS-S200</td>\n",
       "      <td>Telefony i akcesoria;Akcesoria telefoniczne;Ze...</td>\n",
       "      <td>1.499000e+01</td>\n",
       "    </tr>\n",
       "  </tbody>\n",
       "</table>\n",
       "<p>319 rows × 4 columns</p>\n",
       "</div>"
      ],
      "text/plain": [
       "     product_id                                    product_name  \\\n",
       "0          1001                   Telefon Siemens Gigaset DA310   \n",
       "1          1002                              Kyocera FS-1135MFP   \n",
       "2          1003                              Kyocera FS-3640MFP   \n",
       "3          1004                            Fallout 3 (Xbox 360)   \n",
       "4          1005  Szalone Króliki Na żywo i w kolorze (Xbox 360)   \n",
       "..          ...                                             ...   \n",
       "314        1315                                      Jabra Talk   \n",
       "315        1316                      Plantronics Voyager Legend   \n",
       "316        1317                           Plantronics Savi W740   \n",
       "317        1318                           Plantronics Savi W710   \n",
       "318        1319                                     HTC HS-S200   \n",
       "\n",
       "                                         category_path         price  \n",
       "0            Telefony i akcesoria;Telefony stacjonarne  5.897000e+01  \n",
       "1    Komputery;Drukarki i skanery;Biurowe urządzeni...  2.048500e+09  \n",
       "2    Komputery;Drukarki i skanery;Biurowe urządzeni...  7.639000e+03  \n",
       "3            Gry i konsole;Gry na konsole;Gry Xbox 360  4.999000e+01  \n",
       "4            Gry i konsole;Gry na konsole;Gry Xbox 360  4.999000e+01  \n",
       "..                                                 ...           ...  \n",
       "314  Telefony i akcesoria;Akcesoria telefoniczne;Ze...  5.499000e+01  \n",
       "315  Telefony i akcesoria;Akcesoria telefoniczne;Ze...  2.490000e+02  \n",
       "316  Telefony i akcesoria;Akcesoria telefoniczne;Ze... -1.303960e+03  \n",
       "317                         Sprzęt RTV;Audio;Słuchawki -5.530000e+02  \n",
       "318  Telefony i akcesoria;Akcesoria telefoniczne;Ze...  1.499000e+01  \n",
       "\n",
       "[319 rows x 4 columns]"
      ]
     },
     "execution_count": 34,
     "metadata": {},
     "output_type": "execute_result"
    }
   ],
   "source": [
    "products"
   ]
  },
  {
   "cell_type": "code",
   "execution_count": 35,
   "id": "elegant-battle",
   "metadata": {},
   "outputs": [
    {
     "name": "stdout",
     "output_type": "stream",
     "text": [
      "<class 'pandas.core.frame.DataFrame'>\n",
      "RangeIndex: 319 entries, 0 to 318\n",
      "Data columns (total 4 columns):\n",
      " #   Column         Non-Null Count  Dtype  \n",
      "---  ------         --------------  -----  \n",
      " 0   product_id     319 non-null    int64  \n",
      " 1   product_name   319 non-null    object \n",
      " 2   category_path  319 non-null    object \n",
      " 3   price          319 non-null    float64\n",
      "dtypes: float64(1), int64(1), object(2)\n",
      "memory usage: 10.1+ KB\n"
     ]
    }
   ],
   "source": [
    "products.info()"
   ]
  },
  {
   "cell_type": "markdown",
   "id": "given-skating",
   "metadata": {},
   "source": [
    "Kolumna `product_id` jest kluczem głównym. Kolumna `product_name` jest nazwą produktu, można zakodować metodą *word embeddings*. Kolumna `category_path` jest hierarchią kategorii, do których należy produkt, można zakodować metodą *one-hot*."
   ]
  },
  {
   "cell_type": "code",
   "execution_count": 36,
   "id": "adaptive-latitude",
   "metadata": {},
   "outputs": [
    {
     "data": {
      "text/plain": [
       "['akcesoria telefoniczne',\n",
       " 'anteny rtv',\n",
       " 'audio',\n",
       " 'biurowe urządzenia wielofunkcyjne',\n",
       " 'drukarki i skanery',\n",
       " 'gry i konsole',\n",
       " 'gry komputerowe',\n",
       " 'gry na konsole',\n",
       " 'gry playstation3',\n",
       " 'gry xbox 360',\n",
       " 'komputery',\n",
       " 'monitory',\n",
       " 'monitory lcd',\n",
       " 'odtwarzacze dvd',\n",
       " 'odtwarzacze mp3 i mp4',\n",
       " 'okulary 3d',\n",
       " 'przenośne audio i video',\n",
       " 'sprzęt rtv',\n",
       " 'słuchawki',\n",
       " 'tablety',\n",
       " 'tablety i akcesoria',\n",
       " 'telefony i akcesoria',\n",
       " 'telefony komórkowe',\n",
       " 'telefony stacjonarne',\n",
       " 'telewizory i akcesoria',\n",
       " 'video',\n",
       " 'zestawy głośnomówiące',\n",
       " 'zestawy słuchawkowe']"
      ]
     },
     "execution_count": 36,
     "metadata": {},
     "output_type": "execute_result"
    }
   ],
   "source": [
    "categories = set()\n",
    "\n",
    "for x in products[\"category_path\"]:\n",
    "    categories.update(x.lower().split(\";\"))\n",
    "\n",
    "sorted(categories)"
   ]
  },
  {
   "cell_type": "markdown",
   "id": "respiratory-adjustment",
   "metadata": {},
   "source": [
    "Kolumna `price` jest ceną produktu. Podejrzane jest to, że niektóre produkty mają absurdalnie wysoką ($>10^6$) lub ujemną cenę, może są wyłączone ze sprzedaży."
   ]
  },
  {
   "cell_type": "code",
   "execution_count": 37,
   "id": "express-unemployment",
   "metadata": {},
   "outputs": [
    {
     "data": {
      "text/plain": [
       "-1303.96"
      ]
     },
     "execution_count": 37,
     "metadata": {},
     "output_type": "execute_result"
    }
   ],
   "source": [
    "products[\"price\"].min()"
   ]
  },
  {
   "cell_type": "code",
   "execution_count": 38,
   "id": "growing-hebrew",
   "metadata": {},
   "outputs": [
    {
     "data": {
      "text/plain": [
       "5259000000.0"
      ]
     },
     "execution_count": 38,
     "metadata": {},
     "output_type": "execute_result"
    }
   ],
   "source": [
    "products[\"price\"].max()"
   ]
  },
  {
   "cell_type": "code",
   "execution_count": 39,
   "id": "pregnant-oasis",
   "metadata": {},
   "outputs": [
    {
     "data": {
      "text/plain": [
       "35609195.75752351"
      ]
     },
     "execution_count": 39,
     "metadata": {},
     "output_type": "execute_result"
    }
   ],
   "source": [
    "products[\"price\"].mean()"
   ]
  },
  {
   "cell_type": "code",
   "execution_count": 40,
   "id": "curious-piano",
   "metadata": {},
   "outputs": [
    {
     "data": {
      "text/plain": [
       "341043170.2423"
      ]
     },
     "execution_count": 40,
     "metadata": {},
     "output_type": "execute_result"
    }
   ],
   "source": [
    "products[\"price\"].std()"
   ]
  },
  {
   "cell_type": "code",
   "execution_count": 41,
   "id": "unknown-affiliate",
   "metadata": {},
   "outputs": [
    {
     "data": {
      "text/html": [
       "<div>\n",
       "<style scoped>\n",
       "    .dataframe tbody tr th:only-of-type {\n",
       "        vertical-align: middle;\n",
       "    }\n",
       "\n",
       "    .dataframe tbody tr th {\n",
       "        vertical-align: top;\n",
       "    }\n",
       "\n",
       "    .dataframe thead th {\n",
       "        text-align: right;\n",
       "    }\n",
       "</style>\n",
       "<table border=\"1\" class=\"dataframe\">\n",
       "  <thead>\n",
       "    <tr style=\"text-align: right;\">\n",
       "      <th></th>\n",
       "      <th>product_id</th>\n",
       "      <th>product_name</th>\n",
       "      <th>category_path</th>\n",
       "      <th>price</th>\n",
       "    </tr>\n",
       "  </thead>\n",
       "  <tbody>\n",
       "    <tr>\n",
       "      <th>1</th>\n",
       "      <td>1002</td>\n",
       "      <td>Kyocera FS-1135MFP</td>\n",
       "      <td>Komputery;Drukarki i skanery;Biurowe urządzeni...</td>\n",
       "      <td>2.048500e+09</td>\n",
       "    </tr>\n",
       "    <tr>\n",
       "      <th>16</th>\n",
       "      <td>1017</td>\n",
       "      <td>LCD Dell U2412M</td>\n",
       "      <td>Komputery;Monitory;Monitory LCD</td>\n",
       "      <td>3.990000e+08</td>\n",
       "    </tr>\n",
       "    <tr>\n",
       "      <th>27</th>\n",
       "      <td>1028</td>\n",
       "      <td>Sniper Ghost Warrior 2 (Xbox 360)</td>\n",
       "      <td>Gry i konsole;Gry na konsole;Gry Xbox 360</td>\n",
       "      <td>3.900000e+07</td>\n",
       "    </tr>\n",
       "    <tr>\n",
       "      <th>34</th>\n",
       "      <td>1035</td>\n",
       "      <td>Samsung Galaxy S III GT-i9300</td>\n",
       "      <td>Telefony i akcesoria;Telefony komórkowe</td>\n",
       "      <td>2.199900e+09</td>\n",
       "    </tr>\n",
       "    <tr>\n",
       "      <th>35</th>\n",
       "      <td>1036</td>\n",
       "      <td>LCD Asus VK228H</td>\n",
       "      <td>Komputery;Monitory;Monitory LCD</td>\n",
       "      <td>6.390000e+08</td>\n",
       "    </tr>\n",
       "    <tr>\n",
       "      <th>38</th>\n",
       "      <td>1039</td>\n",
       "      <td>LCD Asus VS197D</td>\n",
       "      <td>Komputery;Monitory;Monitory LCD</td>\n",
       "      <td>2.690000e+08</td>\n",
       "    </tr>\n",
       "    <tr>\n",
       "      <th>44</th>\n",
       "      <td>1045</td>\n",
       "      <td>Call of Duty Modern Warfare 2 (PS3)</td>\n",
       "      <td>Gry i konsole;Gry na konsole;Gry PlayStation3</td>\n",
       "      <td>5.990000e+07</td>\n",
       "    </tr>\n",
       "    <tr>\n",
       "      <th>80</th>\n",
       "      <td>1081</td>\n",
       "      <td>OKI B840dn</td>\n",
       "      <td>Komputery;Drukarki i skanery;Biurowe urządzeni...</td>\n",
       "      <td>5.259000e+09</td>\n",
       "    </tr>\n",
       "    <tr>\n",
       "      <th>163</th>\n",
       "      <td>1164</td>\n",
       "      <td>Aliens Colonial Marines (PC)</td>\n",
       "      <td>Gry i konsole;Gry komputerowe</td>\n",
       "      <td>1.129900e+08</td>\n",
       "    </tr>\n",
       "    <tr>\n",
       "      <th>190</th>\n",
       "      <td>1191</td>\n",
       "      <td>Red Faction Guerrilla (PC)</td>\n",
       "      <td>Gry i konsole;Gry komputerowe</td>\n",
       "      <td>1.999000e+07</td>\n",
       "    </tr>\n",
       "    <tr>\n",
       "      <th>215</th>\n",
       "      <td>1216</td>\n",
       "      <td>Damnation (PC)</td>\n",
       "      <td>Gry i konsole;Gry komputerowe</td>\n",
       "      <td>3.499000e+07</td>\n",
       "    </tr>\n",
       "    <tr>\n",
       "      <th>286</th>\n",
       "      <td>1287</td>\n",
       "      <td>Philips SDV6226</td>\n",
       "      <td>Sprzęt RTV;Video;Telewizory i akcesoria;Anteny...</td>\n",
       "      <td>1.290000e+08</td>\n",
       "    </tr>\n",
       "    <tr>\n",
       "      <th>300</th>\n",
       "      <td>1301</td>\n",
       "      <td>Vivanco TVA 400</td>\n",
       "      <td>Sprzęt RTV;Video;Telewizory i akcesoria;Anteny...</td>\n",
       "      <td>1.490000e+08</td>\n",
       "    </tr>\n",
       "  </tbody>\n",
       "</table>\n",
       "</div>"
      ],
      "text/plain": [
       "     product_id                         product_name  \\\n",
       "1          1002                   Kyocera FS-1135MFP   \n",
       "16         1017                      LCD Dell U2412M   \n",
       "27         1028    Sniper Ghost Warrior 2 (Xbox 360)   \n",
       "34         1035        Samsung Galaxy S III GT-i9300   \n",
       "35         1036                      LCD Asus VK228H   \n",
       "38         1039                      LCD Asus VS197D   \n",
       "44         1045  Call of Duty Modern Warfare 2 (PS3)   \n",
       "80         1081                           OKI B840dn   \n",
       "163        1164         Aliens Colonial Marines (PC)   \n",
       "190        1191           Red Faction Guerrilla (PC)   \n",
       "215        1216                       Damnation (PC)   \n",
       "286        1287                      Philips SDV6226   \n",
       "300        1301                      Vivanco TVA 400   \n",
       "\n",
       "                                         category_path         price  \n",
       "1    Komputery;Drukarki i skanery;Biurowe urządzeni...  2.048500e+09  \n",
       "16                     Komputery;Monitory;Monitory LCD  3.990000e+08  \n",
       "27           Gry i konsole;Gry na konsole;Gry Xbox 360  3.900000e+07  \n",
       "34             Telefony i akcesoria;Telefony komórkowe  2.199900e+09  \n",
       "35                     Komputery;Monitory;Monitory LCD  6.390000e+08  \n",
       "38                     Komputery;Monitory;Monitory LCD  2.690000e+08  \n",
       "44       Gry i konsole;Gry na konsole;Gry PlayStation3  5.990000e+07  \n",
       "80   Komputery;Drukarki i skanery;Biurowe urządzeni...  5.259000e+09  \n",
       "163                      Gry i konsole;Gry komputerowe  1.129900e+08  \n",
       "190                      Gry i konsole;Gry komputerowe  1.999000e+07  \n",
       "215                      Gry i konsole;Gry komputerowe  3.499000e+07  \n",
       "286  Sprzęt RTV;Video;Telewizory i akcesoria;Anteny...  1.290000e+08  \n",
       "300  Sprzęt RTV;Video;Telewizory i akcesoria;Anteny...  1.490000e+08  "
      ]
     },
     "execution_count": 41,
     "metadata": {},
     "output_type": "execute_result"
    }
   ],
   "source": [
    "products[products[\"price\"] > 1e4]"
   ]
  },
  {
   "cell_type": "code",
   "execution_count": 42,
   "id": "efficient-livestock",
   "metadata": {},
   "outputs": [
    {
     "data": {
      "text/html": [
       "<div>\n",
       "<style scoped>\n",
       "    .dataframe tbody tr th:only-of-type {\n",
       "        vertical-align: middle;\n",
       "    }\n",
       "\n",
       "    .dataframe tbody tr th {\n",
       "        vertical-align: top;\n",
       "    }\n",
       "\n",
       "    .dataframe thead th {\n",
       "        text-align: right;\n",
       "    }\n",
       "</style>\n",
       "<table border=\"1\" class=\"dataframe\">\n",
       "  <thead>\n",
       "    <tr style=\"text-align: right;\">\n",
       "      <th></th>\n",
       "      <th>product_id</th>\n",
       "      <th>product_name</th>\n",
       "      <th>category_path</th>\n",
       "      <th>price</th>\n",
       "    </tr>\n",
       "  </thead>\n",
       "  <tbody>\n",
       "    <tr>\n",
       "      <th>142</th>\n",
       "      <td>1143</td>\n",
       "      <td>GTR Evolution (PC)</td>\n",
       "      <td>Gry i konsole;Gry komputerowe</td>\n",
       "      <td>-25.49</td>\n",
       "    </tr>\n",
       "    <tr>\n",
       "      <th>148</th>\n",
       "      <td>1149</td>\n",
       "      <td>Medal of Honor Warfighter (PC)</td>\n",
       "      <td>Gry i konsole;Gry komputerowe</td>\n",
       "      <td>-56.90</td>\n",
       "    </tr>\n",
       "    <tr>\n",
       "      <th>235</th>\n",
       "      <td>1236</td>\n",
       "      <td>Avencast Rise of the Mage (PC)</td>\n",
       "      <td>Gry i konsole;Gry komputerowe</td>\n",
       "      <td>-31.99</td>\n",
       "    </tr>\n",
       "    <tr>\n",
       "      <th>243</th>\n",
       "      <td>1244</td>\n",
       "      <td>Hard Reset (PC)</td>\n",
       "      <td>Gry i konsole;Gry komputerowe</td>\n",
       "      <td>-9.99</td>\n",
       "    </tr>\n",
       "    <tr>\n",
       "      <th>274</th>\n",
       "      <td>1275</td>\n",
       "      <td>Rome Total War (PC)</td>\n",
       "      <td>Gry i konsole;Gry komputerowe</td>\n",
       "      <td>-54.90</td>\n",
       "    </tr>\n",
       "    <tr>\n",
       "      <th>284</th>\n",
       "      <td>1285</td>\n",
       "      <td>Opticum AX-800</td>\n",
       "      <td>Sprzęt RTV;Video;Telewizory i akcesoria;Anteny...</td>\n",
       "      <td>-82.99</td>\n",
       "    </tr>\n",
       "    <tr>\n",
       "      <th>316</th>\n",
       "      <td>1317</td>\n",
       "      <td>Plantronics Savi W740</td>\n",
       "      <td>Telefony i akcesoria;Akcesoria telefoniczne;Ze...</td>\n",
       "      <td>-1303.96</td>\n",
       "    </tr>\n",
       "    <tr>\n",
       "      <th>317</th>\n",
       "      <td>1318</td>\n",
       "      <td>Plantronics Savi W710</td>\n",
       "      <td>Sprzęt RTV;Audio;Słuchawki</td>\n",
       "      <td>-553.00</td>\n",
       "    </tr>\n",
       "  </tbody>\n",
       "</table>\n",
       "</div>"
      ],
      "text/plain": [
       "     product_id                    product_name  \\\n",
       "142        1143              GTR Evolution (PC)   \n",
       "148        1149  Medal of Honor Warfighter (PC)   \n",
       "235        1236  Avencast Rise of the Mage (PC)   \n",
       "243        1244                 Hard Reset (PC)   \n",
       "274        1275             Rome Total War (PC)   \n",
       "284        1285                  Opticum AX-800   \n",
       "316        1317           Plantronics Savi W740   \n",
       "317        1318           Plantronics Savi W710   \n",
       "\n",
       "                                         category_path    price  \n",
       "142                      Gry i konsole;Gry komputerowe   -25.49  \n",
       "148                      Gry i konsole;Gry komputerowe   -56.90  \n",
       "235                      Gry i konsole;Gry komputerowe   -31.99  \n",
       "243                      Gry i konsole;Gry komputerowe    -9.99  \n",
       "274                      Gry i konsole;Gry komputerowe   -54.90  \n",
       "284  Sprzęt RTV;Video;Telewizory i akcesoria;Anteny...   -82.99  \n",
       "316  Telefony i akcesoria;Akcesoria telefoniczne;Ze... -1303.96  \n",
       "317                         Sprzęt RTV;Audio;Słuchawki  -553.00  "
      ]
     },
     "execution_count": 42,
     "metadata": {},
     "output_type": "execute_result"
    }
   ],
   "source": [
    "products[products[\"price\"] <= 0]"
   ]
  },
  {
   "cell_type": "markdown",
   "id": "automotive-chicken",
   "metadata": {},
   "source": [
    "# Tabela `sessions`"
   ]
  },
  {
   "cell_type": "code",
   "execution_count": 43,
   "id": "animated-acceptance",
   "metadata": {},
   "outputs": [
    {
     "data": {
      "text/html": [
       "<div>\n",
       "<style scoped>\n",
       "    .dataframe tbody tr th:only-of-type {\n",
       "        vertical-align: middle;\n",
       "    }\n",
       "\n",
       "    .dataframe tbody tr th {\n",
       "        vertical-align: top;\n",
       "    }\n",
       "\n",
       "    .dataframe thead th {\n",
       "        text-align: right;\n",
       "    }\n",
       "</style>\n",
       "<table border=\"1\" class=\"dataframe\">\n",
       "  <thead>\n",
       "    <tr style=\"text-align: right;\">\n",
       "      <th></th>\n",
       "      <th>session_id</th>\n",
       "      <th>timestamp</th>\n",
       "      <th>user_id</th>\n",
       "      <th>product_id</th>\n",
       "      <th>event_type</th>\n",
       "      <th>offered_discount</th>\n",
       "      <th>purchase_id</th>\n",
       "    </tr>\n",
       "  </thead>\n",
       "  <tbody>\n",
       "    <tr>\n",
       "      <th>0</th>\n",
       "      <td>100001</td>\n",
       "      <td>2021-01-24 20:00:43</td>\n",
       "      <td>102.0</td>\n",
       "      <td>1001.0</td>\n",
       "      <td>VIEW_PRODUCT</td>\n",
       "      <td>0</td>\n",
       "      <td>NaN</td>\n",
       "    </tr>\n",
       "    <tr>\n",
       "      <th>1</th>\n",
       "      <td>100001</td>\n",
       "      <td>2021-01-24 20:02:58</td>\n",
       "      <td>102.0</td>\n",
       "      <td>1001.0</td>\n",
       "      <td>BUY_PRODUCT</td>\n",
       "      <td>0</td>\n",
       "      <td>20001.0</td>\n",
       "    </tr>\n",
       "    <tr>\n",
       "      <th>2</th>\n",
       "      <td>100002</td>\n",
       "      <td>2021-01-06 23:01:07</td>\n",
       "      <td>102.0</td>\n",
       "      <td>1038.0</td>\n",
       "      <td>VIEW_PRODUCT</td>\n",
       "      <td>0</td>\n",
       "      <td>NaN</td>\n",
       "    </tr>\n",
       "    <tr>\n",
       "      <th>3</th>\n",
       "      <td>100002</td>\n",
       "      <td>2021-01-06 23:05:01</td>\n",
       "      <td>102.0</td>\n",
       "      <td>1036.0</td>\n",
       "      <td>VIEW_PRODUCT</td>\n",
       "      <td>0</td>\n",
       "      <td>NaN</td>\n",
       "    </tr>\n",
       "    <tr>\n",
       "      <th>4</th>\n",
       "      <td>100002</td>\n",
       "      <td>2021-01-06 23:09:38</td>\n",
       "      <td>102.0</td>\n",
       "      <td>1033.0</td>\n",
       "      <td>VIEW_PRODUCT</td>\n",
       "      <td>0</td>\n",
       "      <td>NaN</td>\n",
       "    </tr>\n",
       "    <tr>\n",
       "      <th>...</th>\n",
       "      <td>...</td>\n",
       "      <td>...</td>\n",
       "      <td>...</td>\n",
       "      <td>...</td>\n",
       "      <td>...</td>\n",
       "      <td>...</td>\n",
       "      <td>...</td>\n",
       "    </tr>\n",
       "    <tr>\n",
       "      <th>37677</th>\n",
       "      <td>109836</td>\n",
       "      <td>2021-01-28 10:19:43</td>\n",
       "      <td>301.0</td>\n",
       "      <td>1317.0</td>\n",
       "      <td>VIEW_PRODUCT</td>\n",
       "      <td>0</td>\n",
       "      <td>NaN</td>\n",
       "    </tr>\n",
       "    <tr>\n",
       "      <th>37678</th>\n",
       "      <td>109836</td>\n",
       "      <td>2021-01-28 10:22:54</td>\n",
       "      <td>301.0</td>\n",
       "      <td>1317.0</td>\n",
       "      <td>BUY_PRODUCT</td>\n",
       "      <td>0</td>\n",
       "      <td>26889.0</td>\n",
       "    </tr>\n",
       "    <tr>\n",
       "      <th>37679</th>\n",
       "      <td>109837</td>\n",
       "      <td>2021-01-20 23:29:26</td>\n",
       "      <td>301.0</td>\n",
       "      <td>1074.0</td>\n",
       "      <td>VIEW_PRODUCT</td>\n",
       "      <td>5</td>\n",
       "      <td>NaN</td>\n",
       "    </tr>\n",
       "    <tr>\n",
       "      <th>37680</th>\n",
       "      <td>109837</td>\n",
       "      <td>2021-01-20 23:29:43</td>\n",
       "      <td>301.0</td>\n",
       "      <td>1072.0</td>\n",
       "      <td>VIEW_PRODUCT</td>\n",
       "      <td>5</td>\n",
       "      <td>NaN</td>\n",
       "    </tr>\n",
       "    <tr>\n",
       "      <th>37681</th>\n",
       "      <td>109837</td>\n",
       "      <td>2021-01-20 23:31:11</td>\n",
       "      <td>301.0</td>\n",
       "      <td>1072.0</td>\n",
       "      <td>BUY_PRODUCT</td>\n",
       "      <td>5</td>\n",
       "      <td>26890.0</td>\n",
       "    </tr>\n",
       "  </tbody>\n",
       "</table>\n",
       "<p>37682 rows × 7 columns</p>\n",
       "</div>"
      ],
      "text/plain": [
       "       session_id           timestamp  user_id  product_id    event_type  \\\n",
       "0          100001 2021-01-24 20:00:43    102.0      1001.0  VIEW_PRODUCT   \n",
       "1          100001 2021-01-24 20:02:58    102.0      1001.0   BUY_PRODUCT   \n",
       "2          100002 2021-01-06 23:01:07    102.0      1038.0  VIEW_PRODUCT   \n",
       "3          100002 2021-01-06 23:05:01    102.0      1036.0  VIEW_PRODUCT   \n",
       "4          100002 2021-01-06 23:09:38    102.0      1033.0  VIEW_PRODUCT   \n",
       "...           ...                 ...      ...         ...           ...   \n",
       "37677      109836 2021-01-28 10:19:43    301.0      1317.0  VIEW_PRODUCT   \n",
       "37678      109836 2021-01-28 10:22:54    301.0      1317.0   BUY_PRODUCT   \n",
       "37679      109837 2021-01-20 23:29:26    301.0      1074.0  VIEW_PRODUCT   \n",
       "37680      109837 2021-01-20 23:29:43    301.0      1072.0  VIEW_PRODUCT   \n",
       "37681      109837 2021-01-20 23:31:11    301.0      1072.0   BUY_PRODUCT   \n",
       "\n",
       "       offered_discount  purchase_id  \n",
       "0                     0          NaN  \n",
       "1                     0      20001.0  \n",
       "2                     0          NaN  \n",
       "3                     0          NaN  \n",
       "4                     0          NaN  \n",
       "...                 ...          ...  \n",
       "37677                 0          NaN  \n",
       "37678                 0      26889.0  \n",
       "37679                 5          NaN  \n",
       "37680                 5          NaN  \n",
       "37681                 5      26890.0  \n",
       "\n",
       "[37682 rows x 7 columns]"
      ]
     },
     "execution_count": 43,
     "metadata": {},
     "output_type": "execute_result"
    }
   ],
   "source": [
    "sessions"
   ]
  },
  {
   "cell_type": "code",
   "execution_count": 44,
   "id": "extended-platinum",
   "metadata": {},
   "outputs": [
    {
     "name": "stdout",
     "output_type": "stream",
     "text": [
      "<class 'pandas.core.frame.DataFrame'>\n",
      "RangeIndex: 37682 entries, 0 to 37681\n",
      "Data columns (total 7 columns):\n",
      " #   Column            Non-Null Count  Dtype         \n",
      "---  ------            --------------  -----         \n",
      " 0   session_id        37682 non-null  int64         \n",
      " 1   timestamp         37682 non-null  datetime64[ns]\n",
      " 2   user_id           35794 non-null  float64       \n",
      " 3   product_id        35797 non-null  float64       \n",
      " 4   event_type        37682 non-null  object        \n",
      " 5   offered_discount  37682 non-null  int64         \n",
      " 6   purchase_id       6890 non-null   float64       \n",
      "dtypes: datetime64[ns](1), float64(3), int64(2), object(1)\n",
      "memory usage: 2.0+ MB\n"
     ]
    }
   ],
   "source": [
    "sessions.info()"
   ]
  },
  {
   "cell_type": "markdown",
   "id": "addressed-relevance",
   "metadata": {},
   "source": [
    "Kolumna `session_id` jest kluczem głównym. Kolumny `user_id`, `product_id`, `purchase_id` są kluczami obcymi. Klucze obce mogą być puste, gdyż może być sesja anonimowa, brak zakupu, brak danych o produkcie. Kolumna `timestamp` jest chwilą wystąpienia zdarzenia typu `event_type`. Kolumna `offered_discount` to oferowana przecena, w przypadku podjęcia zakupu."
   ]
  },
  {
   "cell_type": "code",
   "execution_count": 45,
   "id": "better-missile",
   "metadata": {},
   "outputs": [
    {
     "data": {
      "text/plain": [
       "array(['VIEW_PRODUCT', 'BUY_PRODUCT'], dtype=object)"
      ]
     },
     "execution_count": 45,
     "metadata": {},
     "output_type": "execute_result"
    }
   ],
   "source": [
    "sessions[\"event_type\"].unique()"
   ]
  },
  {
   "cell_type": "code",
   "execution_count": 46,
   "id": "organic-attack",
   "metadata": {},
   "outputs": [
    {
     "data": {
      "text/plain": [
       "<AxesSubplot:>"
      ]
     },
     "execution_count": 46,
     "metadata": {},
     "output_type": "execute_result"
    },
    {
     "data": {
      "image/png": "[encoded data removed]",
      "text/plain": [
       "<Figure size 432x288 with 1 Axes>"
      ]
     },
     "metadata": {},
     "output_type": "display_data"
    }
   ],
   "source": [
    "sessions[\"event_type\"].hist()"
   ]
  },
  {
   "cell_type": "markdown",
   "id": "eligible-history",
   "metadata": {},
   "source": [
    "Sesje składają się z dwóch możliwych zdarzeń: przeglądania i zakupu."
   ]
  },
  {
   "cell_type": "code",
   "execution_count": 47,
   "id": "metropolitan-majority",
   "metadata": {},
   "outputs": [
    {
     "data": {
      "text/plain": [
       "Timestamp('2021-01-01 00:01:22')"
      ]
     },
     "execution_count": 47,
     "metadata": {},
     "output_type": "execute_result"
    }
   ],
   "source": [
    "sessions[\"timestamp\"].min()"
   ]
  },
  {
   "cell_type": "code",
   "execution_count": 48,
   "id": "joined-grace",
   "metadata": {},
   "outputs": [
    {
     "data": {
      "text/plain": [
       "Timestamp('2021-03-15 08:05:24')"
      ]
     },
     "execution_count": 48,
     "metadata": {},
     "output_type": "execute_result"
    }
   ],
   "source": [
    "sessions[\"timestamp\"].max()"
   ]
  },
  {
   "cell_type": "code",
   "execution_count": 49,
   "id": "going-feedback",
   "metadata": {},
   "outputs": [
    {
     "data": {
      "text/plain": [
       "<AxesSubplot:>"
      ]
     },
     "execution_count": 49,
     "metadata": {},
     "output_type": "execute_result"
    },
    {
     "data": {
      "image/png": "[encoded data removed]",
      "text/plain": [
       "<Figure size 432x288 with 1 Axes>"
      ]
     },
     "metadata": {},
     "output_type": "display_data"
    }
   ],
   "source": [
    "sessions[\"timestamp\"].hist()"
   ]
  },
  {
   "cell_type": "markdown",
   "id": "english-external",
   "metadata": {},
   "source": [
    "Kolumna `timestamp` ma zakres wartości od `2021-01-01` do `2021-03-15` o przybliżonym rozkładzie jednostajnym."
   ]
  },
  {
   "cell_type": "code",
   "execution_count": 50,
   "id": "textile-firewall",
   "metadata": {},
   "outputs": [
    {
     "data": {
      "text/plain": [
       "<AxesSubplot:>"
      ]
     },
     "execution_count": 50,
     "metadata": {},
     "output_type": "execute_result"
    },
    {
     "data": {
      "image/png": "[encoded data removed]",
      "text/plain": [
       "<Figure size 432x288 with 1 Axes>"
      ]
     },
     "metadata": {},
     "output_type": "display_data"
    }
   ],
   "source": [
    "sessions[\"offered_discount\"].hist()"
   ]
  },
  {
   "cell_type": "code",
   "execution_count": 51,
   "id": "abandoned-darkness",
   "metadata": {},
   "outputs": [
    {
     "data": {
      "text/plain": [
       "[0, 5, 10, 15, 20]"
      ]
     },
     "execution_count": 51,
     "metadata": {},
     "output_type": "execute_result"
    }
   ],
   "source": [
    "sorted(sessions[\"offered_discount\"].unique())"
   ]
  },
  {
   "cell_type": "code",
   "execution_count": 52,
   "id": "completed-solomon",
   "metadata": {},
   "outputs": [
    {
     "data": {
      "text/html": [
       "<div>\n",
       "<style scoped>\n",
       "    .dataframe tbody tr th:only-of-type {\n",
       "        vertical-align: middle;\n",
       "    }\n",
       "\n",
       "    .dataframe tbody tr th {\n",
       "        vertical-align: top;\n",
       "    }\n",
       "\n",
       "    .dataframe thead th {\n",
       "        text-align: right;\n",
       "    }\n",
       "</style>\n",
       "<table border=\"1\" class=\"dataframe\">\n",
       "  <thead>\n",
       "    <tr style=\"text-align: right;\">\n",
       "      <th></th>\n",
       "      <th>offered_discount</th>\n",
       "    </tr>\n",
       "    <tr>\n",
       "      <th>event_type</th>\n",
       "      <th></th>\n",
       "    </tr>\n",
       "  </thead>\n",
       "  <tbody>\n",
       "    <tr>\n",
       "      <th>BUY_PRODUCT</th>\n",
       "      <td>{0, 5, 10, 15, 20}</td>\n",
       "    </tr>\n",
       "    <tr>\n",
       "      <th>VIEW_PRODUCT</th>\n",
       "      <td>{0, 5, 10, 15, 20}</td>\n",
       "    </tr>\n",
       "  </tbody>\n",
       "</table>\n",
       "</div>"
      ],
      "text/plain": [
       "                offered_discount\n",
       "event_type                      \n",
       "BUY_PRODUCT   {0, 5, 10, 15, 20}\n",
       "VIEW_PRODUCT  {0, 5, 10, 15, 20}"
      ]
     },
     "execution_count": 52,
     "metadata": {},
     "output_type": "execute_result"
    }
   ],
   "source": [
    "sessions.groupby(\"event_type\").agg({\"offered_discount\": set})"
   ]
  },
  {
   "cell_type": "markdown",
   "id": "impressed-lingerie",
   "metadata": {},
   "source": [
    "Zniżki są wielokrotnościami $5\\%$, występują zarówno podczas przeglądania, jak i podczas zamawiania z podobną częstością. Najczęściej nie ma zniżki."
   ]
  },
  {
   "cell_type": "code",
   "execution_count": 53,
   "id": "acoustic-district",
   "metadata": {},
   "outputs": [
    {
     "data": {
      "text/plain": [
       "<AxesSubplot:>"
      ]
     },
     "execution_count": 53,
     "metadata": {},
     "output_type": "execute_result"
    },
    {
     "data": {
      "image/png": "[encoded data removed]",
      "text/plain": [
       "<Figure size 432x288 with 1 Axes>"
      ]
     },
     "metadata": {},
     "output_type": "display_data"
    }
   ],
   "source": [
    "sessions[sessions[\"event_type\"] == \"BUY_PRODUCT\"][\"offered_discount\"].hist()"
   ]
  },
  {
   "cell_type": "code",
   "execution_count": 54,
   "id": "impressive-authority",
   "metadata": {},
   "outputs": [
    {
     "data": {
      "text/plain": [
       "<AxesSubplot:>"
      ]
     },
     "execution_count": 54,
     "metadata": {},
     "output_type": "execute_result"
    },
    {
     "data": {
      "image/png": "[encoded data removed]",
      "text/plain": [
       "<Figure size 432x288 with 1 Axes>"
      ]
     },
     "metadata": {},
     "output_type": "display_data"
    }
   ],
   "source": [
    "sessions[sessions[\"event_type\"] == \"VIEW_PRODUCT\"][\"offered_discount\"].hist()"
   ]
  },
  {
   "cell_type": "markdown",
   "id": "deluxe-earthquake",
   "metadata": {},
   "source": [
    "# Tabela `users`"
   ]
  },
  {
   "cell_type": "code",
   "execution_count": 55,
   "id": "guided-photograph",
   "metadata": {},
   "outputs": [
    {
     "data": {
      "text/html": [
       "<div>\n",
       "<style scoped>\n",
       "    .dataframe tbody tr th:only-of-type {\n",
       "        vertical-align: middle;\n",
       "    }\n",
       "\n",
       "    .dataframe tbody tr th {\n",
       "        vertical-align: top;\n",
       "    }\n",
       "\n",
       "    .dataframe thead th {\n",
       "        text-align: right;\n",
       "    }\n",
       "</style>\n",
       "<table border=\"1\" class=\"dataframe\">\n",
       "  <thead>\n",
       "    <tr style=\"text-align: right;\">\n",
       "      <th></th>\n",
       "      <th>user_id</th>\n",
       "      <th>name</th>\n",
       "      <th>city</th>\n",
       "      <th>street</th>\n",
       "    </tr>\n",
       "  </thead>\n",
       "  <tbody>\n",
       "    <tr>\n",
       "      <th>0</th>\n",
       "      <td>102</td>\n",
       "      <td>Albert Bruzda</td>\n",
       "      <td>Konin</td>\n",
       "      <td>plac Lwowska 683</td>\n",
       "    </tr>\n",
       "    <tr>\n",
       "      <th>1</th>\n",
       "      <td>103</td>\n",
       "      <td>Jędrzej Malesza</td>\n",
       "      <td>Mielec</td>\n",
       "      <td>plac Dąbrowskiego 81</td>\n",
       "    </tr>\n",
       "    <tr>\n",
       "      <th>2</th>\n",
       "      <td>104</td>\n",
       "      <td>Tymon Roszkiewicz</td>\n",
       "      <td>Mielec</td>\n",
       "      <td>pl. Matejki 942</td>\n",
       "    </tr>\n",
       "    <tr>\n",
       "      <th>3</th>\n",
       "      <td>105</td>\n",
       "      <td>Antoni Musiolik</td>\n",
       "      <td>Szczecin</td>\n",
       "      <td>ulica Jana III Sobieskiego 197</td>\n",
       "    </tr>\n",
       "    <tr>\n",
       "      <th>4</th>\n",
       "      <td>106</td>\n",
       "      <td>Rafał Gęgotek</td>\n",
       "      <td>Radom</td>\n",
       "      <td>ul. Gołębia 364</td>\n",
       "    </tr>\n",
       "    <tr>\n",
       "      <th>...</th>\n",
       "      <td>...</td>\n",
       "      <td>...</td>\n",
       "      <td>...</td>\n",
       "      <td>...</td>\n",
       "    </tr>\n",
       "    <tr>\n",
       "      <th>195</th>\n",
       "      <td>297</td>\n",
       "      <td>Anita Wabik</td>\n",
       "      <td>Warszawa</td>\n",
       "      <td>pl. Wspólna 421</td>\n",
       "    </tr>\n",
       "    <tr>\n",
       "      <th>196</th>\n",
       "      <td>298</td>\n",
       "      <td>Oliwier Szajda</td>\n",
       "      <td>Mielec</td>\n",
       "      <td>aleja Rejtana 36</td>\n",
       "    </tr>\n",
       "    <tr>\n",
       "      <th>197</th>\n",
       "      <td>299</td>\n",
       "      <td>Hubert Gogol</td>\n",
       "      <td>Konin</td>\n",
       "      <td>plac Diamentowa 328</td>\n",
       "    </tr>\n",
       "    <tr>\n",
       "      <th>198</th>\n",
       "      <td>300</td>\n",
       "      <td>Lidia Dobroń</td>\n",
       "      <td>Szczecin</td>\n",
       "      <td>al. Prusa 417</td>\n",
       "    </tr>\n",
       "    <tr>\n",
       "      <th>199</th>\n",
       "      <td>301</td>\n",
       "      <td>Urszula Wiraszka</td>\n",
       "      <td>Konin</td>\n",
       "      <td>pl. Dworska 07/32</td>\n",
       "    </tr>\n",
       "  </tbody>\n",
       "</table>\n",
       "<p>200 rows × 4 columns</p>\n",
       "</div>"
      ],
      "text/plain": [
       "     user_id               name      city                          street\n",
       "0        102      Albert Bruzda     Konin                plac Lwowska 683\n",
       "1        103    Jędrzej Malesza    Mielec            plac Dąbrowskiego 81\n",
       "2        104  Tymon Roszkiewicz    Mielec                 pl. Matejki 942\n",
       "3        105    Antoni Musiolik  Szczecin  ulica Jana III Sobieskiego 197\n",
       "4        106      Rafał Gęgotek     Radom                 ul. Gołębia 364\n",
       "..       ...                ...       ...                             ...\n",
       "195      297        Anita Wabik  Warszawa                 pl. Wspólna 421\n",
       "196      298     Oliwier Szajda    Mielec                aleja Rejtana 36\n",
       "197      299       Hubert Gogol     Konin             plac Diamentowa 328\n",
       "198      300       Lidia Dobroń  Szczecin                   al. Prusa 417\n",
       "199      301   Urszula Wiraszka     Konin               pl. Dworska 07/32\n",
       "\n",
       "[200 rows x 4 columns]"
      ]
     },
     "execution_count": 55,
     "metadata": {},
     "output_type": "execute_result"
    }
   ],
   "source": [
    "users"
   ]
  },
  {
   "cell_type": "code",
   "execution_count": 56,
   "id": "eligible-interface",
   "metadata": {},
   "outputs": [
    {
     "name": "stdout",
     "output_type": "stream",
     "text": [
      "<class 'pandas.core.frame.DataFrame'>\n",
      "RangeIndex: 200 entries, 0 to 199\n",
      "Data columns (total 4 columns):\n",
      " #   Column   Non-Null Count  Dtype \n",
      "---  ------   --------------  ----- \n",
      " 0   user_id  200 non-null    int64 \n",
      " 1   name     200 non-null    object\n",
      " 2   city     200 non-null    object\n",
      " 3   street   200 non-null    object\n",
      "dtypes: int64(1), object(3)\n",
      "memory usage: 6.4+ KB\n"
     ]
    }
   ],
   "source": [
    "users.info()"
   ]
  },
  {
   "cell_type": "markdown",
   "id": "freelance-national",
   "metadata": {},
   "source": [
    "Kolumna `user_id` jest kluczem głównym. Kolumna `name` zawiera imię, druge imię, nazwisko. Kolumna `city` jest miastem. Kolumna `street` jest ulicą oraz numerem domu."
   ]
  },
  {
   "cell_type": "code",
   "execution_count": 57,
   "id": "correct-frequency",
   "metadata": {},
   "outputs": [
    {
     "data": {
      "text/plain": [
       "array([2, 3], dtype=int64)"
      ]
     },
     "execution_count": 57,
     "metadata": {},
     "output_type": "execute_result"
    }
   ],
   "source": [
    "users[\"name\"].apply(lambda x: len(x.split(\" \"))).unique()"
   ]
  },
  {
   "cell_type": "code",
   "execution_count": 58,
   "id": "atlantic-pressing",
   "metadata": {},
   "outputs": [
    {
     "data": {
      "text/plain": [
       "['Gdynia',\n",
       " 'Konin',\n",
       " 'Kutno',\n",
       " 'Mielec',\n",
       " 'Police',\n",
       " 'Radom',\n",
       " 'Szczecin',\n",
       " 'Warszawa']"
      ]
     },
     "execution_count": 58,
     "metadata": {},
     "output_type": "execute_result"
    }
   ],
   "source": [
    "sorted(users[\"city\"].unique())"
   ]
  },
  {
   "cell_type": "code",
   "execution_count": 59,
   "id": "roman-excellence",
   "metadata": {},
   "outputs": [
    {
     "data": {
      "text/plain": [
       "[3, 4, 5]"
      ]
     },
     "execution_count": 59,
     "metadata": {},
     "output_type": "execute_result"
    }
   ],
   "source": [
    "sorted(users[\"street\"].apply(lambda x: len(x.split(\" \"))).unique())"
   ]
  },
  {
   "cell_type": "code",
   "execution_count": 60,
   "id": "canadian-writer",
   "metadata": {},
   "outputs": [
    {
     "data": {
      "text/plain": [
       "['al.', 'aleja', 'pl.', 'plac', 'ul.', 'ulica']"
      ]
     },
     "execution_count": 60,
     "metadata": {},
     "output_type": "execute_result"
    }
   ],
   "source": [
    "sorted(users[\"street\"].apply(lambda x: x.split(\" \")[0]).unique())"
   ]
  },
  {
   "cell_type": "markdown",
   "id": "advised-mitchell",
   "metadata": {},
   "source": [
    "Z punktu widzenia dostawy istotna jest tu lokalizacja klienta, w tym odległość od hurtowni."
   ]
  },
  {
   "cell_type": "markdown",
   "id": "drawn-expert",
   "metadata": {},
   "source": [
    "# Złączenie tabel"
   ]
  },
  {
   "cell_type": "code",
   "execution_count": 61,
   "id": "novel-montana",
   "metadata": {},
   "outputs": [
    {
     "data": {
      "text/html": [
       "<div>\n",
       "<style scoped>\n",
       "    .dataframe tbody tr th:only-of-type {\n",
       "        vertical-align: middle;\n",
       "    }\n",
       "\n",
       "    .dataframe tbody tr th {\n",
       "        vertical-align: top;\n",
       "    }\n",
       "\n",
       "    .dataframe thead th {\n",
       "        text-align: right;\n",
       "    }\n",
       "</style>\n",
       "<table border=\"1\" class=\"dataframe\">\n",
       "  <thead>\n",
       "    <tr style=\"text-align: right;\">\n",
       "      <th></th>\n",
       "      <th>session_id</th>\n",
       "      <th>timestamp</th>\n",
       "      <th>user_id</th>\n",
       "      <th>product_id</th>\n",
       "      <th>event_type</th>\n",
       "      <th>offered_discount</th>\n",
       "      <th>purchase_id</th>\n",
       "      <th>name</th>\n",
       "      <th>city</th>\n",
       "      <th>street</th>\n",
       "      <th>product_name</th>\n",
       "      <th>category_path</th>\n",
       "      <th>price</th>\n",
       "      <th>purchase_timestamp</th>\n",
       "      <th>delivery_timestamp</th>\n",
       "      <th>delivery_company</th>\n",
       "      <th>hours</th>\n",
       "    </tr>\n",
       "  </thead>\n",
       "  <tbody>\n",
       "    <tr>\n",
       "      <th>0</th>\n",
       "      <td>100001.0</td>\n",
       "      <td>2021-01-24 20:00:43</td>\n",
       "      <td>102.0</td>\n",
       "      <td>1001.0</td>\n",
       "      <td>VIEW_PRODUCT</td>\n",
       "      <td>0.0</td>\n",
       "      <td>NaN</td>\n",
       "      <td>Albert Bruzda</td>\n",
       "      <td>Konin</td>\n",
       "      <td>plac Lwowska 683</td>\n",
       "      <td>Telefon Siemens Gigaset DA310</td>\n",
       "      <td>Telefony i akcesoria;Telefony stacjonarne</td>\n",
       "      <td>58.97</td>\n",
       "      <td>NaT</td>\n",
       "      <td>NaT</td>\n",
       "      <td>NaN</td>\n",
       "      <td>NaN</td>\n",
       "    </tr>\n",
       "    <tr>\n",
       "      <th>1</th>\n",
       "      <td>100013.0</td>\n",
       "      <td>2021-01-28 05:09:39</td>\n",
       "      <td>102.0</td>\n",
       "      <td>1001.0</td>\n",
       "      <td>VIEW_PRODUCT</td>\n",
       "      <td>0.0</td>\n",
       "      <td>NaN</td>\n",
       "      <td>Albert Bruzda</td>\n",
       "      <td>Konin</td>\n",
       "      <td>plac Lwowska 683</td>\n",
       "      <td>Telefon Siemens Gigaset DA310</td>\n",
       "      <td>Telefony i akcesoria;Telefony stacjonarne</td>\n",
       "      <td>58.97</td>\n",
       "      <td>NaT</td>\n",
       "      <td>NaT</td>\n",
       "      <td>NaN</td>\n",
       "      <td>NaN</td>\n",
       "    </tr>\n",
       "    <tr>\n",
       "      <th>2</th>\n",
       "      <td>100015.0</td>\n",
       "      <td>2021-01-19 12:50:49</td>\n",
       "      <td>102.0</td>\n",
       "      <td>1001.0</td>\n",
       "      <td>VIEW_PRODUCT</td>\n",
       "      <td>0.0</td>\n",
       "      <td>NaN</td>\n",
       "      <td>Albert Bruzda</td>\n",
       "      <td>Konin</td>\n",
       "      <td>plac Lwowska 683</td>\n",
       "      <td>Telefon Siemens Gigaset DA310</td>\n",
       "      <td>Telefony i akcesoria;Telefony stacjonarne</td>\n",
       "      <td>58.97</td>\n",
       "      <td>NaT</td>\n",
       "      <td>NaT</td>\n",
       "      <td>NaN</td>\n",
       "      <td>NaN</td>\n",
       "    </tr>\n",
       "    <tr>\n",
       "      <th>3</th>\n",
       "      <td>100036.0</td>\n",
       "      <td>2021-03-09 23:01:57</td>\n",
       "      <td>102.0</td>\n",
       "      <td>1001.0</td>\n",
       "      <td>VIEW_PRODUCT</td>\n",
       "      <td>15.0</td>\n",
       "      <td>NaN</td>\n",
       "      <td>Albert Bruzda</td>\n",
       "      <td>Konin</td>\n",
       "      <td>plac Lwowska 683</td>\n",
       "      <td>Telefon Siemens Gigaset DA310</td>\n",
       "      <td>Telefony i akcesoria;Telefony stacjonarne</td>\n",
       "      <td>58.97</td>\n",
       "      <td>NaT</td>\n",
       "      <td>NaT</td>\n",
       "      <td>NaN</td>\n",
       "      <td>NaN</td>\n",
       "    </tr>\n",
       "    <tr>\n",
       "      <th>4</th>\n",
       "      <td>100064.0</td>\n",
       "      <td>2021-01-06 23:18:35</td>\n",
       "      <td>102.0</td>\n",
       "      <td>1001.0</td>\n",
       "      <td>VIEW_PRODUCT</td>\n",
       "      <td>0.0</td>\n",
       "      <td>NaN</td>\n",
       "      <td>Albert Bruzda</td>\n",
       "      <td>Konin</td>\n",
       "      <td>plac Lwowska 683</td>\n",
       "      <td>Telefon Siemens Gigaset DA310</td>\n",
       "      <td>Telefony i akcesoria;Telefony stacjonarne</td>\n",
       "      <td>58.97</td>\n",
       "      <td>NaT</td>\n",
       "      <td>NaT</td>\n",
       "      <td>NaN</td>\n",
       "      <td>NaN</td>\n",
       "    </tr>\n",
       "    <tr>\n",
       "      <th>...</th>\n",
       "      <td>...</td>\n",
       "      <td>...</td>\n",
       "      <td>...</td>\n",
       "      <td>...</td>\n",
       "      <td>...</td>\n",
       "      <td>...</td>\n",
       "      <td>...</td>\n",
       "      <td>...</td>\n",
       "      <td>...</td>\n",
       "      <td>...</td>\n",
       "      <td>...</td>\n",
       "      <td>...</td>\n",
       "      <td>...</td>\n",
       "      <td>...</td>\n",
       "      <td>...</td>\n",
       "      <td>...</td>\n",
       "      <td>...</td>\n",
       "    </tr>\n",
       "    <tr>\n",
       "      <th>37918</th>\n",
       "      <td>108891.0</td>\n",
       "      <td>2021-02-16 23:16:23</td>\n",
       "      <td>282.0</td>\n",
       "      <td>1056.0</td>\n",
       "      <td>BUY_PRODUCT</td>\n",
       "      <td>5.0</td>\n",
       "      <td>26215.0</td>\n",
       "      <td>Patryk Myszor</td>\n",
       "      <td>Gdynia</td>\n",
       "      <td>aleja Skośna 62</td>\n",
       "      <td>Call of Duty Black Ops (PC)</td>\n",
       "      <td>Gry i konsole;Gry komputerowe</td>\n",
       "      <td>29.99</td>\n",
       "      <td>2021-02-16 23:16:23</td>\n",
       "      <td>2021-02-16 12:41:07.157024</td>\n",
       "      <td>516.0</td>\n",
       "      <td>-10.587734</td>\n",
       "    </tr>\n",
       "    <tr>\n",
       "      <th>37919</th>\n",
       "      <td>109068.0</td>\n",
       "      <td>2021-01-02 01:57:34</td>\n",
       "      <td>285.0</td>\n",
       "      <td>1056.0</td>\n",
       "      <td>BUY_PRODUCT</td>\n",
       "      <td>0.0</td>\n",
       "      <td>26333.0</td>\n",
       "      <td>Nicole Kwapień</td>\n",
       "      <td>Szczecin</td>\n",
       "      <td>ulica Łąkowa 270</td>\n",
       "      <td>Call of Duty Black Ops (PC)</td>\n",
       "      <td>Gry i konsole;Gry komputerowe</td>\n",
       "      <td>29.99</td>\n",
       "      <td>2021-01-02 01:57:34</td>\n",
       "      <td>2020-12-31 08:47:14.237715</td>\n",
       "      <td>620.0</td>\n",
       "      <td>-41.172156</td>\n",
       "    </tr>\n",
       "    <tr>\n",
       "      <th>37920</th>\n",
       "      <td>109105.0</td>\n",
       "      <td>2021-01-06 16:03:32</td>\n",
       "      <td>286.0</td>\n",
       "      <td>1056.0</td>\n",
       "      <td>BUY_PRODUCT</td>\n",
       "      <td>0.0</td>\n",
       "      <td>26356.0</td>\n",
       "      <td>Tomasz Nagel</td>\n",
       "      <td>Radom</td>\n",
       "      <td>al. Powstańców Śląskich 31/08</td>\n",
       "      <td>Call of Duty Black Ops (PC)</td>\n",
       "      <td>Gry i konsole;Gry komputerowe</td>\n",
       "      <td>29.99</td>\n",
       "      <td>2021-01-06 16:03:32</td>\n",
       "      <td>2021-01-05 13:37:37.192347</td>\n",
       "      <td>620.0</td>\n",
       "      <td>-26.431891</td>\n",
       "    </tr>\n",
       "    <tr>\n",
       "      <th>37921</th>\n",
       "      <td>109384.0</td>\n",
       "      <td>2021-02-16 15:43:12</td>\n",
       "      <td>292.0</td>\n",
       "      <td>1056.0</td>\n",
       "      <td>BUY_PRODUCT</td>\n",
       "      <td>10.0</td>\n",
       "      <td>26579.0</td>\n",
       "      <td>Julita Buza</td>\n",
       "      <td>Gdynia</td>\n",
       "      <td>al. Szmaragdowa 446</td>\n",
       "      <td>Call of Duty Black Ops (PC)</td>\n",
       "      <td>Gry i konsole;Gry komputerowe</td>\n",
       "      <td>29.99</td>\n",
       "      <td>2021-02-16 15:43:12</td>\n",
       "      <td>2021-02-20 17:42:55.693973</td>\n",
       "      <td>360.0</td>\n",
       "      <td>97.995471</td>\n",
       "    </tr>\n",
       "    <tr>\n",
       "      <th>37922</th>\n",
       "      <td>109667.0</td>\n",
       "      <td>2021-01-19 16:03:55</td>\n",
       "      <td>298.0</td>\n",
       "      <td>1056.0</td>\n",
       "      <td>BUY_PRODUCT</td>\n",
       "      <td>10.0</td>\n",
       "      <td>26777.0</td>\n",
       "      <td>Oliwier Szajda</td>\n",
       "      <td>Mielec</td>\n",
       "      <td>aleja Rejtana 36</td>\n",
       "      <td>Call of Duty Black Ops (PC)</td>\n",
       "      <td>Gry i konsole;Gry komputerowe</td>\n",
       "      <td>29.99</td>\n",
       "      <td>2021-01-19 16:03:55</td>\n",
       "      <td>2021-01-21 13:35:12.905125</td>\n",
       "      <td>620.0</td>\n",
       "      <td>45.521640</td>\n",
       "    </tr>\n",
       "  </tbody>\n",
       "</table>\n",
       "<p>37923 rows × 17 columns</p>\n",
       "</div>"
      ],
      "text/plain": [
       "       session_id           timestamp  user_id  product_id    event_type  \\\n",
       "0        100001.0 2021-01-24 20:00:43    102.0      1001.0  VIEW_PRODUCT   \n",
       "1        100013.0 2021-01-28 05:09:39    102.0      1001.0  VIEW_PRODUCT   \n",
       "2        100015.0 2021-01-19 12:50:49    102.0      1001.0  VIEW_PRODUCT   \n",
       "3        100036.0 2021-03-09 23:01:57    102.0      1001.0  VIEW_PRODUCT   \n",
       "4        100064.0 2021-01-06 23:18:35    102.0      1001.0  VIEW_PRODUCT   \n",
       "...           ...                 ...      ...         ...           ...   \n",
       "37918    108891.0 2021-02-16 23:16:23    282.0      1056.0   BUY_PRODUCT   \n",
       "37919    109068.0 2021-01-02 01:57:34    285.0      1056.0   BUY_PRODUCT   \n",
       "37920    109105.0 2021-01-06 16:03:32    286.0      1056.0   BUY_PRODUCT   \n",
       "37921    109384.0 2021-02-16 15:43:12    292.0      1056.0   BUY_PRODUCT   \n",
       "37922    109667.0 2021-01-19 16:03:55    298.0      1056.0   BUY_PRODUCT   \n",
       "\n",
       "       offered_discount  purchase_id            name      city  \\\n",
       "0                   0.0          NaN   Albert Bruzda     Konin   \n",
       "1                   0.0          NaN   Albert Bruzda     Konin   \n",
       "2                   0.0          NaN   Albert Bruzda     Konin   \n",
       "3                  15.0          NaN   Albert Bruzda     Konin   \n",
       "4                   0.0          NaN   Albert Bruzda     Konin   \n",
       "...                 ...          ...             ...       ...   \n",
       "37918               5.0      26215.0   Patryk Myszor    Gdynia   \n",
       "37919               0.0      26333.0  Nicole Kwapień  Szczecin   \n",
       "37920               0.0      26356.0    Tomasz Nagel     Radom   \n",
       "37921              10.0      26579.0     Julita Buza    Gdynia   \n",
       "37922              10.0      26777.0  Oliwier Szajda    Mielec   \n",
       "\n",
       "                              street                   product_name  \\\n",
       "0                   plac Lwowska 683  Telefon Siemens Gigaset DA310   \n",
       "1                   plac Lwowska 683  Telefon Siemens Gigaset DA310   \n",
       "2                   plac Lwowska 683  Telefon Siemens Gigaset DA310   \n",
       "3                   plac Lwowska 683  Telefon Siemens Gigaset DA310   \n",
       "4                   plac Lwowska 683  Telefon Siemens Gigaset DA310   \n",
       "...                              ...                            ...   \n",
       "37918                aleja Skośna 62    Call of Duty Black Ops (PC)   \n",
       "37919               ulica Łąkowa 270    Call of Duty Black Ops (PC)   \n",
       "37920  al. Powstańców Śląskich 31/08    Call of Duty Black Ops (PC)   \n",
       "37921            al. Szmaragdowa 446    Call of Duty Black Ops (PC)   \n",
       "37922               aleja Rejtana 36    Call of Duty Black Ops (PC)   \n",
       "\n",
       "                                   category_path  price  purchase_timestamp  \\\n",
       "0      Telefony i akcesoria;Telefony stacjonarne  58.97                 NaT   \n",
       "1      Telefony i akcesoria;Telefony stacjonarne  58.97                 NaT   \n",
       "2      Telefony i akcesoria;Telefony stacjonarne  58.97                 NaT   \n",
       "3      Telefony i akcesoria;Telefony stacjonarne  58.97                 NaT   \n",
       "4      Telefony i akcesoria;Telefony stacjonarne  58.97                 NaT   \n",
       "...                                          ...    ...                 ...   \n",
       "37918              Gry i konsole;Gry komputerowe  29.99 2021-02-16 23:16:23   \n",
       "37919              Gry i konsole;Gry komputerowe  29.99 2021-01-02 01:57:34   \n",
       "37920              Gry i konsole;Gry komputerowe  29.99 2021-01-06 16:03:32   \n",
       "37921              Gry i konsole;Gry komputerowe  29.99 2021-02-16 15:43:12   \n",
       "37922              Gry i konsole;Gry komputerowe  29.99 2021-01-19 16:03:55   \n",
       "\n",
       "              delivery_timestamp  delivery_company      hours  \n",
       "0                            NaT               NaN        NaN  \n",
       "1                            NaT               NaN        NaN  \n",
       "2                            NaT               NaN        NaN  \n",
       "3                            NaT               NaN        NaN  \n",
       "4                            NaT               NaN        NaN  \n",
       "...                          ...               ...        ...  \n",
       "37918 2021-02-16 12:41:07.157024             516.0 -10.587734  \n",
       "37919 2020-12-31 08:47:14.237715             620.0 -41.172156  \n",
       "37920 2021-01-05 13:37:37.192347             620.0 -26.431891  \n",
       "37921 2021-02-20 17:42:55.693973             360.0  97.995471  \n",
       "37922 2021-01-21 13:35:12.905125             620.0  45.521640  \n",
       "\n",
       "[37923 rows x 17 columns]"
      ]
     },
     "execution_count": 61,
     "metadata": {},
     "output_type": "execute_result"
    }
   ],
   "source": [
    "temp = sessions.merge(users, on=\"user_id\", how=\"outer\").merge(products, on=\"product_id\", how=\"outer\").merge(deliveries, on=\"purchase_id\", how=\"outer\")\n",
    "temp"
   ]
  },
  {
   "cell_type": "code",
   "execution_count": 62,
   "id": "cleared-headquarters",
   "metadata": {},
   "outputs": [
    {
     "name": "stdout",
     "output_type": "stream",
     "text": [
      "<class 'pandas.core.frame.DataFrame'>\n",
      "Int64Index: 37923 entries, 0 to 37922\n",
      "Data columns (total 17 columns):\n",
      " #   Column              Non-Null Count  Dtype         \n",
      "---  ------              --------------  -----         \n",
      " 0   session_id          37682 non-null  float64       \n",
      " 1   timestamp           37682 non-null  datetime64[ns]\n",
      " 2   user_id             35794 non-null  float64       \n",
      " 3   product_id          36038 non-null  float64       \n",
      " 4   event_type          37682 non-null  object        \n",
      " 5   offered_discount    37682 non-null  float64       \n",
      " 6   purchase_id         6890 non-null   float64       \n",
      " 7   name                35794 non-null  object        \n",
      " 8   city                35794 non-null  object        \n",
      " 9   street              35794 non-null  object        \n",
      " 10  product_name        36038 non-null  object        \n",
      " 11  category_path       36038 non-null  object        \n",
      " 12  price               36038 non-null  float64       \n",
      " 13  purchase_timestamp  6890 non-null   datetime64[ns]\n",
      " 14  delivery_timestamp  6568 non-null   datetime64[ns]\n",
      " 15  delivery_company    6538 non-null   float64       \n",
      " 16  hours               6568 non-null   float64       \n",
      "dtypes: datetime64[ns](3), float64(8), object(6)\n",
      "memory usage: 5.2+ MB\n"
     ]
    }
   ],
   "source": [
    "temp.info()"
   ]
  },
  {
   "cell_type": "code",
   "execution_count": 63,
   "id": "increasing-utility",
   "metadata": {},
   "outputs": [],
   "source": [
    "# TODO: dalsza analiza na złączonych danych, jeśli potrzebna"
   ]
  }
 ],
 "metadata": {
  "kernelspec": {
   "display_name": "Python 3",
   "language": "python",
   "name": "python3"
  },
  "language_info": {
   "codemirror_mode": {
    "name": "ipython",
    "version": 3
   },
   "file_extension": ".py",
   "mimetype": "text/x-python",
   "name": "python",
   "nbconvert_exporter": "python",
   "pygments_lexer": "ipython3",
   "version": "3.8.8"
  }
 },
 "nbformat": 4,
 "nbformat_minor": 5
}
