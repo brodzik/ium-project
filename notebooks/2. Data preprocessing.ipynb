{
 "cells": [
  {
   "cell_type": "code",
   "execution_count": 1,
   "id": "subtle-writer",
   "metadata": {},
   "outputs": [],
   "source": [
    "import pandas as pd"
   ]
  },
  {
   "cell_type": "code",
   "execution_count": 2,
   "id": "loose-junction",
   "metadata": {},
   "outputs": [],
   "source": [
    "deliveries = pd.read_json(\"../data/deliveries.jsonl\", lines=True)\n",
    "products = pd.read_json(\"../data/products.jsonl\", lines=True)\n",
    "sessions = pd.read_json(\"../data/sessions.jsonl\", lines=True)\n",
    "users = pd.read_json(\"../data/users.jsonl\", lines=True)"
   ]
  },
  {
   "cell_type": "code",
   "execution_count": 3,
   "id": "manufactured-disease",
   "metadata": {},
   "outputs": [],
   "source": [
    "# TODO: złączyć dane\n",
    "# TODO: zakodować dane\n",
    "# TODO: znormalizować dane\n",
    "# TODO: feature engineering\n",
    "# TODO: wybrać atrybuty\n",
    "# TODO: zapisać do CSV"
   ]
  }
 ],
 "metadata": {
  "kernelspec": {
   "display_name": "Python 3",
   "language": "python",
   "name": "python3"
  },
  "language_info": {
   "codemirror_mode": {
    "name": "ipython",
    "version": 3
   },
   "file_extension": ".py",
   "mimetype": "text/x-python",
   "name": "python",
   "nbconvert_exporter": "python",
   "pygments_lexer": "ipython3",
   "version": "3.8.8"
  }
 },
 "nbformat": 4,
 "nbformat_minor": 5
}
