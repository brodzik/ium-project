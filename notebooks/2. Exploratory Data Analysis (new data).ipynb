{
 "cells": [
  {
   "cell_type": "code",
   "execution_count": 1,
   "id": "buried-campaign",
   "metadata": {},
   "outputs": [],
   "source": [
    "import pandas as pd\n",
    "import numpy as np\n",
    "import seaborn as sns\n",
    "import matplotlib.pyplot as plt\n",
    "from scipy import stats"
   ]
  },
  {
   "cell_type": "code",
   "execution_count": 2,
   "id": "statewide-hunter",
   "metadata": {},
   "outputs": [],
   "source": [
    "sns.set()"
   ]
  },
  {
   "cell_type": "code",
   "execution_count": 3,
   "id": "alternative-distance",
   "metadata": {},
   "outputs": [],
   "source": [
    "deliveries = pd.read_json(\"../data_new/deliveries.jsonl\", lines=True)\n",
    "products = pd.read_json(\"../data_new/products.jsonl\", lines=True)\n",
    "sessions = pd.read_json(\"../data_new/sessions.jsonl\", lines=True)\n",
    "users = pd.read_json(\"../data_new/users.jsonl\", lines=True)"
   ]
  },
  {
   "cell_type": "markdown",
   "id": "restricted-google",
   "metadata": {},
   "source": [
    "# Tabela `deliveries`"
   ]
  },
  {
   "cell_type": "code",
   "execution_count": 4,
   "id": "endless-freeze",
   "metadata": {},
   "outputs": [],
   "source": [
    "deliveries[\"purchase_timestamp\"] = pd.to_datetime(deliveries[\"purchase_timestamp\"])\n",
    "deliveries[\"delivery_timestamp\"] = pd.to_datetime(deliveries[\"delivery_timestamp\"])"
   ]
  },
  {
   "cell_type": "code",
   "execution_count": 5,
   "id": "mysterious-stretch",
   "metadata": {},
   "outputs": [
    {
     "data": {
      "text/html": [
       "<div>\n",
       "<style scoped>\n",
       "    .dataframe tbody tr th:only-of-type {\n",
       "        vertical-align: middle;\n",
       "    }\n",
       "\n",
       "    .dataframe tbody tr th {\n",
       "        vertical-align: top;\n",
       "    }\n",
       "\n",
       "    .dataframe thead th {\n",
       "        text-align: right;\n",
       "    }\n",
       "</style>\n",
       "<table border=\"1\" class=\"dataframe\">\n",
       "  <thead>\n",
       "    <tr style=\"text-align: right;\">\n",
       "      <th></th>\n",
       "      <th>purchase_id</th>\n",
       "      <th>purchase_timestamp</th>\n",
       "      <th>delivery_timestamp</th>\n",
       "      <th>delivery_company</th>\n",
       "    </tr>\n",
       "  </thead>\n",
       "  <tbody>\n",
       "    <tr>\n",
       "      <th>0</th>\n",
       "      <td>20001</td>\n",
       "      <td>2021-04-01 15:52:47</td>\n",
       "      <td>2021-04-02 14:06:34.432964</td>\n",
       "      <td>620</td>\n",
       "    </tr>\n",
       "    <tr>\n",
       "      <th>1</th>\n",
       "      <td>20002</td>\n",
       "      <td>2021-04-01 02:26:23</td>\n",
       "      <td>2021-04-02 10:45:27.707128</td>\n",
       "      <td>360</td>\n",
       "    </tr>\n",
       "    <tr>\n",
       "      <th>2</th>\n",
       "      <td>20003</td>\n",
       "      <td>2021-01-03 05:11:17</td>\n",
       "      <td>2021-01-04 15:43:07.635371</td>\n",
       "      <td>620</td>\n",
       "    </tr>\n",
       "    <tr>\n",
       "      <th>3</th>\n",
       "      <td>20004</td>\n",
       "      <td>2021-02-17 12:59:54</td>\n",
       "      <td>2021-02-18 11:52:42.608746</td>\n",
       "      <td>620</td>\n",
       "    </tr>\n",
       "    <tr>\n",
       "      <th>4</th>\n",
       "      <td>20005</td>\n",
       "      <td>2021-02-13 09:17:52</td>\n",
       "      <td>2021-02-15 08:59:28.973167</td>\n",
       "      <td>620</td>\n",
       "    </tr>\n",
       "    <tr>\n",
       "      <th>...</th>\n",
       "      <td>...</td>\n",
       "      <td>...</td>\n",
       "      <td>...</td>\n",
       "      <td>...</td>\n",
       "    </tr>\n",
       "    <tr>\n",
       "      <th>7488</th>\n",
       "      <td>27489</td>\n",
       "      <td>2021-03-07 08:53:25</td>\n",
       "      <td>2021-03-09 08:57:42.852988</td>\n",
       "      <td>620</td>\n",
       "    </tr>\n",
       "    <tr>\n",
       "      <th>7489</th>\n",
       "      <td>27490</td>\n",
       "      <td>2021-02-02 03:47:59</td>\n",
       "      <td>2021-02-02 16:10:25.579518</td>\n",
       "      <td>516</td>\n",
       "    </tr>\n",
       "    <tr>\n",
       "      <th>7490</th>\n",
       "      <td>27491</td>\n",
       "      <td>2021-03-04 07:34:59</td>\n",
       "      <td>2021-03-05 11:45:45.828316</td>\n",
       "      <td>360</td>\n",
       "    </tr>\n",
       "    <tr>\n",
       "      <th>7491</th>\n",
       "      <td>27492</td>\n",
       "      <td>2021-01-12 05:34:58</td>\n",
       "      <td>2021-01-13 08:07:37.900596</td>\n",
       "      <td>516</td>\n",
       "    </tr>\n",
       "    <tr>\n",
       "      <th>7492</th>\n",
       "      <td>27493</td>\n",
       "      <td>2021-02-03 15:23:11</td>\n",
       "      <td>2021-02-05 08:33:01.431587</td>\n",
       "      <td>620</td>\n",
       "    </tr>\n",
       "  </tbody>\n",
       "</table>\n",
       "<p>7493 rows × 4 columns</p>\n",
       "</div>"
      ],
      "text/plain": [
       "      purchase_id  purchase_timestamp         delivery_timestamp  \\\n",
       "0           20001 2021-04-01 15:52:47 2021-04-02 14:06:34.432964   \n",
       "1           20002 2021-04-01 02:26:23 2021-04-02 10:45:27.707128   \n",
       "2           20003 2021-01-03 05:11:17 2021-01-04 15:43:07.635371   \n",
       "3           20004 2021-02-17 12:59:54 2021-02-18 11:52:42.608746   \n",
       "4           20005 2021-02-13 09:17:52 2021-02-15 08:59:28.973167   \n",
       "...           ...                 ...                        ...   \n",
       "7488        27489 2021-03-07 08:53:25 2021-03-09 08:57:42.852988   \n",
       "7489        27490 2021-02-02 03:47:59 2021-02-02 16:10:25.579518   \n",
       "7490        27491 2021-03-04 07:34:59 2021-03-05 11:45:45.828316   \n",
       "7491        27492 2021-01-12 05:34:58 2021-01-13 08:07:37.900596   \n",
       "7492        27493 2021-02-03 15:23:11 2021-02-05 08:33:01.431587   \n",
       "\n",
       "      delivery_company  \n",
       "0                  620  \n",
       "1                  360  \n",
       "2                  620  \n",
       "3                  620  \n",
       "4                  620  \n",
       "...                ...  \n",
       "7488               620  \n",
       "7489               516  \n",
       "7490               360  \n",
       "7491               516  \n",
       "7492               620  \n",
       "\n",
       "[7493 rows x 4 columns]"
      ]
     },
     "execution_count": 5,
     "metadata": {},
     "output_type": "execute_result"
    }
   ],
   "source": [
    "deliveries"
   ]
  },
  {
   "cell_type": "code",
   "execution_count": 6,
   "id": "cloudy-therapist",
   "metadata": {},
   "outputs": [
    {
     "name": "stdout",
     "output_type": "stream",
     "text": [
      "<class 'pandas.core.frame.DataFrame'>\n",
      "RangeIndex: 7493 entries, 0 to 7492\n",
      "Data columns (total 4 columns):\n",
      " #   Column              Non-Null Count  Dtype         \n",
      "---  ------              --------------  -----         \n",
      " 0   purchase_id         7493 non-null   int64         \n",
      " 1   purchase_timestamp  7493 non-null   datetime64[ns]\n",
      " 2   delivery_timestamp  7493 non-null   datetime64[ns]\n",
      " 3   delivery_company    7493 non-null   int64         \n",
      "dtypes: datetime64[ns](2), int64(2)\n",
      "memory usage: 234.3 KB\n"
     ]
    }
   ],
   "source": [
    "deliveries.info()"
   ]
  },
  {
   "cell_type": "markdown",
   "id": "manual-mistake",
   "metadata": {},
   "source": [
    "## purchase_timestamp, delivery_timestamp"
   ]
  },
  {
   "cell_type": "code",
   "execution_count": 7,
   "id": "unlike-programming",
   "metadata": {},
   "outputs": [
    {
     "data": {
      "text/plain": [
       "Timestamp('2021-01-01 00:12:54')"
      ]
     },
     "execution_count": 7,
     "metadata": {},
     "output_type": "execute_result"
    }
   ],
   "source": [
    "deliveries[\"purchase_timestamp\"].min()"
   ]
  },
  {
   "cell_type": "code",
   "execution_count": 8,
   "id": "useful-jacksonville",
   "metadata": {},
   "outputs": [
    {
     "data": {
      "text/plain": [
       "Timestamp('2021-04-25 15:55:45')"
      ]
     },
     "execution_count": 8,
     "metadata": {},
     "output_type": "execute_result"
    }
   ],
   "source": [
    "deliveries[\"purchase_timestamp\"].max()"
   ]
  },
  {
   "cell_type": "code",
   "execution_count": 9,
   "id": "alpha-devices",
   "metadata": {},
   "outputs": [
    {
     "data": {
      "text/plain": [
       "<AxesSubplot:>"
      ]
     },
     "execution_count": 9,
     "metadata": {},
     "output_type": "execute_result"
    },
    {
     "data": {
      "image/png": "[encoded data removed]",
      "text/plain": [
       "<Figure size 432x288 with 1 Axes>"
      ]
     },
     "metadata": {},
     "output_type": "display_data"
    }
   ],
   "source": [
    "deliveries[\"purchase_timestamp\"].hist()"
   ]
  },
  {
   "cell_type": "markdown",
   "id": "successful-underwear",
   "metadata": {},
   "source": [
    "Kolumna `purchase_timestamp` ma zakres wartości od `2021-01-01` do `2021-03-15` o rozkładzie jednostajnym."
   ]
  },
  {
   "cell_type": "code",
   "execution_count": 10,
   "id": "suspended-ontario",
   "metadata": {},
   "outputs": [
    {
     "data": {
      "text/plain": [
       "Timestamp('2021-01-01 12:19:27.708941')"
      ]
     },
     "execution_count": 10,
     "metadata": {},
     "output_type": "execute_result"
    }
   ],
   "source": [
    "deliveries[\"delivery_timestamp\"].min()"
   ]
  },
  {
   "cell_type": "code",
   "execution_count": 11,
   "id": "biblical-afternoon",
   "metadata": {},
   "outputs": [
    {
     "data": {
      "text/plain": [
       "Timestamp('2021-04-28 15:55:02.216864')"
      ]
     },
     "execution_count": 11,
     "metadata": {},
     "output_type": "execute_result"
    }
   ],
   "source": [
    "deliveries[\"delivery_timestamp\"].max()"
   ]
  },
  {
   "cell_type": "code",
   "execution_count": 12,
   "id": "pressed-fault",
   "metadata": {},
   "outputs": [
    {
     "data": {
      "text/plain": [
       "<AxesSubplot:>"
      ]
     },
     "execution_count": 12,
     "metadata": {},
     "output_type": "execute_result"
    },
    {
     "data": {
      "image/png": "[encoded data removed]",
      "text/plain": [
       "<Figure size 432x288 with 1 Axes>"
      ]
     },
     "metadata": {},
     "output_type": "display_data"
    }
   ],
   "source": [
    "deliveries[\"delivery_timestamp\"].hist()"
   ]
  },
  {
   "cell_type": "code",
   "execution_count": 13,
   "id": "agricultural-original",
   "metadata": {},
   "outputs": [
    {
     "data": {
      "text/html": [
       "<div>\n",
       "<style scoped>\n",
       "    .dataframe tbody tr th:only-of-type {\n",
       "        vertical-align: middle;\n",
       "    }\n",
       "\n",
       "    .dataframe tbody tr th {\n",
       "        vertical-align: top;\n",
       "    }\n",
       "\n",
       "    .dataframe thead th {\n",
       "        text-align: right;\n",
       "    }\n",
       "</style>\n",
       "<table border=\"1\" class=\"dataframe\">\n",
       "  <thead>\n",
       "    <tr style=\"text-align: right;\">\n",
       "      <th></th>\n",
       "      <th>purchase_id</th>\n",
       "      <th>purchase_timestamp</th>\n",
       "      <th>delivery_timestamp</th>\n",
       "      <th>delivery_company</th>\n",
       "    </tr>\n",
       "  </thead>\n",
       "  <tbody>\n",
       "  </tbody>\n",
       "</table>\n",
       "</div>"
      ],
      "text/plain": [
       "Empty DataFrame\n",
       "Columns: [purchase_id, purchase_timestamp, delivery_timestamp, delivery_company]\n",
       "Index: []"
      ]
     },
     "execution_count": 13,
     "metadata": {},
     "output_type": "execute_result"
    }
   ],
   "source": [
    "deliveries[deliveries[\"purchase_timestamp\"] > deliveries[\"delivery_timestamp\"]]"
   ]
  },
  {
   "cell_type": "code",
   "execution_count": 14,
   "id": "consistent-material",
   "metadata": {},
   "outputs": [],
   "source": [
    "deliveries[\"hours\"] = (deliveries[\"delivery_timestamp\"] - deliveries[\"purchase_timestamp\"]).dt.total_seconds() / 3600"
   ]
  },
  {
   "cell_type": "code",
   "execution_count": 15,
   "id": "aggressive-intermediate",
   "metadata": {},
   "outputs": [
    {
     "data": {
      "text/plain": [
       "1.4597918413888888"
      ]
     },
     "execution_count": 15,
     "metadata": {},
     "output_type": "execute_result"
    }
   ],
   "source": [
    "deliveries[\"hours\"].min()"
   ]
  },
  {
   "cell_type": "code",
   "execution_count": 16,
   "id": "specific-princeton",
   "metadata": {},
   "outputs": [
    {
     "data": {
      "text/plain": [
       "117.83370102666667"
      ]
     },
     "execution_count": 16,
     "metadata": {},
     "output_type": "execute_result"
    }
   ],
   "source": [
    "deliveries[\"hours\"].max()"
   ]
  },
  {
   "cell_type": "code",
   "execution_count": 17,
   "id": "accredited-credit",
   "metadata": {},
   "outputs": [
    {
     "data": {
      "text/plain": [
       "44.43016316143371"
      ]
     },
     "execution_count": 17,
     "metadata": {},
     "output_type": "execute_result"
    }
   ],
   "source": [
    "deliveries[\"hours\"].mean()"
   ]
  },
  {
   "cell_type": "code",
   "execution_count": 18,
   "id": "figured-space",
   "metadata": {},
   "outputs": [
    {
     "data": {
      "text/plain": [
       "19.588698800097372"
      ]
     },
     "execution_count": 18,
     "metadata": {},
     "output_type": "execute_result"
    }
   ],
   "source": [
    "deliveries[\"hours\"].std()"
   ]
  },
  {
   "cell_type": "code",
   "execution_count": 19,
   "id": "continental-distribution",
   "metadata": {},
   "outputs": [
    {
     "data": {
      "image/png": "[encoded data removed]",
      "text/plain": [
       "<Figure size 432x288 with 1 Axes>"
      ]
     },
     "metadata": {},
     "output_type": "display_data"
    }
   ],
   "source": [
    "ax = sns.histplot(deliveries[\"hours\"], kde=True)\n",
    "ax.set(xlabel=\"czas dostawy\", ylabel=\"liczba przypadków\")\n",
    "plt.show()"
   ]
  },
  {
   "cell_type": "markdown",
   "id": "lesser-constant",
   "metadata": {},
   "source": [
    "**Hipoteza zerowa**: niepuste wartości kolumny `hours` należą do rozkładu normalnego.\n",
    "\n",
    "Przeprowadzamy test Shapiro-Wilka na losowych próbach danych."
   ]
  },
  {
   "cell_type": "code",
   "execution_count": 20,
   "id": "respiratory-yacht",
   "metadata": {},
   "outputs": [],
   "source": [
    "temp = deliveries[~deliveries[\"hours\"].isna()][\"hours\"]"
   ]
  },
  {
   "cell_type": "code",
   "execution_count": 21,
   "id": "duplicate-bulgarian",
   "metadata": {},
   "outputs": [
    {
     "data": {
      "text/plain": [
       "ShapiroResult(statistic=0.880234956741333, pvalue=0.1313069760799408)"
      ]
     },
     "execution_count": 21,
     "metadata": {},
     "output_type": "execute_result"
    }
   ],
   "source": [
    "stats.shapiro(temp.sample(10))"
   ]
  },
  {
   "cell_type": "code",
   "execution_count": 22,
   "id": "distributed-hamburg",
   "metadata": {},
   "outputs": [
    {
     "data": {
      "text/plain": [
       "ShapiroResult(statistic=0.9741048216819763, pvalue=0.045927803963422775)"
      ]
     },
     "execution_count": 22,
     "metadata": {},
     "output_type": "execute_result"
    }
   ],
   "source": [
    "stats.shapiro(temp.sample(100))"
   ]
  },
  {
   "cell_type": "code",
   "execution_count": 23,
   "id": "banned-audio",
   "metadata": {},
   "outputs": [
    {
     "data": {
      "text/plain": [
       "ShapiroResult(statistic=0.9733849763870239, pvalue=1.42606466999734e-12)"
      ]
     },
     "execution_count": 23,
     "metadata": {},
     "output_type": "execute_result"
    }
   ],
   "source": [
    "stats.shapiro(temp.sample(1000))"
   ]
  },
  {
   "cell_type": "code",
   "execution_count": 24,
   "id": "intensive-concentration",
   "metadata": {},
   "outputs": [
    {
     "data": {
      "text/plain": [
       "ShapiroResult(statistic=0.9777978658676147, pvalue=2.9669127978840252e-27)"
      ]
     },
     "execution_count": 24,
     "metadata": {},
     "output_type": "execute_result"
    }
   ],
   "source": [
    "stats.shapiro(temp.sample(5000))"
   ]
  },
  {
   "cell_type": "code",
   "execution_count": 25,
   "id": "every-affairs",
   "metadata": {},
   "outputs": [
    {
     "name": "stderr",
     "output_type": "stream",
     "text": [
      "c:\\users\\adrian\\miniconda3\\lib\\site-packages\\scipy\\stats\\morestats.py:1681: UserWarning: p-value may not be accurate for N > 5000.\n",
      "  warnings.warn(\"p-value may not be accurate for N > 5000.\")\n"
     ]
    },
    {
     "data": {
      "text/plain": [
       "ShapiroResult(statistic=0.9792067408561707, pvalue=1.0749388024710264e-31)"
      ]
     },
     "execution_count": 25,
     "metadata": {},
     "output_type": "execute_result"
    }
   ],
   "source": [
    "stats.shapiro(temp)"
   ]
  },
  {
   "cell_type": "markdown",
   "id": "accredited-frost",
   "metadata": {},
   "source": [
    "Otrzymujemy p-wartości większe niż $0.05$, zatem nie udało się odrzucić hipotezy zerowej, tzn. dane mogą mieć rozkład normalny."
   ]
  },
  {
   "cell_type": "markdown",
   "id": "academic-format",
   "metadata": {},
   "source": [
    "## delivery_company"
   ]
  },
  {
   "cell_type": "code",
   "execution_count": 26,
   "id": "contained-brunswick",
   "metadata": {},
   "outputs": [
    {
     "data": {
      "text/plain": [
       "[360, 516, 620]"
      ]
     },
     "execution_count": 26,
     "metadata": {},
     "output_type": "execute_result"
    }
   ],
   "source": [
    "sorted(deliveries[\"delivery_company\"].unique())"
   ]
  },
  {
   "cell_type": "markdown",
   "id": "ideal-union",
   "metadata": {},
   "source": [
    "Kolumna `delivery_company` tak naprawdę jest typem dyskretnym o trzech możliwych niepustych wartościach. Może zostać zakodowana metodą *one-hot*."
   ]
  },
  {
   "cell_type": "markdown",
   "id": "proved-haiti",
   "metadata": {},
   "source": [
    "# Tabela `products`"
   ]
  },
  {
   "cell_type": "code",
   "execution_count": 27,
   "id": "suitable-locking",
   "metadata": {},
   "outputs": [
    {
     "data": {
      "text/html": [
       "<div>\n",
       "<style scoped>\n",
       "    .dataframe tbody tr th:only-of-type {\n",
       "        vertical-align: middle;\n",
       "    }\n",
       "\n",
       "    .dataframe tbody tr th {\n",
       "        vertical-align: top;\n",
       "    }\n",
       "\n",
       "    .dataframe thead th {\n",
       "        text-align: right;\n",
       "    }\n",
       "</style>\n",
       "<table border=\"1\" class=\"dataframe\">\n",
       "  <thead>\n",
       "    <tr style=\"text-align: right;\">\n",
       "      <th></th>\n",
       "      <th>product_id</th>\n",
       "      <th>product_name</th>\n",
       "      <th>category_path</th>\n",
       "      <th>price</th>\n",
       "    </tr>\n",
       "  </thead>\n",
       "  <tbody>\n",
       "    <tr>\n",
       "      <th>0</th>\n",
       "      <td>1001</td>\n",
       "      <td>Telefon Siemens Gigaset DA310</td>\n",
       "      <td>Telefony i akcesoria;Telefony stacjonarne</td>\n",
       "      <td>58.97</td>\n",
       "    </tr>\n",
       "    <tr>\n",
       "      <th>1</th>\n",
       "      <td>1002</td>\n",
       "      <td>Kyocera FS-1135MFP</td>\n",
       "      <td>Komputery;Drukarki i skanery;Biurowe urządzeni...</td>\n",
       "      <td>2048.50</td>\n",
       "    </tr>\n",
       "    <tr>\n",
       "      <th>2</th>\n",
       "      <td>1003</td>\n",
       "      <td>Kyocera FS-3640MFP</td>\n",
       "      <td>Komputery;Drukarki i skanery;Biurowe urządzeni...</td>\n",
       "      <td>7639.00</td>\n",
       "    </tr>\n",
       "    <tr>\n",
       "      <th>3</th>\n",
       "      <td>1004</td>\n",
       "      <td>Fallout 3 (Xbox 360)</td>\n",
       "      <td>Gry i konsole;Gry na konsole;Gry Xbox 360</td>\n",
       "      <td>49.99</td>\n",
       "    </tr>\n",
       "    <tr>\n",
       "      <th>4</th>\n",
       "      <td>1005</td>\n",
       "      <td>Szalone Króliki Na żywo i w kolorze (Xbox 360)</td>\n",
       "      <td>Gry i konsole;Gry na konsole;Gry Xbox 360</td>\n",
       "      <td>49.99</td>\n",
       "    </tr>\n",
       "    <tr>\n",
       "      <th>...</th>\n",
       "      <td>...</td>\n",
       "      <td>...</td>\n",
       "      <td>...</td>\n",
       "      <td>...</td>\n",
       "    </tr>\n",
       "    <tr>\n",
       "      <th>314</th>\n",
       "      <td>1315</td>\n",
       "      <td>Jabra Talk</td>\n",
       "      <td>Telefony i akcesoria;Akcesoria telefoniczne;Ze...</td>\n",
       "      <td>54.99</td>\n",
       "    </tr>\n",
       "    <tr>\n",
       "      <th>315</th>\n",
       "      <td>1316</td>\n",
       "      <td>Plantronics Voyager Legend</td>\n",
       "      <td>Telefony i akcesoria;Akcesoria telefoniczne;Ze...</td>\n",
       "      <td>249.00</td>\n",
       "    </tr>\n",
       "    <tr>\n",
       "      <th>316</th>\n",
       "      <td>1317</td>\n",
       "      <td>Plantronics Savi W740</td>\n",
       "      <td>Telefony i akcesoria;Akcesoria telefoniczne;Ze...</td>\n",
       "      <td>1303.96</td>\n",
       "    </tr>\n",
       "    <tr>\n",
       "      <th>317</th>\n",
       "      <td>1318</td>\n",
       "      <td>Plantronics Savi W710</td>\n",
       "      <td>Sprzęt RTV;Audio;Słuchawki</td>\n",
       "      <td>553.00</td>\n",
       "    </tr>\n",
       "    <tr>\n",
       "      <th>318</th>\n",
       "      <td>1319</td>\n",
       "      <td>HTC HS-S200</td>\n",
       "      <td>Telefony i akcesoria;Akcesoria telefoniczne;Ze...</td>\n",
       "      <td>14.99</td>\n",
       "    </tr>\n",
       "  </tbody>\n",
       "</table>\n",
       "<p>319 rows × 4 columns</p>\n",
       "</div>"
      ],
      "text/plain": [
       "     product_id                                    product_name  \\\n",
       "0          1001                   Telefon Siemens Gigaset DA310   \n",
       "1          1002                              Kyocera FS-1135MFP   \n",
       "2          1003                              Kyocera FS-3640MFP   \n",
       "3          1004                            Fallout 3 (Xbox 360)   \n",
       "4          1005  Szalone Króliki Na żywo i w kolorze (Xbox 360)   \n",
       "..          ...                                             ...   \n",
       "314        1315                                      Jabra Talk   \n",
       "315        1316                      Plantronics Voyager Legend   \n",
       "316        1317                           Plantronics Savi W740   \n",
       "317        1318                           Plantronics Savi W710   \n",
       "318        1319                                     HTC HS-S200   \n",
       "\n",
       "                                         category_path    price  \n",
       "0            Telefony i akcesoria;Telefony stacjonarne    58.97  \n",
       "1    Komputery;Drukarki i skanery;Biurowe urządzeni...  2048.50  \n",
       "2    Komputery;Drukarki i skanery;Biurowe urządzeni...  7639.00  \n",
       "3            Gry i konsole;Gry na konsole;Gry Xbox 360    49.99  \n",
       "4            Gry i konsole;Gry na konsole;Gry Xbox 360    49.99  \n",
       "..                                                 ...      ...  \n",
       "314  Telefony i akcesoria;Akcesoria telefoniczne;Ze...    54.99  \n",
       "315  Telefony i akcesoria;Akcesoria telefoniczne;Ze...   249.00  \n",
       "316  Telefony i akcesoria;Akcesoria telefoniczne;Ze...  1303.96  \n",
       "317                         Sprzęt RTV;Audio;Słuchawki   553.00  \n",
       "318  Telefony i akcesoria;Akcesoria telefoniczne;Ze...    14.99  \n",
       "\n",
       "[319 rows x 4 columns]"
      ]
     },
     "execution_count": 27,
     "metadata": {},
     "output_type": "execute_result"
    }
   ],
   "source": [
    "products"
   ]
  },
  {
   "cell_type": "code",
   "execution_count": 28,
   "id": "elegant-battle",
   "metadata": {},
   "outputs": [
    {
     "name": "stdout",
     "output_type": "stream",
     "text": [
      "<class 'pandas.core.frame.DataFrame'>\n",
      "RangeIndex: 319 entries, 0 to 318\n",
      "Data columns (total 4 columns):\n",
      " #   Column         Non-Null Count  Dtype  \n",
      "---  ------         --------------  -----  \n",
      " 0   product_id     319 non-null    int64  \n",
      " 1   product_name   319 non-null    object \n",
      " 2   category_path  319 non-null    object \n",
      " 3   price          319 non-null    float64\n",
      "dtypes: float64(1), int64(1), object(2)\n",
      "memory usage: 10.1+ KB\n"
     ]
    }
   ],
   "source": [
    "products.info()"
   ]
  },
  {
   "cell_type": "code",
   "execution_count": 29,
   "id": "adaptive-latitude",
   "metadata": {},
   "outputs": [
    {
     "data": {
      "text/plain": [
       "['akcesoria telefoniczne',\n",
       " 'anteny rtv',\n",
       " 'audio',\n",
       " 'biurowe urządzenia wielofunkcyjne',\n",
       " 'drukarki i skanery',\n",
       " 'gry i konsole',\n",
       " 'gry komputerowe',\n",
       " 'gry na konsole',\n",
       " 'gry playstation3',\n",
       " 'gry xbox 360',\n",
       " 'komputery',\n",
       " 'monitory',\n",
       " 'monitory lcd',\n",
       " 'odtwarzacze dvd',\n",
       " 'odtwarzacze mp3 i mp4',\n",
       " 'okulary 3d',\n",
       " 'przenośne audio i video',\n",
       " 'sprzęt rtv',\n",
       " 'słuchawki',\n",
       " 'tablety',\n",
       " 'tablety i akcesoria',\n",
       " 'telefony i akcesoria',\n",
       " 'telefony komórkowe',\n",
       " 'telefony stacjonarne',\n",
       " 'telewizory i akcesoria',\n",
       " 'video',\n",
       " 'zestawy głośnomówiące',\n",
       " 'zestawy słuchawkowe']"
      ]
     },
     "execution_count": 29,
     "metadata": {},
     "output_type": "execute_result"
    }
   ],
   "source": [
    "categories = set()\n",
    "\n",
    "for x in products[\"category_path\"]:\n",
    "    categories.update(x.lower().split(\";\"))\n",
    "\n",
    "sorted(categories)"
   ]
  },
  {
   "cell_type": "markdown",
   "id": "respiratory-adjustment",
   "metadata": {},
   "source": [
    "Kolumna `price` jest ceną produktu."
   ]
  },
  {
   "cell_type": "code",
   "execution_count": 30,
   "id": "express-unemployment",
   "metadata": {},
   "outputs": [
    {
     "data": {
      "text/plain": [
       "1.0"
      ]
     },
     "execution_count": 30,
     "metadata": {},
     "output_type": "execute_result"
    }
   ],
   "source": [
    "products[\"price\"].min()"
   ]
  },
  {
   "cell_type": "code",
   "execution_count": 31,
   "id": "growing-hebrew",
   "metadata": {},
   "outputs": [
    {
     "data": {
      "text/plain": [
       "7639.0"
      ]
     },
     "execution_count": 31,
     "metadata": {},
     "output_type": "execute_result"
    }
   ],
   "source": [
    "products[\"price\"].max()"
   ]
  },
  {
   "cell_type": "code",
   "execution_count": 32,
   "id": "pregnant-oasis",
   "metadata": {},
   "outputs": [
    {
     "data": {
      "text/plain": [
       "247.78796238244504"
      ]
     },
     "execution_count": 32,
     "metadata": {},
     "output_type": "execute_result"
    }
   ],
   "source": [
    "products[\"price\"].mean()"
   ]
  },
  {
   "cell_type": "code",
   "execution_count": 33,
   "id": "curious-piano",
   "metadata": {},
   "outputs": [
    {
     "data": {
      "text/plain": [
       "813.7885482376182"
      ]
     },
     "execution_count": 33,
     "metadata": {},
     "output_type": "execute_result"
    }
   ],
   "source": [
    "products[\"price\"].std()"
   ]
  },
  {
   "cell_type": "code",
   "execution_count": 34,
   "id": "unknown-affiliate",
   "metadata": {},
   "outputs": [
    {
     "data": {
      "text/html": [
       "<div>\n",
       "<style scoped>\n",
       "    .dataframe tbody tr th:only-of-type {\n",
       "        vertical-align: middle;\n",
       "    }\n",
       "\n",
       "    .dataframe tbody tr th {\n",
       "        vertical-align: top;\n",
       "    }\n",
       "\n",
       "    .dataframe thead th {\n",
       "        text-align: right;\n",
       "    }\n",
       "</style>\n",
       "<table border=\"1\" class=\"dataframe\">\n",
       "  <thead>\n",
       "    <tr style=\"text-align: right;\">\n",
       "      <th></th>\n",
       "      <th>product_id</th>\n",
       "      <th>product_name</th>\n",
       "      <th>category_path</th>\n",
       "      <th>price</th>\n",
       "    </tr>\n",
       "  </thead>\n",
       "  <tbody>\n",
       "  </tbody>\n",
       "</table>\n",
       "</div>"
      ],
      "text/plain": [
       "Empty DataFrame\n",
       "Columns: [product_id, product_name, category_path, price]\n",
       "Index: []"
      ]
     },
     "execution_count": 34,
     "metadata": {},
     "output_type": "execute_result"
    }
   ],
   "source": [
    "products[products[\"price\"] > 1e4]"
   ]
  },
  {
   "cell_type": "code",
   "execution_count": 35,
   "id": "efficient-livestock",
   "metadata": {},
   "outputs": [
    {
     "data": {
      "text/html": [
       "<div>\n",
       "<style scoped>\n",
       "    .dataframe tbody tr th:only-of-type {\n",
       "        vertical-align: middle;\n",
       "    }\n",
       "\n",
       "    .dataframe tbody tr th {\n",
       "        vertical-align: top;\n",
       "    }\n",
       "\n",
       "    .dataframe thead th {\n",
       "        text-align: right;\n",
       "    }\n",
       "</style>\n",
       "<table border=\"1\" class=\"dataframe\">\n",
       "  <thead>\n",
       "    <tr style=\"text-align: right;\">\n",
       "      <th></th>\n",
       "      <th>product_id</th>\n",
       "      <th>product_name</th>\n",
       "      <th>category_path</th>\n",
       "      <th>price</th>\n",
       "    </tr>\n",
       "  </thead>\n",
       "  <tbody>\n",
       "  </tbody>\n",
       "</table>\n",
       "</div>"
      ],
      "text/plain": [
       "Empty DataFrame\n",
       "Columns: [product_id, product_name, category_path, price]\n",
       "Index: []"
      ]
     },
     "execution_count": 35,
     "metadata": {},
     "output_type": "execute_result"
    }
   ],
   "source": [
    "products[products[\"price\"] <= 0]"
   ]
  },
  {
   "cell_type": "markdown",
   "id": "automotive-chicken",
   "metadata": {},
   "source": [
    "# Tabela `sessions`"
   ]
  },
  {
   "cell_type": "code",
   "execution_count": 36,
   "id": "animated-acceptance",
   "metadata": {},
   "outputs": [
    {
     "data": {
      "text/html": [
       "<div>\n",
       "<style scoped>\n",
       "    .dataframe tbody tr th:only-of-type {\n",
       "        vertical-align: middle;\n",
       "    }\n",
       "\n",
       "    .dataframe tbody tr th {\n",
       "        vertical-align: top;\n",
       "    }\n",
       "\n",
       "    .dataframe thead th {\n",
       "        text-align: right;\n",
       "    }\n",
       "</style>\n",
       "<table border=\"1\" class=\"dataframe\">\n",
       "  <thead>\n",
       "    <tr style=\"text-align: right;\">\n",
       "      <th></th>\n",
       "      <th>session_id</th>\n",
       "      <th>timestamp</th>\n",
       "      <th>user_id</th>\n",
       "      <th>product_id</th>\n",
       "      <th>event_type</th>\n",
       "      <th>offered_discount</th>\n",
       "      <th>purchase_id</th>\n",
       "    </tr>\n",
       "  </thead>\n",
       "  <tbody>\n",
       "    <tr>\n",
       "      <th>0</th>\n",
       "      <td>100001</td>\n",
       "      <td>2021-03-09 23:09:07</td>\n",
       "      <td>102</td>\n",
       "      <td>1283</td>\n",
       "      <td>VIEW_PRODUCT</td>\n",
       "      <td>5</td>\n",
       "      <td>NaN</td>\n",
       "    </tr>\n",
       "    <tr>\n",
       "      <th>1</th>\n",
       "      <td>100002</td>\n",
       "      <td>2021-04-01 15:51:06</td>\n",
       "      <td>102</td>\n",
       "      <td>1234</td>\n",
       "      <td>VIEW_PRODUCT</td>\n",
       "      <td>0</td>\n",
       "      <td>NaN</td>\n",
       "    </tr>\n",
       "    <tr>\n",
       "      <th>2</th>\n",
       "      <td>100002</td>\n",
       "      <td>2021-04-01 15:52:47</td>\n",
       "      <td>102</td>\n",
       "      <td>1234</td>\n",
       "      <td>BUY_PRODUCT</td>\n",
       "      <td>0</td>\n",
       "      <td>20001.0</td>\n",
       "    </tr>\n",
       "    <tr>\n",
       "      <th>3</th>\n",
       "      <td>100003</td>\n",
       "      <td>2021-04-01 02:14:04</td>\n",
       "      <td>102</td>\n",
       "      <td>1284</td>\n",
       "      <td>VIEW_PRODUCT</td>\n",
       "      <td>15</td>\n",
       "      <td>NaN</td>\n",
       "    </tr>\n",
       "    <tr>\n",
       "      <th>4</th>\n",
       "      <td>100003</td>\n",
       "      <td>2021-04-01 02:16:37</td>\n",
       "      <td>102</td>\n",
       "      <td>1292</td>\n",
       "      <td>VIEW_PRODUCT</td>\n",
       "      <td>15</td>\n",
       "      <td>NaN</td>\n",
       "    </tr>\n",
       "    <tr>\n",
       "      <th>...</th>\n",
       "      <td>...</td>\n",
       "      <td>...</td>\n",
       "      <td>...</td>\n",
       "      <td>...</td>\n",
       "      <td>...</td>\n",
       "      <td>...</td>\n",
       "      <td>...</td>\n",
       "    </tr>\n",
       "    <tr>\n",
       "      <th>40892</th>\n",
       "      <td>110623</td>\n",
       "      <td>2021-04-04 11:10:48</td>\n",
       "      <td>301</td>\n",
       "      <td>1317</td>\n",
       "      <td>VIEW_PRODUCT</td>\n",
       "      <td>0</td>\n",
       "      <td>NaN</td>\n",
       "    </tr>\n",
       "    <tr>\n",
       "      <th>40893</th>\n",
       "      <td>110624</td>\n",
       "      <td>2021-02-03 15:17:49</td>\n",
       "      <td>301</td>\n",
       "      <td>1233</td>\n",
       "      <td>VIEW_PRODUCT</td>\n",
       "      <td>0</td>\n",
       "      <td>NaN</td>\n",
       "    </tr>\n",
       "    <tr>\n",
       "      <th>40894</th>\n",
       "      <td>110624</td>\n",
       "      <td>2021-02-03 15:19:18</td>\n",
       "      <td>301</td>\n",
       "      <td>1234</td>\n",
       "      <td>VIEW_PRODUCT</td>\n",
       "      <td>0</td>\n",
       "      <td>NaN</td>\n",
       "    </tr>\n",
       "    <tr>\n",
       "      <th>40895</th>\n",
       "      <td>110624</td>\n",
       "      <td>2021-02-03 15:23:11</td>\n",
       "      <td>301</td>\n",
       "      <td>1234</td>\n",
       "      <td>BUY_PRODUCT</td>\n",
       "      <td>0</td>\n",
       "      <td>27493.0</td>\n",
       "    </tr>\n",
       "    <tr>\n",
       "      <th>40896</th>\n",
       "      <td>110625</td>\n",
       "      <td>2021-01-07 03:04:00</td>\n",
       "      <td>301</td>\n",
       "      <td>1040</td>\n",
       "      <td>VIEW_PRODUCT</td>\n",
       "      <td>0</td>\n",
       "      <td>NaN</td>\n",
       "    </tr>\n",
       "  </tbody>\n",
       "</table>\n",
       "<p>40897 rows × 7 columns</p>\n",
       "</div>"
      ],
      "text/plain": [
       "       session_id           timestamp  user_id  product_id    event_type  \\\n",
       "0          100001 2021-03-09 23:09:07      102        1283  VIEW_PRODUCT   \n",
       "1          100002 2021-04-01 15:51:06      102        1234  VIEW_PRODUCT   \n",
       "2          100002 2021-04-01 15:52:47      102        1234   BUY_PRODUCT   \n",
       "3          100003 2021-04-01 02:14:04      102        1284  VIEW_PRODUCT   \n",
       "4          100003 2021-04-01 02:16:37      102        1292  VIEW_PRODUCT   \n",
       "...           ...                 ...      ...         ...           ...   \n",
       "40892      110623 2021-04-04 11:10:48      301        1317  VIEW_PRODUCT   \n",
       "40893      110624 2021-02-03 15:17:49      301        1233  VIEW_PRODUCT   \n",
       "40894      110624 2021-02-03 15:19:18      301        1234  VIEW_PRODUCT   \n",
       "40895      110624 2021-02-03 15:23:11      301        1234   BUY_PRODUCT   \n",
       "40896      110625 2021-01-07 03:04:00      301        1040  VIEW_PRODUCT   \n",
       "\n",
       "       offered_discount  purchase_id  \n",
       "0                     5          NaN  \n",
       "1                     0          NaN  \n",
       "2                     0      20001.0  \n",
       "3                    15          NaN  \n",
       "4                    15          NaN  \n",
       "...                 ...          ...  \n",
       "40892                 0          NaN  \n",
       "40893                 0          NaN  \n",
       "40894                 0          NaN  \n",
       "40895                 0      27493.0  \n",
       "40896                 0          NaN  \n",
       "\n",
       "[40897 rows x 7 columns]"
      ]
     },
     "execution_count": 36,
     "metadata": {},
     "output_type": "execute_result"
    }
   ],
   "source": [
    "sessions"
   ]
  },
  {
   "cell_type": "code",
   "execution_count": 37,
   "id": "extended-platinum",
   "metadata": {},
   "outputs": [
    {
     "name": "stdout",
     "output_type": "stream",
     "text": [
      "<class 'pandas.core.frame.DataFrame'>\n",
      "RangeIndex: 40897 entries, 0 to 40896\n",
      "Data columns (total 7 columns):\n",
      " #   Column            Non-Null Count  Dtype         \n",
      "---  ------            --------------  -----         \n",
      " 0   session_id        40897 non-null  int64         \n",
      " 1   timestamp         40897 non-null  datetime64[ns]\n",
      " 2   user_id           40897 non-null  int64         \n",
      " 3   product_id        40897 non-null  int64         \n",
      " 4   event_type        40897 non-null  object        \n",
      " 5   offered_discount  40897 non-null  int64         \n",
      " 6   purchase_id       7493 non-null   float64       \n",
      "dtypes: datetime64[ns](1), float64(1), int64(4), object(1)\n",
      "memory usage: 2.2+ MB\n"
     ]
    }
   ],
   "source": [
    "sessions.info()"
   ]
  },
  {
   "cell_type": "code",
   "execution_count": 38,
   "id": "better-missile",
   "metadata": {},
   "outputs": [
    {
     "data": {
      "text/plain": [
       "array(['VIEW_PRODUCT', 'BUY_PRODUCT'], dtype=object)"
      ]
     },
     "execution_count": 38,
     "metadata": {},
     "output_type": "execute_result"
    }
   ],
   "source": [
    "sessions[\"event_type\"].unique()"
   ]
  },
  {
   "cell_type": "code",
   "execution_count": 39,
   "id": "organic-attack",
   "metadata": {},
   "outputs": [
    {
     "data": {
      "text/plain": [
       "<AxesSubplot:>"
      ]
     },
     "execution_count": 39,
     "metadata": {},
     "output_type": "execute_result"
    },
    {
     "data": {
      "image/png": "[encoded data removed]",
      "text/plain": [
       "<Figure size 432x288 with 1 Axes>"
      ]
     },
     "metadata": {},
     "output_type": "display_data"
    }
   ],
   "source": [
    "sessions[\"event_type\"].hist()"
   ]
  },
  {
   "cell_type": "code",
   "execution_count": 40,
   "id": "metropolitan-majority",
   "metadata": {},
   "outputs": [
    {
     "data": {
      "text/plain": [
       "Timestamp('2021-01-01 00:11:06')"
      ]
     },
     "execution_count": 40,
     "metadata": {},
     "output_type": "execute_result"
    }
   ],
   "source": [
    "sessions[\"timestamp\"].min()"
   ]
  },
  {
   "cell_type": "code",
   "execution_count": 41,
   "id": "joined-grace",
   "metadata": {},
   "outputs": [
    {
     "data": {
      "text/plain": [
       "Timestamp('2021-04-25 15:55:45')"
      ]
     },
     "execution_count": 41,
     "metadata": {},
     "output_type": "execute_result"
    }
   ],
   "source": [
    "sessions[\"timestamp\"].max()"
   ]
  },
  {
   "cell_type": "code",
   "execution_count": 42,
   "id": "going-feedback",
   "metadata": {},
   "outputs": [
    {
     "data": {
      "text/plain": [
       "<AxesSubplot:>"
      ]
     },
     "execution_count": 42,
     "metadata": {},
     "output_type": "execute_result"
    },
    {
     "data": {
      "image/png": "[encoded data removed]",
      "text/plain": [
       "<Figure size 432x288 with 1 Axes>"
      ]
     },
     "metadata": {},
     "output_type": "display_data"
    }
   ],
   "source": [
    "sessions[\"timestamp\"].hist()"
   ]
  },
  {
   "cell_type": "markdown",
   "id": "english-external",
   "metadata": {},
   "source": [
    "Kolumna `timestamp` ma zakres wartości od `2021-01-01` do `2021-03-15` o przybliżonym rozkładzie jednostajnym."
   ]
  },
  {
   "cell_type": "code",
   "execution_count": 43,
   "id": "textile-firewall",
   "metadata": {},
   "outputs": [
    {
     "data": {
      "text/plain": [
       "<AxesSubplot:>"
      ]
     },
     "execution_count": 43,
     "metadata": {},
     "output_type": "execute_result"
    },
    {
     "data": {
      "image/png": "[encoded data removed]",
      "text/plain": [
       "<Figure size 432x288 with 1 Axes>"
      ]
     },
     "metadata": {},
     "output_type": "display_data"
    }
   ],
   "source": [
    "sessions[\"offered_discount\"].hist()"
   ]
  },
  {
   "cell_type": "code",
   "execution_count": 44,
   "id": "abandoned-darkness",
   "metadata": {},
   "outputs": [
    {
     "data": {
      "text/plain": [
       "[0, 5, 10, 15, 20]"
      ]
     },
     "execution_count": 44,
     "metadata": {},
     "output_type": "execute_result"
    }
   ],
   "source": [
    "sorted(sessions[\"offered_discount\"].unique())"
   ]
  },
  {
   "cell_type": "code",
   "execution_count": 45,
   "id": "completed-solomon",
   "metadata": {},
   "outputs": [
    {
     "data": {
      "text/html": [
       "<div>\n",
       "<style scoped>\n",
       "    .dataframe tbody tr th:only-of-type {\n",
       "        vertical-align: middle;\n",
       "    }\n",
       "\n",
       "    .dataframe tbody tr th {\n",
       "        vertical-align: top;\n",
       "    }\n",
       "\n",
       "    .dataframe thead th {\n",
       "        text-align: right;\n",
       "    }\n",
       "</style>\n",
       "<table border=\"1\" class=\"dataframe\">\n",
       "  <thead>\n",
       "    <tr style=\"text-align: right;\">\n",
       "      <th></th>\n",
       "      <th>offered_discount</th>\n",
       "    </tr>\n",
       "    <tr>\n",
       "      <th>event_type</th>\n",
       "      <th></th>\n",
       "    </tr>\n",
       "  </thead>\n",
       "  <tbody>\n",
       "    <tr>\n",
       "      <th>BUY_PRODUCT</th>\n",
       "      <td>{0, 5, 10, 15, 20}</td>\n",
       "    </tr>\n",
       "    <tr>\n",
       "      <th>VIEW_PRODUCT</th>\n",
       "      <td>{0, 5, 10, 15, 20}</td>\n",
       "    </tr>\n",
       "  </tbody>\n",
       "</table>\n",
       "</div>"
      ],
      "text/plain": [
       "                offered_discount\n",
       "event_type                      \n",
       "BUY_PRODUCT   {0, 5, 10, 15, 20}\n",
       "VIEW_PRODUCT  {0, 5, 10, 15, 20}"
      ]
     },
     "execution_count": 45,
     "metadata": {},
     "output_type": "execute_result"
    }
   ],
   "source": [
    "sessions.groupby(\"event_type\").agg({\"offered_discount\": set})"
   ]
  },
  {
   "cell_type": "code",
   "execution_count": 46,
   "id": "acoustic-district",
   "metadata": {},
   "outputs": [
    {
     "data": {
      "text/plain": [
       "<AxesSubplot:>"
      ]
     },
     "execution_count": 46,
     "metadata": {},
     "output_type": "execute_result"
    },
    {
     "data": {
      "image/png": "[encoded data removed]",
      "text/plain": [
       "<Figure size 432x288 with 1 Axes>"
      ]
     },
     "metadata": {},
     "output_type": "display_data"
    }
   ],
   "source": [
    "sessions[sessions[\"event_type\"] == \"BUY_PRODUCT\"][\"offered_discount\"].hist()"
   ]
  },
  {
   "cell_type": "code",
   "execution_count": 47,
   "id": "impressive-authority",
   "metadata": {},
   "outputs": [
    {
     "data": {
      "text/plain": [
       "<AxesSubplot:>"
      ]
     },
     "execution_count": 47,
     "metadata": {},
     "output_type": "execute_result"
    },
    {
     "data": {
      "image/png": "[encoded data removed]",
      "text/plain": [
       "<Figure size 432x288 with 1 Axes>"
      ]
     },
     "metadata": {},
     "output_type": "display_data"
    }
   ],
   "source": [
    "sessions[sessions[\"event_type\"] == \"VIEW_PRODUCT\"][\"offered_discount\"].hist()"
   ]
  },
  {
   "cell_type": "markdown",
   "id": "deluxe-earthquake",
   "metadata": {},
   "source": [
    "# Tabela `users`"
   ]
  },
  {
   "cell_type": "code",
   "execution_count": 48,
   "id": "guided-photograph",
   "metadata": {},
   "outputs": [
    {
     "data": {
      "text/html": [
       "<div>\n",
       "<style scoped>\n",
       "    .dataframe tbody tr th:only-of-type {\n",
       "        vertical-align: middle;\n",
       "    }\n",
       "\n",
       "    .dataframe tbody tr th {\n",
       "        vertical-align: top;\n",
       "    }\n",
       "\n",
       "    .dataframe thead th {\n",
       "        text-align: right;\n",
       "    }\n",
       "</style>\n",
       "<table border=\"1\" class=\"dataframe\">\n",
       "  <thead>\n",
       "    <tr style=\"text-align: right;\">\n",
       "      <th></th>\n",
       "      <th>user_id</th>\n",
       "      <th>name</th>\n",
       "      <th>city</th>\n",
       "      <th>street</th>\n",
       "    </tr>\n",
       "  </thead>\n",
       "  <tbody>\n",
       "    <tr>\n",
       "      <th>0</th>\n",
       "      <td>102</td>\n",
       "      <td>Aurelia Malon</td>\n",
       "      <td>Police</td>\n",
       "      <td>pl. Brzoskwiniowa 11/53</td>\n",
       "    </tr>\n",
       "    <tr>\n",
       "      <th>1</th>\n",
       "      <td>103</td>\n",
       "      <td>Mateusz Kobel</td>\n",
       "      <td>Police</td>\n",
       "      <td>al. Wrocławska 10</td>\n",
       "    </tr>\n",
       "    <tr>\n",
       "      <th>2</th>\n",
       "      <td>104</td>\n",
       "      <td>Radosław Ratka</td>\n",
       "      <td>Mielec</td>\n",
       "      <td>pl. Nowa 89/04</td>\n",
       "    </tr>\n",
       "    <tr>\n",
       "      <th>3</th>\n",
       "      <td>105</td>\n",
       "      <td>Anastazja Oszust</td>\n",
       "      <td>Szczecin</td>\n",
       "      <td>ul. Częstochowska 80</td>\n",
       "    </tr>\n",
       "    <tr>\n",
       "      <th>4</th>\n",
       "      <td>106</td>\n",
       "      <td>Sylwia Nurek</td>\n",
       "      <td>Szczecin</td>\n",
       "      <td>al. Wiosenna 72</td>\n",
       "    </tr>\n",
       "    <tr>\n",
       "      <th>...</th>\n",
       "      <td>...</td>\n",
       "      <td>...</td>\n",
       "      <td>...</td>\n",
       "      <td>...</td>\n",
       "    </tr>\n",
       "    <tr>\n",
       "      <th>195</th>\n",
       "      <td>297</td>\n",
       "      <td>Andrzej Kreczmer</td>\n",
       "      <td>Szczecin</td>\n",
       "      <td>ul. Zdrojowa 43/11</td>\n",
       "    </tr>\n",
       "    <tr>\n",
       "      <th>196</th>\n",
       "      <td>298</td>\n",
       "      <td>Natan Świadek</td>\n",
       "      <td>Mielec</td>\n",
       "      <td>pl. Staffa 801</td>\n",
       "    </tr>\n",
       "    <tr>\n",
       "      <th>197</th>\n",
       "      <td>299</td>\n",
       "      <td>Jeremi Kajstura</td>\n",
       "      <td>Konin</td>\n",
       "      <td>pl. Wiklinowa 022</td>\n",
       "    </tr>\n",
       "    <tr>\n",
       "      <th>198</th>\n",
       "      <td>300</td>\n",
       "      <td>Gustaw Cofała</td>\n",
       "      <td>Gdynia</td>\n",
       "      <td>ulica Krakowska 847</td>\n",
       "    </tr>\n",
       "    <tr>\n",
       "      <th>199</th>\n",
       "      <td>301</td>\n",
       "      <td>Sara Nóżka</td>\n",
       "      <td>Warszawa</td>\n",
       "      <td>aleja Słoneczna 78/05</td>\n",
       "    </tr>\n",
       "  </tbody>\n",
       "</table>\n",
       "<p>200 rows × 4 columns</p>\n",
       "</div>"
      ],
      "text/plain": [
       "     user_id              name      city                   street\n",
       "0        102     Aurelia Malon    Police  pl. Brzoskwiniowa 11/53\n",
       "1        103     Mateusz Kobel    Police        al. Wrocławska 10\n",
       "2        104    Radosław Ratka    Mielec           pl. Nowa 89/04\n",
       "3        105  Anastazja Oszust  Szczecin     ul. Częstochowska 80\n",
       "4        106      Sylwia Nurek  Szczecin          al. Wiosenna 72\n",
       "..       ...               ...       ...                      ...\n",
       "195      297  Andrzej Kreczmer  Szczecin       ul. Zdrojowa 43/11\n",
       "196      298     Natan Świadek    Mielec           pl. Staffa 801\n",
       "197      299   Jeremi Kajstura     Konin        pl. Wiklinowa 022\n",
       "198      300     Gustaw Cofała    Gdynia      ulica Krakowska 847\n",
       "199      301        Sara Nóżka  Warszawa    aleja Słoneczna 78/05\n",
       "\n",
       "[200 rows x 4 columns]"
      ]
     },
     "execution_count": 48,
     "metadata": {},
     "output_type": "execute_result"
    }
   ],
   "source": [
    "users"
   ]
  },
  {
   "cell_type": "code",
   "execution_count": 49,
   "id": "eligible-interface",
   "metadata": {},
   "outputs": [
    {
     "name": "stdout",
     "output_type": "stream",
     "text": [
      "<class 'pandas.core.frame.DataFrame'>\n",
      "RangeIndex: 200 entries, 0 to 199\n",
      "Data columns (total 4 columns):\n",
      " #   Column   Non-Null Count  Dtype \n",
      "---  ------   --------------  ----- \n",
      " 0   user_id  200 non-null    int64 \n",
      " 1   name     200 non-null    object\n",
      " 2   city     200 non-null    object\n",
      " 3   street   200 non-null    object\n",
      "dtypes: int64(1), object(3)\n",
      "memory usage: 6.4+ KB\n"
     ]
    }
   ],
   "source": [
    "users.info()"
   ]
  },
  {
   "cell_type": "markdown",
   "id": "freelance-national",
   "metadata": {},
   "source": [
    "Kolumna `user_id` jest kluczem głównym. Kolumna `name` zawiera imię, druge imię, nazwisko. Kolumna `city` jest miastem. Kolumna `street` jest ulicą oraz numerem domu."
   ]
  },
  {
   "cell_type": "code",
   "execution_count": 50,
   "id": "correct-frequency",
   "metadata": {},
   "outputs": [
    {
     "data": {
      "text/plain": [
       "array([2, 3], dtype=int64)"
      ]
     },
     "execution_count": 50,
     "metadata": {},
     "output_type": "execute_result"
    }
   ],
   "source": [
    "users[\"name\"].apply(lambda x: len(x.split(\" \"))).unique()"
   ]
  },
  {
   "cell_type": "code",
   "execution_count": 51,
   "id": "atlantic-pressing",
   "metadata": {},
   "outputs": [
    {
     "data": {
      "text/plain": [
       "['Gdynia',\n",
       " 'Konin',\n",
       " 'Kutno',\n",
       " 'Mielec',\n",
       " 'Police',\n",
       " 'Radom',\n",
       " 'Szczecin',\n",
       " 'Warszawa']"
      ]
     },
     "execution_count": 51,
     "metadata": {},
     "output_type": "execute_result"
    }
   ],
   "source": [
    "sorted(users[\"city\"].unique())"
   ]
  },
  {
   "cell_type": "code",
   "execution_count": 52,
   "id": "roman-excellence",
   "metadata": {},
   "outputs": [
    {
     "data": {
      "text/plain": [
       "[3, 4, 5]"
      ]
     },
     "execution_count": 52,
     "metadata": {},
     "output_type": "execute_result"
    }
   ],
   "source": [
    "sorted(users[\"street\"].apply(lambda x: len(x.split(\" \"))).unique())"
   ]
  },
  {
   "cell_type": "code",
   "execution_count": 53,
   "id": "canadian-writer",
   "metadata": {},
   "outputs": [
    {
     "data": {
      "text/plain": [
       "['al.', 'aleja', 'pl.', 'plac', 'ul.', 'ulica']"
      ]
     },
     "execution_count": 53,
     "metadata": {},
     "output_type": "execute_result"
    }
   ],
   "source": [
    "sorted(users[\"street\"].apply(lambda x: x.split(\" \")[0]).unique())"
   ]
  },
  {
   "cell_type": "markdown",
   "id": "drawn-expert",
   "metadata": {},
   "source": [
    "# Złączenie tabel"
   ]
  },
  {
   "cell_type": "code",
   "execution_count": 54,
   "id": "novel-montana",
   "metadata": {},
   "outputs": [
    {
     "data": {
      "text/html": [
       "<div>\n",
       "<style scoped>\n",
       "    .dataframe tbody tr th:only-of-type {\n",
       "        vertical-align: middle;\n",
       "    }\n",
       "\n",
       "    .dataframe tbody tr th {\n",
       "        vertical-align: top;\n",
       "    }\n",
       "\n",
       "    .dataframe thead th {\n",
       "        text-align: right;\n",
       "    }\n",
       "</style>\n",
       "<table border=\"1\" class=\"dataframe\">\n",
       "  <thead>\n",
       "    <tr style=\"text-align: right;\">\n",
       "      <th></th>\n",
       "      <th>session_id</th>\n",
       "      <th>timestamp</th>\n",
       "      <th>user_id</th>\n",
       "      <th>product_id</th>\n",
       "      <th>event_type</th>\n",
       "      <th>offered_discount</th>\n",
       "      <th>purchase_id</th>\n",
       "      <th>name</th>\n",
       "      <th>city</th>\n",
       "      <th>street</th>\n",
       "      <th>product_name</th>\n",
       "      <th>category_path</th>\n",
       "      <th>price</th>\n",
       "      <th>purchase_timestamp</th>\n",
       "      <th>delivery_timestamp</th>\n",
       "      <th>delivery_company</th>\n",
       "      <th>hours</th>\n",
       "    </tr>\n",
       "  </thead>\n",
       "  <tbody>\n",
       "    <tr>\n",
       "      <th>0</th>\n",
       "      <td>100001.0</td>\n",
       "      <td>2021-03-09 23:09:07</td>\n",
       "      <td>102.0</td>\n",
       "      <td>1283</td>\n",
       "      <td>VIEW_PRODUCT</td>\n",
       "      <td>5.0</td>\n",
       "      <td>NaN</td>\n",
       "      <td>Aurelia Malon</td>\n",
       "      <td>Police</td>\n",
       "      <td>pl. Brzoskwiniowa 11/53</td>\n",
       "      <td>Okulary 3D PHILIPS PTA436/00</td>\n",
       "      <td>Sprzęt RTV;Video;Telewizory i akcesoria;Okular...</td>\n",
       "      <td>99.99</td>\n",
       "      <td>NaT</td>\n",
       "      <td>NaT</td>\n",
       "      <td>NaN</td>\n",
       "      <td>NaN</td>\n",
       "    </tr>\n",
       "    <tr>\n",
       "      <th>1</th>\n",
       "      <td>100011.0</td>\n",
       "      <td>2021-01-02 11:44:46</td>\n",
       "      <td>102.0</td>\n",
       "      <td>1283</td>\n",
       "      <td>VIEW_PRODUCT</td>\n",
       "      <td>0.0</td>\n",
       "      <td>NaN</td>\n",
       "      <td>Aurelia Malon</td>\n",
       "      <td>Police</td>\n",
       "      <td>pl. Brzoskwiniowa 11/53</td>\n",
       "      <td>Okulary 3D PHILIPS PTA436/00</td>\n",
       "      <td>Sprzęt RTV;Video;Telewizory i akcesoria;Okular...</td>\n",
       "      <td>99.99</td>\n",
       "      <td>NaT</td>\n",
       "      <td>NaT</td>\n",
       "      <td>NaN</td>\n",
       "      <td>NaN</td>\n",
       "    </tr>\n",
       "    <tr>\n",
       "      <th>2</th>\n",
       "      <td>100022.0</td>\n",
       "      <td>2021-04-03 21:41:40</td>\n",
       "      <td>102.0</td>\n",
       "      <td>1283</td>\n",
       "      <td>VIEW_PRODUCT</td>\n",
       "      <td>0.0</td>\n",
       "      <td>NaN</td>\n",
       "      <td>Aurelia Malon</td>\n",
       "      <td>Police</td>\n",
       "      <td>pl. Brzoskwiniowa 11/53</td>\n",
       "      <td>Okulary 3D PHILIPS PTA436/00</td>\n",
       "      <td>Sprzęt RTV;Video;Telewizory i akcesoria;Okular...</td>\n",
       "      <td>99.99</td>\n",
       "      <td>NaT</td>\n",
       "      <td>NaT</td>\n",
       "      <td>NaN</td>\n",
       "      <td>NaN</td>\n",
       "    </tr>\n",
       "    <tr>\n",
       "      <th>3</th>\n",
       "      <td>100048.0</td>\n",
       "      <td>2021-04-24 15:17:16</td>\n",
       "      <td>102.0</td>\n",
       "      <td>1283</td>\n",
       "      <td>VIEW_PRODUCT</td>\n",
       "      <td>0.0</td>\n",
       "      <td>NaN</td>\n",
       "      <td>Aurelia Malon</td>\n",
       "      <td>Police</td>\n",
       "      <td>pl. Brzoskwiniowa 11/53</td>\n",
       "      <td>Okulary 3D PHILIPS PTA436/00</td>\n",
       "      <td>Sprzęt RTV;Video;Telewizory i akcesoria;Okular...</td>\n",
       "      <td>99.99</td>\n",
       "      <td>NaT</td>\n",
       "      <td>NaT</td>\n",
       "      <td>NaN</td>\n",
       "      <td>NaN</td>\n",
       "    </tr>\n",
       "    <tr>\n",
       "      <th>4</th>\n",
       "      <td>100074.0</td>\n",
       "      <td>2021-04-08 12:03:00</td>\n",
       "      <td>102.0</td>\n",
       "      <td>1283</td>\n",
       "      <td>VIEW_PRODUCT</td>\n",
       "      <td>20.0</td>\n",
       "      <td>NaN</td>\n",
       "      <td>Aurelia Malon</td>\n",
       "      <td>Police</td>\n",
       "      <td>pl. Brzoskwiniowa 11/53</td>\n",
       "      <td>Okulary 3D PHILIPS PTA436/00</td>\n",
       "      <td>Sprzęt RTV;Video;Telewizory i akcesoria;Okular...</td>\n",
       "      <td>99.99</td>\n",
       "      <td>NaT</td>\n",
       "      <td>NaT</td>\n",
       "      <td>NaN</td>\n",
       "      <td>NaN</td>\n",
       "    </tr>\n",
       "    <tr>\n",
       "      <th>...</th>\n",
       "      <td>...</td>\n",
       "      <td>...</td>\n",
       "      <td>...</td>\n",
       "      <td>...</td>\n",
       "      <td>...</td>\n",
       "      <td>...</td>\n",
       "      <td>...</td>\n",
       "      <td>...</td>\n",
       "      <td>...</td>\n",
       "      <td>...</td>\n",
       "      <td>...</td>\n",
       "      <td>...</td>\n",
       "      <td>...</td>\n",
       "      <td>...</td>\n",
       "      <td>...</td>\n",
       "      <td>...</td>\n",
       "      <td>...</td>\n",
       "    </tr>\n",
       "    <tr>\n",
       "      <th>41133</th>\n",
       "      <td>110358.0</td>\n",
       "      <td>2021-04-19 22:09:12</td>\n",
       "      <td>298.0</td>\n",
       "      <td>1201</td>\n",
       "      <td>BUY_PRODUCT</td>\n",
       "      <td>0.0</td>\n",
       "      <td>27295.0</td>\n",
       "      <td>Natan Świadek</td>\n",
       "      <td>Mielec</td>\n",
       "      <td>pl. Staffa 801</td>\n",
       "      <td>Jabra Speak 410</td>\n",
       "      <td>Telefony i akcesoria;Akcesoria telefoniczne;Ze...</td>\n",
       "      <td>327.47</td>\n",
       "      <td>2021-04-19 22:09:12</td>\n",
       "      <td>2021-04-22 11:08:48.449133</td>\n",
       "      <td>516.0</td>\n",
       "      <td>60.993458</td>\n",
       "    </tr>\n",
       "    <tr>\n",
       "      <th>41134</th>\n",
       "      <td>110400.0</td>\n",
       "      <td>2021-04-01 01:04:59</td>\n",
       "      <td>299.0</td>\n",
       "      <td>1201</td>\n",
       "      <td>BUY_PRODUCT</td>\n",
       "      <td>0.0</td>\n",
       "      <td>27326.0</td>\n",
       "      <td>Jeremi Kajstura</td>\n",
       "      <td>Konin</td>\n",
       "      <td>pl. Wiklinowa 022</td>\n",
       "      <td>Jabra Speak 410</td>\n",
       "      <td>Telefony i akcesoria;Akcesoria telefoniczne;Ze...</td>\n",
       "      <td>327.47</td>\n",
       "      <td>2021-04-01 01:04:59</td>\n",
       "      <td>2021-04-02 16:57:34.644147</td>\n",
       "      <td>360.0</td>\n",
       "      <td>39.876568</td>\n",
       "    </tr>\n",
       "    <tr>\n",
       "      <th>41135</th>\n",
       "      <td>110418.0</td>\n",
       "      <td>2021-03-19 14:30:38</td>\n",
       "      <td>299.0</td>\n",
       "      <td>1201</td>\n",
       "      <td>BUY_PRODUCT</td>\n",
       "      <td>5.0</td>\n",
       "      <td>27338.0</td>\n",
       "      <td>Jeremi Kajstura</td>\n",
       "      <td>Konin</td>\n",
       "      <td>pl. Wiklinowa 022</td>\n",
       "      <td>Jabra Speak 410</td>\n",
       "      <td>Telefony i akcesoria;Akcesoria telefoniczne;Ze...</td>\n",
       "      <td>327.47</td>\n",
       "      <td>2021-03-19 14:30:38</td>\n",
       "      <td>2021-03-22 08:23:55.491050</td>\n",
       "      <td>360.0</td>\n",
       "      <td>65.888192</td>\n",
       "    </tr>\n",
       "    <tr>\n",
       "      <th>41136</th>\n",
       "      <td>110424.0</td>\n",
       "      <td>2021-02-26 10:45:36</td>\n",
       "      <td>299.0</td>\n",
       "      <td>1201</td>\n",
       "      <td>BUY_PRODUCT</td>\n",
       "      <td>0.0</td>\n",
       "      <td>27343.0</td>\n",
       "      <td>Jeremi Kajstura</td>\n",
       "      <td>Konin</td>\n",
       "      <td>pl. Wiklinowa 022</td>\n",
       "      <td>Jabra Speak 410</td>\n",
       "      <td>Telefony i akcesoria;Akcesoria telefoniczne;Ze...</td>\n",
       "      <td>327.47</td>\n",
       "      <td>2021-02-26 10:45:36</td>\n",
       "      <td>2021-03-01 08:16:23.091200</td>\n",
       "      <td>620.0</td>\n",
       "      <td>69.513081</td>\n",
       "    </tr>\n",
       "    <tr>\n",
       "      <th>41137</th>\n",
       "      <td>110622.0</td>\n",
       "      <td>2021-01-12 05:34:58</td>\n",
       "      <td>301.0</td>\n",
       "      <td>1201</td>\n",
       "      <td>BUY_PRODUCT</td>\n",
       "      <td>0.0</td>\n",
       "      <td>27492.0</td>\n",
       "      <td>Sara Nóżka</td>\n",
       "      <td>Warszawa</td>\n",
       "      <td>aleja Słoneczna 78/05</td>\n",
       "      <td>Jabra Speak 410</td>\n",
       "      <td>Telefony i akcesoria;Akcesoria telefoniczne;Ze...</td>\n",
       "      <td>327.47</td>\n",
       "      <td>2021-01-12 05:34:58</td>\n",
       "      <td>2021-01-13 08:07:37.900596</td>\n",
       "      <td>516.0</td>\n",
       "      <td>26.544417</td>\n",
       "    </tr>\n",
       "  </tbody>\n",
       "</table>\n",
       "<p>41138 rows × 17 columns</p>\n",
       "</div>"
      ],
      "text/plain": [
       "       session_id           timestamp  user_id  product_id    event_type  \\\n",
       "0        100001.0 2021-03-09 23:09:07    102.0        1283  VIEW_PRODUCT   \n",
       "1        100011.0 2021-01-02 11:44:46    102.0        1283  VIEW_PRODUCT   \n",
       "2        100022.0 2021-04-03 21:41:40    102.0        1283  VIEW_PRODUCT   \n",
       "3        100048.0 2021-04-24 15:17:16    102.0        1283  VIEW_PRODUCT   \n",
       "4        100074.0 2021-04-08 12:03:00    102.0        1283  VIEW_PRODUCT   \n",
       "...           ...                 ...      ...         ...           ...   \n",
       "41133    110358.0 2021-04-19 22:09:12    298.0        1201   BUY_PRODUCT   \n",
       "41134    110400.0 2021-04-01 01:04:59    299.0        1201   BUY_PRODUCT   \n",
       "41135    110418.0 2021-03-19 14:30:38    299.0        1201   BUY_PRODUCT   \n",
       "41136    110424.0 2021-02-26 10:45:36    299.0        1201   BUY_PRODUCT   \n",
       "41137    110622.0 2021-01-12 05:34:58    301.0        1201   BUY_PRODUCT   \n",
       "\n",
       "       offered_discount  purchase_id             name      city  \\\n",
       "0                   5.0          NaN    Aurelia Malon    Police   \n",
       "1                   0.0          NaN    Aurelia Malon    Police   \n",
       "2                   0.0          NaN    Aurelia Malon    Police   \n",
       "3                   0.0          NaN    Aurelia Malon    Police   \n",
       "4                  20.0          NaN    Aurelia Malon    Police   \n",
       "...                 ...          ...              ...       ...   \n",
       "41133               0.0      27295.0    Natan Świadek    Mielec   \n",
       "41134               0.0      27326.0  Jeremi Kajstura     Konin   \n",
       "41135               5.0      27338.0  Jeremi Kajstura     Konin   \n",
       "41136               0.0      27343.0  Jeremi Kajstura     Konin   \n",
       "41137               0.0      27492.0       Sara Nóżka  Warszawa   \n",
       "\n",
       "                        street                  product_name  \\\n",
       "0      pl. Brzoskwiniowa 11/53  Okulary 3D PHILIPS PTA436/00   \n",
       "1      pl. Brzoskwiniowa 11/53  Okulary 3D PHILIPS PTA436/00   \n",
       "2      pl. Brzoskwiniowa 11/53  Okulary 3D PHILIPS PTA436/00   \n",
       "3      pl. Brzoskwiniowa 11/53  Okulary 3D PHILIPS PTA436/00   \n",
       "4      pl. Brzoskwiniowa 11/53  Okulary 3D PHILIPS PTA436/00   \n",
       "...                        ...                           ...   \n",
       "41133           pl. Staffa 801               Jabra Speak 410   \n",
       "41134        pl. Wiklinowa 022               Jabra Speak 410   \n",
       "41135        pl. Wiklinowa 022               Jabra Speak 410   \n",
       "41136        pl. Wiklinowa 022               Jabra Speak 410   \n",
       "41137    aleja Słoneczna 78/05               Jabra Speak 410   \n",
       "\n",
       "                                           category_path   price  \\\n",
       "0      Sprzęt RTV;Video;Telewizory i akcesoria;Okular...   99.99   \n",
       "1      Sprzęt RTV;Video;Telewizory i akcesoria;Okular...   99.99   \n",
       "2      Sprzęt RTV;Video;Telewizory i akcesoria;Okular...   99.99   \n",
       "3      Sprzęt RTV;Video;Telewizory i akcesoria;Okular...   99.99   \n",
       "4      Sprzęt RTV;Video;Telewizory i akcesoria;Okular...   99.99   \n",
       "...                                                  ...     ...   \n",
       "41133  Telefony i akcesoria;Akcesoria telefoniczne;Ze...  327.47   \n",
       "41134  Telefony i akcesoria;Akcesoria telefoniczne;Ze...  327.47   \n",
       "41135  Telefony i akcesoria;Akcesoria telefoniczne;Ze...  327.47   \n",
       "41136  Telefony i akcesoria;Akcesoria telefoniczne;Ze...  327.47   \n",
       "41137  Telefony i akcesoria;Akcesoria telefoniczne;Ze...  327.47   \n",
       "\n",
       "       purchase_timestamp         delivery_timestamp  delivery_company  \\\n",
       "0                     NaT                        NaT               NaN   \n",
       "1                     NaT                        NaT               NaN   \n",
       "2                     NaT                        NaT               NaN   \n",
       "3                     NaT                        NaT               NaN   \n",
       "4                     NaT                        NaT               NaN   \n",
       "...                   ...                        ...               ...   \n",
       "41133 2021-04-19 22:09:12 2021-04-22 11:08:48.449133             516.0   \n",
       "41134 2021-04-01 01:04:59 2021-04-02 16:57:34.644147             360.0   \n",
       "41135 2021-03-19 14:30:38 2021-03-22 08:23:55.491050             360.0   \n",
       "41136 2021-02-26 10:45:36 2021-03-01 08:16:23.091200             620.0   \n",
       "41137 2021-01-12 05:34:58 2021-01-13 08:07:37.900596             516.0   \n",
       "\n",
       "           hours  \n",
       "0            NaN  \n",
       "1            NaN  \n",
       "2            NaN  \n",
       "3            NaN  \n",
       "4            NaN  \n",
       "...          ...  \n",
       "41133  60.993458  \n",
       "41134  39.876568  \n",
       "41135  65.888192  \n",
       "41136  69.513081  \n",
       "41137  26.544417  \n",
       "\n",
       "[41138 rows x 17 columns]"
      ]
     },
     "execution_count": 54,
     "metadata": {},
     "output_type": "execute_result"
    }
   ],
   "source": [
    "data = sessions.merge(users, on=\"user_id\", how=\"outer\").merge(products, on=\"product_id\", how=\"outer\").merge(deliveries, on=\"purchase_id\", how=\"outer\")\n",
    "data"
   ]
  },
  {
   "cell_type": "code",
   "execution_count": 55,
   "id": "cleared-headquarters",
   "metadata": {},
   "outputs": [
    {
     "name": "stdout",
     "output_type": "stream",
     "text": [
      "<class 'pandas.core.frame.DataFrame'>\n",
      "Int64Index: 41138 entries, 0 to 41137\n",
      "Data columns (total 17 columns):\n",
      " #   Column              Non-Null Count  Dtype         \n",
      "---  ------              --------------  -----         \n",
      " 0   session_id          40897 non-null  float64       \n",
      " 1   timestamp           40897 non-null  datetime64[ns]\n",
      " 2   user_id             40897 non-null  float64       \n",
      " 3   product_id          41138 non-null  int64         \n",
      " 4   event_type          40897 non-null  object        \n",
      " 5   offered_discount    40897 non-null  float64       \n",
      " 6   purchase_id         7493 non-null   float64       \n",
      " 7   name                40897 non-null  object        \n",
      " 8   city                40897 non-null  object        \n",
      " 9   street              40897 non-null  object        \n",
      " 10  product_name        41138 non-null  object        \n",
      " 11  category_path       41138 non-null  object        \n",
      " 12  price               41138 non-null  float64       \n",
      " 13  purchase_timestamp  7493 non-null   datetime64[ns]\n",
      " 14  delivery_timestamp  7493 non-null   datetime64[ns]\n",
      " 15  delivery_company    7493 non-null   float64       \n",
      " 16  hours               7493 non-null   float64       \n",
      "dtypes: datetime64[ns](3), float64(7), int64(1), object(6)\n",
      "memory usage: 5.6+ MB\n"
     ]
    }
   ],
   "source": [
    "data.info()"
   ]
  },
  {
   "cell_type": "code",
   "execution_count": 56,
   "id": "relevant-strap",
   "metadata": {},
   "outputs": [
    {
     "data": {
      "text/html": [
       "<div>\n",
       "<style scoped>\n",
       "    .dataframe tbody tr th:only-of-type {\n",
       "        vertical-align: middle;\n",
       "    }\n",
       "\n",
       "    .dataframe tbody tr th {\n",
       "        vertical-align: top;\n",
       "    }\n",
       "\n",
       "    .dataframe thead th {\n",
       "        text-align: right;\n",
       "    }\n",
       "</style>\n",
       "<table border=\"1\" class=\"dataframe\">\n",
       "  <thead>\n",
       "    <tr style=\"text-align: right;\">\n",
       "      <th></th>\n",
       "      <th>session_id</th>\n",
       "      <th>timestamp</th>\n",
       "      <th>user_id</th>\n",
       "      <th>product_id</th>\n",
       "      <th>event_type</th>\n",
       "      <th>offered_discount</th>\n",
       "      <th>purchase_id</th>\n",
       "      <th>name</th>\n",
       "      <th>city</th>\n",
       "      <th>street</th>\n",
       "      <th>product_name</th>\n",
       "      <th>category_path</th>\n",
       "      <th>price</th>\n",
       "      <th>purchase_timestamp</th>\n",
       "      <th>delivery_timestamp</th>\n",
       "      <th>delivery_company</th>\n",
       "      <th>hours</th>\n",
       "    </tr>\n",
       "  </thead>\n",
       "  <tbody>\n",
       "  </tbody>\n",
       "</table>\n",
       "</div>"
      ],
      "text/plain": [
       "Empty DataFrame\n",
       "Columns: [session_id, timestamp, user_id, product_id, event_type, offered_discount, purchase_id, name, city, street, product_name, category_path, price, purchase_timestamp, delivery_timestamp, delivery_company, hours]\n",
       "Index: []"
      ]
     },
     "execution_count": 56,
     "metadata": {},
     "output_type": "execute_result"
    }
   ],
   "source": [
    "data.loc[(data[\"event_type\"] == \"BUY_PRODUCT\") & ((data[\"price\"] <= 0) | (data[\"price\"] > 1e4) | (data[\"hours\"] <= 0))]"
   ]
  },
  {
   "cell_type": "markdown",
   "id": "growing-atlantic",
   "metadata": {},
   "source": [
    "# Selekcja atrybutów"
   ]
  },
  {
   "cell_type": "code",
   "execution_count": 57,
   "id": "following-mainstream",
   "metadata": {},
   "outputs": [],
   "source": [
    "data = data.loc[(data[\"event_type\"] == \"BUY_PRODUCT\") & (data[\"price\"] > 0) & (data[\"hours\"] > 0) & (~data[\"user_id\"].isnull()) & (~data[\"delivery_company\"].isnull())].reset_index(drop=True)"
   ]
  },
  {
   "cell_type": "code",
   "execution_count": 58,
   "id": "sustained-bottom",
   "metadata": {},
   "outputs": [],
   "source": [
    "data[\"purchase_hour\"] = data[\"purchase_timestamp\"].dt.hour\n",
    "data[\"delivery_hour\"] = data[\"delivery_timestamp\"].dt.hour\n",
    "data[\"purchase_dayofweek\"] = data[\"purchase_timestamp\"].dt.dayofweek\n",
    "data[\"delivery_dayofweek\"] = data[\"delivery_timestamp\"].dt.dayofweek"
   ]
  },
  {
   "cell_type": "code",
   "execution_count": 59,
   "id": "antique-stevens",
   "metadata": {},
   "outputs": [
    {
     "data": {
      "text/html": [
       "<div>\n",
       "<style scoped>\n",
       "    .dataframe tbody tr th:only-of-type {\n",
       "        vertical-align: middle;\n",
       "    }\n",
       "\n",
       "    .dataframe tbody tr th {\n",
       "        vertical-align: top;\n",
       "    }\n",
       "\n",
       "    .dataframe thead th {\n",
       "        text-align: right;\n",
       "    }\n",
       "</style>\n",
       "<table border=\"1\" class=\"dataframe\">\n",
       "  <thead>\n",
       "    <tr style=\"text-align: right;\">\n",
       "      <th></th>\n",
       "      <th>session_id</th>\n",
       "      <th>timestamp</th>\n",
       "      <th>user_id</th>\n",
       "      <th>product_id</th>\n",
       "      <th>event_type</th>\n",
       "      <th>offered_discount</th>\n",
       "      <th>purchase_id</th>\n",
       "      <th>name</th>\n",
       "      <th>city</th>\n",
       "      <th>street</th>\n",
       "      <th>...</th>\n",
       "      <th>category_path</th>\n",
       "      <th>price</th>\n",
       "      <th>purchase_timestamp</th>\n",
       "      <th>delivery_timestamp</th>\n",
       "      <th>delivery_company</th>\n",
       "      <th>hours</th>\n",
       "      <th>purchase_hour</th>\n",
       "      <th>delivery_hour</th>\n",
       "      <th>purchase_dayofweek</th>\n",
       "      <th>delivery_dayofweek</th>\n",
       "    </tr>\n",
       "  </thead>\n",
       "  <tbody>\n",
       "    <tr>\n",
       "      <th>0</th>\n",
       "      <td>100011.0</td>\n",
       "      <td>2021-01-02 11:46:41</td>\n",
       "      <td>102.0</td>\n",
       "      <td>1283</td>\n",
       "      <td>BUY_PRODUCT</td>\n",
       "      <td>0.0</td>\n",
       "      <td>20010.0</td>\n",
       "      <td>Aurelia Malon</td>\n",
       "      <td>Police</td>\n",
       "      <td>pl. Brzoskwiniowa 11/53</td>\n",
       "      <td>...</td>\n",
       "      <td>Sprzęt RTV;Video;Telewizory i akcesoria;Okular...</td>\n",
       "      <td>99.99</td>\n",
       "      <td>2021-01-02 11:46:41</td>\n",
       "      <td>2021-01-04 14:47:00.609117</td>\n",
       "      <td>360.0</td>\n",
       "      <td>51.005447</td>\n",
       "      <td>11</td>\n",
       "      <td>14</td>\n",
       "      <td>5</td>\n",
       "      <td>0</td>\n",
       "    </tr>\n",
       "    <tr>\n",
       "      <th>1</th>\n",
       "      <td>100022.0</td>\n",
       "      <td>2021-04-03 21:41:48</td>\n",
       "      <td>102.0</td>\n",
       "      <td>1283</td>\n",
       "      <td>BUY_PRODUCT</td>\n",
       "      <td>0.0</td>\n",
       "      <td>20018.0</td>\n",
       "      <td>Aurelia Malon</td>\n",
       "      <td>Police</td>\n",
       "      <td>pl. Brzoskwiniowa 11/53</td>\n",
       "      <td>...</td>\n",
       "      <td>Sprzęt RTV;Video;Telewizory i akcesoria;Okular...</td>\n",
       "      <td>99.99</td>\n",
       "      <td>2021-04-03 21:41:48</td>\n",
       "      <td>2021-04-05 15:49:41.990022</td>\n",
       "      <td>360.0</td>\n",
       "      <td>42.131664</td>\n",
       "      <td>21</td>\n",
       "      <td>15</td>\n",
       "      <td>5</td>\n",
       "      <td>0</td>\n",
       "    </tr>\n",
       "    <tr>\n",
       "      <th>2</th>\n",
       "      <td>100074.0</td>\n",
       "      <td>2021-04-08 12:05:00</td>\n",
       "      <td>102.0</td>\n",
       "      <td>1283</td>\n",
       "      <td>BUY_PRODUCT</td>\n",
       "      <td>20.0</td>\n",
       "      <td>20049.0</td>\n",
       "      <td>Aurelia Malon</td>\n",
       "      <td>Police</td>\n",
       "      <td>pl. Brzoskwiniowa 11/53</td>\n",
       "      <td>...</td>\n",
       "      <td>Sprzęt RTV;Video;Telewizory i akcesoria;Okular...</td>\n",
       "      <td>99.99</td>\n",
       "      <td>2021-04-08 12:05:00</td>\n",
       "      <td>2021-04-09 17:11:46.026638</td>\n",
       "      <td>516.0</td>\n",
       "      <td>29.112785</td>\n",
       "      <td>12</td>\n",
       "      <td>17</td>\n",
       "      <td>3</td>\n",
       "      <td>4</td>\n",
       "    </tr>\n",
       "    <tr>\n",
       "      <th>3</th>\n",
       "      <td>100091.0</td>\n",
       "      <td>2021-04-24 22:47:05</td>\n",
       "      <td>102.0</td>\n",
       "      <td>1283</td>\n",
       "      <td>BUY_PRODUCT</td>\n",
       "      <td>0.0</td>\n",
       "      <td>20064.0</td>\n",
       "      <td>Aurelia Malon</td>\n",
       "      <td>Police</td>\n",
       "      <td>pl. Brzoskwiniowa 11/53</td>\n",
       "      <td>...</td>\n",
       "      <td>Sprzęt RTV;Video;Telewizory i akcesoria;Okular...</td>\n",
       "      <td>99.99</td>\n",
       "      <td>2021-04-24 22:47:05</td>\n",
       "      <td>2021-04-26 17:33:45.830653</td>\n",
       "      <td>620.0</td>\n",
       "      <td>42.778009</td>\n",
       "      <td>22</td>\n",
       "      <td>17</td>\n",
       "      <td>5</td>\n",
       "      <td>0</td>\n",
       "    </tr>\n",
       "    <tr>\n",
       "      <th>4</th>\n",
       "      <td>100118.0</td>\n",
       "      <td>2021-03-18 07:15:15</td>\n",
       "      <td>104.0</td>\n",
       "      <td>1283</td>\n",
       "      <td>BUY_PRODUCT</td>\n",
       "      <td>5.0</td>\n",
       "      <td>20084.0</td>\n",
       "      <td>Radosław Ratka</td>\n",
       "      <td>Mielec</td>\n",
       "      <td>pl. Nowa 89/04</td>\n",
       "      <td>...</td>\n",
       "      <td>Sprzęt RTV;Video;Telewizory i akcesoria;Okular...</td>\n",
       "      <td>99.99</td>\n",
       "      <td>2021-03-18 07:15:15</td>\n",
       "      <td>2021-03-22 10:01:10.213580</td>\n",
       "      <td>620.0</td>\n",
       "      <td>98.765337</td>\n",
       "      <td>7</td>\n",
       "      <td>10</td>\n",
       "      <td>3</td>\n",
       "      <td>0</td>\n",
       "    </tr>\n",
       "    <tr>\n",
       "      <th>...</th>\n",
       "      <td>...</td>\n",
       "      <td>...</td>\n",
       "      <td>...</td>\n",
       "      <td>...</td>\n",
       "      <td>...</td>\n",
       "      <td>...</td>\n",
       "      <td>...</td>\n",
       "      <td>...</td>\n",
       "      <td>...</td>\n",
       "      <td>...</td>\n",
       "      <td>...</td>\n",
       "      <td>...</td>\n",
       "      <td>...</td>\n",
       "      <td>...</td>\n",
       "      <td>...</td>\n",
       "      <td>...</td>\n",
       "      <td>...</td>\n",
       "      <td>...</td>\n",
       "      <td>...</td>\n",
       "      <td>...</td>\n",
       "      <td>...</td>\n",
       "    </tr>\n",
       "    <tr>\n",
       "      <th>7488</th>\n",
       "      <td>110358.0</td>\n",
       "      <td>2021-04-19 22:09:12</td>\n",
       "      <td>298.0</td>\n",
       "      <td>1201</td>\n",
       "      <td>BUY_PRODUCT</td>\n",
       "      <td>0.0</td>\n",
       "      <td>27295.0</td>\n",
       "      <td>Natan Świadek</td>\n",
       "      <td>Mielec</td>\n",
       "      <td>pl. Staffa 801</td>\n",
       "      <td>...</td>\n",
       "      <td>Telefony i akcesoria;Akcesoria telefoniczne;Ze...</td>\n",
       "      <td>327.47</td>\n",
       "      <td>2021-04-19 22:09:12</td>\n",
       "      <td>2021-04-22 11:08:48.449133</td>\n",
       "      <td>516.0</td>\n",
       "      <td>60.993458</td>\n",
       "      <td>22</td>\n",
       "      <td>11</td>\n",
       "      <td>0</td>\n",
       "      <td>3</td>\n",
       "    </tr>\n",
       "    <tr>\n",
       "      <th>7489</th>\n",
       "      <td>110400.0</td>\n",
       "      <td>2021-04-01 01:04:59</td>\n",
       "      <td>299.0</td>\n",
       "      <td>1201</td>\n",
       "      <td>BUY_PRODUCT</td>\n",
       "      <td>0.0</td>\n",
       "      <td>27326.0</td>\n",
       "      <td>Jeremi Kajstura</td>\n",
       "      <td>Konin</td>\n",
       "      <td>pl. Wiklinowa 022</td>\n",
       "      <td>...</td>\n",
       "      <td>Telefony i akcesoria;Akcesoria telefoniczne;Ze...</td>\n",
       "      <td>327.47</td>\n",
       "      <td>2021-04-01 01:04:59</td>\n",
       "      <td>2021-04-02 16:57:34.644147</td>\n",
       "      <td>360.0</td>\n",
       "      <td>39.876568</td>\n",
       "      <td>1</td>\n",
       "      <td>16</td>\n",
       "      <td>3</td>\n",
       "      <td>4</td>\n",
       "    </tr>\n",
       "    <tr>\n",
       "      <th>7490</th>\n",
       "      <td>110418.0</td>\n",
       "      <td>2021-03-19 14:30:38</td>\n",
       "      <td>299.0</td>\n",
       "      <td>1201</td>\n",
       "      <td>BUY_PRODUCT</td>\n",
       "      <td>5.0</td>\n",
       "      <td>27338.0</td>\n",
       "      <td>Jeremi Kajstura</td>\n",
       "      <td>Konin</td>\n",
       "      <td>pl. Wiklinowa 022</td>\n",
       "      <td>...</td>\n",
       "      <td>Telefony i akcesoria;Akcesoria telefoniczne;Ze...</td>\n",
       "      <td>327.47</td>\n",
       "      <td>2021-03-19 14:30:38</td>\n",
       "      <td>2021-03-22 08:23:55.491050</td>\n",
       "      <td>360.0</td>\n",
       "      <td>65.888192</td>\n",
       "      <td>14</td>\n",
       "      <td>8</td>\n",
       "      <td>4</td>\n",
       "      <td>0</td>\n",
       "    </tr>\n",
       "    <tr>\n",
       "      <th>7491</th>\n",
       "      <td>110424.0</td>\n",
       "      <td>2021-02-26 10:45:36</td>\n",
       "      <td>299.0</td>\n",
       "      <td>1201</td>\n",
       "      <td>BUY_PRODUCT</td>\n",
       "      <td>0.0</td>\n",
       "      <td>27343.0</td>\n",
       "      <td>Jeremi Kajstura</td>\n",
       "      <td>Konin</td>\n",
       "      <td>pl. Wiklinowa 022</td>\n",
       "      <td>...</td>\n",
       "      <td>Telefony i akcesoria;Akcesoria telefoniczne;Ze...</td>\n",
       "      <td>327.47</td>\n",
       "      <td>2021-02-26 10:45:36</td>\n",
       "      <td>2021-03-01 08:16:23.091200</td>\n",
       "      <td>620.0</td>\n",
       "      <td>69.513081</td>\n",
       "      <td>10</td>\n",
       "      <td>8</td>\n",
       "      <td>4</td>\n",
       "      <td>0</td>\n",
       "    </tr>\n",
       "    <tr>\n",
       "      <th>7492</th>\n",
       "      <td>110622.0</td>\n",
       "      <td>2021-01-12 05:34:58</td>\n",
       "      <td>301.0</td>\n",
       "      <td>1201</td>\n",
       "      <td>BUY_PRODUCT</td>\n",
       "      <td>0.0</td>\n",
       "      <td>27492.0</td>\n",
       "      <td>Sara Nóżka</td>\n",
       "      <td>Warszawa</td>\n",
       "      <td>aleja Słoneczna 78/05</td>\n",
       "      <td>...</td>\n",
       "      <td>Telefony i akcesoria;Akcesoria telefoniczne;Ze...</td>\n",
       "      <td>327.47</td>\n",
       "      <td>2021-01-12 05:34:58</td>\n",
       "      <td>2021-01-13 08:07:37.900596</td>\n",
       "      <td>516.0</td>\n",
       "      <td>26.544417</td>\n",
       "      <td>5</td>\n",
       "      <td>8</td>\n",
       "      <td>1</td>\n",
       "      <td>2</td>\n",
       "    </tr>\n",
       "  </tbody>\n",
       "</table>\n",
       "<p>7493 rows × 21 columns</p>\n",
       "</div>"
      ],
      "text/plain": [
       "      session_id           timestamp  user_id  product_id   event_type  \\\n",
       "0       100011.0 2021-01-02 11:46:41    102.0        1283  BUY_PRODUCT   \n",
       "1       100022.0 2021-04-03 21:41:48    102.0        1283  BUY_PRODUCT   \n",
       "2       100074.0 2021-04-08 12:05:00    102.0        1283  BUY_PRODUCT   \n",
       "3       100091.0 2021-04-24 22:47:05    102.0        1283  BUY_PRODUCT   \n",
       "4       100118.0 2021-03-18 07:15:15    104.0        1283  BUY_PRODUCT   \n",
       "...          ...                 ...      ...         ...          ...   \n",
       "7488    110358.0 2021-04-19 22:09:12    298.0        1201  BUY_PRODUCT   \n",
       "7489    110400.0 2021-04-01 01:04:59    299.0        1201  BUY_PRODUCT   \n",
       "7490    110418.0 2021-03-19 14:30:38    299.0        1201  BUY_PRODUCT   \n",
       "7491    110424.0 2021-02-26 10:45:36    299.0        1201  BUY_PRODUCT   \n",
       "7492    110622.0 2021-01-12 05:34:58    301.0        1201  BUY_PRODUCT   \n",
       "\n",
       "      offered_discount  purchase_id             name      city  \\\n",
       "0                  0.0      20010.0    Aurelia Malon    Police   \n",
       "1                  0.0      20018.0    Aurelia Malon    Police   \n",
       "2                 20.0      20049.0    Aurelia Malon    Police   \n",
       "3                  0.0      20064.0    Aurelia Malon    Police   \n",
       "4                  5.0      20084.0   Radosław Ratka    Mielec   \n",
       "...                ...          ...              ...       ...   \n",
       "7488               0.0      27295.0    Natan Świadek    Mielec   \n",
       "7489               0.0      27326.0  Jeremi Kajstura     Konin   \n",
       "7490               5.0      27338.0  Jeremi Kajstura     Konin   \n",
       "7491               0.0      27343.0  Jeremi Kajstura     Konin   \n",
       "7492               0.0      27492.0       Sara Nóżka  Warszawa   \n",
       "\n",
       "                       street  ...  \\\n",
       "0     pl. Brzoskwiniowa 11/53  ...   \n",
       "1     pl. Brzoskwiniowa 11/53  ...   \n",
       "2     pl. Brzoskwiniowa 11/53  ...   \n",
       "3     pl. Brzoskwiniowa 11/53  ...   \n",
       "4              pl. Nowa 89/04  ...   \n",
       "...                       ...  ...   \n",
       "7488           pl. Staffa 801  ...   \n",
       "7489        pl. Wiklinowa 022  ...   \n",
       "7490        pl. Wiklinowa 022  ...   \n",
       "7491        pl. Wiklinowa 022  ...   \n",
       "7492    aleja Słoneczna 78/05  ...   \n",
       "\n",
       "                                          category_path   price  \\\n",
       "0     Sprzęt RTV;Video;Telewizory i akcesoria;Okular...   99.99   \n",
       "1     Sprzęt RTV;Video;Telewizory i akcesoria;Okular...   99.99   \n",
       "2     Sprzęt RTV;Video;Telewizory i akcesoria;Okular...   99.99   \n",
       "3     Sprzęt RTV;Video;Telewizory i akcesoria;Okular...   99.99   \n",
       "4     Sprzęt RTV;Video;Telewizory i akcesoria;Okular...   99.99   \n",
       "...                                                 ...     ...   \n",
       "7488  Telefony i akcesoria;Akcesoria telefoniczne;Ze...  327.47   \n",
       "7489  Telefony i akcesoria;Akcesoria telefoniczne;Ze...  327.47   \n",
       "7490  Telefony i akcesoria;Akcesoria telefoniczne;Ze...  327.47   \n",
       "7491  Telefony i akcesoria;Akcesoria telefoniczne;Ze...  327.47   \n",
       "7492  Telefony i akcesoria;Akcesoria telefoniczne;Ze...  327.47   \n",
       "\n",
       "      purchase_timestamp         delivery_timestamp delivery_company  \\\n",
       "0    2021-01-02 11:46:41 2021-01-04 14:47:00.609117            360.0   \n",
       "1    2021-04-03 21:41:48 2021-04-05 15:49:41.990022            360.0   \n",
       "2    2021-04-08 12:05:00 2021-04-09 17:11:46.026638            516.0   \n",
       "3    2021-04-24 22:47:05 2021-04-26 17:33:45.830653            620.0   \n",
       "4    2021-03-18 07:15:15 2021-03-22 10:01:10.213580            620.0   \n",
       "...                  ...                        ...              ...   \n",
       "7488 2021-04-19 22:09:12 2021-04-22 11:08:48.449133            516.0   \n",
       "7489 2021-04-01 01:04:59 2021-04-02 16:57:34.644147            360.0   \n",
       "7490 2021-03-19 14:30:38 2021-03-22 08:23:55.491050            360.0   \n",
       "7491 2021-02-26 10:45:36 2021-03-01 08:16:23.091200            620.0   \n",
       "7492 2021-01-12 05:34:58 2021-01-13 08:07:37.900596            516.0   \n",
       "\n",
       "          hours  purchase_hour  delivery_hour  purchase_dayofweek  \\\n",
       "0     51.005447             11             14                   5   \n",
       "1     42.131664             21             15                   5   \n",
       "2     29.112785             12             17                   3   \n",
       "3     42.778009             22             17                   5   \n",
       "4     98.765337              7             10                   3   \n",
       "...         ...            ...            ...                 ...   \n",
       "7488  60.993458             22             11                   0   \n",
       "7489  39.876568              1             16                   3   \n",
       "7490  65.888192             14              8                   4   \n",
       "7491  69.513081             10              8                   4   \n",
       "7492  26.544417              5              8                   1   \n",
       "\n",
       "      delivery_dayofweek  \n",
       "0                      0  \n",
       "1                      0  \n",
       "2                      4  \n",
       "3                      0  \n",
       "4                      0  \n",
       "...                  ...  \n",
       "7488                   3  \n",
       "7489                   4  \n",
       "7490                   0  \n",
       "7491                   0  \n",
       "7492                   2  \n",
       "\n",
       "[7493 rows x 21 columns]"
      ]
     },
     "execution_count": 59,
     "metadata": {},
     "output_type": "execute_result"
    }
   ],
   "source": [
    "data"
   ]
  },
  {
   "cell_type": "markdown",
   "id": "verified-occupation",
   "metadata": {},
   "source": [
    "Niektóre dni zakupu/dostawy częściej występują niż inne."
   ]
  },
  {
   "cell_type": "code",
   "execution_count": 60,
   "id": "forbidden-dublin",
   "metadata": {},
   "outputs": [
    {
     "data": {
      "text/html": [
       "<div>\n",
       "<style scoped>\n",
       "    .dataframe tbody tr th:only-of-type {\n",
       "        vertical-align: middle;\n",
       "    }\n",
       "\n",
       "    .dataframe tbody tr th {\n",
       "        vertical-align: top;\n",
       "    }\n",
       "\n",
       "    .dataframe thead th {\n",
       "        text-align: right;\n",
       "    }\n",
       "</style>\n",
       "<table border=\"1\" class=\"dataframe\">\n",
       "  <thead>\n",
       "    <tr style=\"text-align: right;\">\n",
       "      <th></th>\n",
       "      <th>delivery_dayofweek</th>\n",
       "    </tr>\n",
       "    <tr>\n",
       "      <th>purchase_dayofweek</th>\n",
       "      <th></th>\n",
       "    </tr>\n",
       "  </thead>\n",
       "  <tbody>\n",
       "    <tr>\n",
       "      <th>0</th>\n",
       "      <td>1807</td>\n",
       "    </tr>\n",
       "    <tr>\n",
       "      <th>1</th>\n",
       "      <td>2738</td>\n",
       "    </tr>\n",
       "    <tr>\n",
       "      <th>2</th>\n",
       "      <td>3704</td>\n",
       "    </tr>\n",
       "    <tr>\n",
       "      <th>3</th>\n",
       "      <td>4163</td>\n",
       "    </tr>\n",
       "    <tr>\n",
       "      <th>4</th>\n",
       "      <td>2388</td>\n",
       "    </tr>\n",
       "    <tr>\n",
       "      <th>5</th>\n",
       "      <td>385</td>\n",
       "    </tr>\n",
       "    <tr>\n",
       "      <th>6</th>\n",
       "      <td>868</td>\n",
       "    </tr>\n",
       "  </tbody>\n",
       "</table>\n",
       "</div>"
      ],
      "text/plain": [
       "                    delivery_dayofweek\n",
       "purchase_dayofweek                    \n",
       "0                                 1807\n",
       "1                                 2738\n",
       "2                                 3704\n",
       "3                                 4163\n",
       "4                                 2388\n",
       "5                                  385\n",
       "6                                  868"
      ]
     },
     "execution_count": 60,
     "metadata": {},
     "output_type": "execute_result"
    }
   ],
   "source": [
    "data.groupby(\"purchase_dayofweek\").agg({\"delivery_dayofweek\": sum})"
   ]
  },
  {
   "cell_type": "code",
   "execution_count": 61,
   "id": "dominican-coalition",
   "metadata": {},
   "outputs": [
    {
     "data": {
      "text/html": [
       "<div>\n",
       "<style scoped>\n",
       "    .dataframe tbody tr th:only-of-type {\n",
       "        vertical-align: middle;\n",
       "    }\n",
       "\n",
       "    .dataframe tbody tr th {\n",
       "        vertical-align: top;\n",
       "    }\n",
       "\n",
       "    .dataframe thead th {\n",
       "        text-align: right;\n",
       "    }\n",
       "</style>\n",
       "<table border=\"1\" class=\"dataframe\">\n",
       "  <thead>\n",
       "    <tr style=\"text-align: right;\">\n",
       "      <th></th>\n",
       "      <th>delivery_dayofweek</th>\n",
       "    </tr>\n",
       "    <tr>\n",
       "      <th>delivery_dayofweek</th>\n",
       "      <th></th>\n",
       "    </tr>\n",
       "  </thead>\n",
       "  <tbody>\n",
       "    <tr>\n",
       "      <th>0</th>\n",
       "      <td>0</td>\n",
       "    </tr>\n",
       "    <tr>\n",
       "      <th>1</th>\n",
       "      <td>1033</td>\n",
       "    </tr>\n",
       "    <tr>\n",
       "      <th>2</th>\n",
       "      <td>2058</td>\n",
       "    </tr>\n",
       "    <tr>\n",
       "      <th>3</th>\n",
       "      <td>2991</td>\n",
       "    </tr>\n",
       "    <tr>\n",
       "      <th>4</th>\n",
       "      <td>4316</td>\n",
       "    </tr>\n",
       "    <tr>\n",
       "      <th>5</th>\n",
       "      <td>5655</td>\n",
       "    </tr>\n",
       "  </tbody>\n",
       "</table>\n",
       "</div>"
      ],
      "text/plain": [
       "                    delivery_dayofweek\n",
       "delivery_dayofweek                    \n",
       "0                                    0\n",
       "1                                 1033\n",
       "2                                 2058\n",
       "3                                 2991\n",
       "4                                 4316\n",
       "5                                 5655"
      ]
     },
     "execution_count": 61,
     "metadata": {},
     "output_type": "execute_result"
    }
   ],
   "source": [
    "data.groupby(\"delivery_dayofweek\").agg({\"delivery_dayofweek\": sum})"
   ]
  },
  {
   "cell_type": "code",
   "execution_count": 62,
   "id": "earlier-foster",
   "metadata": {},
   "outputs": [
    {
     "data": {
      "text/html": [
       "<div>\n",
       "<style scoped>\n",
       "    .dataframe tbody tr th:only-of-type {\n",
       "        vertical-align: middle;\n",
       "    }\n",
       "\n",
       "    .dataframe tbody tr th {\n",
       "        vertical-align: top;\n",
       "    }\n",
       "\n",
       "    .dataframe thead th {\n",
       "        text-align: right;\n",
       "    }\n",
       "</style>\n",
       "<table border=\"1\" class=\"dataframe\">\n",
       "  <thead>\n",
       "    <tr style=\"text-align: right;\">\n",
       "      <th></th>\n",
       "      <th>purchase_hour</th>\n",
       "    </tr>\n",
       "    <tr>\n",
       "      <th>purchase_hour</th>\n",
       "      <th></th>\n",
       "    </tr>\n",
       "  </thead>\n",
       "  <tbody>\n",
       "    <tr>\n",
       "      <th>0</th>\n",
       "      <td>0</td>\n",
       "    </tr>\n",
       "    <tr>\n",
       "      <th>1</th>\n",
       "      <td>308</td>\n",
       "    </tr>\n",
       "    <tr>\n",
       "      <th>2</th>\n",
       "      <td>654</td>\n",
       "    </tr>\n",
       "    <tr>\n",
       "      <th>3</th>\n",
       "      <td>840</td>\n",
       "    </tr>\n",
       "    <tr>\n",
       "      <th>4</th>\n",
       "      <td>1148</td>\n",
       "    </tr>\n",
       "    <tr>\n",
       "      <th>5</th>\n",
       "      <td>1540</td>\n",
       "    </tr>\n",
       "    <tr>\n",
       "      <th>6</th>\n",
       "      <td>1944</td>\n",
       "    </tr>\n",
       "    <tr>\n",
       "      <th>7</th>\n",
       "      <td>2177</td>\n",
       "    </tr>\n",
       "    <tr>\n",
       "      <th>8</th>\n",
       "      <td>2640</td>\n",
       "    </tr>\n",
       "    <tr>\n",
       "      <th>9</th>\n",
       "      <td>3033</td>\n",
       "    </tr>\n",
       "    <tr>\n",
       "      <th>10</th>\n",
       "      <td>3210</td>\n",
       "    </tr>\n",
       "    <tr>\n",
       "      <th>11</th>\n",
       "      <td>3179</td>\n",
       "    </tr>\n",
       "    <tr>\n",
       "      <th>12</th>\n",
       "      <td>3624</td>\n",
       "    </tr>\n",
       "    <tr>\n",
       "      <th>13</th>\n",
       "      <td>3874</td>\n",
       "    </tr>\n",
       "    <tr>\n",
       "      <th>14</th>\n",
       "      <td>4410</td>\n",
       "    </tr>\n",
       "    <tr>\n",
       "      <th>15</th>\n",
       "      <td>5145</td>\n",
       "    </tr>\n",
       "    <tr>\n",
       "      <th>16</th>\n",
       "      <td>4976</td>\n",
       "    </tr>\n",
       "    <tr>\n",
       "      <th>17</th>\n",
       "      <td>5338</td>\n",
       "    </tr>\n",
       "    <tr>\n",
       "      <th>18</th>\n",
       "      <td>6030</td>\n",
       "    </tr>\n",
       "    <tr>\n",
       "      <th>19</th>\n",
       "      <td>6232</td>\n",
       "    </tr>\n",
       "    <tr>\n",
       "      <th>20</th>\n",
       "      <td>5880</td>\n",
       "    </tr>\n",
       "    <tr>\n",
       "      <th>21</th>\n",
       "      <td>6090</td>\n",
       "    </tr>\n",
       "    <tr>\n",
       "      <th>22</th>\n",
       "      <td>6864</td>\n",
       "    </tr>\n",
       "    <tr>\n",
       "      <th>23</th>\n",
       "      <td>7682</td>\n",
       "    </tr>\n",
       "  </tbody>\n",
       "</table>\n",
       "</div>"
      ],
      "text/plain": [
       "               purchase_hour\n",
       "purchase_hour               \n",
       "0                          0\n",
       "1                        308\n",
       "2                        654\n",
       "3                        840\n",
       "4                       1148\n",
       "5                       1540\n",
       "6                       1944\n",
       "7                       2177\n",
       "8                       2640\n",
       "9                       3033\n",
       "10                      3210\n",
       "11                      3179\n",
       "12                      3624\n",
       "13                      3874\n",
       "14                      4410\n",
       "15                      5145\n",
       "16                      4976\n",
       "17                      5338\n",
       "18                      6030\n",
       "19                      6232\n",
       "20                      5880\n",
       "21                      6090\n",
       "22                      6864\n",
       "23                      7682"
      ]
     },
     "execution_count": 62,
     "metadata": {},
     "output_type": "execute_result"
    }
   ],
   "source": [
    "data.groupby(\"purchase_hour\").agg({\"purchase_hour\": sum})"
   ]
  },
  {
   "cell_type": "code",
   "execution_count": 63,
   "id": "honey-radio",
   "metadata": {},
   "outputs": [
    {
     "data": {
      "text/html": [
       "<div>\n",
       "<style scoped>\n",
       "    .dataframe tbody tr th:only-of-type {\n",
       "        vertical-align: middle;\n",
       "    }\n",
       "\n",
       "    .dataframe tbody tr th {\n",
       "        vertical-align: top;\n",
       "    }\n",
       "\n",
       "    .dataframe thead th {\n",
       "        text-align: right;\n",
       "    }\n",
       "</style>\n",
       "<table border=\"1\" class=\"dataframe\">\n",
       "  <thead>\n",
       "    <tr style=\"text-align: right;\">\n",
       "      <th></th>\n",
       "      <th>delivery_hour</th>\n",
       "    </tr>\n",
       "    <tr>\n",
       "      <th>delivery_hour</th>\n",
       "      <th></th>\n",
       "    </tr>\n",
       "  </thead>\n",
       "  <tbody>\n",
       "    <tr>\n",
       "      <th>8</th>\n",
       "      <td>35224</td>\n",
       "    </tr>\n",
       "    <tr>\n",
       "      <th>9</th>\n",
       "      <td>2565</td>\n",
       "    </tr>\n",
       "    <tr>\n",
       "      <th>10</th>\n",
       "      <td>3190</td>\n",
       "    </tr>\n",
       "    <tr>\n",
       "      <th>11</th>\n",
       "      <td>3465</td>\n",
       "    </tr>\n",
       "    <tr>\n",
       "      <th>12</th>\n",
       "      <td>3756</td>\n",
       "    </tr>\n",
       "    <tr>\n",
       "      <th>13</th>\n",
       "      <td>3601</td>\n",
       "    </tr>\n",
       "    <tr>\n",
       "      <th>14</th>\n",
       "      <td>4060</td>\n",
       "    </tr>\n",
       "    <tr>\n",
       "      <th>15</th>\n",
       "      <td>4875</td>\n",
       "    </tr>\n",
       "    <tr>\n",
       "      <th>16</th>\n",
       "      <td>4704</td>\n",
       "    </tr>\n",
       "    <tr>\n",
       "      <th>17</th>\n",
       "      <td>5712</td>\n",
       "    </tr>\n",
       "    <tr>\n",
       "      <th>18</th>\n",
       "      <td>6048</td>\n",
       "    </tr>\n",
       "  </tbody>\n",
       "</table>\n",
       "</div>"
      ],
      "text/plain": [
       "               delivery_hour\n",
       "delivery_hour               \n",
       "8                      35224\n",
       "9                       2565\n",
       "10                      3190\n",
       "11                      3465\n",
       "12                      3756\n",
       "13                      3601\n",
       "14                      4060\n",
       "15                      4875\n",
       "16                      4704\n",
       "17                      5712\n",
       "18                      6048"
      ]
     },
     "execution_count": 63,
     "metadata": {},
     "output_type": "execute_result"
    }
   ],
   "source": [
    "data.groupby(\"delivery_hour\").agg({\"delivery_hour\": sum})"
   ]
  },
  {
   "cell_type": "markdown",
   "id": "boring-robinson",
   "metadata": {},
   "source": [
    "Lokalizacja może mieć silny wpływ na czas dostawy."
   ]
  },
  {
   "cell_type": "code",
   "execution_count": 64,
   "id": "cutting-harris",
   "metadata": {},
   "outputs": [
    {
     "data": {
      "text/plain": [
       "city\n",
       "Gdynia      49.105108\n",
       "Konin       56.206428\n",
       "Kutno       43.927362\n",
       "Mielec      77.173695\n",
       "Police      35.518835\n",
       "Radom       41.424453\n",
       "Szczecin    25.786933\n",
       "Warszawa    37.351942\n",
       "Name: hours, dtype: float64"
      ]
     },
     "execution_count": 64,
     "metadata": {},
     "output_type": "execute_result"
    }
   ],
   "source": [
    "data.groupby(\"city\")[\"hours\"].mean()"
   ]
  },
  {
   "cell_type": "markdown",
   "id": "excessive-thursday",
   "metadata": {},
   "source": [
    "Firma kurierska może nie mieć silnego wpływu na czas dostawy."
   ]
  },
  {
   "cell_type": "code",
   "execution_count": 65,
   "id": "infrared-kansas",
   "metadata": {},
   "outputs": [
    {
     "data": {
      "text/plain": [
       "delivery_company\n",
       "360.0    47.925708\n",
       "516.0    41.291805\n",
       "620.0    44.193564\n",
       "Name: hours, dtype: float64"
      ]
     },
     "execution_count": 65,
     "metadata": {},
     "output_type": "execute_result"
    }
   ],
   "source": [
    "data.groupby(\"delivery_company\")[\"hours\"].mean()"
   ]
  },
  {
   "cell_type": "code",
   "execution_count": 66,
   "id": "incredible-running",
   "metadata": {},
   "outputs": [],
   "source": [
    "data[\"product_name_length\"] = data[\"product_name\"].apply(lambda x: len(x))\n",
    "data[\"category_path_length\"] = data[\"category_path\"].apply(lambda x: len(x))"
   ]
  },
  {
   "cell_type": "code",
   "execution_count": 67,
   "id": "extreme-minute",
   "metadata": {},
   "outputs": [
    {
     "data": {
      "text/plain": [
       "<AxesSubplot:>"
      ]
     },
     "execution_count": 67,
     "metadata": {},
     "output_type": "execute_result"
    },
    {
     "data": {
      "image/png": "[encoded data removed]",
      "text/plain": [
       "<Figure size 432x288 with 2 Axes>"
      ]
     },
     "metadata": {},
     "output_type": "display_data"
    }
   ],
   "source": [
    "sns.heatmap(data[[\"offered_discount\", \"price\", \"product_name_length\", \"category_path_length\", \"hours\"]].corr(), square=True)"
   ]
  },
  {
   "cell_type": "code",
   "execution_count": 68,
   "id": "suffering-lindsay",
   "metadata": {},
   "outputs": [
    {
     "data": {
      "text/html": [
       "<div>\n",
       "<style scoped>\n",
       "    .dataframe tbody tr th:only-of-type {\n",
       "        vertical-align: middle;\n",
       "    }\n",
       "\n",
       "    .dataframe tbody tr th {\n",
       "        vertical-align: top;\n",
       "    }\n",
       "\n",
       "    .dataframe thead th {\n",
       "        text-align: right;\n",
       "    }\n",
       "</style>\n",
       "<table border=\"1\" class=\"dataframe\">\n",
       "  <thead>\n",
       "    <tr style=\"text-align: right;\">\n",
       "      <th></th>\n",
       "      <th>offered_discount</th>\n",
       "      <th>city</th>\n",
       "      <th>street</th>\n",
       "      <th>purchase_timestamp</th>\n",
       "      <th>delivery_timestamp</th>\n",
       "      <th>delivery_company</th>\n",
       "      <th>hours</th>\n",
       "      <th>purchase_hour</th>\n",
       "      <th>delivery_hour</th>\n",
       "      <th>purchase_dayofweek</th>\n",
       "      <th>delivery_dayofweek</th>\n",
       "      <th>product_name_length</th>\n",
       "      <th>category_path_length</th>\n",
       "    </tr>\n",
       "  </thead>\n",
       "  <tbody>\n",
       "    <tr>\n",
       "      <th>0</th>\n",
       "      <td>0.0</td>\n",
       "      <td>Police</td>\n",
       "      <td>pl. Brzoskwiniowa 11/53</td>\n",
       "      <td>2021-01-02 11:46:41</td>\n",
       "      <td>2021-01-04 14:47:00.609117</td>\n",
       "      <td>360.0</td>\n",
       "      <td>51.005447</td>\n",
       "      <td>11</td>\n",
       "      <td>14</td>\n",
       "      <td>5</td>\n",
       "      <td>0</td>\n",
       "      <td>28</td>\n",
       "      <td>50</td>\n",
       "    </tr>\n",
       "    <tr>\n",
       "      <th>1</th>\n",
       "      <td>0.0</td>\n",
       "      <td>Police</td>\n",
       "      <td>pl. Brzoskwiniowa 11/53</td>\n",
       "      <td>2021-04-03 21:41:48</td>\n",
       "      <td>2021-04-05 15:49:41.990022</td>\n",
       "      <td>360.0</td>\n",
       "      <td>42.131664</td>\n",
       "      <td>21</td>\n",
       "      <td>15</td>\n",
       "      <td>5</td>\n",
       "      <td>0</td>\n",
       "      <td>28</td>\n",
       "      <td>50</td>\n",
       "    </tr>\n",
       "    <tr>\n",
       "      <th>2</th>\n",
       "      <td>20.0</td>\n",
       "      <td>Police</td>\n",
       "      <td>pl. Brzoskwiniowa 11/53</td>\n",
       "      <td>2021-04-08 12:05:00</td>\n",
       "      <td>2021-04-09 17:11:46.026638</td>\n",
       "      <td>516.0</td>\n",
       "      <td>29.112785</td>\n",
       "      <td>12</td>\n",
       "      <td>17</td>\n",
       "      <td>3</td>\n",
       "      <td>4</td>\n",
       "      <td>28</td>\n",
       "      <td>50</td>\n",
       "    </tr>\n",
       "    <tr>\n",
       "      <th>3</th>\n",
       "      <td>0.0</td>\n",
       "      <td>Police</td>\n",
       "      <td>pl. Brzoskwiniowa 11/53</td>\n",
       "      <td>2021-04-24 22:47:05</td>\n",
       "      <td>2021-04-26 17:33:45.830653</td>\n",
       "      <td>620.0</td>\n",
       "      <td>42.778009</td>\n",
       "      <td>22</td>\n",
       "      <td>17</td>\n",
       "      <td>5</td>\n",
       "      <td>0</td>\n",
       "      <td>28</td>\n",
       "      <td>50</td>\n",
       "    </tr>\n",
       "    <tr>\n",
       "      <th>4</th>\n",
       "      <td>5.0</td>\n",
       "      <td>Mielec</td>\n",
       "      <td>pl. Nowa 89/04</td>\n",
       "      <td>2021-03-18 07:15:15</td>\n",
       "      <td>2021-03-22 10:01:10.213580</td>\n",
       "      <td>620.0</td>\n",
       "      <td>98.765337</td>\n",
       "      <td>7</td>\n",
       "      <td>10</td>\n",
       "      <td>3</td>\n",
       "      <td>0</td>\n",
       "      <td>28</td>\n",
       "      <td>50</td>\n",
       "    </tr>\n",
       "    <tr>\n",
       "      <th>...</th>\n",
       "      <td>...</td>\n",
       "      <td>...</td>\n",
       "      <td>...</td>\n",
       "      <td>...</td>\n",
       "      <td>...</td>\n",
       "      <td>...</td>\n",
       "      <td>...</td>\n",
       "      <td>...</td>\n",
       "      <td>...</td>\n",
       "      <td>...</td>\n",
       "      <td>...</td>\n",
       "      <td>...</td>\n",
       "      <td>...</td>\n",
       "    </tr>\n",
       "    <tr>\n",
       "      <th>7488</th>\n",
       "      <td>0.0</td>\n",
       "      <td>Mielec</td>\n",
       "      <td>pl. Staffa 801</td>\n",
       "      <td>2021-04-19 22:09:12</td>\n",
       "      <td>2021-04-22 11:08:48.449133</td>\n",
       "      <td>516.0</td>\n",
       "      <td>60.993458</td>\n",
       "      <td>22</td>\n",
       "      <td>11</td>\n",
       "      <td>0</td>\n",
       "      <td>3</td>\n",
       "      <td>15</td>\n",
       "      <td>65</td>\n",
       "    </tr>\n",
       "    <tr>\n",
       "      <th>7489</th>\n",
       "      <td>0.0</td>\n",
       "      <td>Konin</td>\n",
       "      <td>pl. Wiklinowa 022</td>\n",
       "      <td>2021-04-01 01:04:59</td>\n",
       "      <td>2021-04-02 16:57:34.644147</td>\n",
       "      <td>360.0</td>\n",
       "      <td>39.876568</td>\n",
       "      <td>1</td>\n",
       "      <td>16</td>\n",
       "      <td>3</td>\n",
       "      <td>4</td>\n",
       "      <td>15</td>\n",
       "      <td>65</td>\n",
       "    </tr>\n",
       "    <tr>\n",
       "      <th>7490</th>\n",
       "      <td>5.0</td>\n",
       "      <td>Konin</td>\n",
       "      <td>pl. Wiklinowa 022</td>\n",
       "      <td>2021-03-19 14:30:38</td>\n",
       "      <td>2021-03-22 08:23:55.491050</td>\n",
       "      <td>360.0</td>\n",
       "      <td>65.888192</td>\n",
       "      <td>14</td>\n",
       "      <td>8</td>\n",
       "      <td>4</td>\n",
       "      <td>0</td>\n",
       "      <td>15</td>\n",
       "      <td>65</td>\n",
       "    </tr>\n",
       "    <tr>\n",
       "      <th>7491</th>\n",
       "      <td>0.0</td>\n",
       "      <td>Konin</td>\n",
       "      <td>pl. Wiklinowa 022</td>\n",
       "      <td>2021-02-26 10:45:36</td>\n",
       "      <td>2021-03-01 08:16:23.091200</td>\n",
       "      <td>620.0</td>\n",
       "      <td>69.513081</td>\n",
       "      <td>10</td>\n",
       "      <td>8</td>\n",
       "      <td>4</td>\n",
       "      <td>0</td>\n",
       "      <td>15</td>\n",
       "      <td>65</td>\n",
       "    </tr>\n",
       "    <tr>\n",
       "      <th>7492</th>\n",
       "      <td>0.0</td>\n",
       "      <td>Warszawa</td>\n",
       "      <td>aleja Słoneczna 78/05</td>\n",
       "      <td>2021-01-12 05:34:58</td>\n",
       "      <td>2021-01-13 08:07:37.900596</td>\n",
       "      <td>516.0</td>\n",
       "      <td>26.544417</td>\n",
       "      <td>5</td>\n",
       "      <td>8</td>\n",
       "      <td>1</td>\n",
       "      <td>2</td>\n",
       "      <td>15</td>\n",
       "      <td>65</td>\n",
       "    </tr>\n",
       "  </tbody>\n",
       "</table>\n",
       "<p>7493 rows × 13 columns</p>\n",
       "</div>"
      ],
      "text/plain": [
       "      offered_discount      city                   street  purchase_timestamp  \\\n",
       "0                  0.0    Police  pl. Brzoskwiniowa 11/53 2021-01-02 11:46:41   \n",
       "1                  0.0    Police  pl. Brzoskwiniowa 11/53 2021-04-03 21:41:48   \n",
       "2                 20.0    Police  pl. Brzoskwiniowa 11/53 2021-04-08 12:05:00   \n",
       "3                  0.0    Police  pl. Brzoskwiniowa 11/53 2021-04-24 22:47:05   \n",
       "4                  5.0    Mielec           pl. Nowa 89/04 2021-03-18 07:15:15   \n",
       "...                ...       ...                      ...                 ...   \n",
       "7488               0.0    Mielec           pl. Staffa 801 2021-04-19 22:09:12   \n",
       "7489               0.0     Konin        pl. Wiklinowa 022 2021-04-01 01:04:59   \n",
       "7490               5.0     Konin        pl. Wiklinowa 022 2021-03-19 14:30:38   \n",
       "7491               0.0     Konin        pl. Wiklinowa 022 2021-02-26 10:45:36   \n",
       "7492               0.0  Warszawa    aleja Słoneczna 78/05 2021-01-12 05:34:58   \n",
       "\n",
       "             delivery_timestamp  delivery_company      hours  purchase_hour  \\\n",
       "0    2021-01-04 14:47:00.609117             360.0  51.005447             11   \n",
       "1    2021-04-05 15:49:41.990022             360.0  42.131664             21   \n",
       "2    2021-04-09 17:11:46.026638             516.0  29.112785             12   \n",
       "3    2021-04-26 17:33:45.830653             620.0  42.778009             22   \n",
       "4    2021-03-22 10:01:10.213580             620.0  98.765337              7   \n",
       "...                         ...               ...        ...            ...   \n",
       "7488 2021-04-22 11:08:48.449133             516.0  60.993458             22   \n",
       "7489 2021-04-02 16:57:34.644147             360.0  39.876568              1   \n",
       "7490 2021-03-22 08:23:55.491050             360.0  65.888192             14   \n",
       "7491 2021-03-01 08:16:23.091200             620.0  69.513081             10   \n",
       "7492 2021-01-13 08:07:37.900596             516.0  26.544417              5   \n",
       "\n",
       "      delivery_hour  purchase_dayofweek  delivery_dayofweek  \\\n",
       "0                14                   5                   0   \n",
       "1                15                   5                   0   \n",
       "2                17                   3                   4   \n",
       "3                17                   5                   0   \n",
       "4                10                   3                   0   \n",
       "...             ...                 ...                 ...   \n",
       "7488             11                   0                   3   \n",
       "7489             16                   3                   4   \n",
       "7490              8                   4                   0   \n",
       "7491              8                   4                   0   \n",
       "7492              8                   1                   2   \n",
       "\n",
       "      product_name_length  category_path_length  \n",
       "0                      28                    50  \n",
       "1                      28                    50  \n",
       "2                      28                    50  \n",
       "3                      28                    50  \n",
       "4                      28                    50  \n",
       "...                   ...                   ...  \n",
       "7488                   15                    65  \n",
       "7489                   15                    65  \n",
       "7490                   15                    65  \n",
       "7491                   15                    65  \n",
       "7492                   15                    65  \n",
       "\n",
       "[7493 rows x 13 columns]"
      ]
     },
     "execution_count": 68,
     "metadata": {},
     "output_type": "execute_result"
    }
   ],
   "source": [
    "data.drop([\"timestamp\", \"user_id\", \"name\", \"event_type\", \"session_id\", \"product_id\", \"purchase_id\", \"product_name\", \"category_path\", \"price\"], axis=1, inplace=True)\n",
    "data"
   ]
  }
 ],
 "metadata": {
  "kernelspec": {
   "display_name": "Python 3",
   "language": "python",
   "name": "python3"
  },
  "language_info": {
   "codemirror_mode": {
    "name": "ipython",
    "version": 3
   },
   "file_extension": ".py",
   "mimetype": "text/x-python",
   "name": "python",
   "nbconvert_exporter": "python",
   "pygments_lexer": "ipython3",
   "version": "3.8.5"
  },
  "metadata": {
   "interpreter": {
    "hash": "31f2aee4e71d21fbe5cf8b01ff0e069b9275f58929596ceb00d14d90e3e16cd6"
   }
  }
 },
 "nbformat": 4,
 "nbformat_minor": 5
}
