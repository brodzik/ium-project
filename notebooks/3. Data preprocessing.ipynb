{
 "cells": [
  {
   "cell_type": "code",
   "execution_count": 1,
   "metadata": {},
   "outputs": [],
   "source": [
    "import pandas as pd\n",
    "import numpy as np\n",
    "from sklearn.model_selection import train_test_split"
   ]
  },
  {
   "cell_type": "markdown",
   "metadata": {},
   "source": [
    "# Load data"
   ]
  },
  {
   "cell_type": "code",
   "execution_count": 2,
   "metadata": {},
   "outputs": [],
   "source": [
    "deliveries = pd.read_json(\"../data_new/deliveries.jsonl\", lines=True)\n",
    "products = pd.read_json(\"../data_new/products.jsonl\", lines=True)\n",
    "sessions = pd.read_json(\"../data_new/sessions.jsonl\", lines=True)\n",
    "users = pd.read_json(\"../data_new/users.jsonl\", lines=True)"
   ]
  },
  {
   "cell_type": "code",
   "execution_count": 3,
   "metadata": {},
   "outputs": [],
   "source": [
    "deliveries[\"purchase_timestamp\"] = pd.to_datetime(deliveries[\"purchase_timestamp\"])\n",
    "deliveries[\"delivery_timestamp\"] = pd.to_datetime(deliveries[\"delivery_timestamp\"])"
   ]
  },
  {
   "cell_type": "markdown",
   "metadata": {},
   "source": [
    "# Merge data"
   ]
  },
  {
   "cell_type": "code",
   "execution_count": 4,
   "metadata": {},
   "outputs": [],
   "source": [
    "df = sessions.merge(users, on=\"user_id\", how=\"outer\").merge(products, on=\"product_id\", how=\"outer\").merge(deliveries, on=\"purchase_id\", how=\"outer\")\n",
    "df = df[df[\"event_type\"] == \"BUY_PRODUCT\"].reset_index(drop=True)"
   ]
  },
  {
   "cell_type": "markdown",
   "metadata": {},
   "source": [
    "# Feature engineering and encoding"
   ]
  },
  {
   "cell_type": "code",
   "execution_count": 5,
   "metadata": {},
   "outputs": [],
   "source": [
    "df[\"hours\"] = (df[\"delivery_timestamp\"] - df[\"purchase_timestamp\"]).dt.total_seconds() / 3600"
   ]
  },
  {
   "cell_type": "code",
   "execution_count": 6,
   "metadata": {},
   "outputs": [],
   "source": [
    "df[\"purchase_year\"] = df[\"purchase_timestamp\"].dt.year\n",
    "df[\"purchase_month\"] = df[\"purchase_timestamp\"].dt.month\n",
    "df[\"purchase_day\"] = df[\"purchase_timestamp\"].dt.day\n",
    "\n",
    "df[\"purchase_hour\"] = df[\"purchase_timestamp\"].dt.hour\n",
    "df[\"purchase_minute\"] = df[\"purchase_timestamp\"].dt.minute\n",
    "df[\"purchase_second\"] = df[\"purchase_timestamp\"].dt.second\n",
    "\n",
    "df[\"purchase_dayofweek\"] = df[\"purchase_timestamp\"].dt.dayofweek"
   ]
  },
  {
   "cell_type": "code",
   "execution_count": 7,
   "metadata": {},
   "outputs": [],
   "source": [
    "# Source: https://www.kaggle.com/avanwyk/encoding-cyclical-features-for-deep-learning\n",
    "df[\"purchase_month_sin\"] = np.sin(2 * np.pi * df[\"purchase_month\"] / 12)\n",
    "df[\"purchase_month_cos\"] = np.cos(2 * np.pi * df[\"purchase_month\"] / 12)\n",
    "\n",
    "df[\"purchase_day_sin\"] = np.sin(2 * np.pi * df[\"purchase_day\"] / 31)\n",
    "df[\"purchase_day_cos\"] = np.cos(2 * np.pi * df[\"purchase_day\"] / 31)\n",
    "\n",
    "df[\"purchase_hour_sin\"] = np.sin(2 * np.pi * df[\"purchase_hour\"] / 24)\n",
    "df[\"purchase_hour_cos\"] = np.cos(2 * np.pi * df[\"purchase_hour\"] / 24)\n",
    "\n",
    "df[\"purchase_minute_sin\"] = np.sin(2 * np.pi * df[\"purchase_minute\"] / 60)\n",
    "df[\"purchase_minute_cos\"] = np.cos(2 * np.pi * df[\"purchase_minute\"] / 60)\n",
    "\n",
    "df[\"purchase_second_sin\"] = np.sin(2 * np.pi * df[\"purchase_second\"] / 60)\n",
    "df[\"purchase_second_cos\"] = np.cos(2 * np.pi * df[\"purchase_second\"] / 60)\n",
    "\n",
    "df[\"purchase_dayofweek_sin\"] = np.sin(2 * np.pi * df[\"purchase_dayofweek\"] / 7)\n",
    "df[\"purchase_dayofweek_cos\"] = np.cos(2 * np.pi * df[\"purchase_dayofweek\"] / 7)"
   ]
  },
  {
   "cell_type": "code",
   "execution_count": 8,
   "metadata": {},
   "outputs": [],
   "source": [
    "for delivery_company in [360, 516, 620]:\n",
    "    df[\"delivery_company_\" + str(delivery_company)] = df[\"delivery_company\"].apply(lambda x: int(x == delivery_company))"
   ]
  },
  {
   "cell_type": "code",
   "execution_count": 9,
   "metadata": {},
   "outputs": [],
   "source": [
    "for city in [\"Gdynia\", \"Konin\", \"Kutno\", \"Mielec\", \"Police\", \"Radom\", \"Szczecin\", \"Warszawa\"]:\n",
    "    df[\"city_\" + city] = df[\"city\"].apply(lambda x: int(x == city))"
   ]
  },
  {
   "cell_type": "code",
   "execution_count": 10,
   "metadata": {},
   "outputs": [],
   "source": [
    "for cat in [\"gry i konsole\", \"komputery\", \"sprzęt rtv\", \"telefony i akcesoria\"]:\n",
    "    df[\"category_\" + cat] = df[\"category_path\"].apply(lambda x: int(cat in x.lower()))"
   ]
  },
  {
   "cell_type": "code",
   "execution_count": 11,
   "metadata": {},
   "outputs": [
    {
     "name": "stdout",
     "output_type": "stream",
     "text": [
      "689.4939303349793 1247.1321569552465\n"
     ]
    }
   ],
   "source": [
    "mean_price = df[\"price\"].mean()\n",
    "std_price = df[\"price\"].std()\n",
    "\n",
    "df[\"price\"] = (df[\"price\"] - mean_price) / std_price\n",
    "\n",
    "print(mean_price, std_price)"
   ]
  },
  {
   "cell_type": "code",
   "execution_count": 12,
   "metadata": {},
   "outputs": [],
   "source": [
    "FEATURES = [\"category_gry i konsole\", \"category_komputery\", \"category_sprzęt rtv\", \"category_telefony i akcesoria\", \"city_Gdynia\", \"city_Konin\", \"city_Kutno\", \"city_Mielec\", \"city_Police\", \"city_Radom\", \"city_Szczecin\", \"city_Warszawa\", \"delivery_company_360\", \"delivery_company_516\", \"delivery_company_620\", \"price\", \"purchase_day\", \"purchase_day_cos\", \"purchase_day_sin\", \"purchase_dayofweek\", \"purchase_dayofweek_cos\", \"purchase_dayofweek_sin\", \"purchase_hour\", \"purchase_hour_cos\", \"purchase_hour_sin\", \"purchase_minute\", \"purchase_minute_cos\", \"purchase_minute_sin\", \"purchase_month\", \"purchase_month_cos\", \"purchase_month_sin\", \"purchase_second\", \"purchase_second_cos\", \"purchase_second_sin\", \"purchase_year\"]\n",
    "TARGET = \"hours\""
   ]
  },
  {
   "cell_type": "code",
   "execution_count": 13,
   "metadata": {},
   "outputs": [
    {
     "data": {
      "text/html": "<div>\n<style scoped>\n    .dataframe tbody tr th:only-of-type {\n        vertical-align: middle;\n    }\n\n    .dataframe tbody tr th {\n        vertical-align: top;\n    }\n\n    .dataframe thead th {\n        text-align: right;\n    }\n</style>\n<table border=\"1\" class=\"dataframe\">\n  <thead>\n    <tr style=\"text-align: right;\">\n      <th></th>\n      <th>category_gry i konsole</th>\n      <th>category_komputery</th>\n      <th>category_sprzęt rtv</th>\n      <th>category_telefony i akcesoria</th>\n      <th>city_Gdynia</th>\n      <th>city_Konin</th>\n      <th>city_Kutno</th>\n      <th>city_Mielec</th>\n      <th>city_Police</th>\n      <th>city_Radom</th>\n      <th>...</th>\n      <th>purchase_minute</th>\n      <th>purchase_minute_cos</th>\n      <th>purchase_minute_sin</th>\n      <th>purchase_month</th>\n      <th>purchase_month_cos</th>\n      <th>purchase_month_sin</th>\n      <th>purchase_second</th>\n      <th>purchase_second_cos</th>\n      <th>purchase_second_sin</th>\n      <th>purchase_year</th>\n    </tr>\n  </thead>\n  <tbody>\n    <tr>\n      <th>0</th>\n      <td>0</td>\n      <td>0</td>\n      <td>1</td>\n      <td>0</td>\n      <td>0</td>\n      <td>0</td>\n      <td>0</td>\n      <td>0</td>\n      <td>1</td>\n      <td>0</td>\n      <td>...</td>\n      <td>46</td>\n      <td>1.045285e-01</td>\n      <td>-9.945219e-01</td>\n      <td>1</td>\n      <td>8.660254e-01</td>\n      <td>0.500000</td>\n      <td>41</td>\n      <td>-4.067366e-01</td>\n      <td>-0.913545</td>\n      <td>2021</td>\n    </tr>\n    <tr>\n      <th>1</th>\n      <td>0</td>\n      <td>0</td>\n      <td>1</td>\n      <td>0</td>\n      <td>0</td>\n      <td>0</td>\n      <td>0</td>\n      <td>0</td>\n      <td>1</td>\n      <td>0</td>\n      <td>...</td>\n      <td>41</td>\n      <td>-4.067366e-01</td>\n      <td>-9.135455e-01</td>\n      <td>4</td>\n      <td>-5.000000e-01</td>\n      <td>0.866025</td>\n      <td>48</td>\n      <td>3.090170e-01</td>\n      <td>-0.951057</td>\n      <td>2021</td>\n    </tr>\n    <tr>\n      <th>2</th>\n      <td>0</td>\n      <td>0</td>\n      <td>1</td>\n      <td>0</td>\n      <td>0</td>\n      <td>0</td>\n      <td>0</td>\n      <td>0</td>\n      <td>1</td>\n      <td>0</td>\n      <td>...</td>\n      <td>5</td>\n      <td>8.660254e-01</td>\n      <td>5.000000e-01</td>\n      <td>4</td>\n      <td>-5.000000e-01</td>\n      <td>0.866025</td>\n      <td>0</td>\n      <td>1.000000e+00</td>\n      <td>0.000000</td>\n      <td>2021</td>\n    </tr>\n    <tr>\n      <th>3</th>\n      <td>0</td>\n      <td>0</td>\n      <td>1</td>\n      <td>0</td>\n      <td>0</td>\n      <td>0</td>\n      <td>0</td>\n      <td>0</td>\n      <td>1</td>\n      <td>0</td>\n      <td>...</td>\n      <td>47</td>\n      <td>2.079117e-01</td>\n      <td>-9.781476e-01</td>\n      <td>4</td>\n      <td>-5.000000e-01</td>\n      <td>0.866025</td>\n      <td>5</td>\n      <td>8.660254e-01</td>\n      <td>0.500000</td>\n      <td>2021</td>\n    </tr>\n    <tr>\n      <th>4</th>\n      <td>0</td>\n      <td>0</td>\n      <td>1</td>\n      <td>0</td>\n      <td>0</td>\n      <td>0</td>\n      <td>0</td>\n      <td>1</td>\n      <td>0</td>\n      <td>0</td>\n      <td>...</td>\n      <td>15</td>\n      <td>2.832769e-16</td>\n      <td>1.000000e+00</td>\n      <td>3</td>\n      <td>6.123234e-17</td>\n      <td>1.000000</td>\n      <td>15</td>\n      <td>2.832769e-16</td>\n      <td>1.000000</td>\n      <td>2021</td>\n    </tr>\n    <tr>\n      <th>...</th>\n      <td>...</td>\n      <td>...</td>\n      <td>...</td>\n      <td>...</td>\n      <td>...</td>\n      <td>...</td>\n      <td>...</td>\n      <td>...</td>\n      <td>...</td>\n      <td>...</td>\n      <td>...</td>\n      <td>...</td>\n      <td>...</td>\n      <td>...</td>\n      <td>...</td>\n      <td>...</td>\n      <td>...</td>\n      <td>...</td>\n      <td>...</td>\n      <td>...</td>\n      <td>...</td>\n    </tr>\n    <tr>\n      <th>7488</th>\n      <td>0</td>\n      <td>0</td>\n      <td>0</td>\n      <td>1</td>\n      <td>0</td>\n      <td>0</td>\n      <td>0</td>\n      <td>1</td>\n      <td>0</td>\n      <td>0</td>\n      <td>...</td>\n      <td>9</td>\n      <td>5.877853e-01</td>\n      <td>8.090170e-01</td>\n      <td>4</td>\n      <td>-5.000000e-01</td>\n      <td>0.866025</td>\n      <td>12</td>\n      <td>3.090170e-01</td>\n      <td>0.951057</td>\n      <td>2021</td>\n    </tr>\n    <tr>\n      <th>7489</th>\n      <td>0</td>\n      <td>0</td>\n      <td>0</td>\n      <td>1</td>\n      <td>0</td>\n      <td>1</td>\n      <td>0</td>\n      <td>0</td>\n      <td>0</td>\n      <td>0</td>\n      <td>...</td>\n      <td>4</td>\n      <td>9.135455e-01</td>\n      <td>4.067366e-01</td>\n      <td>4</td>\n      <td>-5.000000e-01</td>\n      <td>0.866025</td>\n      <td>59</td>\n      <td>9.945219e-01</td>\n      <td>-0.104528</td>\n      <td>2021</td>\n    </tr>\n    <tr>\n      <th>7490</th>\n      <td>0</td>\n      <td>0</td>\n      <td>0</td>\n      <td>1</td>\n      <td>0</td>\n      <td>1</td>\n      <td>0</td>\n      <td>0</td>\n      <td>0</td>\n      <td>0</td>\n      <td>...</td>\n      <td>30</td>\n      <td>-1.000000e+00</td>\n      <td>5.665539e-16</td>\n      <td>3</td>\n      <td>6.123234e-17</td>\n      <td>1.000000</td>\n      <td>38</td>\n      <td>-6.691306e-01</td>\n      <td>-0.743145</td>\n      <td>2021</td>\n    </tr>\n    <tr>\n      <th>7491</th>\n      <td>0</td>\n      <td>0</td>\n      <td>0</td>\n      <td>1</td>\n      <td>0</td>\n      <td>1</td>\n      <td>0</td>\n      <td>0</td>\n      <td>0</td>\n      <td>0</td>\n      <td>...</td>\n      <td>45</td>\n      <td>-1.836970e-16</td>\n      <td>-1.000000e+00</td>\n      <td>2</td>\n      <td>5.000000e-01</td>\n      <td>0.866025</td>\n      <td>36</td>\n      <td>-8.090170e-01</td>\n      <td>-0.587785</td>\n      <td>2021</td>\n    </tr>\n    <tr>\n      <th>7492</th>\n      <td>0</td>\n      <td>0</td>\n      <td>0</td>\n      <td>1</td>\n      <td>0</td>\n      <td>0</td>\n      <td>0</td>\n      <td>0</td>\n      <td>0</td>\n      <td>0</td>\n      <td>...</td>\n      <td>34</td>\n      <td>-9.135455e-01</td>\n      <td>-4.067366e-01</td>\n      <td>1</td>\n      <td>8.660254e-01</td>\n      <td>0.500000</td>\n      <td>58</td>\n      <td>9.781476e-01</td>\n      <td>-0.207912</td>\n      <td>2021</td>\n    </tr>\n  </tbody>\n</table>\n<p>7493 rows × 35 columns</p>\n</div>",
      "text/plain": "      category_gry i konsole  category_komputery  category_sprzęt rtv  \\\n0                          0                   0                    1   \n1                          0                   0                    1   \n2                          0                   0                    1   \n3                          0                   0                    1   \n4                          0                   0                    1   \n...                      ...                 ...                  ...   \n7488                       0                   0                    0   \n7489                       0                   0                    0   \n7490                       0                   0                    0   \n7491                       0                   0                    0   \n7492                       0                   0                    0   \n\n      category_telefony i akcesoria  city_Gdynia  city_Konin  city_Kutno  \\\n0                                 0            0           0           0   \n1                                 0            0           0           0   \n2                                 0            0           0           0   \n3                                 0            0           0           0   \n4                                 0            0           0           0   \n...                             ...          ...         ...         ...   \n7488                              1            0           0           0   \n7489                              1            0           1           0   \n7490                              1            0           1           0   \n7491                              1            0           1           0   \n7492                              1            0           0           0   \n\n      city_Mielec  city_Police  city_Radom  ...  purchase_minute  \\\n0               0            1           0  ...               46   \n1               0            1           0  ...               41   \n2               0            1           0  ...                5   \n3               0            1           0  ...               47   \n4               1            0           0  ...               15   \n...           ...          ...         ...  ...              ...   \n7488            1            0           0  ...                9   \n7489            0            0           0  ...                4   \n7490            0            0           0  ...               30   \n7491            0            0           0  ...               45   \n7492            0            0           0  ...               34   \n\n      purchase_minute_cos  purchase_minute_sin  purchase_month  \\\n0            1.045285e-01        -9.945219e-01               1   \n1           -4.067366e-01        -9.135455e-01               4   \n2            8.660254e-01         5.000000e-01               4   \n3            2.079117e-01        -9.781476e-01               4   \n4            2.832769e-16         1.000000e+00               3   \n...                   ...                  ...             ...   \n7488         5.877853e-01         8.090170e-01               4   \n7489         9.135455e-01         4.067366e-01               4   \n7490        -1.000000e+00         5.665539e-16               3   \n7491        -1.836970e-16        -1.000000e+00               2   \n7492        -9.135455e-01        -4.067366e-01               1   \n\n      purchase_month_cos  purchase_month_sin  purchase_second  \\\n0           8.660254e-01            0.500000               41   \n1          -5.000000e-01            0.866025               48   \n2          -5.000000e-01            0.866025                0   \n3          -5.000000e-01            0.866025                5   \n4           6.123234e-17            1.000000               15   \n...                  ...                 ...              ...   \n7488       -5.000000e-01            0.866025               12   \n7489       -5.000000e-01            0.866025               59   \n7490        6.123234e-17            1.000000               38   \n7491        5.000000e-01            0.866025               36   \n7492        8.660254e-01            0.500000               58   \n\n      purchase_second_cos  purchase_second_sin  purchase_year  \n0           -4.067366e-01            -0.913545           2021  \n1            3.090170e-01            -0.951057           2021  \n2            1.000000e+00             0.000000           2021  \n3            8.660254e-01             0.500000           2021  \n4            2.832769e-16             1.000000           2021  \n...                   ...                  ...            ...  \n7488         3.090170e-01             0.951057           2021  \n7489         9.945219e-01            -0.104528           2021  \n7490        -6.691306e-01            -0.743145           2021  \n7491        -8.090170e-01            -0.587785           2021  \n7492         9.781476e-01            -0.207912           2021  \n\n[7493 rows x 35 columns]"
     },
     "execution_count": 13,
     "metadata": {},
     "output_type": "execute_result"
    }
   ],
   "source": [
    "df[FEATURES]"
   ]
  },
  {
   "cell_type": "code",
   "execution_count": 14,
   "metadata": {},
   "outputs": [
    {
     "data": {
      "text/plain": "0       51.005447\n1       42.131664\n2       29.112785\n3       42.778009\n4       98.765337\n          ...    \n7488    60.993458\n7489    39.876568\n7490    65.888192\n7491    69.513081\n7492    26.544417\nName: hours, Length: 7493, dtype: float64"
     },
     "execution_count": 14,
     "metadata": {},
     "output_type": "execute_result"
    }
   ],
   "source": [
    "df[TARGET]"
   ]
  },
  {
   "cell_type": "markdown",
   "metadata": {},
   "source": [
    "# Split data"
   ]
  },
  {
   "cell_type": "code",
   "execution_count": 15,
   "metadata": {},
   "outputs": [],
   "source": [
    "train, dev_test = train_test_split(df, train_size=0.7, random_state=42, shuffle=True)\n",
    "dev, test = train_test_split(dev_test, test_size=0.5, random_state=42, shuffle=True)"
   ]
  },
  {
   "cell_type": "code",
   "execution_count": 16,
   "metadata": {},
   "outputs": [
    {
     "data": {
      "text/plain": "(5245, 1124, 1124)"
     },
     "execution_count": 16,
     "metadata": {},
     "output_type": "execute_result"
    }
   ],
   "source": [
    "len(train), len(dev), len(test)"
   ]
  },
  {
   "cell_type": "code",
   "execution_count": 17,
   "metadata": {},
   "outputs": [
    {
     "data": {
      "text/plain": "(0.6999866542105966, 0.1500066728947017, 0.1500066728947017)"
     },
     "execution_count": 17,
     "metadata": {},
     "output_type": "execute_result"
    }
   ],
   "source": [
    "len(train) / len(df), len(dev) / len(df), len(test) / len(df)"
   ]
  },
  {
   "cell_type": "markdown",
   "metadata": {},
   "source": [
    "# Export data"
   ]
  },
  {
   "cell_type": "code",
   "execution_count": 18,
   "metadata": {},
   "outputs": [],
   "source": [
    "train.to_csv(\"../data_preprocessed/train.csv\", index=False)\n",
    "dev.to_csv(\"../data_preprocessed/dev.csv\", index=False)\n",
    "test.to_csv(\"../data_preprocessed/test.csv\", index=False)"
   ]
  }
 ],
 "metadata": {
  "kernelspec": {
   "display_name": "Python 3",
   "language": "python",
   "name": "python3"
  },
  "language_info": {
   "codemirror_mode": {
    "name": "ipython",
    "version": 3
   },
   "file_extension": ".py",
   "mimetype": "text/x-python",
   "name": "python",
   "nbconvert_exporter": "python",
   "pygments_lexer": "ipython3",
   "version": "3.8.5"
  }
 },
 "nbformat": 4,
 "nbformat_minor": 5
}