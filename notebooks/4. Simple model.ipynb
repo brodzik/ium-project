{
 "cells": [
  {
   "cell_type": "code",
   "execution_count": 1,
   "metadata": {},
   "outputs": [],
   "source": [
    "import pandas as pd\n",
    "import numpy as np"
   ]
  },
  {
   "cell_type": "code",
   "execution_count": 2,
   "metadata": {},
   "outputs": [],
   "source": [
    "def mse(y_pred, y):\n",
    "    return ((y_pred - y)**2).mean()"
   ]
  },
  {
   "cell_type": "code",
   "execution_count": 3,
   "metadata": {},
   "outputs": [],
   "source": [
    "FEATURES = [\"category_gry i konsole\", \"category_komputery\", \"category_sprzęt rtv\", \"category_telefony i akcesoria\", \"city_Gdynia\", \"city_Konin\", \"city_Kutno\", \"city_Mielec\", \"city_Police\", \"city_Radom\", \"city_Szczecin\", \"city_Warszawa\", \"delivery_company_360\", \"delivery_company_516\", \"delivery_company_620\", \"price\", \"purchase_day\", \"purchase_day_cos\", \"purchase_day_sin\", \"purchase_dayofweek\", \"purchase_dayofweek_cos\", \"purchase_dayofweek_sin\", \"purchase_hour\", \"purchase_hour_cos\", \"purchase_hour_sin\", \"purchase_minute\", \"purchase_minute_cos\", \"purchase_minute_sin\", \"purchase_month\", \"purchase_month_cos\", \"purchase_month_sin\", \"purchase_second\", \"purchase_second_cos\", \"purchase_second_sin\", \"purchase_year\"]\n",
    "TARGET = \"hours\""
   ]
  },
  {
   "cell_type": "code",
   "execution_count": 4,
   "metadata": {},
   "outputs": [],
   "source": [
    "train = pd.read_csv(\"../data_preprocessed/train.csv\")\n",
    "dev = pd.read_csv(\"../data_preprocessed/dev.csv\")\n",
    "test = pd.read_csv(\"../data_preprocessed/test.csv\")"
   ]
  },
  {
   "cell_type": "code",
   "execution_count": 5,
   "metadata": {},
   "outputs": [],
   "source": [
    "model = {}\n",
    "\n",
    "for city in train[\"city\"].unique():\n",
    "    mean = train[train[\"city\"] == city][\"hours\"].mean()\n",
    "    std = train[train[\"city\"] == city][\"hours\"].std()\n",
    "\n",
    "    model[city] = {\n",
    "        \"mean\": mean,\n",
    "        \"std\": std\n",
    "    }"
   ]
  },
  {
   "cell_type": "code",
   "execution_count": 6,
   "metadata": {},
   "outputs": [
    {
     "data": {
      "text/plain": "{'Gdynia': {'mean': 49.090311084298555, 'std': 12.307746351088621},\n 'Mielec': {'mean': 77.09486773569697, 'std': 12.307744365774209},\n 'Szczecin': {'mean': 25.727855237666315, 'std': 12.134331494115001},\n 'Radom': {'mean': 41.899202655355325, 'std': 15.123844481621765},\n 'Warszawa': {'mean': 37.90077141190736, 'std': 14.83639447612508},\n 'Police': {'mean': 35.33160307141185, 'std': 12.756445787337316},\n 'Kutno': {'mean': 43.594336067818304, 'std': 13.499305373078235},\n 'Konin': {'mean': 56.14475436976285, 'std': 12.57240183847052}}"
     },
     "execution_count": 6,
     "metadata": {},
     "output_type": "execute_result"
    }
   ],
   "source": [
    "model"
   ]
  },
  {
   "cell_type": "code",
   "execution_count": 7,
   "metadata": {},
   "outputs": [],
   "source": [
    "train[\"hours_pred\"] = train[\"city\"].apply(lambda x: model[x][\"mean\"])\n",
    "dev[\"hours_pred\"] = dev[\"city\"].apply(lambda x: model[x][\"mean\"])\n",
    "test[\"hours_pred\"] = test[\"city\"].apply(lambda x: model[x][\"mean\"])"
   ]
  },
  {
   "cell_type": "code",
   "execution_count": 8,
   "metadata": {},
   "outputs": [
    {
     "data": {
      "text/plain": "174.85142201007793"
     },
     "execution_count": 8,
     "metadata": {},
     "output_type": "execute_result"
    }
   ],
   "source": [
    "mse(train[\"hours_pred\"].to_numpy(), train[\"hours\"].to_numpy())"
   ]
  },
  {
   "cell_type": "code",
   "execution_count": 9,
   "metadata": {},
   "outputs": [
    {
     "data": {
      "text/plain": "167.55261892010134"
     },
     "execution_count": 9,
     "metadata": {},
     "output_type": "execute_result"
    }
   ],
   "source": [
    "mse(dev[\"hours_pred\"].to_numpy(), dev[\"hours\"].to_numpy())"
   ]
  },
  {
   "cell_type": "code",
   "execution_count": 10,
   "metadata": {},
   "outputs": [
    {
     "data": {
      "text/plain": "174.3634109604925"
     },
     "execution_count": 10,
     "metadata": {},
     "output_type": "execute_result"
    }
   ],
   "source": [
    "mse(test[\"hours_pred\"].to_numpy(), test[\"hours\"].to_numpy())"
   ]
  },
  {
   "cell_type": "code",
   "execution_count": 23,
   "metadata": {},
   "outputs": [
    {
     "data": {
      "text/html": "<div>\n<style scoped>\n    .dataframe tbody tr th:only-of-type {\n        vertical-align: middle;\n    }\n\n    .dataframe tbody tr th {\n        vertical-align: top;\n    }\n\n    .dataframe thead th {\n        text-align: right;\n    }\n</style>\n<table border=\"1\" class=\"dataframe\">\n  <thead>\n    <tr style=\"text-align: right;\">\n      <th></th>\n      <th>city</th>\n      <th>mean</th>\n    </tr>\n  </thead>\n  <tbody>\n    <tr>\n      <th>0</th>\n      <td>Gdynia</td>\n      <td>49.090311</td>\n    </tr>\n    <tr>\n      <th>1</th>\n      <td>Mielec</td>\n      <td>77.094868</td>\n    </tr>\n    <tr>\n      <th>2</th>\n      <td>Szczecin</td>\n      <td>25.727855</td>\n    </tr>\n    <tr>\n      <th>3</th>\n      <td>Radom</td>\n      <td>41.899203</td>\n    </tr>\n    <tr>\n      <th>4</th>\n      <td>Warszawa</td>\n      <td>37.900771</td>\n    </tr>\n    <tr>\n      <th>5</th>\n      <td>Police</td>\n      <td>35.331603</td>\n    </tr>\n    <tr>\n      <th>6</th>\n      <td>Kutno</td>\n      <td>43.594336</td>\n    </tr>\n    <tr>\n      <th>7</th>\n      <td>Konin</td>\n      <td>56.144754</td>\n    </tr>\n  </tbody>\n</table>\n</div>",
      "text/plain": "       city       mean\n0    Gdynia  49.090311\n1    Mielec  77.094868\n2  Szczecin  25.727855\n3     Radom  41.899203\n4  Warszawa  37.900771\n5    Police  35.331603\n6     Kutno  43.594336\n7     Konin  56.144754"
     },
     "execution_count": 23,
     "metadata": {},
     "output_type": "execute_result"
    }
   ],
   "source": [
    "statistic_for_simple_model = pd.DataFrame([{\"city\": city, \"mean\": value[\"mean\"]} for city, value in model.items()])\n",
    "statistic_for_simple_model"
   ]
  },
  {
   "cell_type": "code",
   "execution_count": 22,
   "metadata": {},
   "outputs": [],
   "source": [
    "statistic_for_simple_model.to_csv(\"../models/statistic_for_simple_model.csv\")"
   ]
  }
 ],
 "metadata": {
  "kernelspec": {
   "display_name": "Python 3",
   "language": "python",
   "name": "python3"
  },
  "language_info": {
   "codemirror_mode": {
    "name": "ipython",
    "version": 3
   },
   "file_extension": ".py",
   "mimetype": "text/x-python",
   "name": "python",
   "nbconvert_exporter": "python",
   "pygments_lexer": "ipython3",
   "version": "3.8.5"
  }
 },
 "nbformat": 4,
 "nbformat_minor": 5
}