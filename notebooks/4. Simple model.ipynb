{
 "cells": [
  {
   "cell_type": "code",
   "execution_count": 1,
   "id": "bulgarian-appendix",
   "metadata": {},
   "outputs": [],
   "source": [
    "import pandas as pd\n",
    "import numpy as np"
   ]
  },
  {
   "cell_type": "code",
   "execution_count": 2,
   "id": "figured-paint",
   "metadata": {},
   "outputs": [],
   "source": [
    "def mse(y_pred, y):\n",
    "    return ((y_pred - y)**2).mean()"
   ]
  },
  {
   "cell_type": "code",
   "execution_count": 3,
   "id": "intended-genealogy",
   "metadata": {},
   "outputs": [],
   "source": [
    "FEATURES = [\"category_gry i konsole\", \"category_komputery\", \"category_sprzęt rtv\", \"category_telefony i akcesoria\", \"city_Gdynia\", \"city_Konin\", \"city_Kutno\", \"city_Mielec\", \"city_Police\", \"city_Radom\", \"city_Szczecin\", \"city_Warszawa\", \"delivery_company_360\", \"delivery_company_516\", \"delivery_company_620\", \"price\", \"purchase_day\", \"purchase_day_cos\", \"purchase_day_sin\", \"purchase_dayofweek\", \"purchase_dayofweek_cos\", \"purchase_dayofweek_sin\", \"purchase_hour\", \"purchase_hour_cos\", \"purchase_hour_sin\", \"purchase_minute\", \"purchase_minute_cos\", \"purchase_minute_sin\", \"purchase_month\", \"purchase_month_cos\", \"purchase_month_sin\", \"purchase_second\", \"purchase_second_cos\", \"purchase_second_sin\", \"purchase_year\"]\n",
    "TARGET = \"hours\""
   ]
  },
  {
   "cell_type": "code",
   "execution_count": 4,
   "id": "signed-vehicle",
   "metadata": {},
   "outputs": [],
   "source": [
    "train = pd.read_csv(\"../data_preprocessed/train.csv\")\n",
    "dev = pd.read_csv(\"../data_preprocessed/dev.csv\")\n",
    "test = pd.read_csv(\"../data_preprocessed/test.csv\")"
   ]
  },
  {
   "cell_type": "code",
   "execution_count": 5,
   "id": "imported-difficulty",
   "metadata": {},
   "outputs": [],
   "source": [
    "model = {}\n",
    "\n",
    "for city in train[\"city\"].unique():\n",
    "    mean = train[train[\"city\"] == city][\"hours\"].mean()\n",
    "    std = train[train[\"city\"] == city][\"hours\"].std()\n",
    "\n",
    "    model[city] = {\n",
    "        \"mean\": mean,\n",
    "        \"std\": std\n",
    "    }"
   ]
  },
  {
   "cell_type": "code",
   "execution_count": 6,
   "id": "worth-workshop",
   "metadata": {},
   "outputs": [],
   "source": [
    "train[\"hours_pred\"] = train[\"city\"].apply(lambda x: model[x][\"mean\"])\n",
    "dev[\"hours_pred\"] = dev[\"city\"].apply(lambda x: model[x][\"mean\"])\n",
    "test[\"hours_pred\"] = test[\"city\"].apply(lambda x: model[x][\"mean\"])"
   ]
  },
  {
   "cell_type": "code",
   "execution_count": 7,
   "id": "taken-chancellor",
   "metadata": {},
   "outputs": [
    {
     "data": {
      "text/plain": [
       "174.85142201007793"
      ]
     },
     "execution_count": 7,
     "metadata": {},
     "output_type": "execute_result"
    }
   ],
   "source": [
    "mse(train[\"hours_pred\"].to_numpy(), train[\"hours\"].to_numpy())"
   ]
  },
  {
   "cell_type": "code",
   "execution_count": 8,
   "id": "ecological-surrey",
   "metadata": {},
   "outputs": [
    {
     "data": {
      "text/plain": [
       "167.55261892010134"
      ]
     },
     "execution_count": 8,
     "metadata": {},
     "output_type": "execute_result"
    }
   ],
   "source": [
    "mse(dev[\"hours_pred\"].to_numpy(), dev[\"hours\"].to_numpy())"
   ]
  },
  {
   "cell_type": "code",
   "execution_count": 9,
   "id": "confident-portal",
   "metadata": {},
   "outputs": [
    {
     "data": {
      "text/plain": [
       "174.3634109604925"
      ]
     },
     "execution_count": 9,
     "metadata": {},
     "output_type": "execute_result"
    }
   ],
   "source": [
    "mse(test[\"hours_pred\"].to_numpy(), test[\"hours\"].to_numpy())"
   ]
  }
 ],
 "metadata": {
  "kernelspec": {
   "display_name": "Python 3",
   "language": "python",
   "name": "python3"
  },
  "language_info": {
   "codemirror_mode": {
    "name": "ipython",
    "version": 3
   },
   "file_extension": ".py",
   "mimetype": "text/x-python",
   "name": "python",
   "nbconvert_exporter": "python",
   "pygments_lexer": "ipython3",
   "version": "3.8.5"
  }
 },
 "nbformat": 4,
 "nbformat_minor": 5
}
